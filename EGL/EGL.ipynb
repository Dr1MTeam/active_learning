{
 "cells": [
  {
   "cell_type": "code",
   "execution_count": 76,
   "metadata": {},
   "outputs": [],
   "source": [
    "import torch\n",
    "import torch.nn as nn\n",
    "import torch.optim as optim\n",
    "\n",
    "from torch.utils.data import ConcatDataset, DataLoader, Subset, Dataset\n",
    "\n",
    "from torchvision import datasets, transforms, models\n",
    "from torchvision.transforms import functional as F\n",
    "\n",
    "from tqdm import tqdm\n",
    "from sklearn.metrics import f1_score, accuracy_score\n",
    "import numpy as np\n",
    "from matplotlib import pyplot as plt\n",
    "\n",
    "import os\n",
    "import sys"
   ]
  },
  {
   "cell_type": "code",
   "execution_count": 77,
   "metadata": {},
   "outputs": [
    {
     "name": "stdout",
     "output_type": "stream",
     "text": [
      "Files already downloaded and verified\n",
      "Files already downloaded and verified\n"
     ]
    }
   ],
   "source": [
    "# Загружаем CIFAR-10\n",
    "transform = transforms.Compose([\n",
    "    transforms.RandomHorizontalFlip(p=0.5),  # Случайный горизонтальный флип с вероятностью 50%\n",
    "    transforms.RandomVerticalFlip(p=0.5),\n",
    "    transforms.ColorJitter(brightness=0.2, contrast=0.2, saturation=0.2, hue=0.1),  # Случайное изменение цветового баланса\n",
    "    transforms.ToTensor(),\n",
    "    transforms.Normalize(mean=[0.485, 0.456, 0.406], std=[0.229, 0.224, 0.225])\n",
    "])\n",
    "transform_test = transforms.Compose([\n",
    "    transforms.ToTensor(),\n",
    "    transforms.Normalize(mean=[0.485, 0.456, 0.406], std=[0.229, 0.224, 0.225])\n",
    "])\n",
    "train_dataset = datasets.CIFAR10(root='../data', train=True, download=True, transform=transform)\n",
    "test_dataset = datasets.CIFAR10(root='../data', train=False, download=True, transform=transform_test)"
   ]
  },
  {
   "cell_type": "code",
   "execution_count": 78,
   "metadata": {},
   "outputs": [],
   "source": [
    "data_len = train_dataset.__len__()"
   ]
  },
  {
   "cell_type": "code",
   "execution_count": 79,
   "metadata": {},
   "outputs": [],
   "source": [
    "# Глобальные параметры\n",
    "INITIAL_TRAIN = 0.2                        # Начальные данные\n",
    "BATCH_ADD_SIZE = 256                       # K данных для добавления\n",
    "TOTAL_TRAIN_SIZE = data_len                 # Общее количество тренировочных данных\n",
    "NUM_CLASSES = 10                            # CIFAR-10"
   ]
  },
  {
   "cell_type": "code",
   "execution_count": 80,
   "metadata": {},
   "outputs": [
    {
     "name": "stdout",
     "output_type": "stream",
     "text": [
      "Files already downloaded and verified\n",
      "Размер initial_train_dataset: 10000\n",
      "Размер pool_dataset: 40000\n"
     ]
    }
   ],
   "source": [
    "# Задаем пропорцию выборки\n",
    "p = INITIAL_TRAIN \n",
    "\n",
    "# Загрузка данных\n",
    "transform = transforms.ToTensor()\n",
    "train_dataset = datasets.CIFAR10(root='../data', train=True, download=True, transform=transform)\n",
    "\n",
    "# Группируем индексы по классам\n",
    "class_indices = {class_idx: [] for class_idx in range(NUM_CLASSES)}\n",
    "for idx, (_, label) in enumerate(train_dataset):\n",
    "    class_indices[label].append(idx)\n",
    "\n",
    "# Разделяем данные\n",
    "initial_indices = []\n",
    "pool_indices = []\n",
    "\n",
    "for class_idx, indices in class_indices.items():\n",
    "    np.random.shuffle(indices)  # Перемешиваем индексы внутри класса\n",
    "    split_idx = int(len(indices) * p)  # Вычисляем границу разделения\n",
    "    initial_indices.extend(indices[:split_idx])\n",
    "    pool_indices.extend(indices[split_idx:])\n",
    "\n",
    "# Создаем подмножества данных\n",
    "initial_train_dataset = Subset(train_dataset, initial_indices)\n",
    "pool_dataset = Subset(train_dataset, pool_indices)\n",
    "\n",
    "print(f\"Размер initial_train_dataset: {len(initial_train_dataset)}\")\n",
    "print(f\"Размер pool_dataset: {len(pool_dataset)}\")"
   ]
  },
  {
   "cell_type": "code",
   "execution_count": 81,
   "metadata": {},
   "outputs": [],
   "source": [
    "sys.path.insert(0, os.path.abspath(os.path.join(os.getcwd(), '..')))\n",
    "from base_trainer import Trainer\n",
    "from model import SimpleCNN\n",
    "sys.path.insert(0, os.path.abspath(os.path.join(os.getcwd(), 'EGL')))"
   ]
  },
  {
   "cell_type": "code",
   "execution_count": 82,
   "metadata": {},
   "outputs": [],
   "source": [
    "import random\n",
    "\n",
    "\n",
    "class EGLTrainer(Trainer):\n",
    "    def select_samples(self, num_samples):\n",
    "        # total_samples = len(self.pool_loader.dataset)\n",
    "        # r = random.sample(range(total_samples), num_samples)\n",
    "        # self.update_dataloader(r)\n",
    "        # return r\n",
    "        self.model.eval()\n",
    "        self.pool_loader\n",
    "        \n",
    "\n",
    "        gradient_lengths = []\n",
    "        ###\n",
    "        ### Этот комментарий в память о тройном цикле for от чата gpt >_<\n",
    "        ###\n",
    "        for inputs, _ in tqdm(self.pool_loader, desc=\"Thingy\"):\n",
    "            inputs = inputs.to(self.device)\n",
    "            \n",
    "\n",
    "            # Получаем выходы модели\n",
    "            outputs = self.model(inputs)  # Tensor [batch_size, num_classes]\n",
    "            probabilities = torch.softmax(outputs, dim=1)  # Tensor [batch_size, num_classes]\n",
    "\n",
    "            # Создаем вектор one-hot меток для всех классов\n",
    "            one_hot_labels = torch.eye(outputs.size(1), device=self.device)  # Tensor [num_classes, num_classes]\n",
    "\n",
    "            # Расширяем one-hot метки для батча\n",
    "            expanded_labels = one_hot_labels.unsqueeze(0).repeat(outputs.size(0), 1, 1)  # [batch_size, num_classes, num_classes]\n",
    "\n",
    "            # Расширяем выходы модели для вычитания\n",
    "            expanded_outputs = outputs.unsqueeze(1).repeat(1, outputs.size(1), 1)  # [batch_size, num_classes, num_classes]\n",
    "\n",
    "            # Вычисляем потери для всех пар (объект, метка) в батче\n",
    "            losses = self.criterion(expanded_outputs.view(-1, outputs.size(1)), expanded_labels.view(-1, outputs.size(1)))  # [batch_size * num_classes]\n",
    "\n",
    "            # Считаем градиенты для всех потерь\n",
    "            grads = torch.autograd.grad(\n",
    "                losses.sum(),\n",
    "                self.model.parameters(),\n",
    "                retain_graph=True,\n",
    "                create_graph=False\n",
    "            )\n",
    "\n",
    "            # Вычисляем длины градиентов\n",
    "            grad_square_norms = torch.norm(torch.cat([g.view(-1) for g in grads])) # torch.cat([g.flatten(1).pow(2).sum(1) for g in grads]).sum(dim=0)  # [batch_size, num_classes]\n",
    "\n",
    "            # Мат ожидание\n",
    "            batch_gradient_expectations = (probabilities * grad_square_norms).sum(dim=1)  # [batch_size]\n",
    "\n",
    "            gradient_lengths.extend(batch_gradient_expectations.cpu().detach().numpy())\n",
    "\n",
    "        # Выбираем `num_samples` с максимальной длиной градиента\n",
    "        informative_indices = torch.topk(torch.tensor(gradient_lengths), num_samples).indices\n",
    "\n",
    "        self.update_dataloader(informative_indices)\n",
    "        return informative_indices\n",
    "    \n",
    "    def update_dataloader(self, samples_index):\n",
    "        \"\"\"\n",
    "        Обновляем даталоудеры\n",
    "        \"\"\"\n",
    "        samples = [self.pool_loader.dataset[i] for i in samples_index]\n",
    "\n",
    "\n",
    "        new_train_data = ConcatDataset([self.train_loader.dataset, samples])\n",
    "        \n",
    "        self.train_loader = DataLoader(new_train_data,\n",
    "                                       batch_size=self.train_loader.batch_size,\n",
    "                                       shuffle=True,\n",
    "                                       num_workers=self.train_loader.num_workers)\n",
    "        \n",
    "\n",
    "        all_indexes = list(range(len(self.pool_loader.dataset)))\n",
    "        \n",
    "        filtered_indexes = [idx for idx in all_indexes if idx not in samples_index]\n",
    "\n",
    "        new_pool_data = Subset(self.pool_loader.dataset, filtered_indexes)\n",
    "\n",
    "        self.pool_loader = DataLoader(new_pool_data,\n",
    "                                      batch_size=self.pool_loader.batch_size,\n",
    "                                      shuffle=True,\n",
    "                                      num_workers=self.pool_loader.num_workers)\n",
    "    \n",
    "    def fit(self, num_epochs, num_samples = BATCH_ADD_SIZE):\n",
    "\n",
    "        \"\"\"\n",
    "        Полный цикл обучения.\n",
    "        :param num_epochs: Количество эпох\n",
    "        \"\"\"\n",
    "        for epoch in range(num_epochs):\n",
    "\n",
    "            train_loss = self.train_step()\n",
    "            val_loss, accuracy, f1 = self.val_step()\n",
    "            if len(self.pool_loader.dataset) > num_samples:\n",
    "                self.select_samples(num_samples)\n",
    "            if self.scheduler is not None:\n",
    "                if isinstance(self.scheduler, torch.optim.lr_scheduler.ReduceLROnPlateau):\n",
    "                    self.scheduler.step(val_loss)\n",
    "                else:\n",
    "                    self.scheduler.step()\n",
    "\n",
    "            \n",
    "            print(f\"Epoch {epoch+1}/{num_epochs} - Train Loss: {train_loss:.4f}, Val Loss: {val_loss:.4f}, Acc: {accuracy:.4f}, F1: {f1:.4f}\")\n",
    "\n",
    "\n"
   ]
  },
  {
   "cell_type": "code",
   "execution_count": 83,
   "metadata": {},
   "outputs": [],
   "source": [
    "train_dataloader = DataLoader(initial_train_dataset, batch_size=128, shuffle=True)\n",
    "pool_dataloader = DataLoader(pool_dataset, batch_size=128, shuffle=True)\n",
    "val_dataloader = DataLoader(test_dataset, batch_size=128, shuffle=True)"
   ]
  },
  {
   "cell_type": "code",
   "execution_count": 84,
   "metadata": {},
   "outputs": [],
   "source": [
    "model = SimpleCNN(10)"
   ]
  },
  {
   "cell_type": "code",
   "execution_count": 85,
   "metadata": {},
   "outputs": [],
   "source": [
    "EPOCHS = 50\n",
    "learning_rate = 5e-4\n",
    "total_steps = len(train_dataloader) * EPOCHS\n",
    "\n",
    "optimizer = optim.AdamW(model.parameters(), lr=learning_rate, weight_decay=4e-6)\n",
    "# from adabelief_pytorch import AdaBelief\n",
    "# optimizer = AdaBelief(model.parameters(), lr=learning_rate, eps=learning_rate, betas=(0.9, 0.999), weight_decay=1e-2, weight_decouple=False, rectify=True, print_change_log = False)\n",
    "criterion = torch.nn.CrossEntropyLoss()\n",
    "scheduler = optim.lr_scheduler.ReduceLROnPlateau(optimizer, mode='min', factor=0.5, patience=5)\n",
    "# scheduler = optim.lr_scheduler.OneCycleLR(optimizer, max_lr=learning_rate , total_steps=total_steps, pct_start=0.1, anneal_strategy='linear')\n"
   ]
  },
  {
   "cell_type": "code",
   "execution_count": 86,
   "metadata": {},
   "outputs": [
    {
     "data": {
      "text/plain": [
       "'cuda'"
      ]
     },
     "execution_count": 86,
     "metadata": {},
     "output_type": "execute_result"
    }
   ],
   "source": [
    "DEVICE = 'cuda' if torch.cuda.is_available() else 'cpu'\n",
    "DEVICE\n"
   ]
  },
  {
   "cell_type": "code",
   "execution_count": 87,
   "metadata": {},
   "outputs": [],
   "source": [
    "trainer = EGLTrainer(model=model.to(DEVICE), \n",
    "                     optimizer=optimizer,\n",
    "                     criterion=criterion, \n",
    "                     train_loader=train_dataloader,\n",
    "                     val_loader=val_dataloader, \n",
    "                     device=DEVICE, \n",
    "                     scheduler = None,\n",
    "                     pool_loader= pool_dataloader)"
   ]
  },
  {
   "cell_type": "code",
   "execution_count": 88,
   "metadata": {},
   "outputs": [
    {
     "name": "stderr",
     "output_type": "stream",
     "text": [
      "Training: 100%|██████████| 79/79 [00:01<00:00, 54.78it/s]\n",
      "Validating: 100%|██████████| 79/79 [00:01<00:00, 42.40it/s]\n"
     ]
    },
    {
     "name": "stdout",
     "output_type": "stream",
     "text": [
      "Validation Loss: 3.5883, Accuracy: 0.2079, F1 Score: 0.1570\n"
     ]
    },
    {
     "name": "stderr",
     "output_type": "stream",
     "text": [
      "Thingy: 100%|██████████| 313/313 [00:06<00:00, 46.61it/s]\n"
     ]
    },
    {
     "name": "stdout",
     "output_type": "stream",
     "text": [
      "Epoch 1/50 - Train Loss: 2.0517, Val Loss: 3.5883, Acc: 0.2079, F1: 0.1570\n"
     ]
    },
    {
     "name": "stderr",
     "output_type": "stream",
     "text": [
      "Training: 100%|██████████| 81/81 [00:01<00:00, 46.14it/s]\n",
      "Validating: 100%|██████████| 79/79 [00:01<00:00, 39.73it/s]\n"
     ]
    },
    {
     "name": "stdout",
     "output_type": "stream",
     "text": [
      "Validation Loss: 5.9884, Accuracy: 0.2032, F1 Score: 0.1469\n"
     ]
    },
    {
     "name": "stderr",
     "output_type": "stream",
     "text": [
      "Thingy: 100%|██████████| 311/311 [00:06<00:00, 45.70it/s]\n"
     ]
    },
    {
     "name": "stdout",
     "output_type": "stream",
     "text": [
      "Epoch 2/50 - Train Loss: 1.7610, Val Loss: 5.9884, Acc: 0.2032, F1: 0.1469\n"
     ]
    },
    {
     "name": "stderr",
     "output_type": "stream",
     "text": [
      "Training: 100%|██████████| 83/83 [00:01<00:00, 46.09it/s]\n",
      "Validating: 100%|██████████| 79/79 [00:01<00:00, 39.59it/s]\n"
     ]
    },
    {
     "name": "stdout",
     "output_type": "stream",
     "text": [
      "Validation Loss: 6.8766, Accuracy: 0.1827, F1 Score: 0.1383\n"
     ]
    },
    {
     "name": "stderr",
     "output_type": "stream",
     "text": [
      "Thingy: 100%|██████████| 309/309 [00:06<00:00, 45.86it/s]\n"
     ]
    },
    {
     "name": "stdout",
     "output_type": "stream",
     "text": [
      "Epoch 3/50 - Train Loss: 1.6189, Val Loss: 6.8766, Acc: 0.1827, F1: 0.1383\n"
     ]
    },
    {
     "name": "stderr",
     "output_type": "stream",
     "text": [
      "Training: 100%|██████████| 85/85 [00:01<00:00, 47.38it/s]\n",
      "Validating: 100%|██████████| 79/79 [00:02<00:00, 38.29it/s]\n"
     ]
    },
    {
     "name": "stdout",
     "output_type": "stream",
     "text": [
      "Validation Loss: 5.8637, Accuracy: 0.2685, F1 Score: 0.2224\n"
     ]
    },
    {
     "name": "stderr",
     "output_type": "stream",
     "text": [
      "Thingy: 100%|██████████| 307/307 [00:06<00:00, 45.51it/s]\n"
     ]
    },
    {
     "name": "stdout",
     "output_type": "stream",
     "text": [
      "Epoch 4/50 - Train Loss: 1.5539, Val Loss: 5.8637, Acc: 0.2685, F1: 0.2224\n"
     ]
    },
    {
     "name": "stderr",
     "output_type": "stream",
     "text": [
      "Training: 100%|██████████| 87/87 [00:01<00:00, 47.78it/s]\n",
      "Validating: 100%|██████████| 79/79 [00:01<00:00, 40.68it/s]\n"
     ]
    },
    {
     "name": "stdout",
     "output_type": "stream",
     "text": [
      "Validation Loss: 6.2356, Accuracy: 0.2623, F1 Score: 0.2248\n"
     ]
    },
    {
     "name": "stderr",
     "output_type": "stream",
     "text": [
      "Thingy: 100%|██████████| 305/305 [00:06<00:00, 46.10it/s]\n"
     ]
    },
    {
     "name": "stdout",
     "output_type": "stream",
     "text": [
      "Epoch 5/50 - Train Loss: 1.4916, Val Loss: 6.2356, Acc: 0.2623, F1: 0.2248\n"
     ]
    },
    {
     "name": "stderr",
     "output_type": "stream",
     "text": [
      "Training: 100%|██████████| 89/89 [00:01<00:00, 47.65it/s]\n",
      "Validating: 100%|██████████| 79/79 [00:01<00:00, 40.31it/s]\n"
     ]
    },
    {
     "name": "stdout",
     "output_type": "stream",
     "text": [
      "Validation Loss: 5.6810, Accuracy: 0.3020, F1 Score: 0.2649\n"
     ]
    },
    {
     "name": "stderr",
     "output_type": "stream",
     "text": [
      "Thingy: 100%|██████████| 303/303 [00:06<00:00, 43.97it/s]\n"
     ]
    },
    {
     "name": "stdout",
     "output_type": "stream",
     "text": [
      "Epoch 6/50 - Train Loss: 1.4389, Val Loss: 5.6810, Acc: 0.3020, F1: 0.2649\n"
     ]
    },
    {
     "name": "stderr",
     "output_type": "stream",
     "text": [
      "Training: 100%|██████████| 91/91 [00:01<00:00, 48.29it/s]\n",
      "Validating: 100%|██████████| 79/79 [00:01<00:00, 39.51it/s]\n"
     ]
    },
    {
     "name": "stdout",
     "output_type": "stream",
     "text": [
      "Validation Loss: 5.9189, Accuracy: 0.2976, F1 Score: 0.2549\n"
     ]
    },
    {
     "name": "stderr",
     "output_type": "stream",
     "text": [
      "Thingy: 100%|██████████| 301/301 [00:06<00:00, 45.06it/s]\n"
     ]
    },
    {
     "name": "stdout",
     "output_type": "stream",
     "text": [
      "Epoch 7/50 - Train Loss: 1.3948, Val Loss: 5.9189, Acc: 0.2976, F1: 0.2549\n"
     ]
    },
    {
     "name": "stderr",
     "output_type": "stream",
     "text": [
      "Training: 100%|██████████| 93/93 [00:01<00:00, 48.46it/s]\n",
      "Validating: 100%|██████████| 79/79 [00:02<00:00, 38.05it/s]\n"
     ]
    },
    {
     "name": "stdout",
     "output_type": "stream",
     "text": [
      "Validation Loss: 5.1237, Accuracy: 0.3358, F1 Score: 0.3048\n"
     ]
    },
    {
     "name": "stderr",
     "output_type": "stream",
     "text": [
      "Thingy: 100%|██████████| 299/299 [00:06<00:00, 44.29it/s]\n"
     ]
    },
    {
     "name": "stdout",
     "output_type": "stream",
     "text": [
      "Epoch 8/50 - Train Loss: 1.3549, Val Loss: 5.1237, Acc: 0.3358, F1: 0.3048\n"
     ]
    },
    {
     "name": "stderr",
     "output_type": "stream",
     "text": [
      "Training: 100%|██████████| 95/95 [00:01<00:00, 49.33it/s]\n",
      "Validating: 100%|██████████| 79/79 [00:01<00:00, 40.79it/s]\n"
     ]
    },
    {
     "name": "stdout",
     "output_type": "stream",
     "text": [
      "Validation Loss: 5.9976, Accuracy: 0.3143, F1 Score: 0.2825\n"
     ]
    },
    {
     "name": "stderr",
     "output_type": "stream",
     "text": [
      "Thingy: 100%|██████████| 297/297 [00:06<00:00, 43.72it/s]\n"
     ]
    },
    {
     "name": "stdout",
     "output_type": "stream",
     "text": [
      "Epoch 9/50 - Train Loss: 1.3055, Val Loss: 5.9976, Acc: 0.3143, F1: 0.2825\n"
     ]
    },
    {
     "name": "stderr",
     "output_type": "stream",
     "text": [
      "Training: 100%|██████████| 97/97 [00:01<00:00, 50.01it/s]\n",
      "Validating: 100%|██████████| 79/79 [00:01<00:00, 41.33it/s]\n"
     ]
    },
    {
     "name": "stdout",
     "output_type": "stream",
     "text": [
      "Validation Loss: 5.6546, Accuracy: 0.3272, F1 Score: 0.3006\n"
     ]
    },
    {
     "name": "stderr",
     "output_type": "stream",
     "text": [
      "Thingy: 100%|██████████| 295/295 [00:06<00:00, 44.37it/s]\n"
     ]
    },
    {
     "name": "stdout",
     "output_type": "stream",
     "text": [
      "Epoch 10/50 - Train Loss: 1.2815, Val Loss: 5.6546, Acc: 0.3272, F1: 0.3006\n"
     ]
    },
    {
     "name": "stderr",
     "output_type": "stream",
     "text": [
      "Training: 100%|██████████| 99/99 [00:01<00:00, 50.70it/s]\n",
      "Validating: 100%|██████████| 79/79 [00:01<00:00, 39.65it/s]\n"
     ]
    },
    {
     "name": "stdout",
     "output_type": "stream",
     "text": [
      "Validation Loss: 5.4705, Accuracy: 0.3516, F1 Score: 0.3141\n"
     ]
    },
    {
     "name": "stderr",
     "output_type": "stream",
     "text": [
      "Thingy: 100%|██████████| 293/293 [00:06<00:00, 44.80it/s]\n"
     ]
    },
    {
     "name": "stdout",
     "output_type": "stream",
     "text": [
      "Epoch 11/50 - Train Loss: 1.2407, Val Loss: 5.4705, Acc: 0.3516, F1: 0.3141\n"
     ]
    },
    {
     "name": "stderr",
     "output_type": "stream",
     "text": [
      "Training: 100%|██████████| 101/101 [00:01<00:00, 52.03it/s]\n",
      "Validating: 100%|██████████| 79/79 [00:01<00:00, 41.12it/s]\n"
     ]
    },
    {
     "name": "stdout",
     "output_type": "stream",
     "text": [
      "Validation Loss: 5.3901, Accuracy: 0.3477, F1 Score: 0.3181\n"
     ]
    },
    {
     "name": "stderr",
     "output_type": "stream",
     "text": [
      "Thingy: 100%|██████████| 291/291 [00:06<00:00, 44.77it/s]\n"
     ]
    },
    {
     "name": "stdout",
     "output_type": "stream",
     "text": [
      "Epoch 12/50 - Train Loss: 1.2219, Val Loss: 5.3901, Acc: 0.3477, F1: 0.3181\n"
     ]
    },
    {
     "name": "stderr",
     "output_type": "stream",
     "text": [
      "Training: 100%|██████████| 103/103 [00:02<00:00, 50.47it/s]\n",
      "Validating: 100%|██████████| 79/79 [00:01<00:00, 40.77it/s]\n"
     ]
    },
    {
     "name": "stdout",
     "output_type": "stream",
     "text": [
      "Validation Loss: 5.7062, Accuracy: 0.3597, F1 Score: 0.3214\n"
     ]
    },
    {
     "name": "stderr",
     "output_type": "stream",
     "text": [
      "Thingy: 100%|██████████| 289/289 [00:06<00:00, 44.40it/s]\n"
     ]
    },
    {
     "name": "stdout",
     "output_type": "stream",
     "text": [
      "Epoch 13/50 - Train Loss: 1.1949, Val Loss: 5.7062, Acc: 0.3597, F1: 0.3214\n"
     ]
    },
    {
     "name": "stderr",
     "output_type": "stream",
     "text": [
      "Training: 100%|██████████| 105/105 [00:02<00:00, 51.21it/s]\n",
      "Validating: 100%|██████████| 79/79 [00:01<00:00, 40.23it/s]\n"
     ]
    },
    {
     "name": "stdout",
     "output_type": "stream",
     "text": [
      "Validation Loss: 5.4356, Accuracy: 0.3550, F1 Score: 0.3219\n"
     ]
    },
    {
     "name": "stderr",
     "output_type": "stream",
     "text": [
      "Thingy: 100%|██████████| 287/287 [00:06<00:00, 42.28it/s]\n"
     ]
    },
    {
     "name": "stdout",
     "output_type": "stream",
     "text": [
      "Epoch 14/50 - Train Loss: 1.1617, Val Loss: 5.4356, Acc: 0.3550, F1: 0.3219\n"
     ]
    },
    {
     "name": "stderr",
     "output_type": "stream",
     "text": [
      "Training: 100%|██████████| 107/107 [00:01<00:00, 53.86it/s]\n",
      "Validating: 100%|██████████| 79/79 [00:01<00:00, 41.83it/s]\n"
     ]
    },
    {
     "name": "stdout",
     "output_type": "stream",
     "text": [
      "Validation Loss: 5.5992, Accuracy: 0.3528, F1 Score: 0.3229\n"
     ]
    },
    {
     "name": "stderr",
     "output_type": "stream",
     "text": [
      "Thingy: 100%|██████████| 285/285 [00:06<00:00, 44.23it/s]\n"
     ]
    },
    {
     "name": "stdout",
     "output_type": "stream",
     "text": [
      "Epoch 15/50 - Train Loss: 1.1346, Val Loss: 5.5992, Acc: 0.3528, F1: 0.3229\n"
     ]
    },
    {
     "name": "stderr",
     "output_type": "stream",
     "text": [
      "Training: 100%|██████████| 109/109 [00:02<00:00, 52.76it/s]\n",
      "Validating: 100%|██████████| 79/79 [00:01<00:00, 41.59it/s]\n"
     ]
    },
    {
     "name": "stdout",
     "output_type": "stream",
     "text": [
      "Validation Loss: 5.7384, Accuracy: 0.3416, F1 Score: 0.3134\n"
     ]
    },
    {
     "name": "stderr",
     "output_type": "stream",
     "text": [
      "Thingy: 100%|██████████| 283/283 [00:06<00:00, 43.81it/s]\n"
     ]
    },
    {
     "name": "stdout",
     "output_type": "stream",
     "text": [
      "Epoch 16/50 - Train Loss: 1.1235, Val Loss: 5.7384, Acc: 0.3416, F1: 0.3134\n"
     ]
    },
    {
     "name": "stderr",
     "output_type": "stream",
     "text": [
      "Training: 100%|██████████| 111/111 [00:02<00:00, 53.59it/s]\n",
      "Validating: 100%|██████████| 79/79 [00:01<00:00, 42.14it/s]\n"
     ]
    },
    {
     "name": "stdout",
     "output_type": "stream",
     "text": [
      "Validation Loss: 5.5927, Accuracy: 0.3560, F1 Score: 0.3268\n"
     ]
    },
    {
     "name": "stderr",
     "output_type": "stream",
     "text": [
      "Thingy: 100%|██████████| 281/281 [00:06<00:00, 44.09it/s]\n"
     ]
    },
    {
     "name": "stdout",
     "output_type": "stream",
     "text": [
      "Epoch 17/50 - Train Loss: 1.0943, Val Loss: 5.5927, Acc: 0.3560, F1: 0.3268\n"
     ]
    },
    {
     "name": "stderr",
     "output_type": "stream",
     "text": [
      "Training: 100%|██████████| 113/113 [00:02<00:00, 56.10it/s]\n",
      "Validating: 100%|██████████| 79/79 [00:01<00:00, 42.22it/s]\n"
     ]
    },
    {
     "name": "stdout",
     "output_type": "stream",
     "text": [
      "Validation Loss: 5.8567, Accuracy: 0.3382, F1 Score: 0.3045\n"
     ]
    },
    {
     "name": "stderr",
     "output_type": "stream",
     "text": [
      "Thingy: 100%|██████████| 279/279 [00:06<00:00, 44.11it/s]\n"
     ]
    },
    {
     "name": "stdout",
     "output_type": "stream",
     "text": [
      "Epoch 18/50 - Train Loss: 1.0752, Val Loss: 5.8567, Acc: 0.3382, F1: 0.3045\n"
     ]
    },
    {
     "name": "stderr",
     "output_type": "stream",
     "text": [
      "Training: 100%|██████████| 115/115 [00:02<00:00, 54.96it/s]\n",
      "Validating: 100%|██████████| 79/79 [00:01<00:00, 41.76it/s]\n"
     ]
    },
    {
     "name": "stdout",
     "output_type": "stream",
     "text": [
      "Validation Loss: 5.2849, Accuracy: 0.3594, F1 Score: 0.3261\n"
     ]
    },
    {
     "name": "stderr",
     "output_type": "stream",
     "text": [
      "Thingy: 100%|██████████| 277/277 [00:06<00:00, 43.94it/s]\n"
     ]
    },
    {
     "name": "stdout",
     "output_type": "stream",
     "text": [
      "Epoch 19/50 - Train Loss: 1.0582, Val Loss: 5.2849, Acc: 0.3594, F1: 0.3261\n"
     ]
    },
    {
     "name": "stderr",
     "output_type": "stream",
     "text": [
      "Training: 100%|██████████| 117/117 [00:02<00:00, 55.08it/s]\n",
      "Validating: 100%|██████████| 79/79 [00:01<00:00, 42.74it/s]\n"
     ]
    },
    {
     "name": "stdout",
     "output_type": "stream",
     "text": [
      "Validation Loss: 5.1930, Accuracy: 0.3742, F1 Score: 0.3494\n"
     ]
    },
    {
     "name": "stderr",
     "output_type": "stream",
     "text": [
      "Thingy: 100%|██████████| 275/275 [00:06<00:00, 43.27it/s]\n"
     ]
    },
    {
     "name": "stdout",
     "output_type": "stream",
     "text": [
      "Epoch 20/50 - Train Loss: 1.0455, Val Loss: 5.1930, Acc: 0.3742, F1: 0.3494\n"
     ]
    },
    {
     "name": "stderr",
     "output_type": "stream",
     "text": [
      "Training: 100%|██████████| 119/119 [00:02<00:00, 58.28it/s]\n",
      "Validating: 100%|██████████| 79/79 [00:01<00:00, 41.84it/s]\n"
     ]
    },
    {
     "name": "stdout",
     "output_type": "stream",
     "text": [
      "Validation Loss: 6.3432, Accuracy: 0.3478, F1 Score: 0.3134\n"
     ]
    },
    {
     "name": "stderr",
     "output_type": "stream",
     "text": [
      "Thingy: 100%|██████████| 273/273 [00:06<00:00, 43.41it/s]\n"
     ]
    },
    {
     "name": "stdout",
     "output_type": "stream",
     "text": [
      "Epoch 21/50 - Train Loss: 1.0197, Val Loss: 6.3432, Acc: 0.3478, F1: 0.3134\n"
     ]
    },
    {
     "name": "stderr",
     "output_type": "stream",
     "text": [
      "Training: 100%|██████████| 121/121 [00:02<00:00, 57.56it/s]\n",
      "Validating: 100%|██████████| 79/79 [00:01<00:00, 40.90it/s]\n"
     ]
    },
    {
     "name": "stdout",
     "output_type": "stream",
     "text": [
      "Validation Loss: 5.9034, Accuracy: 0.3574, F1 Score: 0.3303\n"
     ]
    },
    {
     "name": "stderr",
     "output_type": "stream",
     "text": [
      "Thingy: 100%|██████████| 271/271 [00:06<00:00, 44.65it/s]\n"
     ]
    },
    {
     "name": "stdout",
     "output_type": "stream",
     "text": [
      "Epoch 22/50 - Train Loss: 0.9990, Val Loss: 5.9034, Acc: 0.3574, F1: 0.3303\n"
     ]
    },
    {
     "name": "stderr",
     "output_type": "stream",
     "text": [
      "Training: 100%|██████████| 123/123 [00:02<00:00, 56.61it/s]\n",
      "Validating: 100%|██████████| 79/79 [00:01<00:00, 42.47it/s]\n"
     ]
    },
    {
     "name": "stdout",
     "output_type": "stream",
     "text": [
      "Validation Loss: 5.5293, Accuracy: 0.3745, F1 Score: 0.3434\n"
     ]
    },
    {
     "name": "stderr",
     "output_type": "stream",
     "text": [
      "Thingy: 100%|██████████| 269/269 [00:06<00:00, 43.75it/s]\n"
     ]
    },
    {
     "name": "stdout",
     "output_type": "stream",
     "text": [
      "Epoch 23/50 - Train Loss: 0.9876, Val Loss: 5.5293, Acc: 0.3745, F1: 0.3434\n"
     ]
    },
    {
     "name": "stderr",
     "output_type": "stream",
     "text": [
      "Training: 100%|██████████| 125/125 [00:02<00:00, 58.97it/s]\n",
      "Validating: 100%|██████████| 79/79 [00:01<00:00, 41.23it/s]\n"
     ]
    },
    {
     "name": "stdout",
     "output_type": "stream",
     "text": [
      "Validation Loss: 6.1237, Accuracy: 0.3478, F1 Score: 0.3163\n"
     ]
    },
    {
     "name": "stderr",
     "output_type": "stream",
     "text": [
      "Thingy: 100%|██████████| 267/267 [00:06<00:00, 41.95it/s]\n"
     ]
    },
    {
     "name": "stdout",
     "output_type": "stream",
     "text": [
      "Epoch 24/50 - Train Loss: 0.9653, Val Loss: 6.1237, Acc: 0.3478, F1: 0.3163\n"
     ]
    },
    {
     "name": "stderr",
     "output_type": "stream",
     "text": [
      "Training: 100%|██████████| 127/127 [00:02<00:00, 56.19it/s]\n",
      "Validating: 100%|██████████| 79/79 [00:02<00:00, 37.64it/s]\n"
     ]
    },
    {
     "name": "stdout",
     "output_type": "stream",
     "text": [
      "Validation Loss: 5.4229, Accuracy: 0.3871, F1 Score: 0.3655\n"
     ]
    },
    {
     "name": "stderr",
     "output_type": "stream",
     "text": [
      "Thingy: 100%|██████████| 265/265 [00:06<00:00, 39.06it/s]\n"
     ]
    },
    {
     "name": "stdout",
     "output_type": "stream",
     "text": [
      "Epoch 25/50 - Train Loss: 0.9304, Val Loss: 5.4229, Acc: 0.3871, F1: 0.3655\n"
     ]
    },
    {
     "name": "stderr",
     "output_type": "stream",
     "text": [
      "Training: 100%|██████████| 129/129 [00:02<00:00, 55.23it/s]\n",
      "Validating: 100%|██████████| 79/79 [00:01<00:00, 40.09it/s]\n"
     ]
    },
    {
     "name": "stdout",
     "output_type": "stream",
     "text": [
      "Validation Loss: 4.8828, Accuracy: 0.4047, F1 Score: 0.3898\n"
     ]
    },
    {
     "name": "stderr",
     "output_type": "stream",
     "text": [
      "Thingy: 100%|██████████| 263/263 [00:06<00:00, 42.60it/s]\n"
     ]
    },
    {
     "name": "stdout",
     "output_type": "stream",
     "text": [
      "Epoch 26/50 - Train Loss: 0.9200, Val Loss: 4.8828, Acc: 0.4047, F1: 0.3898\n"
     ]
    },
    {
     "name": "stderr",
     "output_type": "stream",
     "text": [
      "Training: 100%|██████████| 131/131 [00:02<00:00, 58.03it/s]\n",
      "Validating: 100%|██████████| 79/79 [00:01<00:00, 40.48it/s]\n"
     ]
    },
    {
     "name": "stdout",
     "output_type": "stream",
     "text": [
      "Validation Loss: 5.1812, Accuracy: 0.4019, F1 Score: 0.3874\n"
     ]
    },
    {
     "name": "stderr",
     "output_type": "stream",
     "text": [
      "Thingy: 100%|██████████| 261/261 [00:06<00:00, 43.16it/s]\n"
     ]
    },
    {
     "name": "stdout",
     "output_type": "stream",
     "text": [
      "Epoch 27/50 - Train Loss: 0.9030, Val Loss: 5.1812, Acc: 0.4019, F1: 0.3874\n"
     ]
    },
    {
     "name": "stderr",
     "output_type": "stream",
     "text": [
      "Training: 100%|██████████| 133/133 [00:02<00:00, 54.36it/s]\n",
      "Validating: 100%|██████████| 79/79 [00:02<00:00, 38.24it/s]\n"
     ]
    },
    {
     "name": "stdout",
     "output_type": "stream",
     "text": [
      "Validation Loss: 5.6370, Accuracy: 0.3896, F1 Score: 0.3652\n"
     ]
    },
    {
     "name": "stderr",
     "output_type": "stream",
     "text": [
      "Thingy: 100%|██████████| 259/259 [00:05<00:00, 47.84it/s]\n"
     ]
    },
    {
     "name": "stdout",
     "output_type": "stream",
     "text": [
      "Epoch 28/50 - Train Loss: 0.8773, Val Loss: 5.6370, Acc: 0.3896, F1: 0.3652\n"
     ]
    },
    {
     "name": "stderr",
     "output_type": "stream",
     "text": [
      "Training: 100%|██████████| 135/135 [00:02<00:00, 63.53it/s]\n",
      "Validating: 100%|██████████| 79/79 [00:01<00:00, 41.06it/s]\n"
     ]
    },
    {
     "name": "stdout",
     "output_type": "stream",
     "text": [
      "Validation Loss: 5.7042, Accuracy: 0.3842, F1 Score: 0.3561\n"
     ]
    },
    {
     "name": "stderr",
     "output_type": "stream",
     "text": [
      "Thingy: 100%|██████████| 257/257 [00:06<00:00, 42.67it/s]\n"
     ]
    },
    {
     "name": "stdout",
     "output_type": "stream",
     "text": [
      "Epoch 29/50 - Train Loss: 0.8698, Val Loss: 5.7042, Acc: 0.3842, F1: 0.3561\n"
     ]
    },
    {
     "name": "stderr",
     "output_type": "stream",
     "text": [
      "Training: 100%|██████████| 137/137 [00:02<00:00, 59.82it/s]\n",
      "Validating: 100%|██████████| 79/79 [00:01<00:00, 41.63it/s]\n"
     ]
    },
    {
     "name": "stdout",
     "output_type": "stream",
     "text": [
      "Validation Loss: 5.4971, Accuracy: 0.4043, F1 Score: 0.3795\n"
     ]
    },
    {
     "name": "stderr",
     "output_type": "stream",
     "text": [
      "Thingy: 100%|██████████| 255/255 [00:06<00:00, 40.90it/s]\n"
     ]
    },
    {
     "name": "stdout",
     "output_type": "stream",
     "text": [
      "Epoch 30/50 - Train Loss: 0.8543, Val Loss: 5.4971, Acc: 0.4043, F1: 0.3795\n"
     ]
    },
    {
     "name": "stderr",
     "output_type": "stream",
     "text": [
      "Training: 100%|██████████| 139/139 [00:02<00:00, 58.43it/s]\n",
      "Validating: 100%|██████████| 79/79 [00:02<00:00, 37.92it/s]\n"
     ]
    },
    {
     "name": "stdout",
     "output_type": "stream",
     "text": [
      "Validation Loss: 4.9588, Accuracy: 0.4305, F1 Score: 0.4033\n"
     ]
    },
    {
     "name": "stderr",
     "output_type": "stream",
     "text": [
      "Thingy: 100%|██████████| 253/253 [00:05<00:00, 42.36it/s]\n"
     ]
    },
    {
     "name": "stdout",
     "output_type": "stream",
     "text": [
      "Epoch 31/50 - Train Loss: 0.8418, Val Loss: 4.9588, Acc: 0.4305, F1: 0.4033\n"
     ]
    },
    {
     "name": "stderr",
     "output_type": "stream",
     "text": [
      "Training: 100%|██████████| 141/141 [00:02<00:00, 61.66it/s]\n",
      "Validating: 100%|██████████| 79/79 [00:02<00:00, 38.96it/s]\n"
     ]
    },
    {
     "name": "stdout",
     "output_type": "stream",
     "text": [
      "Validation Loss: 5.7766, Accuracy: 0.3871, F1 Score: 0.3612\n"
     ]
    },
    {
     "name": "stderr",
     "output_type": "stream",
     "text": [
      "Thingy: 100%|██████████| 251/251 [00:06<00:00, 41.71it/s]\n"
     ]
    },
    {
     "name": "stdout",
     "output_type": "stream",
     "text": [
      "Epoch 32/50 - Train Loss: 0.8250, Val Loss: 5.7766, Acc: 0.3871, F1: 0.3612\n"
     ]
    },
    {
     "name": "stderr",
     "output_type": "stream",
     "text": [
      "Training: 100%|██████████| 143/143 [00:02<00:00, 59.24it/s]\n",
      "Validating: 100%|██████████| 79/79 [00:01<00:00, 40.50it/s]\n"
     ]
    },
    {
     "name": "stdout",
     "output_type": "stream",
     "text": [
      "Validation Loss: 5.3022, Accuracy: 0.4263, F1 Score: 0.3962\n"
     ]
    },
    {
     "name": "stderr",
     "output_type": "stream",
     "text": [
      "Thingy: 100%|██████████| 249/249 [00:05<00:00, 42.15it/s]\n"
     ]
    },
    {
     "name": "stdout",
     "output_type": "stream",
     "text": [
      "Epoch 33/50 - Train Loss: 0.8024, Val Loss: 5.3022, Acc: 0.4263, F1: 0.3962\n"
     ]
    },
    {
     "name": "stderr",
     "output_type": "stream",
     "text": [
      "Training: 100%|██████████| 145/145 [00:02<00:00, 60.08it/s]\n",
      "Validating: 100%|██████████| 79/79 [00:01<00:00, 39.77it/s]\n"
     ]
    },
    {
     "name": "stdout",
     "output_type": "stream",
     "text": [
      "Validation Loss: 5.5374, Accuracy: 0.4109, F1 Score: 0.3969\n"
     ]
    },
    {
     "name": "stderr",
     "output_type": "stream",
     "text": [
      "Thingy: 100%|██████████| 247/247 [00:05<00:00, 41.72it/s]\n"
     ]
    },
    {
     "name": "stdout",
     "output_type": "stream",
     "text": [
      "Epoch 34/50 - Train Loss: 0.7902, Val Loss: 5.5374, Acc: 0.4109, F1: 0.3969\n"
     ]
    },
    {
     "name": "stderr",
     "output_type": "stream",
     "text": [
      "Training: 100%|██████████| 147/147 [00:02<00:00, 62.03it/s]\n",
      "Validating: 100%|██████████| 79/79 [00:01<00:00, 40.15it/s]\n"
     ]
    },
    {
     "name": "stdout",
     "output_type": "stream",
     "text": [
      "Validation Loss: 5.6807, Accuracy: 0.4145, F1 Score: 0.3902\n"
     ]
    },
    {
     "name": "stderr",
     "output_type": "stream",
     "text": [
      "Thingy: 100%|██████████| 245/245 [00:05<00:00, 41.66it/s]\n"
     ]
    },
    {
     "name": "stdout",
     "output_type": "stream",
     "text": [
      "Epoch 35/50 - Train Loss: 0.7816, Val Loss: 5.6807, Acc: 0.4145, F1: 0.3902\n"
     ]
    },
    {
     "name": "stderr",
     "output_type": "stream",
     "text": [
      "Training: 100%|██████████| 149/149 [00:02<00:00, 61.28it/s]\n",
      "Validating: 100%|██████████| 79/79 [00:01<00:00, 39.66it/s]\n"
     ]
    },
    {
     "name": "stdout",
     "output_type": "stream",
     "text": [
      "Validation Loss: 5.0454, Accuracy: 0.4399, F1 Score: 0.4266\n"
     ]
    },
    {
     "name": "stderr",
     "output_type": "stream",
     "text": [
      "Thingy: 100%|██████████| 243/243 [00:05<00:00, 41.32it/s]\n"
     ]
    },
    {
     "name": "stdout",
     "output_type": "stream",
     "text": [
      "Epoch 36/50 - Train Loss: 0.7622, Val Loss: 5.0454, Acc: 0.4399, F1: 0.4266\n"
     ]
    },
    {
     "name": "stderr",
     "output_type": "stream",
     "text": [
      "Training: 100%|██████████| 151/151 [00:02<00:00, 61.83it/s]\n",
      "Validating: 100%|██████████| 79/79 [00:01<00:00, 39.78it/s]\n"
     ]
    },
    {
     "name": "stdout",
     "output_type": "stream",
     "text": [
      "Validation Loss: 4.9654, Accuracy: 0.4484, F1 Score: 0.4339\n"
     ]
    },
    {
     "name": "stderr",
     "output_type": "stream",
     "text": [
      "Thingy: 100%|██████████| 241/241 [00:05<00:00, 42.00it/s]\n"
     ]
    },
    {
     "name": "stdout",
     "output_type": "stream",
     "text": [
      "Epoch 37/50 - Train Loss: 0.7567, Val Loss: 4.9654, Acc: 0.4484, F1: 0.4339\n"
     ]
    },
    {
     "name": "stderr",
     "output_type": "stream",
     "text": [
      "Training: 100%|██████████| 153/153 [00:02<00:00, 63.04it/s]\n",
      "Validating: 100%|██████████| 79/79 [00:01<00:00, 39.79it/s]\n"
     ]
    },
    {
     "name": "stdout",
     "output_type": "stream",
     "text": [
      "Validation Loss: 5.9270, Accuracy: 0.4111, F1 Score: 0.3932\n"
     ]
    },
    {
     "name": "stderr",
     "output_type": "stream",
     "text": [
      "Thingy: 100%|██████████| 239/239 [00:05<00:00, 43.04it/s]\n"
     ]
    },
    {
     "name": "stdout",
     "output_type": "stream",
     "text": [
      "Epoch 38/50 - Train Loss: 0.7444, Val Loss: 5.9270, Acc: 0.4111, F1: 0.3932\n"
     ]
    },
    {
     "name": "stderr",
     "output_type": "stream",
     "text": [
      "Training: 100%|██████████| 155/155 [00:02<00:00, 64.10it/s]\n",
      "Validating: 100%|██████████| 79/79 [00:01<00:00, 39.90it/s]\n"
     ]
    },
    {
     "name": "stdout",
     "output_type": "stream",
     "text": [
      "Validation Loss: 5.8891, Accuracy: 0.4254, F1 Score: 0.4097\n"
     ]
    },
    {
     "name": "stderr",
     "output_type": "stream",
     "text": [
      "Thingy: 100%|██████████| 237/237 [00:05<00:00, 41.85it/s]\n"
     ]
    },
    {
     "name": "stdout",
     "output_type": "stream",
     "text": [
      "Epoch 39/50 - Train Loss: 0.7279, Val Loss: 5.8891, Acc: 0.4254, F1: 0.4097\n"
     ]
    },
    {
     "name": "stderr",
     "output_type": "stream",
     "text": [
      "Training: 100%|██████████| 157/157 [00:02<00:00, 65.23it/s]\n",
      "Validating: 100%|██████████| 79/79 [00:01<00:00, 39.60it/s]\n"
     ]
    },
    {
     "name": "stdout",
     "output_type": "stream",
     "text": [
      "Validation Loss: 5.7855, Accuracy: 0.4188, F1 Score: 0.4047\n"
     ]
    },
    {
     "name": "stderr",
     "output_type": "stream",
     "text": [
      "Thingy: 100%|██████████| 235/235 [00:05<00:00, 41.44it/s]\n"
     ]
    },
    {
     "name": "stdout",
     "output_type": "stream",
     "text": [
      "Epoch 40/50 - Train Loss: 0.7139, Val Loss: 5.7855, Acc: 0.4188, F1: 0.4047\n"
     ]
    },
    {
     "name": "stderr",
     "output_type": "stream",
     "text": [
      "Training: 100%|██████████| 159/159 [00:02<00:00, 62.59it/s]\n",
      "Validating: 100%|██████████| 79/79 [00:01<00:00, 41.10it/s]\n"
     ]
    },
    {
     "name": "stdout",
     "output_type": "stream",
     "text": [
      "Validation Loss: 4.7942, Accuracy: 0.4717, F1 Score: 0.4629\n"
     ]
    },
    {
     "name": "stderr",
     "output_type": "stream",
     "text": [
      "Thingy: 100%|██████████| 233/233 [00:05<00:00, 41.53it/s]\n"
     ]
    },
    {
     "name": "stdout",
     "output_type": "stream",
     "text": [
      "Epoch 41/50 - Train Loss: 0.7095, Val Loss: 4.7942, Acc: 0.4717, F1: 0.4629\n"
     ]
    },
    {
     "name": "stderr",
     "output_type": "stream",
     "text": [
      "Training: 100%|██████████| 161/161 [00:02<00:00, 65.14it/s]\n",
      "Validating: 100%|██████████| 79/79 [00:01<00:00, 39.61it/s]\n"
     ]
    },
    {
     "name": "stdout",
     "output_type": "stream",
     "text": [
      "Validation Loss: 6.0922, Accuracy: 0.4172, F1 Score: 0.4000\n"
     ]
    },
    {
     "name": "stderr",
     "output_type": "stream",
     "text": [
      "Thingy: 100%|██████████| 231/231 [00:05<00:00, 42.05it/s]\n"
     ]
    },
    {
     "name": "stdout",
     "output_type": "stream",
     "text": [
      "Epoch 42/50 - Train Loss: 0.6905, Val Loss: 6.0922, Acc: 0.4172, F1: 0.4000\n"
     ]
    },
    {
     "name": "stderr",
     "output_type": "stream",
     "text": [
      "Training: 100%|██████████| 163/163 [00:02<00:00, 64.60it/s]\n",
      "Validating: 100%|██████████| 79/79 [00:02<00:00, 39.50it/s]\n"
     ]
    },
    {
     "name": "stdout",
     "output_type": "stream",
     "text": [
      "Validation Loss: 5.4519, Accuracy: 0.4487, F1 Score: 0.4363\n"
     ]
    },
    {
     "name": "stderr",
     "output_type": "stream",
     "text": [
      "Thingy: 100%|██████████| 229/229 [00:05<00:00, 41.66it/s]\n"
     ]
    },
    {
     "name": "stdout",
     "output_type": "stream",
     "text": [
      "Epoch 43/50 - Train Loss: 0.6712, Val Loss: 5.4519, Acc: 0.4487, F1: 0.4363\n"
     ]
    },
    {
     "name": "stderr",
     "output_type": "stream",
     "text": [
      "Training: 100%|██████████| 165/165 [00:02<00:00, 64.02it/s]\n",
      "Validating: 100%|██████████| 79/79 [00:01<00:00, 40.46it/s]\n"
     ]
    },
    {
     "name": "stdout",
     "output_type": "stream",
     "text": [
      "Validation Loss: 5.7259, Accuracy: 0.4541, F1 Score: 0.4327\n"
     ]
    },
    {
     "name": "stderr",
     "output_type": "stream",
     "text": [
      "Thingy: 100%|██████████| 227/227 [00:05<00:00, 41.10it/s]\n"
     ]
    },
    {
     "name": "stdout",
     "output_type": "stream",
     "text": [
      "Epoch 44/50 - Train Loss: 0.6625, Val Loss: 5.7259, Acc: 0.4541, F1: 0.4327\n"
     ]
    },
    {
     "name": "stderr",
     "output_type": "stream",
     "text": [
      "Training: 100%|██████████| 167/167 [00:02<00:00, 65.24it/s]\n",
      "Validating: 100%|██████████| 79/79 [00:01<00:00, 41.17it/s]\n"
     ]
    },
    {
     "name": "stdout",
     "output_type": "stream",
     "text": [
      "Validation Loss: 6.2256, Accuracy: 0.4259, F1 Score: 0.4144\n"
     ]
    },
    {
     "name": "stderr",
     "output_type": "stream",
     "text": [
      "Thingy: 100%|██████████| 225/225 [00:05<00:00, 40.72it/s]\n"
     ]
    },
    {
     "name": "stdout",
     "output_type": "stream",
     "text": [
      "Epoch 45/50 - Train Loss: 0.6643, Val Loss: 6.2256, Acc: 0.4259, F1: 0.4144\n"
     ]
    },
    {
     "name": "stderr",
     "output_type": "stream",
     "text": [
      "Training: 100%|██████████| 169/169 [00:02<00:00, 66.40it/s]\n",
      "Validating: 100%|██████████| 79/79 [00:01<00:00, 40.94it/s]\n"
     ]
    },
    {
     "name": "stdout",
     "output_type": "stream",
     "text": [
      "Validation Loss: 5.7458, Accuracy: 0.4503, F1 Score: 0.4402\n"
     ]
    },
    {
     "name": "stderr",
     "output_type": "stream",
     "text": [
      "Thingy: 100%|██████████| 223/223 [00:05<00:00, 41.60it/s]\n"
     ]
    },
    {
     "name": "stdout",
     "output_type": "stream",
     "text": [
      "Epoch 46/50 - Train Loss: 0.6458, Val Loss: 5.7458, Acc: 0.4503, F1: 0.4402\n"
     ]
    },
    {
     "name": "stderr",
     "output_type": "stream",
     "text": [
      "Training: 100%|██████████| 171/171 [00:02<00:00, 67.51it/s]\n",
      "Validating: 100%|██████████| 79/79 [00:01<00:00, 40.90it/s]\n"
     ]
    },
    {
     "name": "stdout",
     "output_type": "stream",
     "text": [
      "Validation Loss: 5.7615, Accuracy: 0.4596, F1 Score: 0.4480\n"
     ]
    },
    {
     "name": "stderr",
     "output_type": "stream",
     "text": [
      "Thingy: 100%|██████████| 221/221 [00:05<00:00, 41.28it/s]\n"
     ]
    },
    {
     "name": "stdout",
     "output_type": "stream",
     "text": [
      "Epoch 47/50 - Train Loss: 0.6339, Val Loss: 5.7615, Acc: 0.4596, F1: 0.4480\n"
     ]
    },
    {
     "name": "stderr",
     "output_type": "stream",
     "text": [
      "Training: 100%|██████████| 173/173 [00:02<00:00, 65.53it/s]\n",
      "Validating: 100%|██████████| 79/79 [00:01<00:00, 40.72it/s]\n"
     ]
    },
    {
     "name": "stdout",
     "output_type": "stream",
     "text": [
      "Validation Loss: 6.1752, Accuracy: 0.4403, F1 Score: 0.4288\n"
     ]
    },
    {
     "name": "stderr",
     "output_type": "stream",
     "text": [
      "Thingy: 100%|██████████| 219/219 [00:05<00:00, 41.87it/s]\n"
     ]
    },
    {
     "name": "stdout",
     "output_type": "stream",
     "text": [
      "Epoch 48/50 - Train Loss: 0.6245, Val Loss: 6.1752, Acc: 0.4403, F1: 0.4288\n"
     ]
    },
    {
     "name": "stderr",
     "output_type": "stream",
     "text": [
      "Training: 100%|██████████| 175/175 [00:02<00:00, 67.89it/s]\n",
      "Validating: 100%|██████████| 79/79 [00:01<00:00, 40.74it/s]\n"
     ]
    },
    {
     "name": "stdout",
     "output_type": "stream",
     "text": [
      "Validation Loss: 5.5498, Accuracy: 0.4654, F1 Score: 0.4598\n"
     ]
    },
    {
     "name": "stderr",
     "output_type": "stream",
     "text": [
      "Thingy: 100%|██████████| 217/217 [00:05<00:00, 41.25it/s]\n"
     ]
    },
    {
     "name": "stdout",
     "output_type": "stream",
     "text": [
      "Epoch 49/50 - Train Loss: 0.6114, Val Loss: 5.5498, Acc: 0.4654, F1: 0.4598\n"
     ]
    },
    {
     "name": "stderr",
     "output_type": "stream",
     "text": [
      "Training: 100%|██████████| 177/177 [00:02<00:00, 67.68it/s]\n",
      "Validating: 100%|██████████| 79/79 [00:01<00:00, 40.58it/s]\n"
     ]
    },
    {
     "name": "stdout",
     "output_type": "stream",
     "text": [
      "Validation Loss: 5.5675, Accuracy: 0.4724, F1 Score: 0.4568\n"
     ]
    },
    {
     "name": "stderr",
     "output_type": "stream",
     "text": [
      "Thingy: 100%|██████████| 215/215 [00:05<00:00, 41.30it/s]\n"
     ]
    },
    {
     "name": "stdout",
     "output_type": "stream",
     "text": [
      "Epoch 50/50 - Train Loss: 0.6006, Val Loss: 5.5675, Acc: 0.4724, F1: 0.4568\n"
     ]
    }
   ],
   "source": [
    "trainer.fit(EPOCHS)\n"
   ]
  },
  {
   "cell_type": "code",
   "execution_count": 89,
   "metadata": {},
   "outputs": [
    {
     "data": {
      "image/png": "[encoded data removed]",
      "text/plain": [
       "<Figure size 1000x500 with 1 Axes>"
      ]
     },
     "metadata": {},
     "output_type": "display_data"
    }
   ],
   "source": [
    "trainer.plot_losses()"
   ]
  },
  {
   "cell_type": "code",
   "execution_count": 90,
   "metadata": {},
   "outputs": [
    {
     "data": {
      "image/png": "[encoded data removed]",
      "text/plain": [
       "<Figure size 1000x500 with 1 Axes>"
      ]
     },
     "metadata": {},
     "output_type": "display_data"
    }
   ],
   "source": [
    "trainer.plot_acc()"
   ]
  },
  {
   "cell_type": "code",
   "execution_count": 91,
   "metadata": {},
   "outputs": [
    {
     "data": {
      "image/png": "[encoded data removed]",
      "text/plain": [
       "<Figure size 1000x500 with 1 Axes>"
      ]
     },
     "metadata": {},
     "output_type": "display_data"
    }
   ],
   "source": [
    "trainer.plot_f1()"
   ]
  },
  {
   "cell_type": "markdown",
   "metadata": {},
   "source": []
  }
 ],
 "metadata": {
  "kernelspec": {
   "display_name": "pip-torch",
   "language": "python",
   "name": "python3"
  },
  "language_info": {
   "codemirror_mode": {
    "name": "ipython",
    "version": 3
   },
   "file_extension": ".py",
   "mimetype": "text/x-python",
   "name": "python",
   "nbconvert_exporter": "python",
   "pygments_lexer": "ipython3",
   "version": "3.11.5"
  }
 },
 "nbformat": 4,
 "nbformat_minor": 2
}
