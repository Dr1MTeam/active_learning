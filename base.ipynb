{
 "cells": [
  {
   "cell_type": "code",
   "execution_count": 1,
   "metadata": {},
   "outputs": [],
   "source": [
    "import torch\n",
    "import torch.nn as nn\n",
    "import torch.optim as optim\n",
    "from torch.utils.data import DataLoader, Subset, Dataset\n",
    "from torchvision import datasets, transforms, models\n",
    "import timm\n",
    "import numpy as np\n",
    "from matplotlib import pyplot as plt"
   ]
  },
  {
   "cell_type": "code",
   "execution_count": 2,
   "metadata": {},
   "outputs": [],
   "source": [
    "import sys\n",
    "import os"
   ]
  },
  {
   "cell_type": "code",
   "execution_count": 3,
   "metadata": {},
   "outputs": [],
   "source": [
    "from base_trainer import Trainer\n",
    "from model import SimpleCNN"
   ]
  },
  {
   "cell_type": "code",
   "execution_count": 4,
   "metadata": {},
   "outputs": [],
   "source": [
    "import json"
   ]
  },
  {
   "cell_type": "code",
   "execution_count": 5,
   "metadata": {},
   "outputs": [],
   "source": [
    "\n",
    "NUM_CLASSES = 10           # CIFAR-10\n"
   ]
  },
  {
   "cell_type": "code",
   "execution_count": 6,
   "metadata": {},
   "outputs": [
    {
     "name": "stdout",
     "output_type": "stream",
     "text": [
      "Files already downloaded and verified\n",
      "Files already downloaded and verified\n"
     ]
    }
   ],
   "source": [
    "# Загружаем CIFAR-10\n",
    "transform = transforms.Compose([transforms.ToTensor(), transforms.Normalize(mean=[0.485, 0.456, 0.406], std=[0.229, 0.224, 0.225])])\n",
    "train_dataset = datasets.CIFAR10(root='./data', train=True, download=True, transform=transform)\n",
    "test_dataset = datasets.CIFAR10(root='./data', train=False, download=True, transform=transform)"
   ]
  },
  {
   "cell_type": "code",
   "execution_count": 7,
   "metadata": {},
   "outputs": [],
   "source": [
    "DEVICE = 'cuda' if torch.cuda.is_available() else 'cpu'"
   ]
  },
  {
   "cell_type": "code",
   "execution_count": 8,
   "metadata": {},
   "outputs": [],
   "source": [
    "class_indices = {class_idx: [] for class_idx in range(NUM_CLASSES)}\n",
    "for idx, (_, label) in enumerate(train_dataset):\n",
    "    class_indices[label].append(idx)\n",
    "\n",
    "\n",
    "EPOCHS = 10\n",
    "learning_rate = 5e-4\n",
    "\n",
    "val_dataloader = DataLoader(test_dataset, batch_size=128, shuffle=True)"
   ]
  },
  {
   "cell_type": "code",
   "execution_count": 9,
   "metadata": {},
   "outputs": [
    {
     "name": "stdout",
     "output_type": "stream",
     "text": [
      "Размер initial_train_dataset: 500\n"
     ]
    },
    {
     "name": "stderr",
     "output_type": "stream",
     "text": [
      "Training: 100%|██████████| 4/4 [00:00<00:00,  9.97it/s]\n",
      "Validating: 100%|██████████| 79/79 [00:01<00:00, 41.27it/s]\n"
     ]
    },
    {
     "name": "stdout",
     "output_type": "stream",
     "text": [
      "Validation Loss: 2.2520, Accuracy: 0.1927, F1 Score: 0.1403\n",
      "Epoch 1/10 - Train Loss: 2.3020, Val Loss: 2.2520, Acc: 0.1927, F1: 0.1403\n"
     ]
    },
    {
     "name": "stderr",
     "output_type": "stream",
     "text": [
      "Training: 100%|██████████| 4/4 [00:00<00:00, 28.40it/s]\n",
      "Validating: 100%|██████████| 79/79 [00:01<00:00, 43.22it/s]\n"
     ]
    },
    {
     "name": "stdout",
     "output_type": "stream",
     "text": [
      "Validation Loss: 2.1754, Accuracy: 0.2311, F1 Score: 0.1927\n",
      "Epoch 2/10 - Train Loss: 2.1915, Val Loss: 2.1754, Acc: 0.2311, F1: 0.1927\n"
     ]
    },
    {
     "name": "stderr",
     "output_type": "stream",
     "text": [
      "Training: 100%|██████████| 4/4 [00:00<00:00, 36.63it/s]\n",
      "Validating: 100%|██████████| 79/79 [00:01<00:00, 42.75it/s]\n"
     ]
    },
    {
     "name": "stdout",
     "output_type": "stream",
     "text": [
      "Validation Loss: 2.0805, Accuracy: 0.2837, F1 Score: 0.2761\n",
      "Epoch 3/10 - Train Loss: 2.0466, Val Loss: 2.0805, Acc: 0.2837, F1: 0.2761\n"
     ]
    },
    {
     "name": "stderr",
     "output_type": "stream",
     "text": [
      "Training: 100%|██████████| 4/4 [00:00<00:00, 27.11it/s]\n",
      "Validating: 100%|██████████| 79/79 [00:02<00:00, 36.35it/s]\n"
     ]
    },
    {
     "name": "stdout",
     "output_type": "stream",
     "text": [
      "Validation Loss: 2.0089, Accuracy: 0.3005, F1 Score: 0.2904\n",
      "Epoch 4/10 - Train Loss: 1.9174, Val Loss: 2.0089, Acc: 0.3005, F1: 0.2904\n"
     ]
    },
    {
     "name": "stderr",
     "output_type": "stream",
     "text": [
      "Training: 100%|██████████| 4/4 [00:00<00:00, 18.44it/s]\n",
      "Validating: 100%|██████████| 79/79 [00:02<00:00, 33.03it/s]\n"
     ]
    },
    {
     "name": "stdout",
     "output_type": "stream",
     "text": [
      "Validation Loss: 1.9821, Accuracy: 0.2862, F1 Score: 0.2797\n",
      "Epoch 5/10 - Train Loss: 1.8217, Val Loss: 1.9821, Acc: 0.2862, F1: 0.2797\n"
     ]
    },
    {
     "name": "stderr",
     "output_type": "stream",
     "text": [
      "Training: 100%|██████████| 4/4 [00:00<00:00, 20.37it/s]\n",
      "Validating: 100%|██████████| 79/79 [00:02<00:00, 30.71it/s]\n"
     ]
    },
    {
     "name": "stdout",
     "output_type": "stream",
     "text": [
      "Validation Loss: 1.9538, Accuracy: 0.3126, F1 Score: 0.3033\n",
      "Epoch 6/10 - Train Loss: 1.7094, Val Loss: 1.9538, Acc: 0.3126, F1: 0.3033\n"
     ]
    },
    {
     "name": "stderr",
     "output_type": "stream",
     "text": [
      "Training: 100%|██████████| 4/4 [00:00<00:00, 19.34it/s]\n",
      "Validating: 100%|██████████| 79/79 [00:02<00:00, 31.93it/s]\n"
     ]
    },
    {
     "name": "stdout",
     "output_type": "stream",
     "text": [
      "Validation Loss: 1.9352, Accuracy: 0.3280, F1 Score: 0.3210\n",
      "Epoch 7/10 - Train Loss: 1.6600, Val Loss: 1.9352, Acc: 0.3280, F1: 0.3210\n"
     ]
    },
    {
     "name": "stderr",
     "output_type": "stream",
     "text": [
      "Training: 100%|██████████| 4/4 [00:00<00:00, 18.05it/s]\n",
      "Validating: 100%|██████████| 79/79 [00:02<00:00, 31.55it/s]\n"
     ]
    },
    {
     "name": "stdout",
     "output_type": "stream",
     "text": [
      "Validation Loss: 1.9142, Accuracy: 0.3238, F1 Score: 0.3147\n",
      "Epoch 8/10 - Train Loss: 1.6133, Val Loss: 1.9142, Acc: 0.3238, F1: 0.3147\n"
     ]
    },
    {
     "name": "stderr",
     "output_type": "stream",
     "text": [
      "Training: 100%|██████████| 4/4 [00:00<00:00, 17.90it/s]\n",
      "Validating: 100%|██████████| 79/79 [00:02<00:00, 31.69it/s]\n"
     ]
    },
    {
     "name": "stdout",
     "output_type": "stream",
     "text": [
      "Validation Loss: 1.9061, Accuracy: 0.3410, F1 Score: 0.3315\n",
      "Epoch 9/10 - Train Loss: 1.5342, Val Loss: 1.9061, Acc: 0.3410, F1: 0.3315\n"
     ]
    },
    {
     "name": "stderr",
     "output_type": "stream",
     "text": [
      "Training: 100%|██████████| 4/4 [00:00<00:00, 19.73it/s]\n",
      "Validating: 100%|██████████| 79/79 [00:02<00:00, 30.60it/s]\n"
     ]
    },
    {
     "name": "stdout",
     "output_type": "stream",
     "text": [
      "Validation Loss: 1.8791, Accuracy: 0.3436, F1 Score: 0.3388\n",
      "Epoch 10/10 - Train Loss: 1.4639, Val Loss: 1.8791, Acc: 0.3436, F1: 0.3388\n",
      "Размер initial_train_dataset: 500\n"
     ]
    },
    {
     "name": "stderr",
     "output_type": "stream",
     "text": [
      "Training: 100%|██████████| 4/4 [00:00<00:00, 19.16it/s]\n",
      "Validating: 100%|██████████| 79/79 [00:02<00:00, 31.37it/s]\n"
     ]
    },
    {
     "name": "stdout",
     "output_type": "stream",
     "text": [
      "Validation Loss: 2.2505, Accuracy: 0.1841, F1 Score: 0.1102\n",
      "Epoch 1/10 - Train Loss: 2.3037, Val Loss: 2.2505, Acc: 0.1841, F1: 0.1102\n"
     ]
    },
    {
     "name": "stderr",
     "output_type": "stream",
     "text": [
      "Training: 100%|██████████| 4/4 [00:00<00:00, 18.68it/s]\n",
      "Validating: 100%|██████████| 79/79 [00:02<00:00, 31.55it/s]\n"
     ]
    },
    {
     "name": "stdout",
     "output_type": "stream",
     "text": [
      "Validation Loss: 2.1948, Accuracy: 0.2249, F1 Score: 0.1532\n",
      "Epoch 2/10 - Train Loss: 2.2158, Val Loss: 2.1948, Acc: 0.2249, F1: 0.1532\n"
     ]
    },
    {
     "name": "stderr",
     "output_type": "stream",
     "text": [
      "Training: 100%|██████████| 4/4 [00:00<00:00, 21.49it/s]\n",
      "Validating: 100%|██████████| 79/79 [00:02<00:00, 31.41it/s]\n"
     ]
    },
    {
     "name": "stdout",
     "output_type": "stream",
     "text": [
      "Validation Loss: 2.1049, Accuracy: 0.2846, F1 Score: 0.2472\n",
      "Epoch 3/10 - Train Loss: 2.1197, Val Loss: 2.1049, Acc: 0.2846, F1: 0.2472\n"
     ]
    },
    {
     "name": "stderr",
     "output_type": "stream",
     "text": [
      "Training: 100%|██████████| 4/4 [00:00<00:00, 20.79it/s]\n",
      "Validating: 100%|██████████| 79/79 [00:02<00:00, 30.58it/s]\n"
     ]
    },
    {
     "name": "stdout",
     "output_type": "stream",
     "text": [
      "Validation Loss: 2.0173, Accuracy: 0.2901, F1 Score: 0.2445\n",
      "Epoch 4/10 - Train Loss: 2.0023, Val Loss: 2.0173, Acc: 0.2901, F1: 0.2445\n"
     ]
    },
    {
     "name": "stderr",
     "output_type": "stream",
     "text": [
      "Training: 100%|██████████| 4/4 [00:00<00:00, 20.85it/s]\n",
      "Validating: 100%|██████████| 79/79 [00:02<00:00, 31.05it/s]\n"
     ]
    },
    {
     "name": "stdout",
     "output_type": "stream",
     "text": [
      "Validation Loss: 1.9704, Accuracy: 0.3018, F1 Score: 0.2702\n",
      "Epoch 5/10 - Train Loss: 1.8741, Val Loss: 1.9704, Acc: 0.3018, F1: 0.2702\n"
     ]
    },
    {
     "name": "stderr",
     "output_type": "stream",
     "text": [
      "Training: 100%|██████████| 4/4 [00:00<00:00, 19.49it/s]\n",
      "Validating: 100%|██████████| 79/79 [00:02<00:00, 32.31it/s]\n"
     ]
    },
    {
     "name": "stdout",
     "output_type": "stream",
     "text": [
      "Validation Loss: 1.9297, Accuracy: 0.3117, F1 Score: 0.2738\n",
      "Epoch 6/10 - Train Loss: 1.8015, Val Loss: 1.9297, Acc: 0.3117, F1: 0.2738\n"
     ]
    },
    {
     "name": "stderr",
     "output_type": "stream",
     "text": [
      "Training: 100%|██████████| 4/4 [00:00<00:00, 17.42it/s]\n",
      "Validating: 100%|██████████| 79/79 [00:02<00:00, 31.02it/s]\n"
     ]
    },
    {
     "name": "stdout",
     "output_type": "stream",
     "text": [
      "Validation Loss: 1.9063, Accuracy: 0.3266, F1 Score: 0.3018\n",
      "Epoch 7/10 - Train Loss: 1.7343, Val Loss: 1.9063, Acc: 0.3266, F1: 0.3018\n"
     ]
    },
    {
     "name": "stderr",
     "output_type": "stream",
     "text": [
      "Training: 100%|██████████| 4/4 [00:00<00:00, 20.73it/s]\n",
      "Validating: 100%|██████████| 79/79 [00:02<00:00, 31.44it/s]\n"
     ]
    },
    {
     "name": "stdout",
     "output_type": "stream",
     "text": [
      "Validation Loss: 1.8641, Accuracy: 0.3375, F1 Score: 0.3163\n",
      "Epoch 8/10 - Train Loss: 1.6526, Val Loss: 1.8641, Acc: 0.3375, F1: 0.3163\n"
     ]
    },
    {
     "name": "stderr",
     "output_type": "stream",
     "text": [
      "Training: 100%|██████████| 4/4 [00:00<00:00, 21.53it/s]\n",
      "Validating: 100%|██████████| 79/79 [00:02<00:00, 31.07it/s]\n"
     ]
    },
    {
     "name": "stdout",
     "output_type": "stream",
     "text": [
      "Validation Loss: 1.8596, Accuracy: 0.3404, F1 Score: 0.3173\n",
      "Epoch 9/10 - Train Loss: 1.6084, Val Loss: 1.8596, Acc: 0.3404, F1: 0.3173\n"
     ]
    },
    {
     "name": "stderr",
     "output_type": "stream",
     "text": [
      "Training: 100%|██████████| 4/4 [00:00<00:00, 20.82it/s]\n",
      "Validating: 100%|██████████| 79/79 [00:02<00:00, 31.48it/s]\n"
     ]
    },
    {
     "name": "stdout",
     "output_type": "stream",
     "text": [
      "Validation Loss: 1.8534, Accuracy: 0.3470, F1 Score: 0.3234\n",
      "Epoch 10/10 - Train Loss: 1.5338, Val Loss: 1.8534, Acc: 0.3470, F1: 0.3234\n",
      "Размер initial_train_dataset: 500\n"
     ]
    },
    {
     "name": "stderr",
     "output_type": "stream",
     "text": [
      "Training: 100%|██████████| 4/4 [00:00<00:00, 18.28it/s]\n",
      "Validating: 100%|██████████| 79/79 [00:02<00:00, 32.44it/s]\n"
     ]
    },
    {
     "name": "stdout",
     "output_type": "stream",
     "text": [
      "Validation Loss: 2.2210, Accuracy: 0.1961, F1 Score: 0.1457\n",
      "Epoch 1/10 - Train Loss: 2.2839, Val Loss: 2.2210, Acc: 0.1961, F1: 0.1457\n"
     ]
    },
    {
     "name": "stderr",
     "output_type": "stream",
     "text": [
      "Training: 100%|██████████| 4/4 [00:00<00:00, 21.16it/s]\n",
      "Validating: 100%|██████████| 79/79 [00:02<00:00, 30.45it/s]\n"
     ]
    },
    {
     "name": "stdout",
     "output_type": "stream",
     "text": [
      "Validation Loss: 2.1373, Accuracy: 0.2518, F1 Score: 0.2062\n",
      "Epoch 2/10 - Train Loss: 2.1716, Val Loss: 2.1373, Acc: 0.2518, F1: 0.2062\n"
     ]
    },
    {
     "name": "stderr",
     "output_type": "stream",
     "text": [
      "Training: 100%|██████████| 4/4 [00:00<00:00, 21.37it/s]\n",
      "Validating: 100%|██████████| 79/79 [00:02<00:00, 31.54it/s]\n"
     ]
    },
    {
     "name": "stdout",
     "output_type": "stream",
     "text": [
      "Validation Loss: 2.0798, Accuracy: 0.2705, F1 Score: 0.2340\n",
      "Epoch 3/10 - Train Loss: 2.0530, Val Loss: 2.0798, Acc: 0.2705, F1: 0.2340\n"
     ]
    },
    {
     "name": "stderr",
     "output_type": "stream",
     "text": [
      "Training: 100%|██████████| 4/4 [00:00<00:00, 19.29it/s]\n",
      "Validating: 100%|██████████| 79/79 [00:02<00:00, 31.34it/s]\n"
     ]
    },
    {
     "name": "stdout",
     "output_type": "stream",
     "text": [
      "Validation Loss: 2.0403, Accuracy: 0.2758, F1 Score: 0.2499\n",
      "Epoch 4/10 - Train Loss: 1.9951, Val Loss: 2.0403, Acc: 0.2758, F1: 0.2499\n"
     ]
    },
    {
     "name": "stderr",
     "output_type": "stream",
     "text": [
      "Training: 100%|██████████| 4/4 [00:00<00:00, 18.47it/s]\n",
      "Validating: 100%|██████████| 79/79 [00:02<00:00, 31.84it/s]\n"
     ]
    },
    {
     "name": "stdout",
     "output_type": "stream",
     "text": [
      "Validation Loss: 2.0114, Accuracy: 0.2894, F1 Score: 0.2843\n",
      "Epoch 5/10 - Train Loss: 1.9149, Val Loss: 2.0114, Acc: 0.2894, F1: 0.2843\n"
     ]
    },
    {
     "name": "stderr",
     "output_type": "stream",
     "text": [
      "Training: 100%|██████████| 4/4 [00:00<00:00, 21.09it/s]\n",
      "Validating: 100%|██████████| 79/79 [00:02<00:00, 31.20it/s]\n"
     ]
    },
    {
     "name": "stdout",
     "output_type": "stream",
     "text": [
      "Validation Loss: 2.0001, Accuracy: 0.2991, F1 Score: 0.2831\n",
      "Epoch 6/10 - Train Loss: 1.8194, Val Loss: 2.0001, Acc: 0.2991, F1: 0.2831\n"
     ]
    },
    {
     "name": "stderr",
     "output_type": "stream",
     "text": [
      "Training: 100%|██████████| 4/4 [00:00<00:00, 20.44it/s]\n",
      "Validating: 100%|██████████| 79/79 [00:02<00:00, 31.33it/s]\n"
     ]
    },
    {
     "name": "stdout",
     "output_type": "stream",
     "text": [
      "Validation Loss: 1.9641, Accuracy: 0.3134, F1 Score: 0.2868\n",
      "Epoch 7/10 - Train Loss: 1.7600, Val Loss: 1.9641, Acc: 0.3134, F1: 0.2868\n"
     ]
    },
    {
     "name": "stderr",
     "output_type": "stream",
     "text": [
      "Training: 100%|██████████| 4/4 [00:00<00:00, 21.03it/s]\n",
      "Validating: 100%|██████████| 79/79 [00:02<00:00, 31.44it/s]\n"
     ]
    },
    {
     "name": "stdout",
     "output_type": "stream",
     "text": [
      "Validation Loss: 1.9690, Accuracy: 0.3028, F1 Score: 0.2968\n",
      "Epoch 8/10 - Train Loss: 1.6775, Val Loss: 1.9690, Acc: 0.3028, F1: 0.2968\n"
     ]
    },
    {
     "name": "stderr",
     "output_type": "stream",
     "text": [
      "Training: 100%|██████████| 4/4 [00:00<00:00, 17.34it/s]\n",
      "Validating: 100%|██████████| 79/79 [00:02<00:00, 31.33it/s]\n"
     ]
    },
    {
     "name": "stdout",
     "output_type": "stream",
     "text": [
      "Validation Loss: 1.9241, Accuracy: 0.3210, F1 Score: 0.3048\n",
      "Epoch 9/10 - Train Loss: 1.6135, Val Loss: 1.9241, Acc: 0.3210, F1: 0.3048\n"
     ]
    },
    {
     "name": "stderr",
     "output_type": "stream",
     "text": [
      "Training: 100%|██████████| 4/4 [00:00<00:00, 20.74it/s]\n",
      "Validating: 100%|██████████| 79/79 [00:02<00:00, 31.94it/s]\n"
     ]
    },
    {
     "name": "stdout",
     "output_type": "stream",
     "text": [
      "Validation Loss: 1.9212, Accuracy: 0.3304, F1 Score: 0.3269\n",
      "Epoch 10/10 - Train Loss: 1.5729, Val Loss: 1.9212, Acc: 0.3304, F1: 0.3269\n",
      "Размер initial_train_dataset: 500\n"
     ]
    },
    {
     "name": "stderr",
     "output_type": "stream",
     "text": [
      "Training: 100%|██████████| 4/4 [00:00<00:00, 15.00it/s]\n",
      "Validating: 100%|██████████| 79/79 [00:02<00:00, 31.94it/s]\n"
     ]
    },
    {
     "name": "stdout",
     "output_type": "stream",
     "text": [
      "Validation Loss: 2.2518, Accuracy: 0.2075, F1 Score: 0.1362\n",
      "Epoch 1/10 - Train Loss: 2.2998, Val Loss: 2.2518, Acc: 0.2075, F1: 0.1362\n"
     ]
    },
    {
     "name": "stderr",
     "output_type": "stream",
     "text": [
      "Training: 100%|██████████| 4/4 [00:00<00:00, 17.68it/s]\n",
      "Validating: 100%|██████████| 79/79 [00:02<00:00, 31.53it/s]\n"
     ]
    },
    {
     "name": "stdout",
     "output_type": "stream",
     "text": [
      "Validation Loss: 2.1678, Accuracy: 0.2580, F1 Score: 0.2055\n",
      "Epoch 2/10 - Train Loss: 2.1995, Val Loss: 2.1678, Acc: 0.2580, F1: 0.2055\n"
     ]
    },
    {
     "name": "stderr",
     "output_type": "stream",
     "text": [
      "Training: 100%|██████████| 4/4 [00:00<00:00, 17.70it/s]\n",
      "Validating: 100%|██████████| 79/79 [00:02<00:00, 31.70it/s]\n"
     ]
    },
    {
     "name": "stdout",
     "output_type": "stream",
     "text": [
      "Validation Loss: 2.0744, Accuracy: 0.2803, F1 Score: 0.2407\n",
      "Epoch 3/10 - Train Loss: 2.0846, Val Loss: 2.0744, Acc: 0.2803, F1: 0.2407\n"
     ]
    },
    {
     "name": "stderr",
     "output_type": "stream",
     "text": [
      "Training: 100%|██████████| 4/4 [00:00<00:00, 20.02it/s]\n",
      "Validating: 100%|██████████| 79/79 [00:02<00:00, 31.21it/s]\n"
     ]
    },
    {
     "name": "stdout",
     "output_type": "stream",
     "text": [
      "Validation Loss: 2.0055, Accuracy: 0.3013, F1 Score: 0.2810\n",
      "Epoch 4/10 - Train Loss: 1.9872, Val Loss: 2.0055, Acc: 0.3013, F1: 0.2810\n"
     ]
    },
    {
     "name": "stderr",
     "output_type": "stream",
     "text": [
      "Training: 100%|██████████| 4/4 [00:00<00:00, 19.82it/s]\n",
      "Validating: 100%|██████████| 79/79 [00:02<00:00, 30.59it/s]\n"
     ]
    },
    {
     "name": "stdout",
     "output_type": "stream",
     "text": [
      "Validation Loss: 1.9667, Accuracy: 0.3020, F1 Score: 0.2694\n",
      "Epoch 5/10 - Train Loss: 1.9119, Val Loss: 1.9667, Acc: 0.3020, F1: 0.2694\n"
     ]
    },
    {
     "name": "stderr",
     "output_type": "stream",
     "text": [
      "Training: 100%|██████████| 4/4 [00:00<00:00, 20.95it/s]\n",
      "Validating: 100%|██████████| 79/79 [00:02<00:00, 31.40it/s]\n"
     ]
    },
    {
     "name": "stdout",
     "output_type": "stream",
     "text": [
      "Validation Loss: 1.9392, Accuracy: 0.3302, F1 Score: 0.3259\n",
      "Epoch 6/10 - Train Loss: 1.8200, Val Loss: 1.9392, Acc: 0.3302, F1: 0.3259\n"
     ]
    },
    {
     "name": "stderr",
     "output_type": "stream",
     "text": [
      "Training: 100%|██████████| 4/4 [00:00<00:00, 17.58it/s]\n",
      "Validating: 100%|██████████| 79/79 [00:02<00:00, 30.81it/s]\n"
     ]
    },
    {
     "name": "stdout",
     "output_type": "stream",
     "text": [
      "Validation Loss: 1.9251, Accuracy: 0.3256, F1 Score: 0.3082\n",
      "Epoch 7/10 - Train Loss: 1.7677, Val Loss: 1.9251, Acc: 0.3256, F1: 0.3082\n"
     ]
    },
    {
     "name": "stderr",
     "output_type": "stream",
     "text": [
      "Training: 100%|██████████| 4/4 [00:00<00:00, 20.64it/s]\n",
      "Validating: 100%|██████████| 79/79 [00:02<00:00, 30.93it/s]\n"
     ]
    },
    {
     "name": "stdout",
     "output_type": "stream",
     "text": [
      "Validation Loss: 1.8866, Accuracy: 0.3411, F1 Score: 0.3299\n",
      "Epoch 8/10 - Train Loss: 1.6947, Val Loss: 1.8866, Acc: 0.3411, F1: 0.3299\n"
     ]
    },
    {
     "name": "stderr",
     "output_type": "stream",
     "text": [
      "Training: 100%|██████████| 4/4 [00:00<00:00, 20.31it/s]\n",
      "Validating: 100%|██████████| 79/79 [00:02<00:00, 31.68it/s]\n"
     ]
    },
    {
     "name": "stdout",
     "output_type": "stream",
     "text": [
      "Validation Loss: 1.8602, Accuracy: 0.3491, F1 Score: 0.3424\n",
      "Epoch 9/10 - Train Loss: 1.6355, Val Loss: 1.8602, Acc: 0.3491, F1: 0.3424\n"
     ]
    },
    {
     "name": "stderr",
     "output_type": "stream",
     "text": [
      "Training: 100%|██████████| 4/4 [00:00<00:00, 21.06it/s]\n",
      "Validating: 100%|██████████| 79/79 [00:02<00:00, 31.60it/s]\n"
     ]
    },
    {
     "name": "stdout",
     "output_type": "stream",
     "text": [
      "Validation Loss: 1.8566, Accuracy: 0.3429, F1 Score: 0.3331\n",
      "Epoch 10/10 - Train Loss: 1.5712, Val Loss: 1.8566, Acc: 0.3429, F1: 0.3331\n",
      "Размер initial_train_dataset: 500\n"
     ]
    },
    {
     "name": "stderr",
     "output_type": "stream",
     "text": [
      "Training: 100%|██████████| 4/4 [00:00<00:00, 17.41it/s]\n",
      "Validating: 100%|██████████| 79/79 [00:02<00:00, 31.29it/s]\n"
     ]
    },
    {
     "name": "stdout",
     "output_type": "stream",
     "text": [
      "Validation Loss: 2.2548, Accuracy: 0.2070, F1 Score: 0.1430\n",
      "Epoch 1/10 - Train Loss: 2.3046, Val Loss: 2.2548, Acc: 0.2070, F1: 0.1430\n"
     ]
    },
    {
     "name": "stderr",
     "output_type": "stream",
     "text": [
      "Training: 100%|██████████| 4/4 [00:00<00:00, 20.16it/s]\n",
      "Validating: 100%|██████████| 79/79 [00:02<00:00, 31.44it/s]\n"
     ]
    },
    {
     "name": "stdout",
     "output_type": "stream",
     "text": [
      "Validation Loss: 2.1781, Accuracy: 0.2262, F1 Score: 0.1530\n",
      "Epoch 2/10 - Train Loss: 2.2001, Val Loss: 2.1781, Acc: 0.2262, F1: 0.1530\n"
     ]
    },
    {
     "name": "stderr",
     "output_type": "stream",
     "text": [
      "Training: 100%|██████████| 4/4 [00:00<00:00, 17.56it/s]\n",
      "Validating: 100%|██████████| 79/79 [00:02<00:00, 31.53it/s]\n"
     ]
    },
    {
     "name": "stdout",
     "output_type": "stream",
     "text": [
      "Validation Loss: 2.1035, Accuracy: 0.2430, F1 Score: 0.1876\n",
      "Epoch 3/10 - Train Loss: 2.0859, Val Loss: 2.1035, Acc: 0.2430, F1: 0.1876\n"
     ]
    },
    {
     "name": "stderr",
     "output_type": "stream",
     "text": [
      "Training: 100%|██████████| 4/4 [00:00<00:00, 15.22it/s]\n",
      "Validating: 100%|██████████| 79/79 [00:02<00:00, 32.13it/s]\n"
     ]
    },
    {
     "name": "stdout",
     "output_type": "stream",
     "text": [
      "Validation Loss: 2.0444, Accuracy: 0.2763, F1 Score: 0.2382\n",
      "Epoch 4/10 - Train Loss: 1.9912, Val Loss: 2.0444, Acc: 0.2763, F1: 0.2382\n"
     ]
    },
    {
     "name": "stderr",
     "output_type": "stream",
     "text": [
      "Training: 100%|██████████| 4/4 [00:00<00:00, 17.46it/s]\n",
      "Validating: 100%|██████████| 79/79 [00:02<00:00, 31.48it/s]\n"
     ]
    },
    {
     "name": "stdout",
     "output_type": "stream",
     "text": [
      "Validation Loss: 1.9917, Accuracy: 0.2960, F1 Score: 0.2662\n",
      "Epoch 5/10 - Train Loss: 1.9011, Val Loss: 1.9917, Acc: 0.2960, F1: 0.2662\n"
     ]
    },
    {
     "name": "stderr",
     "output_type": "stream",
     "text": [
      "Training: 100%|██████████| 4/4 [00:00<00:00, 17.88it/s]\n",
      "Validating: 100%|██████████| 79/79 [00:02<00:00, 30.78it/s]\n"
     ]
    },
    {
     "name": "stdout",
     "output_type": "stream",
     "text": [
      "Validation Loss: 1.9421, Accuracy: 0.3143, F1 Score: 0.2864\n",
      "Epoch 6/10 - Train Loss: 1.8301, Val Loss: 1.9421, Acc: 0.3143, F1: 0.2864\n"
     ]
    },
    {
     "name": "stderr",
     "output_type": "stream",
     "text": [
      "Training: 100%|██████████| 4/4 [00:00<00:00, 20.53it/s]\n",
      "Validating: 100%|██████████| 79/79 [00:02<00:00, 32.09it/s]\n"
     ]
    },
    {
     "name": "stdout",
     "output_type": "stream",
     "text": [
      "Validation Loss: 1.9247, Accuracy: 0.3133, F1 Score: 0.2922\n",
      "Epoch 7/10 - Train Loss: 1.7255, Val Loss: 1.9247, Acc: 0.3133, F1: 0.2922\n"
     ]
    },
    {
     "name": "stderr",
     "output_type": "stream",
     "text": [
      "Training: 100%|██████████| 4/4 [00:00<00:00, 18.40it/s]\n",
      "Validating: 100%|██████████| 79/79 [00:02<00:00, 31.23it/s]\n"
     ]
    },
    {
     "name": "stdout",
     "output_type": "stream",
     "text": [
      "Validation Loss: 1.8895, Accuracy: 0.3298, F1 Score: 0.3000\n",
      "Epoch 8/10 - Train Loss: 1.6818, Val Loss: 1.8895, Acc: 0.3298, F1: 0.3000\n"
     ]
    },
    {
     "name": "stderr",
     "output_type": "stream",
     "text": [
      "Training: 100%|██████████| 4/4 [00:00<00:00, 20.55it/s]\n",
      "Validating: 100%|██████████| 79/79 [00:02<00:00, 32.43it/s]\n"
     ]
    },
    {
     "name": "stdout",
     "output_type": "stream",
     "text": [
      "Validation Loss: 1.8631, Accuracy: 0.3435, F1 Score: 0.3345\n",
      "Epoch 9/10 - Train Loss: 1.5904, Val Loss: 1.8631, Acc: 0.3435, F1: 0.3345\n"
     ]
    },
    {
     "name": "stderr",
     "output_type": "stream",
     "text": [
      "Training: 100%|██████████| 4/4 [00:00<00:00, 13.84it/s]\n",
      "Validating: 100%|██████████| 79/79 [00:02<00:00, 32.32it/s]\n"
     ]
    },
    {
     "name": "stdout",
     "output_type": "stream",
     "text": [
      "Validation Loss: 1.8506, Accuracy: 0.3462, F1 Score: 0.3279\n",
      "Epoch 10/10 - Train Loss: 1.5350, Val Loss: 1.8506, Acc: 0.3462, F1: 0.3279\n",
      "f1 for random init: p = 0.01, f1 = 0.3300178962681018\n",
      "Размер initial_train_dataset: 5000\n"
     ]
    },
    {
     "name": "stderr",
     "output_type": "stream",
     "text": [
      "Training: 100%|██████████| 40/40 [00:01<00:00, 28.52it/s]\n",
      "Validating: 100%|██████████| 79/79 [00:01<00:00, 40.46it/s]\n"
     ]
    },
    {
     "name": "stdout",
     "output_type": "stream",
     "text": [
      "Validation Loss: 1.8780, Accuracy: 0.3196, F1 Score: 0.2843\n",
      "Epoch 1/10 - Train Loss: 2.0482, Val Loss: 1.8780, Acc: 0.3196, F1: 0.2843\n"
     ]
    },
    {
     "name": "stderr",
     "output_type": "stream",
     "text": [
      "Training: 100%|██████████| 40/40 [00:01<00:00, 28.18it/s]\n",
      "Validating: 100%|██████████| 79/79 [00:02<00:00, 35.62it/s]\n"
     ]
    },
    {
     "name": "stdout",
     "output_type": "stream",
     "text": [
      "Validation Loss: 1.7374, Accuracy: 0.3907, F1 Score: 0.3646\n",
      "Epoch 2/10 - Train Loss: 1.8178, Val Loss: 1.7374, Acc: 0.3907, F1: 0.3646\n"
     ]
    },
    {
     "name": "stderr",
     "output_type": "stream",
     "text": [
      "Training: 100%|██████████| 40/40 [00:01<00:00, 22.90it/s]\n",
      "Validating: 100%|██████████| 79/79 [00:01<00:00, 41.16it/s]\n"
     ]
    },
    {
     "name": "stdout",
     "output_type": "stream",
     "text": [
      "Validation Loss: 1.5897, Accuracy: 0.4396, F1 Score: 0.4288\n",
      "Epoch 3/10 - Train Loss: 1.6415, Val Loss: 1.5897, Acc: 0.4396, F1: 0.4288\n"
     ]
    },
    {
     "name": "stderr",
     "output_type": "stream",
     "text": [
      "Training: 100%|██████████| 40/40 [00:01<00:00, 29.69it/s]\n",
      "Validating: 100%|██████████| 79/79 [00:02<00:00, 35.63it/s]\n"
     ]
    },
    {
     "name": "stdout",
     "output_type": "stream",
     "text": [
      "Validation Loss: 1.4945, Accuracy: 0.4800, F1 Score: 0.4776\n",
      "Epoch 4/10 - Train Loss: 1.5374, Val Loss: 1.4945, Acc: 0.4800, F1: 0.4776\n"
     ]
    },
    {
     "name": "stderr",
     "output_type": "stream",
     "text": [
      "Training: 100%|██████████| 40/40 [00:01<00:00, 23.29it/s]\n",
      "Validating: 100%|██████████| 79/79 [00:01<00:00, 41.04it/s]\n"
     ]
    },
    {
     "name": "stdout",
     "output_type": "stream",
     "text": [
      "Validation Loss: 1.4446, Accuracy: 0.4834, F1 Score: 0.4829\n",
      "Epoch 5/10 - Train Loss: 1.4390, Val Loss: 1.4446, Acc: 0.4834, F1: 0.4829\n"
     ]
    },
    {
     "name": "stderr",
     "output_type": "stream",
     "text": [
      "Training: 100%|██████████| 40/40 [00:01<00:00, 29.18it/s]\n",
      "Validating: 100%|██████████| 79/79 [00:02<00:00, 37.01it/s]\n"
     ]
    },
    {
     "name": "stdout",
     "output_type": "stream",
     "text": [
      "Validation Loss: 1.4211, Accuracy: 0.5004, F1 Score: 0.4911\n",
      "Epoch 6/10 - Train Loss: 1.3800, Val Loss: 1.4211, Acc: 0.5004, F1: 0.4911\n"
     ]
    },
    {
     "name": "stderr",
     "output_type": "stream",
     "text": [
      "Training: 100%|██████████| 40/40 [00:01<00:00, 23.41it/s]\n",
      "Validating: 100%|██████████| 79/79 [00:01<00:00, 40.31it/s]\n"
     ]
    },
    {
     "name": "stdout",
     "output_type": "stream",
     "text": [
      "Validation Loss: 1.3758, Accuracy: 0.5120, F1 Score: 0.5111\n",
      "Epoch 7/10 - Train Loss: 1.3350, Val Loss: 1.3758, Acc: 0.5120, F1: 0.5111\n"
     ]
    },
    {
     "name": "stderr",
     "output_type": "stream",
     "text": [
      "Training: 100%|██████████| 40/40 [00:01<00:00, 29.05it/s]\n",
      "Validating: 100%|██████████| 79/79 [00:02<00:00, 35.20it/s]\n"
     ]
    },
    {
     "name": "stdout",
     "output_type": "stream",
     "text": [
      "Validation Loss: 1.3489, Accuracy: 0.5175, F1 Score: 0.5122\n",
      "Epoch 8/10 - Train Loss: 1.2899, Val Loss: 1.3489, Acc: 0.5175, F1: 0.5122\n"
     ]
    },
    {
     "name": "stderr",
     "output_type": "stream",
     "text": [
      "Training: 100%|██████████| 40/40 [00:01<00:00, 22.98it/s]\n",
      "Validating: 100%|██████████| 79/79 [00:02<00:00, 39.27it/s]\n"
     ]
    },
    {
     "name": "stdout",
     "output_type": "stream",
     "text": [
      "Validation Loss: 1.3809, Accuracy: 0.4964, F1 Score: 0.4975\n",
      "Epoch 9/10 - Train Loss: 1.2348, Val Loss: 1.3809, Acc: 0.4964, F1: 0.4975\n"
     ]
    },
    {
     "name": "stderr",
     "output_type": "stream",
     "text": [
      "Training: 100%|██████████| 40/40 [00:01<00:00, 24.45it/s]\n",
      "Validating: 100%|██████████| 79/79 [00:02<00:00, 39.03it/s]\n"
     ]
    },
    {
     "name": "stdout",
     "output_type": "stream",
     "text": [
      "Validation Loss: 1.3296, Accuracy: 0.5196, F1 Score: 0.5115\n",
      "Epoch 10/10 - Train Loss: 1.2182, Val Loss: 1.3296, Acc: 0.5196, F1: 0.5115\n",
      "Размер initial_train_dataset: 5000\n"
     ]
    },
    {
     "name": "stderr",
     "output_type": "stream",
     "text": [
      "Training: 100%|██████████| 40/40 [00:01<00:00, 24.97it/s]\n",
      "Validating: 100%|██████████| 79/79 [00:02<00:00, 38.75it/s]\n"
     ]
    },
    {
     "name": "stdout",
     "output_type": "stream",
     "text": [
      "Validation Loss: 1.8678, Accuracy: 0.3508, F1 Score: 0.3299\n",
      "Epoch 1/10 - Train Loss: 2.0431, Val Loss: 1.8678, Acc: 0.3508, F1: 0.3299\n"
     ]
    },
    {
     "name": "stderr",
     "output_type": "stream",
     "text": [
      "Training: 100%|██████████| 40/40 [00:01<00:00, 25.30it/s]\n",
      "Validating: 100%|██████████| 79/79 [00:01<00:00, 40.68it/s]\n"
     ]
    },
    {
     "name": "stdout",
     "output_type": "stream",
     "text": [
      "Validation Loss: 1.6757, Accuracy: 0.4171, F1 Score: 0.3973\n",
      "Epoch 2/10 - Train Loss: 1.7751, Val Loss: 1.6757, Acc: 0.4171, F1: 0.3973\n"
     ]
    },
    {
     "name": "stderr",
     "output_type": "stream",
     "text": [
      "Training: 100%|██████████| 40/40 [00:01<00:00, 26.06it/s]\n",
      "Validating: 100%|██████████| 79/79 [00:01<00:00, 40.71it/s]\n"
     ]
    },
    {
     "name": "stdout",
     "output_type": "stream",
     "text": [
      "Validation Loss: 1.5840, Accuracy: 0.4451, F1 Score: 0.4335\n",
      "Epoch 3/10 - Train Loss: 1.6101, Val Loss: 1.5840, Acc: 0.4451, F1: 0.4335\n"
     ]
    },
    {
     "name": "stderr",
     "output_type": "stream",
     "text": [
      "Training: 100%|██████████| 40/40 [00:01<00:00, 28.52it/s]\n",
      "Validating: 100%|██████████| 79/79 [00:02<00:00, 36.25it/s]\n"
     ]
    },
    {
     "name": "stdout",
     "output_type": "stream",
     "text": [
      "Validation Loss: 1.5232, Accuracy: 0.4606, F1 Score: 0.4469\n",
      "Epoch 4/10 - Train Loss: 1.5111, Val Loss: 1.5232, Acc: 0.4606, F1: 0.4469\n"
     ]
    },
    {
     "name": "stderr",
     "output_type": "stream",
     "text": [
      "Training: 100%|██████████| 40/40 [00:01<00:00, 22.77it/s]\n",
      "Validating: 100%|██████████| 79/79 [00:01<00:00, 41.31it/s]\n"
     ]
    },
    {
     "name": "stdout",
     "output_type": "stream",
     "text": [
      "Validation Loss: 1.4593, Accuracy: 0.4812, F1 Score: 0.4658\n",
      "Epoch 5/10 - Train Loss: 1.4265, Val Loss: 1.4593, Acc: 0.4812, F1: 0.4658\n"
     ]
    },
    {
     "name": "stderr",
     "output_type": "stream",
     "text": [
      "Training: 100%|██████████| 40/40 [00:01<00:00, 29.12it/s]\n",
      "Validating: 100%|██████████| 79/79 [00:02<00:00, 36.14it/s]\n"
     ]
    },
    {
     "name": "stdout",
     "output_type": "stream",
     "text": [
      "Validation Loss: 1.4034, Accuracy: 0.5037, F1 Score: 0.4927\n",
      "Epoch 6/10 - Train Loss: 1.3538, Val Loss: 1.4034, Acc: 0.5037, F1: 0.4927\n"
     ]
    },
    {
     "name": "stderr",
     "output_type": "stream",
     "text": [
      "Training: 100%|██████████| 40/40 [00:01<00:00, 23.32it/s]\n",
      "Validating: 100%|██████████| 79/79 [00:01<00:00, 40.89it/s]\n"
     ]
    },
    {
     "name": "stdout",
     "output_type": "stream",
     "text": [
      "Validation Loss: 1.3791, Accuracy: 0.5079, F1 Score: 0.5017\n",
      "Epoch 7/10 - Train Loss: 1.3035, Val Loss: 1.3791, Acc: 0.5079, F1: 0.5017\n"
     ]
    },
    {
     "name": "stderr",
     "output_type": "stream",
     "text": [
      "Training: 100%|██████████| 40/40 [00:01<00:00, 29.02it/s]\n",
      "Validating: 100%|██████████| 79/79 [00:02<00:00, 35.84it/s]\n"
     ]
    },
    {
     "name": "stdout",
     "output_type": "stream",
     "text": [
      "Validation Loss: 1.3704, Accuracy: 0.5140, F1 Score: 0.5086\n",
      "Epoch 8/10 - Train Loss: 1.2498, Val Loss: 1.3704, Acc: 0.5140, F1: 0.5086\n"
     ]
    },
    {
     "name": "stderr",
     "output_type": "stream",
     "text": [
      "Training: 100%|██████████| 40/40 [00:01<00:00, 23.64it/s]\n",
      "Validating: 100%|██████████| 79/79 [00:01<00:00, 41.17it/s]\n"
     ]
    },
    {
     "name": "stdout",
     "output_type": "stream",
     "text": [
      "Validation Loss: 1.3492, Accuracy: 0.5208, F1 Score: 0.5184\n",
      "Epoch 9/10 - Train Loss: 1.2178, Val Loss: 1.3492, Acc: 0.5208, F1: 0.5184\n"
     ]
    },
    {
     "name": "stderr",
     "output_type": "stream",
     "text": [
      "Training: 100%|██████████| 40/40 [00:01<00:00, 29.06it/s]\n",
      "Validating: 100%|██████████| 79/79 [00:02<00:00, 35.30it/s]\n"
     ]
    },
    {
     "name": "stdout",
     "output_type": "stream",
     "text": [
      "Validation Loss: 1.3543, Accuracy: 0.5182, F1 Score: 0.5013\n",
      "Epoch 10/10 - Train Loss: 1.1655, Val Loss: 1.3543, Acc: 0.5182, F1: 0.5013\n",
      "Размер initial_train_dataset: 5000\n"
     ]
    },
    {
     "name": "stderr",
     "output_type": "stream",
     "text": [
      "Training: 100%|██████████| 40/40 [00:01<00:00, 22.99it/s]\n",
      "Validating: 100%|██████████| 79/79 [00:01<00:00, 41.00it/s]\n"
     ]
    },
    {
     "name": "stdout",
     "output_type": "stream",
     "text": [
      "Validation Loss: 1.8388, Accuracy: 0.3622, F1 Score: 0.3435\n",
      "Epoch 1/10 - Train Loss: 2.0352, Val Loss: 1.8388, Acc: 0.3622, F1: 0.3435\n"
     ]
    },
    {
     "name": "stderr",
     "output_type": "stream",
     "text": [
      "Training: 100%|██████████| 40/40 [00:01<00:00, 28.96it/s]\n",
      "Validating: 100%|██████████| 79/79 [00:02<00:00, 37.23it/s]\n"
     ]
    },
    {
     "name": "stdout",
     "output_type": "stream",
     "text": [
      "Validation Loss: 1.7060, Accuracy: 0.3986, F1 Score: 0.3799\n",
      "Epoch 2/10 - Train Loss: 1.7576, Val Loss: 1.7060, Acc: 0.3986, F1: 0.3799\n"
     ]
    },
    {
     "name": "stderr",
     "output_type": "stream",
     "text": [
      "Training: 100%|██████████| 40/40 [00:01<00:00, 23.15it/s]\n",
      "Validating: 100%|██████████| 79/79 [00:01<00:00, 40.52it/s]\n"
     ]
    },
    {
     "name": "stdout",
     "output_type": "stream",
     "text": [
      "Validation Loss: 1.6118, Accuracy: 0.4357, F1 Score: 0.4318\n",
      "Epoch 3/10 - Train Loss: 1.6243, Val Loss: 1.6118, Acc: 0.4357, F1: 0.4318\n"
     ]
    },
    {
     "name": "stderr",
     "output_type": "stream",
     "text": [
      "Training: 100%|██████████| 40/40 [00:01<00:00, 28.49it/s]\n",
      "Validating: 100%|██████████| 79/79 [00:02<00:00, 34.65it/s]\n"
     ]
    },
    {
     "name": "stdout",
     "output_type": "stream",
     "text": [
      "Validation Loss: 1.5542, Accuracy: 0.4431, F1 Score: 0.4229\n",
      "Epoch 4/10 - Train Loss: 1.5288, Val Loss: 1.5542, Acc: 0.4431, F1: 0.4229\n"
     ]
    },
    {
     "name": "stderr",
     "output_type": "stream",
     "text": [
      "Training: 100%|██████████| 40/40 [00:01<00:00, 23.13it/s]\n",
      "Validating: 100%|██████████| 79/79 [00:02<00:00, 39.20it/s]\n"
     ]
    },
    {
     "name": "stdout",
     "output_type": "stream",
     "text": [
      "Validation Loss: 1.5087, Accuracy: 0.4603, F1 Score: 0.4445\n",
      "Epoch 5/10 - Train Loss: 1.4588, Val Loss: 1.5087, Acc: 0.4603, F1: 0.4445\n"
     ]
    },
    {
     "name": "stderr",
     "output_type": "stream",
     "text": [
      "Training: 100%|██████████| 40/40 [00:01<00:00, 25.73it/s]\n",
      "Validating: 100%|██████████| 79/79 [00:01<00:00, 40.70it/s]\n"
     ]
    },
    {
     "name": "stdout",
     "output_type": "stream",
     "text": [
      "Validation Loss: 1.4256, Accuracy: 0.4874, F1 Score: 0.4715\n",
      "Epoch 6/10 - Train Loss: 1.3845, Val Loss: 1.4256, Acc: 0.4874, F1: 0.4715\n"
     ]
    },
    {
     "name": "stderr",
     "output_type": "stream",
     "text": [
      "Training: 100%|██████████| 40/40 [00:01<00:00, 28.69it/s]\n",
      "Validating: 100%|██████████| 79/79 [00:02<00:00, 36.30it/s]\n"
     ]
    },
    {
     "name": "stdout",
     "output_type": "stream",
     "text": [
      "Validation Loss: 1.4434, Accuracy: 0.4705, F1 Score: 0.4540\n",
      "Epoch 7/10 - Train Loss: 1.3120, Val Loss: 1.4434, Acc: 0.4705, F1: 0.4540\n"
     ]
    },
    {
     "name": "stderr",
     "output_type": "stream",
     "text": [
      "Training: 100%|██████████| 40/40 [00:01<00:00, 23.55it/s]\n",
      "Validating: 100%|██████████| 79/79 [00:02<00:00, 38.37it/s]\n"
     ]
    },
    {
     "name": "stdout",
     "output_type": "stream",
     "text": [
      "Validation Loss: 1.3646, Accuracy: 0.5070, F1 Score: 0.4996\n",
      "Epoch 8/10 - Train Loss: 1.2817, Val Loss: 1.3646, Acc: 0.5070, F1: 0.4996\n"
     ]
    },
    {
     "name": "stderr",
     "output_type": "stream",
     "text": [
      "Training: 100%|██████████| 40/40 [00:01<00:00, 26.10it/s]\n",
      "Validating: 100%|██████████| 79/79 [00:02<00:00, 37.89it/s]\n"
     ]
    },
    {
     "name": "stdout",
     "output_type": "stream",
     "text": [
      "Validation Loss: 1.3604, Accuracy: 0.5163, F1 Score: 0.5086\n",
      "Epoch 9/10 - Train Loss: 1.2096, Val Loss: 1.3604, Acc: 0.5163, F1: 0.5086\n"
     ]
    },
    {
     "name": "stderr",
     "output_type": "stream",
     "text": [
      "Training: 100%|██████████| 40/40 [00:01<00:00, 28.43it/s]\n",
      "Validating: 100%|██████████| 79/79 [00:02<00:00, 35.35it/s]\n"
     ]
    },
    {
     "name": "stdout",
     "output_type": "stream",
     "text": [
      "Validation Loss: 1.3438, Accuracy: 0.5165, F1 Score: 0.5058\n",
      "Epoch 10/10 - Train Loss: 1.1730, Val Loss: 1.3438, Acc: 0.5165, F1: 0.5058\n",
      "Размер initial_train_dataset: 5000\n"
     ]
    },
    {
     "name": "stderr",
     "output_type": "stream",
     "text": [
      "Training: 100%|██████████| 40/40 [00:01<00:00, 23.07it/s]\n",
      "Validating: 100%|██████████| 79/79 [00:01<00:00, 40.84it/s]\n"
     ]
    },
    {
     "name": "stdout",
     "output_type": "stream",
     "text": [
      "Validation Loss: 1.8582, Accuracy: 0.3607, F1 Score: 0.3457\n",
      "Epoch 1/10 - Train Loss: 2.0594, Val Loss: 1.8582, Acc: 0.3607, F1: 0.3457\n"
     ]
    },
    {
     "name": "stderr",
     "output_type": "stream",
     "text": [
      "Training: 100%|██████████| 40/40 [00:01<00:00, 28.70it/s]\n",
      "Validating: 100%|██████████| 79/79 [00:02<00:00, 35.25it/s]\n"
     ]
    },
    {
     "name": "stdout",
     "output_type": "stream",
     "text": [
      "Validation Loss: 1.6834, Accuracy: 0.3948, F1 Score: 0.3637\n",
      "Epoch 2/10 - Train Loss: 1.7700, Val Loss: 1.6834, Acc: 0.3948, F1: 0.3637\n"
     ]
    },
    {
     "name": "stderr",
     "output_type": "stream",
     "text": [
      "Training: 100%|██████████| 40/40 [00:01<00:00, 23.35it/s]\n",
      "Validating: 100%|██████████| 79/79 [00:02<00:00, 38.76it/s]\n"
     ]
    },
    {
     "name": "stdout",
     "output_type": "stream",
     "text": [
      "Validation Loss: 1.5804, Accuracy: 0.4422, F1 Score: 0.4245\n",
      "Epoch 3/10 - Train Loss: 1.6231, Val Loss: 1.5804, Acc: 0.4422, F1: 0.4245\n"
     ]
    },
    {
     "name": "stderr",
     "output_type": "stream",
     "text": [
      "Training: 100%|██████████| 40/40 [00:01<00:00, 27.64it/s]\n",
      "Validating: 100%|██████████| 79/79 [00:02<00:00, 33.30it/s]\n"
     ]
    },
    {
     "name": "stdout",
     "output_type": "stream",
     "text": [
      "Validation Loss: 1.5290, Accuracy: 0.4478, F1 Score: 0.4255\n",
      "Epoch 4/10 - Train Loss: 1.5097, Val Loss: 1.5290, Acc: 0.4478, F1: 0.4255\n"
     ]
    },
    {
     "name": "stderr",
     "output_type": "stream",
     "text": [
      "Training: 100%|██████████| 40/40 [00:01<00:00, 23.98it/s]\n",
      "Validating: 100%|██████████| 79/79 [00:02<00:00, 39.32it/s]\n"
     ]
    },
    {
     "name": "stdout",
     "output_type": "stream",
     "text": [
      "Validation Loss: 1.5014, Accuracy: 0.4542, F1 Score: 0.4333\n",
      "Epoch 5/10 - Train Loss: 1.4511, Val Loss: 1.5014, Acc: 0.4542, F1: 0.4333\n"
     ]
    },
    {
     "name": "stderr",
     "output_type": "stream",
     "text": [
      "Training: 100%|██████████| 40/40 [00:01<00:00, 28.25it/s]\n",
      "Validating: 100%|██████████| 79/79 [00:01<00:00, 41.31it/s]\n"
     ]
    },
    {
     "name": "stdout",
     "output_type": "stream",
     "text": [
      "Validation Loss: 1.4231, Accuracy: 0.4906, F1 Score: 0.4780\n",
      "Epoch 6/10 - Train Loss: 1.3838, Val Loss: 1.4231, Acc: 0.4906, F1: 0.4780\n"
     ]
    },
    {
     "name": "stderr",
     "output_type": "stream",
     "text": [
      "Training: 100%|██████████| 40/40 [00:01<00:00, 35.11it/s]\n",
      "Validating: 100%|██████████| 79/79 [00:01<00:00, 40.19it/s]\n"
     ]
    },
    {
     "name": "stdout",
     "output_type": "stream",
     "text": [
      "Validation Loss: 1.4153, Accuracy: 0.4985, F1 Score: 0.4900\n",
      "Epoch 7/10 - Train Loss: 1.3017, Val Loss: 1.4153, Acc: 0.4985, F1: 0.4900\n"
     ]
    },
    {
     "name": "stderr",
     "output_type": "stream",
     "text": [
      "Training: 100%|██████████| 40/40 [00:01<00:00, 30.44it/s]\n",
      "Validating: 100%|██████████| 79/79 [00:02<00:00, 36.10it/s]\n"
     ]
    },
    {
     "name": "stdout",
     "output_type": "stream",
     "text": [
      "Validation Loss: 1.3728, Accuracy: 0.5130, F1 Score: 0.5071\n",
      "Epoch 8/10 - Train Loss: 1.2507, Val Loss: 1.3728, Acc: 0.5130, F1: 0.5071\n"
     ]
    },
    {
     "name": "stderr",
     "output_type": "stream",
     "text": [
      "Training: 100%|██████████| 40/40 [00:01<00:00, 25.71it/s]\n",
      "Validating: 100%|██████████| 79/79 [00:02<00:00, 37.90it/s]\n"
     ]
    },
    {
     "name": "stdout",
     "output_type": "stream",
     "text": [
      "Validation Loss: 1.3336, Accuracy: 0.5228, F1 Score: 0.5196\n",
      "Epoch 9/10 - Train Loss: 1.2344, Val Loss: 1.3336, Acc: 0.5228, F1: 0.5196\n"
     ]
    },
    {
     "name": "stderr",
     "output_type": "stream",
     "text": [
      "Training: 100%|██████████| 40/40 [00:01<00:00, 27.54it/s]\n",
      "Validating: 100%|██████████| 79/79 [00:02<00:00, 36.20it/s]\n"
     ]
    },
    {
     "name": "stdout",
     "output_type": "stream",
     "text": [
      "Validation Loss: 1.3436, Accuracy: 0.5152, F1 Score: 0.4983\n",
      "Epoch 10/10 - Train Loss: 1.1960, Val Loss: 1.3436, Acc: 0.5152, F1: 0.4983\n",
      "Размер initial_train_dataset: 5000\n"
     ]
    },
    {
     "name": "stderr",
     "output_type": "stream",
     "text": [
      "Training: 100%|██████████| 40/40 [00:01<00:00, 23.92it/s]\n",
      "Validating: 100%|██████████| 79/79 [00:02<00:00, 37.61it/s]\n"
     ]
    },
    {
     "name": "stdout",
     "output_type": "stream",
     "text": [
      "Validation Loss: 1.8516, Accuracy: 0.3548, F1 Score: 0.3285\n",
      "Epoch 1/10 - Train Loss: 2.0310, Val Loss: 1.8516, Acc: 0.3548, F1: 0.3285\n"
     ]
    },
    {
     "name": "stderr",
     "output_type": "stream",
     "text": [
      "Training: 100%|██████████| 40/40 [00:01<00:00, 29.31it/s]\n",
      "Validating: 100%|██████████| 79/79 [00:02<00:00, 35.40it/s]\n"
     ]
    },
    {
     "name": "stdout",
     "output_type": "stream",
     "text": [
      "Validation Loss: 1.6930, Accuracy: 0.4089, F1 Score: 0.3984\n",
      "Epoch 2/10 - Train Loss: 1.7691, Val Loss: 1.6930, Acc: 0.4089, F1: 0.3984\n"
     ]
    },
    {
     "name": "stderr",
     "output_type": "stream",
     "text": [
      "Training: 100%|██████████| 40/40 [00:01<00:00, 22.83it/s]\n",
      "Validating: 100%|██████████| 79/79 [00:01<00:00, 41.88it/s]\n"
     ]
    },
    {
     "name": "stdout",
     "output_type": "stream",
     "text": [
      "Validation Loss: 1.5664, Accuracy: 0.4443, F1 Score: 0.4391\n",
      "Epoch 3/10 - Train Loss: 1.5906, Val Loss: 1.5664, Acc: 0.4443, F1: 0.4391\n"
     ]
    },
    {
     "name": "stderr",
     "output_type": "stream",
     "text": [
      "Training: 100%|██████████| 40/40 [00:01<00:00, 29.24it/s]\n",
      "Validating: 100%|██████████| 79/79 [00:02<00:00, 35.34it/s]\n"
     ]
    },
    {
     "name": "stdout",
     "output_type": "stream",
     "text": [
      "Validation Loss: 1.5047, Accuracy: 0.4670, F1 Score: 0.4525\n",
      "Epoch 4/10 - Train Loss: 1.4964, Val Loss: 1.5047, Acc: 0.4670, F1: 0.4525\n"
     ]
    },
    {
     "name": "stderr",
     "output_type": "stream",
     "text": [
      "Training: 100%|██████████| 40/40 [00:01<00:00, 24.46it/s]\n",
      "Validating: 100%|██████████| 79/79 [00:02<00:00, 37.34it/s]\n"
     ]
    },
    {
     "name": "stdout",
     "output_type": "stream",
     "text": [
      "Validation Loss: 1.5155, Accuracy: 0.4602, F1 Score: 0.4563\n",
      "Epoch 5/10 - Train Loss: 1.4306, Val Loss: 1.5155, Acc: 0.4602, F1: 0.4563\n"
     ]
    },
    {
     "name": "stderr",
     "output_type": "stream",
     "text": [
      "Training: 100%|██████████| 40/40 [00:01<00:00, 27.44it/s]\n",
      "Validating: 100%|██████████| 79/79 [00:01<00:00, 41.24it/s]\n"
     ]
    },
    {
     "name": "stdout",
     "output_type": "stream",
     "text": [
      "Validation Loss: 1.4285, Accuracy: 0.4945, F1 Score: 0.4796\n",
      "Epoch 6/10 - Train Loss: 1.3477, Val Loss: 1.4285, Acc: 0.4945, F1: 0.4796\n"
     ]
    },
    {
     "name": "stderr",
     "output_type": "stream",
     "text": [
      "Training: 100%|██████████| 40/40 [00:01<00:00, 36.99it/s]\n",
      "Validating: 100%|██████████| 79/79 [00:02<00:00, 39.06it/s]\n"
     ]
    },
    {
     "name": "stdout",
     "output_type": "stream",
     "text": [
      "Validation Loss: 1.4087, Accuracy: 0.4969, F1 Score: 0.4760\n",
      "Epoch 7/10 - Train Loss: 1.3069, Val Loss: 1.4087, Acc: 0.4969, F1: 0.4760\n"
     ]
    },
    {
     "name": "stderr",
     "output_type": "stream",
     "text": [
      "Training: 100%|██████████| 40/40 [00:01<00:00, 37.53it/s]\n",
      "Validating: 100%|██████████| 79/79 [00:01<00:00, 40.20it/s]\n"
     ]
    },
    {
     "name": "stdout",
     "output_type": "stream",
     "text": [
      "Validation Loss: 1.3752, Accuracy: 0.5093, F1 Score: 0.4991\n",
      "Epoch 8/10 - Train Loss: 1.2430, Val Loss: 1.3752, Acc: 0.5093, F1: 0.4991\n"
     ]
    },
    {
     "name": "stderr",
     "output_type": "stream",
     "text": [
      "Training: 100%|██████████| 40/40 [00:01<00:00, 32.47it/s]\n",
      "Validating: 100%|██████████| 79/79 [00:02<00:00, 36.72it/s]\n"
     ]
    },
    {
     "name": "stdout",
     "output_type": "stream",
     "text": [
      "Validation Loss: 1.3503, Accuracy: 0.5278, F1 Score: 0.5202\n",
      "Epoch 9/10 - Train Loss: 1.1807, Val Loss: 1.3503, Acc: 0.5278, F1: 0.5202\n"
     ]
    },
    {
     "name": "stderr",
     "output_type": "stream",
     "text": [
      "Training: 100%|██████████| 40/40 [00:01<00:00, 34.26it/s]\n",
      "Validating: 100%|██████████| 79/79 [00:01<00:00, 43.23it/s]\n"
     ]
    },
    {
     "name": "stdout",
     "output_type": "stream",
     "text": [
      "Validation Loss: 1.3365, Accuracy: 0.5240, F1 Score: 0.5125\n",
      "Epoch 10/10 - Train Loss: 1.1650, Val Loss: 1.3365, Acc: 0.5240, F1: 0.5125\n",
      "f1 for random init: p = 0.1, f1 = 0.5058896323949587\n",
      "Размер initial_train_dataset: 10000\n"
     ]
    },
    {
     "name": "stderr",
     "output_type": "stream",
     "text": [
      "Training: 100%|██████████| 79/79 [00:02<00:00, 35.17it/s]\n",
      "Validating: 100%|██████████| 79/79 [00:02<00:00, 39.09it/s]\n"
     ]
    },
    {
     "name": "stdout",
     "output_type": "stream",
     "text": [
      "Validation Loss: 1.6509, Accuracy: 0.4204, F1 Score: 0.4005\n",
      "Epoch 1/10 - Train Loss: 1.8990, Val Loss: 1.6509, Acc: 0.4204, F1: 0.4005\n"
     ]
    },
    {
     "name": "stderr",
     "output_type": "stream",
     "text": [
      "Training: 100%|██████████| 79/79 [00:02<00:00, 28.80it/s]\n",
      "Validating: 100%|██████████| 79/79 [00:01<00:00, 40.64it/s]\n"
     ]
    },
    {
     "name": "stdout",
     "output_type": "stream",
     "text": [
      "Validation Loss: 1.4782, Accuracy: 0.4774, F1 Score: 0.4704\n",
      "Epoch 2/10 - Train Loss: 1.5539, Val Loss: 1.4782, Acc: 0.4774, F1: 0.4704\n"
     ]
    },
    {
     "name": "stderr",
     "output_type": "stream",
     "text": [
      "Training: 100%|██████████| 79/79 [00:02<00:00, 36.52it/s]\n",
      "Validating: 100%|██████████| 79/79 [00:01<00:00, 40.68it/s]\n"
     ]
    },
    {
     "name": "stdout",
     "output_type": "stream",
     "text": [
      "Validation Loss: 1.4118, Accuracy: 0.5035, F1 Score: 0.4879\n",
      "Epoch 3/10 - Train Loss: 1.4269, Val Loss: 1.4118, Acc: 0.5035, F1: 0.4879\n"
     ]
    },
    {
     "name": "stderr",
     "output_type": "stream",
     "text": [
      "Training: 100%|██████████| 79/79 [00:02<00:00, 30.05it/s]\n",
      "Validating: 100%|██████████| 79/79 [00:02<00:00, 35.69it/s]\n"
     ]
    },
    {
     "name": "stdout",
     "output_type": "stream",
     "text": [
      "Validation Loss: 1.3180, Accuracy: 0.5308, F1 Score: 0.5211\n",
      "Epoch 4/10 - Train Loss: 1.3414, Val Loss: 1.3180, Acc: 0.5308, F1: 0.5211\n"
     ]
    },
    {
     "name": "stderr",
     "output_type": "stream",
     "text": [
      "Training: 100%|██████████| 79/79 [00:02<00:00, 28.34it/s]\n",
      "Validating: 100%|██████████| 79/79 [00:02<00:00, 39.36it/s]\n"
     ]
    },
    {
     "name": "stdout",
     "output_type": "stream",
     "text": [
      "Validation Loss: 1.3082, Accuracy: 0.5450, F1 Score: 0.5339\n",
      "Epoch 5/10 - Train Loss: 1.2786, Val Loss: 1.3082, Acc: 0.5450, F1: 0.5339\n"
     ]
    },
    {
     "name": "stderr",
     "output_type": "stream",
     "text": [
      "Training: 100%|██████████| 79/79 [00:02<00:00, 27.75it/s]\n",
      "Validating: 100%|██████████| 79/79 [00:02<00:00, 35.53it/s]\n"
     ]
    },
    {
     "name": "stdout",
     "output_type": "stream",
     "text": [
      "Validation Loss: 1.2454, Accuracy: 0.5619, F1 Score: 0.5518\n",
      "Epoch 6/10 - Train Loss: 1.2195, Val Loss: 1.2454, Acc: 0.5619, F1: 0.5518\n"
     ]
    },
    {
     "name": "stderr",
     "output_type": "stream",
     "text": [
      "Training: 100%|██████████| 79/79 [00:02<00:00, 27.39it/s]\n",
      "Validating: 100%|██████████| 79/79 [00:01<00:00, 39.97it/s]\n"
     ]
    },
    {
     "name": "stdout",
     "output_type": "stream",
     "text": [
      "Validation Loss: 1.2342, Accuracy: 0.5607, F1 Score: 0.5481\n",
      "Epoch 7/10 - Train Loss: 1.1741, Val Loss: 1.2342, Acc: 0.5607, F1: 0.5481\n"
     ]
    },
    {
     "name": "stderr",
     "output_type": "stream",
     "text": [
      "Training: 100%|██████████| 79/79 [00:02<00:00, 27.99it/s]\n",
      "Validating: 100%|██████████| 79/79 [00:02<00:00, 35.82it/s]\n"
     ]
    },
    {
     "name": "stdout",
     "output_type": "stream",
     "text": [
      "Validation Loss: 1.1944, Accuracy: 0.5736, F1 Score: 0.5707\n",
      "Epoch 8/10 - Train Loss: 1.1257, Val Loss: 1.1944, Acc: 0.5736, F1: 0.5707\n"
     ]
    },
    {
     "name": "stderr",
     "output_type": "stream",
     "text": [
      "Training: 100%|██████████| 79/79 [00:02<00:00, 27.85it/s]\n",
      "Validating: 100%|██████████| 79/79 [00:02<00:00, 38.86it/s]\n"
     ]
    },
    {
     "name": "stdout",
     "output_type": "stream",
     "text": [
      "Validation Loss: 1.1721, Accuracy: 0.5815, F1 Score: 0.5733\n",
      "Epoch 9/10 - Train Loss: 1.0838, Val Loss: 1.1721, Acc: 0.5815, F1: 0.5733\n"
     ]
    },
    {
     "name": "stderr",
     "output_type": "stream",
     "text": [
      "Training: 100%|██████████| 79/79 [00:02<00:00, 27.77it/s]\n",
      "Validating: 100%|██████████| 79/79 [00:02<00:00, 34.68it/s]\n"
     ]
    },
    {
     "name": "stdout",
     "output_type": "stream",
     "text": [
      "Validation Loss: 1.1606, Accuracy: 0.5862, F1 Score: 0.5768\n",
      "Epoch 10/10 - Train Loss: 1.0469, Val Loss: 1.1606, Acc: 0.5862, F1: 0.5768\n",
      "Размер initial_train_dataset: 10000\n"
     ]
    },
    {
     "name": "stderr",
     "output_type": "stream",
     "text": [
      "Training: 100%|██████████| 79/79 [00:02<00:00, 28.26it/s]\n",
      "Validating: 100%|██████████| 79/79 [00:02<00:00, 38.95it/s]\n"
     ]
    },
    {
     "name": "stdout",
     "output_type": "stream",
     "text": [
      "Validation Loss: 1.6276, Accuracy: 0.4205, F1 Score: 0.3966\n",
      "Epoch 1/10 - Train Loss: 1.8628, Val Loss: 1.6276, Acc: 0.4205, F1: 0.3966\n"
     ]
    },
    {
     "name": "stderr",
     "output_type": "stream",
     "text": [
      "Training: 100%|██████████| 79/79 [00:02<00:00, 31.81it/s]\n",
      "Validating: 100%|██████████| 79/79 [00:01<00:00, 41.78it/s]\n"
     ]
    },
    {
     "name": "stdout",
     "output_type": "stream",
     "text": [
      "Validation Loss: 1.4409, Accuracy: 0.4920, F1 Score: 0.4825\n",
      "Epoch 2/10 - Train Loss: 1.5135, Val Loss: 1.4409, Acc: 0.4920, F1: 0.4825\n"
     ]
    },
    {
     "name": "stderr",
     "output_type": "stream",
     "text": [
      "Training: 100%|██████████| 79/79 [00:02<00:00, 33.93it/s]\n",
      "Validating: 100%|██████████| 79/79 [00:02<00:00, 39.27it/s]\n"
     ]
    },
    {
     "name": "stdout",
     "output_type": "stream",
     "text": [
      "Validation Loss: 1.3720, Accuracy: 0.5108, F1 Score: 0.4982\n",
      "Epoch 3/10 - Train Loss: 1.3797, Val Loss: 1.3720, Acc: 0.5108, F1: 0.4982\n"
     ]
    },
    {
     "name": "stderr",
     "output_type": "stream",
     "text": [
      "Training: 100%|██████████| 79/79 [00:02<00:00, 27.71it/s]\n",
      "Validating: 100%|██████████| 79/79 [00:02<00:00, 35.80it/s]\n"
     ]
    },
    {
     "name": "stdout",
     "output_type": "stream",
     "text": [
      "Validation Loss: 1.3033, Accuracy: 0.5384, F1 Score: 0.5304\n",
      "Epoch 4/10 - Train Loss: 1.3003, Val Loss: 1.3033, Acc: 0.5384, F1: 0.5304\n"
     ]
    },
    {
     "name": "stderr",
     "output_type": "stream",
     "text": [
      "Training: 100%|██████████| 79/79 [00:02<00:00, 28.11it/s]\n",
      "Validating: 100%|██████████| 79/79 [00:02<00:00, 39.06it/s]\n"
     ]
    },
    {
     "name": "stdout",
     "output_type": "stream",
     "text": [
      "Validation Loss: 1.2716, Accuracy: 0.5542, F1 Score: 0.5481\n",
      "Epoch 5/10 - Train Loss: 1.2283, Val Loss: 1.2716, Acc: 0.5542, F1: 0.5481\n"
     ]
    },
    {
     "name": "stderr",
     "output_type": "stream",
     "text": [
      "Training: 100%|██████████| 79/79 [00:02<00:00, 31.08it/s]\n",
      "Validating: 100%|██████████| 79/79 [00:01<00:00, 40.03it/s]\n"
     ]
    },
    {
     "name": "stdout",
     "output_type": "stream",
     "text": [
      "Validation Loss: 1.2159, Accuracy: 0.5744, F1 Score: 0.5666\n",
      "Epoch 6/10 - Train Loss: 1.1606, Val Loss: 1.2159, Acc: 0.5744, F1: 0.5666\n"
     ]
    },
    {
     "name": "stderr",
     "output_type": "stream",
     "text": [
      "Training: 100%|██████████| 79/79 [00:02<00:00, 31.66it/s]\n",
      "Validating: 100%|██████████| 79/79 [00:02<00:00, 35.73it/s]\n"
     ]
    },
    {
     "name": "stdout",
     "output_type": "stream",
     "text": [
      "Validation Loss: 1.1940, Accuracy: 0.5815, F1 Score: 0.5801\n",
      "Epoch 7/10 - Train Loss: 1.1221, Val Loss: 1.1940, Acc: 0.5815, F1: 0.5801\n"
     ]
    },
    {
     "name": "stderr",
     "output_type": "stream",
     "text": [
      "Training: 100%|██████████| 79/79 [00:02<00:00, 28.56it/s]\n",
      "Validating: 100%|██████████| 79/79 [00:02<00:00, 34.33it/s]\n"
     ]
    },
    {
     "name": "stdout",
     "output_type": "stream",
     "text": [
      "Validation Loss: 1.1738, Accuracy: 0.5867, F1 Score: 0.5760\n",
      "Epoch 8/10 - Train Loss: 1.0788, Val Loss: 1.1738, Acc: 0.5867, F1: 0.5760\n"
     ]
    },
    {
     "name": "stderr",
     "output_type": "stream",
     "text": [
      "Training: 100%|██████████| 79/79 [00:02<00:00, 28.53it/s]\n",
      "Validating: 100%|██████████| 79/79 [00:02<00:00, 38.01it/s]\n"
     ]
    },
    {
     "name": "stdout",
     "output_type": "stream",
     "text": [
      "Validation Loss: 1.1908, Accuracy: 0.5740, F1 Score: 0.5636\n",
      "Epoch 9/10 - Train Loss: 1.0242, Val Loss: 1.1908, Acc: 0.5740, F1: 0.5636\n"
     ]
    },
    {
     "name": "stderr",
     "output_type": "stream",
     "text": [
      "Training: 100%|██████████| 79/79 [00:02<00:00, 27.23it/s]\n",
      "Validating: 100%|██████████| 79/79 [00:02<00:00, 35.04it/s]\n"
     ]
    },
    {
     "name": "stdout",
     "output_type": "stream",
     "text": [
      "Validation Loss: 1.1251, Accuracy: 0.6026, F1 Score: 0.5968\n",
      "Epoch 10/10 - Train Loss: 0.9901, Val Loss: 1.1251, Acc: 0.6026, F1: 0.5968\n",
      "Размер initial_train_dataset: 10000\n"
     ]
    },
    {
     "name": "stderr",
     "output_type": "stream",
     "text": [
      "Training: 100%|██████████| 79/79 [00:02<00:00, 27.41it/s]\n",
      "Validating: 100%|██████████| 79/79 [00:02<00:00, 37.96it/s]\n"
     ]
    },
    {
     "name": "stdout",
     "output_type": "stream",
     "text": [
      "Validation Loss: 1.6409, Accuracy: 0.4155, F1 Score: 0.3925\n",
      "Epoch 1/10 - Train Loss: 1.8956, Val Loss: 1.6409, Acc: 0.4155, F1: 0.3925\n"
     ]
    },
    {
     "name": "stderr",
     "output_type": "stream",
     "text": [
      "Training: 100%|██████████| 79/79 [00:02<00:00, 28.67it/s]\n",
      "Validating: 100%|██████████| 79/79 [00:02<00:00, 33.32it/s]\n"
     ]
    },
    {
     "name": "stdout",
     "output_type": "stream",
     "text": [
      "Validation Loss: 1.4885, Accuracy: 0.4714, F1 Score: 0.4576\n",
      "Epoch 2/10 - Train Loss: 1.5485, Val Loss: 1.4885, Acc: 0.4714, F1: 0.4576\n"
     ]
    },
    {
     "name": "stderr",
     "output_type": "stream",
     "text": [
      "Training: 100%|██████████| 79/79 [00:02<00:00, 28.11it/s]\n",
      "Validating: 100%|██████████| 79/79 [00:02<00:00, 36.94it/s]\n"
     ]
    },
    {
     "name": "stdout",
     "output_type": "stream",
     "text": [
      "Validation Loss: 1.3914, Accuracy: 0.5046, F1 Score: 0.4839\n",
      "Epoch 3/10 - Train Loss: 1.4142, Val Loss: 1.3914, Acc: 0.5046, F1: 0.4839\n"
     ]
    },
    {
     "name": "stderr",
     "output_type": "stream",
     "text": [
      "Training: 100%|██████████| 79/79 [00:02<00:00, 27.30it/s]\n",
      "Validating: 100%|██████████| 79/79 [00:02<00:00, 33.13it/s]\n"
     ]
    },
    {
     "name": "stdout",
     "output_type": "stream",
     "text": [
      "Validation Loss: 1.3270, Accuracy: 0.5268, F1 Score: 0.5204\n",
      "Epoch 4/10 - Train Loss: 1.3136, Val Loss: 1.3270, Acc: 0.5268, F1: 0.5204\n"
     ]
    },
    {
     "name": "stderr",
     "output_type": "stream",
     "text": [
      "Training: 100%|██████████| 79/79 [00:02<00:00, 29.28it/s]\n",
      "Validating: 100%|██████████| 79/79 [00:02<00:00, 38.03it/s]\n"
     ]
    },
    {
     "name": "stdout",
     "output_type": "stream",
     "text": [
      "Validation Loss: 1.2760, Accuracy: 0.5516, F1 Score: 0.5471\n",
      "Epoch 5/10 - Train Loss: 1.2513, Val Loss: 1.2760, Acc: 0.5516, F1: 0.5471\n"
     ]
    },
    {
     "name": "stderr",
     "output_type": "stream",
     "text": [
      "Training: 100%|██████████| 79/79 [00:02<00:00, 29.47it/s]\n",
      "Validating: 100%|██████████| 79/79 [00:02<00:00, 38.30it/s]\n"
     ]
    },
    {
     "name": "stdout",
     "output_type": "stream",
     "text": [
      "Validation Loss: 1.2446, Accuracy: 0.5591, F1 Score: 0.5516\n",
      "Epoch 6/10 - Train Loss: 1.1880, Val Loss: 1.2446, Acc: 0.5591, F1: 0.5516\n"
     ]
    },
    {
     "name": "stderr",
     "output_type": "stream",
     "text": [
      "Training: 100%|██████████| 79/79 [00:02<00:00, 28.26it/s]\n",
      "Validating: 100%|██████████| 79/79 [00:02<00:00, 33.83it/s]\n"
     ]
    },
    {
     "name": "stdout",
     "output_type": "stream",
     "text": [
      "Validation Loss: 1.2099, Accuracy: 0.5717, F1 Score: 0.5641\n",
      "Epoch 7/10 - Train Loss: 1.1277, Val Loss: 1.2099, Acc: 0.5717, F1: 0.5641\n"
     ]
    },
    {
     "name": "stderr",
     "output_type": "stream",
     "text": [
      "Training: 100%|██████████| 79/79 [00:02<00:00, 28.81it/s]\n",
      "Validating: 100%|██████████| 79/79 [00:02<00:00, 38.27it/s]\n"
     ]
    },
    {
     "name": "stdout",
     "output_type": "stream",
     "text": [
      "Validation Loss: 1.1834, Accuracy: 0.5843, F1 Score: 0.5734\n",
      "Epoch 8/10 - Train Loss: 1.0748, Val Loss: 1.1834, Acc: 0.5843, F1: 0.5734\n"
     ]
    },
    {
     "name": "stderr",
     "output_type": "stream",
     "text": [
      "Training: 100%|██████████| 79/79 [00:02<00:00, 27.78it/s]\n",
      "Validating: 100%|██████████| 79/79 [00:02<00:00, 32.21it/s]\n"
     ]
    },
    {
     "name": "stdout",
     "output_type": "stream",
     "text": [
      "Validation Loss: 1.1731, Accuracy: 0.5874, F1 Score: 0.5841\n",
      "Epoch 9/10 - Train Loss: 1.0338, Val Loss: 1.1731, Acc: 0.5874, F1: 0.5841\n"
     ]
    },
    {
     "name": "stderr",
     "output_type": "stream",
     "text": [
      "Training: 100%|██████████| 79/79 [00:02<00:00, 28.76it/s]\n",
      "Validating: 100%|██████████| 79/79 [00:02<00:00, 37.53it/s]\n"
     ]
    },
    {
     "name": "stdout",
     "output_type": "stream",
     "text": [
      "Validation Loss: 1.1820, Accuracy: 0.5829, F1 Score: 0.5776\n",
      "Epoch 10/10 - Train Loss: 1.0120, Val Loss: 1.1820, Acc: 0.5829, F1: 0.5776\n",
      "Размер initial_train_dataset: 10000\n"
     ]
    },
    {
     "name": "stderr",
     "output_type": "stream",
     "text": [
      "Training: 100%|██████████| 79/79 [00:02<00:00, 27.78it/s]\n",
      "Validating: 100%|██████████| 79/79 [00:02<00:00, 34.99it/s]\n"
     ]
    },
    {
     "name": "stdout",
     "output_type": "stream",
     "text": [
      "Validation Loss: 1.6606, Accuracy: 0.4210, F1 Score: 0.4030\n",
      "Epoch 1/10 - Train Loss: 1.8920, Val Loss: 1.6606, Acc: 0.4210, F1: 0.4030\n"
     ]
    },
    {
     "name": "stderr",
     "output_type": "stream",
     "text": [
      "Training: 100%|██████████| 79/79 [00:02<00:00, 29.55it/s]\n",
      "Validating: 100%|██████████| 79/79 [00:01<00:00, 40.77it/s]\n"
     ]
    },
    {
     "name": "stdout",
     "output_type": "stream",
     "text": [
      "Validation Loss: 1.4701, Accuracy: 0.4854, F1 Score: 0.4746\n",
      "Epoch 2/10 - Train Loss: 1.5657, Val Loss: 1.4701, Acc: 0.4854, F1: 0.4746\n"
     ]
    },
    {
     "name": "stderr",
     "output_type": "stream",
     "text": [
      "Training: 100%|██████████| 79/79 [00:02<00:00, 30.79it/s]\n",
      "Validating: 100%|██████████| 79/79 [00:02<00:00, 36.71it/s]\n"
     ]
    },
    {
     "name": "stdout",
     "output_type": "stream",
     "text": [
      "Validation Loss: 1.3911, Accuracy: 0.5054, F1 Score: 0.4943\n",
      "Epoch 3/10 - Train Loss: 1.4286, Val Loss: 1.3911, Acc: 0.5054, F1: 0.4943\n"
     ]
    },
    {
     "name": "stderr",
     "output_type": "stream",
     "text": [
      "Training: 100%|██████████| 79/79 [00:02<00:00, 29.40it/s]\n",
      "Validating: 100%|██████████| 79/79 [00:02<00:00, 38.05it/s]\n"
     ]
    },
    {
     "name": "stdout",
     "output_type": "stream",
     "text": [
      "Validation Loss: 1.3379, Accuracy: 0.5285, F1 Score: 0.5299\n",
      "Epoch 4/10 - Train Loss: 1.3404, Val Loss: 1.3379, Acc: 0.5285, F1: 0.5299\n"
     ]
    },
    {
     "name": "stderr",
     "output_type": "stream",
     "text": [
      "Training: 100%|██████████| 79/79 [00:02<00:00, 28.30it/s]\n",
      "Validating: 100%|██████████| 79/79 [00:02<00:00, 31.90it/s]\n"
     ]
    },
    {
     "name": "stdout",
     "output_type": "stream",
     "text": [
      "Validation Loss: 1.2735, Accuracy: 0.5481, F1 Score: 0.5422\n",
      "Epoch 5/10 - Train Loss: 1.2717, Val Loss: 1.2735, Acc: 0.5481, F1: 0.5422\n"
     ]
    },
    {
     "name": "stderr",
     "output_type": "stream",
     "text": [
      "Training: 100%|██████████| 79/79 [00:02<00:00, 29.34it/s]\n",
      "Validating: 100%|██████████| 79/79 [00:02<00:00, 38.27it/s]\n"
     ]
    },
    {
     "name": "stdout",
     "output_type": "stream",
     "text": [
      "Validation Loss: 1.2293, Accuracy: 0.5666, F1 Score: 0.5627\n",
      "Epoch 6/10 - Train Loss: 1.2054, Val Loss: 1.2293, Acc: 0.5666, F1: 0.5627\n"
     ]
    },
    {
     "name": "stderr",
     "output_type": "stream",
     "text": [
      "Training: 100%|██████████| 79/79 [00:02<00:00, 28.75it/s]\n",
      "Validating: 100%|██████████| 79/79 [00:02<00:00, 35.02it/s]\n"
     ]
    },
    {
     "name": "stdout",
     "output_type": "stream",
     "text": [
      "Validation Loss: 1.1967, Accuracy: 0.5777, F1 Score: 0.5701\n",
      "Epoch 7/10 - Train Loss: 1.1526, Val Loss: 1.1967, Acc: 0.5777, F1: 0.5701\n"
     ]
    },
    {
     "name": "stderr",
     "output_type": "stream",
     "text": [
      "Training: 100%|██████████| 79/79 [00:02<00:00, 28.78it/s]\n",
      "Validating: 100%|██████████| 79/79 [00:02<00:00, 38.65it/s]\n"
     ]
    },
    {
     "name": "stdout",
     "output_type": "stream",
     "text": [
      "Validation Loss: 1.1848, Accuracy: 0.5857, F1 Score: 0.5850\n",
      "Epoch 8/10 - Train Loss: 1.0948, Val Loss: 1.1848, Acc: 0.5857, F1: 0.5850\n"
     ]
    },
    {
     "name": "stderr",
     "output_type": "stream",
     "text": [
      "Training: 100%|██████████| 79/79 [00:02<00:00, 28.46it/s]\n",
      "Validating: 100%|██████████| 79/79 [00:02<00:00, 33.43it/s]\n"
     ]
    },
    {
     "name": "stdout",
     "output_type": "stream",
     "text": [
      "Validation Loss: 1.1481, Accuracy: 0.5969, F1 Score: 0.5948\n",
      "Epoch 9/10 - Train Loss: 1.0663, Val Loss: 1.1481, Acc: 0.5969, F1: 0.5948\n"
     ]
    },
    {
     "name": "stderr",
     "output_type": "stream",
     "text": [
      "Training: 100%|██████████| 79/79 [00:02<00:00, 29.46it/s]\n",
      "Validating: 100%|██████████| 79/79 [00:02<00:00, 37.69it/s]\n"
     ]
    },
    {
     "name": "stdout",
     "output_type": "stream",
     "text": [
      "Validation Loss: 1.1289, Accuracy: 0.6040, F1 Score: 0.6002\n",
      "Epoch 10/10 - Train Loss: 1.0321, Val Loss: 1.1289, Acc: 0.6040, F1: 0.6002\n",
      "Размер initial_train_dataset: 10000\n"
     ]
    },
    {
     "name": "stderr",
     "output_type": "stream",
     "text": [
      "Training: 100%|██████████| 79/79 [00:02<00:00, 30.64it/s]\n",
      "Validating: 100%|██████████| 79/79 [00:02<00:00, 36.64it/s]\n"
     ]
    },
    {
     "name": "stdout",
     "output_type": "stream",
     "text": [
      "Validation Loss: 1.6453, Accuracy: 0.4188, F1 Score: 0.3983\n",
      "Epoch 1/10 - Train Loss: 1.9104, Val Loss: 1.6453, Acc: 0.4188, F1: 0.3983\n"
     ]
    },
    {
     "name": "stderr",
     "output_type": "stream",
     "text": [
      "Training: 100%|██████████| 79/79 [00:02<00:00, 29.13it/s]\n",
      "Validating: 100%|██████████| 79/79 [00:02<00:00, 36.15it/s]\n"
     ]
    },
    {
     "name": "stdout",
     "output_type": "stream",
     "text": [
      "Validation Loss: 1.4814, Accuracy: 0.4807, F1 Score: 0.4715\n",
      "Epoch 2/10 - Train Loss: 1.5702, Val Loss: 1.4814, Acc: 0.4807, F1: 0.4715\n"
     ]
    },
    {
     "name": "stderr",
     "output_type": "stream",
     "text": [
      "Training: 100%|██████████| 79/79 [00:02<00:00, 28.02it/s]\n",
      "Validating: 100%|██████████| 79/79 [00:02<00:00, 37.20it/s]\n"
     ]
    },
    {
     "name": "stdout",
     "output_type": "stream",
     "text": [
      "Validation Loss: 1.3623, Accuracy: 0.5258, F1 Score: 0.5174\n",
      "Epoch 3/10 - Train Loss: 1.4122, Val Loss: 1.3623, Acc: 0.5258, F1: 0.5174\n"
     ]
    },
    {
     "name": "stderr",
     "output_type": "stream",
     "text": [
      "Training: 100%|██████████| 79/79 [00:02<00:00, 28.73it/s]\n",
      "Validating: 100%|██████████| 79/79 [00:02<00:00, 39.35it/s]\n"
     ]
    },
    {
     "name": "stdout",
     "output_type": "stream",
     "text": [
      "Validation Loss: 1.3244, Accuracy: 0.5348, F1 Score: 0.5281\n",
      "Epoch 4/10 - Train Loss: 1.3202, Val Loss: 1.3244, Acc: 0.5348, F1: 0.5281\n"
     ]
    },
    {
     "name": "stderr",
     "output_type": "stream",
     "text": [
      "Training: 100%|██████████| 79/79 [00:02<00:00, 28.71it/s]\n",
      "Validating: 100%|██████████| 79/79 [00:02<00:00, 36.81it/s]\n"
     ]
    },
    {
     "name": "stdout",
     "output_type": "stream",
     "text": [
      "Validation Loss: 1.2532, Accuracy: 0.5648, F1 Score: 0.5581\n",
      "Epoch 5/10 - Train Loss: 1.2505, Val Loss: 1.2532, Acc: 0.5648, F1: 0.5581\n"
     ]
    },
    {
     "name": "stderr",
     "output_type": "stream",
     "text": [
      "Training: 100%|██████████| 79/79 [00:02<00:00, 29.24it/s]\n",
      "Validating: 100%|██████████| 79/79 [00:01<00:00, 42.06it/s]\n"
     ]
    },
    {
     "name": "stdout",
     "output_type": "stream",
     "text": [
      "Validation Loss: 1.2329, Accuracy: 0.5599, F1 Score: 0.5490\n",
      "Epoch 6/10 - Train Loss: 1.1908, Val Loss: 1.2329, Acc: 0.5599, F1: 0.5490\n"
     ]
    },
    {
     "name": "stderr",
     "output_type": "stream",
     "text": [
      "Training: 100%|██████████| 79/79 [00:02<00:00, 34.19it/s]\n",
      "Validating: 100%|██████████| 79/79 [00:02<00:00, 39.02it/s]\n"
     ]
    },
    {
     "name": "stdout",
     "output_type": "stream",
     "text": [
      "Validation Loss: 1.2140, Accuracy: 0.5760, F1 Score: 0.5711\n",
      "Epoch 7/10 - Train Loss: 1.1446, Val Loss: 1.2140, Acc: 0.5760, F1: 0.5711\n"
     ]
    },
    {
     "name": "stderr",
     "output_type": "stream",
     "text": [
      "Training: 100%|██████████| 79/79 [00:02<00:00, 28.59it/s]\n",
      "Validating: 100%|██████████| 79/79 [00:01<00:00, 39.74it/s]\n"
     ]
    },
    {
     "name": "stdout",
     "output_type": "stream",
     "text": [
      "Validation Loss: 1.1873, Accuracy: 0.5865, F1 Score: 0.5771\n",
      "Epoch 8/10 - Train Loss: 1.0978, Val Loss: 1.1873, Acc: 0.5865, F1: 0.5771\n"
     ]
    },
    {
     "name": "stderr",
     "output_type": "stream",
     "text": [
      "Training: 100%|██████████| 79/79 [00:02<00:00, 28.04it/s]\n",
      "Validating: 100%|██████████| 79/79 [00:02<00:00, 33.24it/s]\n"
     ]
    },
    {
     "name": "stdout",
     "output_type": "stream",
     "text": [
      "Validation Loss: 1.1591, Accuracy: 0.5917, F1 Score: 0.5901\n",
      "Epoch 9/10 - Train Loss: 1.0477, Val Loss: 1.1591, Acc: 0.5917, F1: 0.5901\n"
     ]
    },
    {
     "name": "stderr",
     "output_type": "stream",
     "text": [
      "Training: 100%|██████████| 79/79 [00:02<00:00, 26.74it/s]\n",
      "Validating: 100%|██████████| 79/79 [00:01<00:00, 40.06it/s]"
     ]
    },
    {
     "name": "stdout",
     "output_type": "stream",
     "text": [
      "Validation Loss: 1.1449, Accuracy: 0.5939, F1 Score: 0.5856\n",
      "Epoch 10/10 - Train Loss: 1.0105, Val Loss: 1.1449, Acc: 0.5939, F1: 0.5856\n",
      "f1 for random init: p = 0.2, f1 = 0.5874035668971007\n"
     ]
    },
    {
     "name": "stderr",
     "output_type": "stream",
     "text": [
      "\n"
     ]
    }
   ],
   "source": [
    "\n",
    "\n",
    "val_dict = {}\n",
    "for p in [0.01, 0.1, 0.2]:\n",
    "\n",
    "    f1 = 0.0\n",
    "    for _ in range(5):\n",
    "\n",
    "        # Разделяем данные\n",
    "        initial_indices = []\n",
    "        pool_indices = []\n",
    "\n",
    "        for class_idx, indices in class_indices.items():\n",
    "            np.random.shuffle(indices)  # Перемешиваем индексы внутри класса\n",
    "            split_idx = int(len(indices) * p)  # Вычисляем границу разделения\n",
    "            initial_indices.extend(indices[:split_idx])\n",
    "        \n",
    "        initial_train_dataset = Subset(train_dataset, initial_indices)\n",
    "        print(f\"Размер initial_train_dataset: {len(initial_train_dataset)}\")\n",
    "        train_dataloader = DataLoader(initial_train_dataset, batch_size=128, shuffle=True)\n",
    "\n",
    "        model = SimpleCNN(NUM_CLASSES).to(DEVICE)\n",
    "        optimizer = optim.AdamW(model.parameters(), lr=learning_rate )\n",
    "        criterion = torch.nn.CrossEntropyLoss()\n",
    "        # scheduler = optim.lr_scheduler.ReduceLROnPlateau(optimizer, mode='min', factor=0.5, patience=5)\n",
    "        trainer = Trainer(model = model,\n",
    "                          optimizer=optimizer,\n",
    "                          pool_loader=None,\n",
    "                          criterion=criterion ,\n",
    "                          train_loader=train_dataloader,\n",
    "                          val_loader = val_dataloader,\n",
    "                          device=DEVICE)\n",
    "        trainer.fit(EPOCHS)\n",
    "        f1 += trainer.val_f1[-1]\n",
    "        del optimizer \n",
    "        del criterion\n",
    "        # del scheduler\n",
    "        del model\n",
    "        del trainer\n",
    "    f1 /= 5\n",
    "    val_dict[p] = f1\n",
    "    torch.cuda.empty_cache()\n",
    "    print(f\"f1 for random init: p = {p}, f1 = {val_dict[p]}\")\n",
    "\n",
    "\n",
    "\n"
   ]
  },
  {
   "cell_type": "code",
   "execution_count": 10,
   "metadata": {},
   "outputs": [
    {
     "data": {
      "text/plain": [
       "{0.01: 0.3300178962681018, 0.1: 0.5058896323949587, 0.2: 0.5874035668971007}"
      ]
     },
     "execution_count": 10,
     "metadata": {},
     "output_type": "execute_result"
    }
   ],
   "source": [
    "val_dict"
   ]
  },
  {
   "cell_type": "code",
   "execution_count": 11,
   "metadata": {},
   "outputs": [
    {
     "data": {
      "text/plain": [
       "50000"
      ]
     },
     "execution_count": 11,
     "metadata": {},
     "output_type": "execute_result"
    }
   ],
   "source": [
    "train_dataset.__len__()"
   ]
  },
  {
   "cell_type": "code",
   "execution_count": 12,
   "metadata": {},
   "outputs": [
    {
     "name": "stderr",
     "output_type": "stream",
     "text": [
      "Training: 100%|██████████| 391/391 [00:14<00:00, 27.33it/s]\n",
      "Validating: 100%|██████████| 79/79 [00:02<00:00, 33.06it/s]\n"
     ]
    },
    {
     "name": "stdout",
     "output_type": "stream",
     "text": [
      "Validation Loss: 1.2502, Accuracy: 0.5581, F1 Score: 0.5514\n",
      "Epoch 1/10 - Train Loss: 1.5355, Val Loss: 1.2502, Acc: 0.5581, F1: 0.5514\n"
     ]
    },
    {
     "name": "stderr",
     "output_type": "stream",
     "text": [
      "Training: 100%|██████████| 391/391 [00:13<00:00, 29.02it/s]\n",
      "Validating: 100%|██████████| 79/79 [00:02<00:00, 33.61it/s]\n"
     ]
    },
    {
     "name": "stdout",
     "output_type": "stream",
     "text": [
      "Validation Loss: 1.0909, Accuracy: 0.6258, F1 Score: 0.6226\n",
      "Epoch 2/10 - Train Loss: 1.2134, Val Loss: 1.0909, Acc: 0.6258, F1: 0.6226\n"
     ]
    },
    {
     "name": "stderr",
     "output_type": "stream",
     "text": [
      "Training: 100%|██████████| 391/391 [00:13<00:00, 27.95it/s]\n",
      "Validating: 100%|██████████| 79/79 [00:02<00:00, 31.25it/s]\n"
     ]
    },
    {
     "name": "stdout",
     "output_type": "stream",
     "text": [
      "Validation Loss: 1.0115, Accuracy: 0.6509, F1 Score: 0.6492\n",
      "Epoch 3/10 - Train Loss: 1.0873, Val Loss: 1.0115, Acc: 0.6509, F1: 0.6492\n"
     ]
    },
    {
     "name": "stderr",
     "output_type": "stream",
     "text": [
      "Training: 100%|██████████| 391/391 [00:13<00:00, 29.10it/s]\n",
      "Validating: 100%|██████████| 79/79 [00:02<00:00, 32.89it/s]\n"
     ]
    },
    {
     "name": "stdout",
     "output_type": "stream",
     "text": [
      "Validation Loss: 0.9557, Accuracy: 0.6693, F1 Score: 0.6674\n",
      "Epoch 4/10 - Train Loss: 0.9987, Val Loss: 0.9557, Acc: 0.6693, F1: 0.6674\n"
     ]
    },
    {
     "name": "stderr",
     "output_type": "stream",
     "text": [
      "Training: 100%|██████████| 391/391 [00:13<00:00, 29.00it/s]\n",
      "Validating: 100%|██████████| 79/79 [00:02<00:00, 34.67it/s]\n"
     ]
    },
    {
     "name": "stdout",
     "output_type": "stream",
     "text": [
      "Validation Loss: 0.9312, Accuracy: 0.6779, F1 Score: 0.6737\n",
      "Epoch 5/10 - Train Loss: 0.9361, Val Loss: 0.9312, Acc: 0.6779, F1: 0.6737\n"
     ]
    },
    {
     "name": "stderr",
     "output_type": "stream",
     "text": [
      "Training: 100%|██████████| 391/391 [00:13<00:00, 28.92it/s]\n",
      "Validating: 100%|██████████| 79/79 [00:02<00:00, 32.36it/s]\n"
     ]
    },
    {
     "name": "stdout",
     "output_type": "stream",
     "text": [
      "Validation Loss: 0.9127, Accuracy: 0.6847, F1 Score: 0.6839\n",
      "Epoch 6/10 - Train Loss: 0.8854, Val Loss: 0.9127, Acc: 0.6847, F1: 0.6839\n"
     ]
    },
    {
     "name": "stderr",
     "output_type": "stream",
     "text": [
      "Training: 100%|██████████| 391/391 [00:14<00:00, 27.83it/s]\n",
      "Validating: 100%|██████████| 79/79 [00:02<00:00, 27.33it/s]\n"
     ]
    },
    {
     "name": "stdout",
     "output_type": "stream",
     "text": [
      "Validation Loss: 0.8437, Accuracy: 0.7078, F1 Score: 0.7056\n",
      "Epoch 7/10 - Train Loss: 0.8399, Val Loss: 0.8437, Acc: 0.7078, F1: 0.7056\n"
     ]
    },
    {
     "name": "stderr",
     "output_type": "stream",
     "text": [
      "Training: 100%|██████████| 391/391 [00:12<00:00, 31.11it/s]\n",
      "Validating: 100%|██████████| 79/79 [00:02<00:00, 30.39it/s]\n"
     ]
    },
    {
     "name": "stdout",
     "output_type": "stream",
     "text": [
      "Validation Loss: 0.8329, Accuracy: 0.7041, F1 Score: 0.7030\n",
      "Epoch 8/10 - Train Loss: 0.8077, Val Loss: 0.8329, Acc: 0.7041, F1: 0.7030\n"
     ]
    },
    {
     "name": "stderr",
     "output_type": "stream",
     "text": [
      "Training: 100%|██████████| 391/391 [00:13<00:00, 28.53it/s]\n",
      "Validating: 100%|██████████| 79/79 [00:02<00:00, 30.11it/s]\n"
     ]
    },
    {
     "name": "stdout",
     "output_type": "stream",
     "text": [
      "Validation Loss: 0.8247, Accuracy: 0.7135, F1 Score: 0.7079\n",
      "Epoch 9/10 - Train Loss: 0.7700, Val Loss: 0.8247, Acc: 0.7135, F1: 0.7079\n"
     ]
    },
    {
     "name": "stderr",
     "output_type": "stream",
     "text": [
      "Training: 100%|██████████| 391/391 [00:12<00:00, 30.92it/s]\n",
      "Validating: 100%|██████████| 79/79 [00:02<00:00, 33.29it/s]"
     ]
    },
    {
     "name": "stdout",
     "output_type": "stream",
     "text": [
      "Validation Loss: 0.8003, Accuracy: 0.7251, F1 Score: 0.7231\n",
      "Epoch 10/10 - Train Loss: 0.7338, Val Loss: 0.8003, Acc: 0.7251, F1: 0.7231\n"
     ]
    },
    {
     "name": "stderr",
     "output_type": "stream",
     "text": [
      "\n"
     ]
    }
   ],
   "source": [
    "train_dataloader = DataLoader(train_dataset, batch_size=128, shuffle=True)\n",
    "model = SimpleCNN(NUM_CLASSES).to(DEVICE)\n",
    "optimizer = optim.AdamW(model.parameters(), lr=5e-4 )\n",
    "criterion = torch.nn.CrossEntropyLoss()\n",
    "scheduler = optim.lr_scheduler.ReduceLROnPlateau(optimizer, mode='min', factor=0.5, patience=5)\n",
    "trainer = Trainer(model = model,\n",
    "                  optimizer=optimizer,\n",
    "                  pool_loader=None,\n",
    "                  criterion=criterion ,\n",
    "                  train_loader=train_dataloader,\n",
    "                  val_loader = val_dataloader,\n",
    "                  device=DEVICE,\n",
    "                  scheduler=scheduler)\n",
    "trainer.fit(EPOCHS)\n"
   ]
  },
  {
   "cell_type": "code",
   "execution_count": 13,
   "metadata": {},
   "outputs": [],
   "source": [
    "val_dict[1.0] = max(trainer.val_f1)"
   ]
  },
  {
   "cell_type": "code",
   "execution_count": 14,
   "metadata": {},
   "outputs": [
    {
     "data": {
      "text/plain": [
       "{'random': {0.01: 0.3300178962681018,\n",
       "  0.1: 0.5058896323949587,\n",
       "  0.2: 0.5874035668971007,\n",
       "  1.0: 0.7231106422171318}}"
      ]
     },
     "execution_count": 14,
     "metadata": {},
     "output_type": "execute_result"
    }
   ],
   "source": [
    "wrapped_dict = {\"random\": val_dict}\n",
    "wrapped_dict"
   ]
  },
  {
   "cell_type": "code",
   "execution_count": 15,
   "metadata": {},
   "outputs": [],
   "source": [
    "# Сохраняем в JSON\n",
    "with open(\"vals.json\", \"w\", encoding=\"utf-8\") as file:\n",
    "    json.dump(wrapped_dict, file, ensure_ascii=False, indent=4)"
   ]
  },
  {
   "cell_type": "code",
   "execution_count": 16,
   "metadata": {},
   "outputs": [],
   "source": [
    "# Пути к папкам, в которых хранятся файлы results.json\n",
    "method_dirs = [\"BALD\", \"ContrAL\", \"EGL\", \"least_confidence\", \"MNLP\"]\n",
    "\n",
    "# Функция для извлечения данных из results.json\n",
    "def load_results(file_path):\n",
    "    with open(file_path, 'r') as f:\n",
    "        data = json.load(f)\n",
    "        return data  # Возвращает словарь\n",
    "    \n",
    "# Словарь для хранения данных по методам\n",
    "results = {}\n",
    "\n",
    "# Проход по каждой папке и чтение results.json\n",
    "for method in method_dirs:\n",
    "    file_path = os.path.join(method, \"results.json\")\n",
    "    if os.path.exists(file_path):\n",
    "        data = load_results(file_path)\n",
    "        # Ожидаем структуру {\"Method\": {\"p1\": ..., \"p2\": ..., \"p3\": ...}}\n",
    "        method_name = list(data.keys())[0]\n",
    "        results[method_name] = data[method_name]\n",
    "    else:\n",
    "        print(f\"Warning: {file_path} not found!\")"
   ]
  },
  {
   "cell_type": "code",
   "execution_count": 19,
   "metadata": {},
   "outputs": [
    {
     "data": {
      "text/plain": [
       "{'BALD': {'0.01': 0.30386176777126434,\n",
       "  '0.1': 0.5379924690413279,\n",
       "  '0.2': 0.6160837785207431},\n",
       " 'CAL': {'0.01': 0.30854031743849925,\n",
       "  '0.1': 0.5274961623564783,\n",
       "  '0.2': 0.6041708209660123},\n",
       " 'EGL': {'0.01': 0.3469231816269731,\n",
       "  '0.1': 0.5808840601242585,\n",
       "  '0.2': 0.6276495971734664},\n",
       " 'LC': {'0.01': 0.30324518466672157,\n",
       "  '0.1': 0.4453070640986387,\n",
       "  '0.2': 0.5443004784672866},\n",
       " 'MNLP': {'0.01': 0.30365028184774145,\n",
       "  '0.1': 0.5537896556420806,\n",
       "  '0.2': 0.6212453018742381},\n",
       " 'random': {0.01: 0.3300178962681018,\n",
       "  0.1: 0.5058896323949587,\n",
       "  0.2: 0.5874035668971007,\n",
       "  1.0: 0.7231106422171318}}"
      ]
     },
     "execution_count": 19,
     "metadata": {},
     "output_type": "execute_result"
    }
   ],
   "source": [
    "results['random'] = val_dict\n",
    "results"
   ]
  },
  {
   "cell_type": "code",
   "execution_count": 22,
   "metadata": {},
   "outputs": [
    {
     "data": {
      "image/png": "[encoded data removed]",
      "text/plain": [
       "<Figure size 640x480 with 1 Axes>"
      ]
     },
     "metadata": {},
     "output_type": "display_data"
    }
   ],
   "source": [
    "for method, values in results.items():\n",
    "    x = [str(k) for k in values.keys() if k != 1.0]  # Преобразуем ключи в строки\n",
    "    y = [v for k, v in values.items() if k != 1.0]\n",
    "\n",
    "    if method == 'random':\n",
    "        # Горизонтальная линия для random на уровне 1.0\n",
    "        plt.axhline(y=values[1.0], color='gray', linestyle='--', label=f\"{method} (1.0)\")\n",
    "        plt.plot(x, y, marker='o', label=method)  # Обычные точки random\n",
    "    else:\n",
    "        plt.plot(x, y, marker='o', label=method)\n",
    "\n",
    "# Оформление графика\n",
    "plt.title(\"Сравнение методов\")\n",
    "plt.xlabel(\"Доля данных (0.01, 0.1, 0.2)\")\n",
    "plt.ylabel(\"F1\")\n",
    "plt.legend()\n",
    "plt.grid(True)\n",
    "plt.show()"
   ]
  },
  {
   "cell_type": "markdown",
   "metadata": {},
   "source": []
  }
 ],
 "metadata": {
  "kernelspec": {
   "display_name": "pip-torch",
   "language": "python",
   "name": "python3"
  },
  "language_info": {
   "codemirror_mode": {
    "name": "ipython",
    "version": 3
   },
   "file_extension": ".py",
   "mimetype": "text/x-python",
   "name": "python",
   "nbconvert_exporter": "python",
   "pygments_lexer": "ipython3",
   "version": "3.11.5"
  }
 },
 "nbformat": 4,
 "nbformat_minor": 2
}
