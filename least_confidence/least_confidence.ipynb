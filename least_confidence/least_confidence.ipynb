{
 "cells": [
  {
   "cell_type": "code",
   "execution_count": 1,
   "metadata": {},
   "outputs": [],
   "source": [
    "\n",
    "import torch\n",
    "import torch.nn as nn\n",
    "import torch.optim as optim\n",
    "from torch.utils.data import DataLoader, Subset, Dataset\n",
    "from torchvision import datasets, transforms, models\n",
    "import numpy as np\n",
    "from matplotlib import pyplot as plt\n",
    "import sys\n",
    "import os\n",
    "sys.path.append(os.path.abspath('..'))\n",
    "from base_trainer import Trainer\n",
    "from model import SimpleCNN\n",
    "import json"
   ]
  },
  {
   "cell_type": "code",
   "execution_count": 2,
   "metadata": {},
   "outputs": [
    {
     "name": "stdout",
     "output_type": "stream",
     "text": [
      "Files already downloaded and verified\n",
      "Files already downloaded and verified\n"
     ]
    }
   ],
   "source": [
    "NUM_CLASSES = 10           # CIFAR-10\n",
    "# Загружаем CIFAR-10\n",
    "transform = transforms.Compose([transforms.ToTensor(), transforms.Normalize(mean=[0.485, 0.456, 0.406], std=[0.229, 0.224, 0.225])])\n",
    "train_dataset = datasets.CIFAR10(root='../data', train=True, download=True, transform=transform)\n",
    "test_dataset = datasets.CIFAR10(root='../data', train=False, download=True, transform=transform)\n",
    "dataloader = DataLoader(train_dataset, batch_size=len(train_dataset), shuffle=True)"
   ]
  },
  {
   "cell_type": "code",
   "execution_count": 3,
   "metadata": {},
   "outputs": [],
   "source": [
    "DEVICE = 'cuda' if torch.cuda.is_available() else 'cpu'\n",
    "\n",
    "class_indices = {class_idx: [] for class_idx in range(NUM_CLASSES)}\n",
    "for idx, (_, label) in enumerate(train_dataset):\n",
    "    class_indices[label].append(idx)\n",
    "\n",
    "\n",
    "EPOCHS = 20\n",
    "learning_rate = 5e-4\n",
    "\n",
    "val_dataloader = DataLoader(test_dataset, batch_size=128, shuffle=True)"
   ]
  },
  {
   "cell_type": "code",
   "execution_count": 4,
   "metadata": {},
   "outputs": [],
   "source": [
    "tmp = models.resnet50().cuda()"
   ]
  },
  {
   "cell_type": "code",
   "execution_count": 5,
   "metadata": {},
   "outputs": [
    {
     "name": "stdout",
     "output_type": "stream",
     "text": [
      "50000\n"
     ]
    }
   ],
   "source": [
    "print(len(dataloader.dataset))"
   ]
  },
  {
   "cell_type": "code",
   "execution_count": 6,
   "metadata": {},
   "outputs": [],
   "source": [
    "all_confidences = []\n",
    "model = SimpleCNN(NUM_CLASSES).to(DEVICE)\n",
    "with torch.no_grad():\n",
    "        for inputs, _ in dataloader:\n",
    "            inputs = inputs.to(DEVICE)  # Переносим данные на устройство модели\n",
    "            outputs = model(inputs)\n",
    "            # outputs = tmp(inputs)\n",
    "            probabilities = torch.softmax(outputs, dim=1)\n",
    "            confidence_scores, _ = torch.max(probabilities, dim=1)  # Максимальная вероятность для каждого примера\n",
    "            all_confidences.append(confidence_scores)\n",
    "\n",
    "        # Конкатенируем все уверенности в один тензор\n",
    "        confidence_scores = torch.cat(all_confidences)"
   ]
  },
  {
   "cell_type": "code",
   "execution_count": 12,
   "metadata": {},
   "outputs": [
    {
     "name": "stdout",
     "output_type": "stream",
     "text": [
      "500\n"
     ]
    },
    {
     "name": "stderr",
     "output_type": "stream",
     "text": [
      "Training: 100%|██████████| 4/4 [00:00<00:00, 173.90it/s]\n",
      "Validating: 100%|██████████| 79/79 [00:01<00:00, 39.52it/s]\n"
     ]
    },
    {
     "name": "stdout",
     "output_type": "stream",
     "text": [
      "Validation Loss: 2.2231, Accuracy: 0.1795, F1 Score: 0.1143\n",
      "Epoch 1/20 - Train Loss: 2.2751, Val Loss: 2.2231, Acc: 0.1795, F1: 0.1143\n"
     ]
    },
    {
     "name": "stderr",
     "output_type": "stream",
     "text": [
      "Training: 100%|██████████| 4/4 [00:00<00:00, 138.95it/s]\n",
      "Validating: 100%|██████████| 79/79 [00:01<00:00, 40.85it/s]\n"
     ]
    },
    {
     "name": "stdout",
     "output_type": "stream",
     "text": [
      "Validation Loss: 2.1341, Accuracy: 0.2456, F1 Score: 0.1971\n",
      "Epoch 2/20 - Train Loss: 2.1245, Val Loss: 2.1341, Acc: 0.2456, F1: 0.1971\n"
     ]
    },
    {
     "name": "stderr",
     "output_type": "stream",
     "text": [
      "Training: 100%|██████████| 4/4 [00:00<00:00, 190.49it/s]\n",
      "Validating: 100%|██████████| 79/79 [00:01<00:00, 41.97it/s]\n"
     ]
    },
    {
     "name": "stdout",
     "output_type": "stream",
     "text": [
      "Validation Loss: 2.0636, Accuracy: 0.2703, F1 Score: 0.2392\n",
      "Epoch 3/20 - Train Loss: 2.0036, Val Loss: 2.0636, Acc: 0.2703, F1: 0.2392\n"
     ]
    },
    {
     "name": "stderr",
     "output_type": "stream",
     "text": [
      "Training: 100%|██████████| 4/4 [00:00<00:00, 166.50it/s]\n",
      "Validating: 100%|██████████| 79/79 [00:01<00:00, 41.59it/s]\n"
     ]
    },
    {
     "name": "stdout",
     "output_type": "stream",
     "text": [
      "Validation Loss: 2.0006, Accuracy: 0.2930, F1 Score: 0.2622\n",
      "Epoch 4/20 - Train Loss: 1.8984, Val Loss: 2.0006, Acc: 0.2930, F1: 0.2622\n"
     ]
    },
    {
     "name": "stderr",
     "output_type": "stream",
     "text": [
      "Training: 100%|██████████| 4/4 [00:00<00:00, 117.58it/s]\n",
      "Validating: 100%|██████████| 79/79 [00:01<00:00, 41.18it/s]\n"
     ]
    },
    {
     "name": "stdout",
     "output_type": "stream",
     "text": [
      "Validation Loss: 1.9469, Accuracy: 0.3133, F1 Score: 0.2863\n",
      "Epoch 5/20 - Train Loss: 1.7899, Val Loss: 1.9469, Acc: 0.3133, F1: 0.2863\n"
     ]
    },
    {
     "name": "stderr",
     "output_type": "stream",
     "text": [
      "Training: 100%|██████████| 4/4 [00:00<00:00, 88.83it/s]\n",
      "Validating: 100%|██████████| 79/79 [00:01<00:00, 41.43it/s]\n"
     ]
    },
    {
     "name": "stdout",
     "output_type": "stream",
     "text": [
      "Validation Loss: 1.9198, Accuracy: 0.3157, F1 Score: 0.2860\n",
      "Epoch 6/20 - Train Loss: 1.6879, Val Loss: 1.9198, Acc: 0.3157, F1: 0.2860\n"
     ]
    },
    {
     "name": "stderr",
     "output_type": "stream",
     "text": [
      "Training: 100%|██████████| 4/4 [00:00<00:00, 181.80it/s]\n",
      "Validating: 100%|██████████| 79/79 [00:01<00:00, 41.21it/s]\n"
     ]
    },
    {
     "name": "stdout",
     "output_type": "stream",
     "text": [
      "Validation Loss: 1.8824, Accuracy: 0.3374, F1 Score: 0.3238\n",
      "Epoch 7/20 - Train Loss: 1.6270, Val Loss: 1.8824, Acc: 0.3374, F1: 0.3238\n"
     ]
    },
    {
     "name": "stderr",
     "output_type": "stream",
     "text": [
      "Training: 100%|██████████| 4/4 [00:00<00:00, 97.56it/s]\n",
      "Validating: 100%|██████████| 79/79 [00:01<00:00, 41.44it/s]\n"
     ]
    },
    {
     "name": "stdout",
     "output_type": "stream",
     "text": [
      "Validation Loss: 1.9182, Accuracy: 0.3189, F1 Score: 0.2867\n",
      "Epoch 8/20 - Train Loss: 1.5808, Val Loss: 1.9182, Acc: 0.3189, F1: 0.2867\n"
     ]
    },
    {
     "name": "stderr",
     "output_type": "stream",
     "text": [
      "Training: 100%|██████████| 4/4 [00:00<00:00, 153.84it/s]\n",
      "Validating: 100%|██████████| 79/79 [00:01<00:00, 40.98it/s]\n"
     ]
    },
    {
     "name": "stdout",
     "output_type": "stream",
     "text": [
      "Validation Loss: 1.8634, Accuracy: 0.3408, F1 Score: 0.3308\n",
      "Epoch 9/20 - Train Loss: 1.5168, Val Loss: 1.8634, Acc: 0.3408, F1: 0.3308\n"
     ]
    },
    {
     "name": "stderr",
     "output_type": "stream",
     "text": [
      "Training: 100%|██████████| 4/4 [00:00<00:00, 75.47it/s]\n",
      "Validating: 100%|██████████| 79/79 [00:01<00:00, 41.77it/s]\n"
     ]
    },
    {
     "name": "stdout",
     "output_type": "stream",
     "text": [
      "Validation Loss: 1.8962, Accuracy: 0.3298, F1 Score: 0.3015\n",
      "Epoch 10/20 - Train Loss: 1.4870, Val Loss: 1.8962, Acc: 0.3298, F1: 0.3015\n"
     ]
    },
    {
     "name": "stderr",
     "output_type": "stream",
     "text": [
      "Training: 100%|██████████| 4/4 [00:00<00:00, 200.00it/s]\n",
      "Validating: 100%|██████████| 79/79 [00:01<00:00, 41.36it/s]\n"
     ]
    },
    {
     "name": "stdout",
     "output_type": "stream",
     "text": [
      "Validation Loss: 1.8493, Accuracy: 0.3471, F1 Score: 0.3371\n",
      "Epoch 11/20 - Train Loss: 1.3902, Val Loss: 1.8493, Acc: 0.3471, F1: 0.3371\n"
     ]
    },
    {
     "name": "stderr",
     "output_type": "stream",
     "text": [
      "Training: 100%|██████████| 4/4 [00:00<00:00, 78.43it/s]\n",
      "Validating: 100%|██████████| 79/79 [00:02<00:00, 39.02it/s]\n"
     ]
    },
    {
     "name": "stdout",
     "output_type": "stream",
     "text": [
      "Validation Loss: 1.8754, Accuracy: 0.3389, F1 Score: 0.3207\n",
      "Epoch 12/20 - Train Loss: 1.3610, Val Loss: 1.8754, Acc: 0.3389, F1: 0.3207\n"
     ]
    },
    {
     "name": "stderr",
     "output_type": "stream",
     "text": [
      "Training: 100%|██████████| 4/4 [00:00<00:00, 114.29it/s]\n",
      "Validating: 100%|██████████| 79/79 [00:02<00:00, 38.82it/s]\n"
     ]
    },
    {
     "name": "stdout",
     "output_type": "stream",
     "text": [
      "Validation Loss: 1.8778, Accuracy: 0.3366, F1 Score: 0.3155\n",
      "Epoch 13/20 - Train Loss: 1.2982, Val Loss: 1.8778, Acc: 0.3366, F1: 0.3155\n"
     ]
    },
    {
     "name": "stderr",
     "output_type": "stream",
     "text": [
      "Training: 100%|██████████| 4/4 [00:00<00:00, 166.69it/s]\n",
      "Validating: 100%|██████████| 79/79 [00:01<00:00, 39.75it/s]\n"
     ]
    },
    {
     "name": "stdout",
     "output_type": "stream",
     "text": [
      "Validation Loss: 1.8684, Accuracy: 0.3446, F1 Score: 0.3311\n",
      "Epoch 14/20 - Train Loss: 1.2599, Val Loss: 1.8684, Acc: 0.3446, F1: 0.3311\n"
     ]
    },
    {
     "name": "stderr",
     "output_type": "stream",
     "text": [
      "Training: 100%|██████████| 4/4 [00:00<00:00, 203.37it/s]\n",
      "Validating: 100%|██████████| 79/79 [00:01<00:00, 40.10it/s]\n"
     ]
    },
    {
     "name": "stdout",
     "output_type": "stream",
     "text": [
      "Validation Loss: 1.9053, Accuracy: 0.3382, F1 Score: 0.3160\n",
      "Epoch 15/20 - Train Loss: 1.2039, Val Loss: 1.9053, Acc: 0.3382, F1: 0.3160\n"
     ]
    },
    {
     "name": "stderr",
     "output_type": "stream",
     "text": [
      "Training: 100%|██████████| 4/4 [00:00<00:00, 148.14it/s]\n",
      "Validating: 100%|██████████| 79/79 [00:01<00:00, 40.00it/s]\n"
     ]
    },
    {
     "name": "stdout",
     "output_type": "stream",
     "text": [
      "Validation Loss: 1.8797, Accuracy: 0.3475, F1 Score: 0.3327\n",
      "Epoch 16/20 - Train Loss: 1.1977, Val Loss: 1.8797, Acc: 0.3475, F1: 0.3327\n"
     ]
    },
    {
     "name": "stderr",
     "output_type": "stream",
     "text": [
      "Training: 100%|██████████| 4/4 [00:00<00:00, 69.51it/s]\n",
      "Validating: 100%|██████████| 79/79 [00:01<00:00, 41.10it/s]\n"
     ]
    },
    {
     "name": "stdout",
     "output_type": "stream",
     "text": [
      "Validation Loss: 1.8803, Accuracy: 0.3489, F1 Score: 0.3388\n",
      "Epoch 17/20 - Train Loss: 1.1464, Val Loss: 1.8803, Acc: 0.3489, F1: 0.3388\n"
     ]
    },
    {
     "name": "stderr",
     "output_type": "stream",
     "text": [
      "Training: 100%|██████████| 4/4 [00:00<00:00, 97.56it/s]\n",
      "Validating: 100%|██████████| 79/79 [00:01<00:00, 40.80it/s]\n"
     ]
    },
    {
     "name": "stdout",
     "output_type": "stream",
     "text": [
      "Validation Loss: 1.9164, Accuracy: 0.3441, F1 Score: 0.3228\n",
      "Epoch 18/20 - Train Loss: 1.0989, Val Loss: 1.9164, Acc: 0.3441, F1: 0.3228\n"
     ]
    },
    {
     "name": "stderr",
     "output_type": "stream",
     "text": [
      "Training: 100%|██████████| 4/4 [00:00<00:00, 85.11it/s]\n",
      "Validating: 100%|██████████| 79/79 [00:01<00:00, 39.94it/s]\n"
     ]
    },
    {
     "name": "stdout",
     "output_type": "stream",
     "text": [
      "Validation Loss: 1.8854, Accuracy: 0.3472, F1 Score: 0.3345\n",
      "Epoch 19/20 - Train Loss: 1.0490, Val Loss: 1.8854, Acc: 0.3472, F1: 0.3345\n"
     ]
    },
    {
     "name": "stderr",
     "output_type": "stream",
     "text": [
      "Training: 100%|██████████| 4/4 [00:00<00:00, 153.85it/s]\n",
      "Validating: 100%|██████████| 79/79 [00:01<00:00, 40.70it/s]\n"
     ]
    },
    {
     "name": "stdout",
     "output_type": "stream",
     "text": [
      "Validation Loss: 1.8867, Accuracy: 0.3516, F1 Score: 0.3398\n",
      "Epoch 20/20 - Train Loss: 1.0432, Val Loss: 1.8867, Acc: 0.3516, F1: 0.3398\n",
      "f1 for random init: p = 0.01, f1 = 0.3397986295586128\n",
      "5000\n"
     ]
    },
    {
     "name": "stderr",
     "output_type": "stream",
     "text": [
      "Training: 100%|██████████| 40/40 [00:00<00:00, 145.45it/s]\n",
      "Validating: 100%|██████████| 79/79 [00:01<00:00, 41.85it/s]\n"
     ]
    },
    {
     "name": "stdout",
     "output_type": "stream",
     "text": [
      "Validation Loss: 1.8705, Accuracy: 0.3329, F1 Score: 0.2932\n",
      "Epoch 1/20 - Train Loss: 2.0959, Val Loss: 1.8705, Acc: 0.3329, F1: 0.2932\n"
     ]
    },
    {
     "name": "stderr",
     "output_type": "stream",
     "text": [
      "Training: 100%|██████████| 40/40 [00:00<00:00, 148.70it/s]\n",
      "Validating: 100%|██████████| 79/79 [00:01<00:00, 40.78it/s]\n"
     ]
    },
    {
     "name": "stdout",
     "output_type": "stream",
     "text": [
      "Validation Loss: 1.6835, Accuracy: 0.3936, F1 Score: 0.3759\n",
      "Epoch 2/20 - Train Loss: 1.7576, Val Loss: 1.6835, Acc: 0.3936, F1: 0.3759\n"
     ]
    },
    {
     "name": "stderr",
     "output_type": "stream",
     "text": [
      "Training: 100%|██████████| 40/40 [00:00<00:00, 119.05it/s]\n",
      "Validating: 100%|██████████| 79/79 [00:01<00:00, 40.35it/s]\n"
     ]
    },
    {
     "name": "stdout",
     "output_type": "stream",
     "text": [
      "Validation Loss: 1.5870, Accuracy: 0.4461, F1 Score: 0.4421\n",
      "Epoch 3/20 - Train Loss: 1.6154, Val Loss: 1.5870, Acc: 0.4461, F1: 0.4421\n"
     ]
    },
    {
     "name": "stderr",
     "output_type": "stream",
     "text": [
      "Training: 100%|██████████| 40/40 [00:00<00:00, 138.41it/s]\n",
      "Validating: 100%|██████████| 79/79 [00:01<00:00, 41.08it/s]\n"
     ]
    },
    {
     "name": "stdout",
     "output_type": "stream",
     "text": [
      "Validation Loss: 1.4991, Accuracy: 0.4739, F1 Score: 0.4627\n",
      "Epoch 4/20 - Train Loss: 1.5286, Val Loss: 1.4991, Acc: 0.4739, F1: 0.4627\n"
     ]
    },
    {
     "name": "stderr",
     "output_type": "stream",
     "text": [
      "Training: 100%|██████████| 40/40 [00:00<00:00, 212.76it/s]\n",
      "Validating: 100%|██████████| 79/79 [00:01<00:00, 40.82it/s]\n"
     ]
    },
    {
     "name": "stdout",
     "output_type": "stream",
     "text": [
      "Validation Loss: 1.4443, Accuracy: 0.4880, F1 Score: 0.4877\n",
      "Epoch 5/20 - Train Loss: 1.4470, Val Loss: 1.4443, Acc: 0.4880, F1: 0.4877\n"
     ]
    },
    {
     "name": "stderr",
     "output_type": "stream",
     "text": [
      "Training: 100%|██████████| 40/40 [00:00<00:00, 109.09it/s]\n",
      "Validating: 100%|██████████| 79/79 [00:02<00:00, 37.83it/s]\n"
     ]
    },
    {
     "name": "stdout",
     "output_type": "stream",
     "text": [
      "Validation Loss: 1.4487, Accuracy: 0.4896, F1 Score: 0.4762\n",
      "Epoch 6/20 - Train Loss: 1.3547, Val Loss: 1.4487, Acc: 0.4896, F1: 0.4762\n"
     ]
    },
    {
     "name": "stderr",
     "output_type": "stream",
     "text": [
      "Training: 100%|██████████| 40/40 [00:00<00:00, 138.86it/s]\n",
      "Validating: 100%|██████████| 79/79 [00:02<00:00, 36.33it/s]\n"
     ]
    },
    {
     "name": "stdout",
     "output_type": "stream",
     "text": [
      "Validation Loss: 1.3910, Accuracy: 0.5051, F1 Score: 0.4921\n",
      "Epoch 7/20 - Train Loss: 1.3227, Val Loss: 1.3910, Acc: 0.5051, F1: 0.4921\n"
     ]
    },
    {
     "name": "stderr",
     "output_type": "stream",
     "text": [
      "Training: 100%|██████████| 40/40 [00:00<00:00, 120.21it/s]\n",
      "Validating: 100%|██████████| 79/79 [00:01<00:00, 40.99it/s]\n"
     ]
    },
    {
     "name": "stdout",
     "output_type": "stream",
     "text": [
      "Validation Loss: 1.3570, Accuracy: 0.5164, F1 Score: 0.5097\n",
      "Epoch 8/20 - Train Loss: 1.2763, Val Loss: 1.3570, Acc: 0.5164, F1: 0.5097\n"
     ]
    },
    {
     "name": "stderr",
     "output_type": "stream",
     "text": [
      "Training: 100%|██████████| 40/40 [00:00<00:00, 96.34it/s]\n",
      "Validating: 100%|██████████| 79/79 [00:01<00:00, 40.31it/s]\n"
     ]
    },
    {
     "name": "stdout",
     "output_type": "stream",
     "text": [
      "Validation Loss: 1.3584, Accuracy: 0.5168, F1 Score: 0.5037\n",
      "Epoch 9/20 - Train Loss: 1.2462, Val Loss: 1.3584, Acc: 0.5168, F1: 0.5037\n"
     ]
    },
    {
     "name": "stderr",
     "output_type": "stream",
     "text": [
      "Training: 100%|██████████| 40/40 [00:00<00:00, 156.57it/s]\n",
      "Validating: 100%|██████████| 79/79 [00:01<00:00, 41.32it/s]\n"
     ]
    },
    {
     "name": "stdout",
     "output_type": "stream",
     "text": [
      "Validation Loss: 1.3388, Accuracy: 0.5327, F1 Score: 0.5124\n",
      "Epoch 10/20 - Train Loss: 1.2080, Val Loss: 1.3388, Acc: 0.5327, F1: 0.5124\n"
     ]
    },
    {
     "name": "stderr",
     "output_type": "stream",
     "text": [
      "Training: 100%|██████████| 40/40 [00:00<00:00, 135.83it/s]\n",
      "Validating: 100%|██████████| 79/79 [00:01<00:00, 41.26it/s]\n"
     ]
    },
    {
     "name": "stdout",
     "output_type": "stream",
     "text": [
      "Validation Loss: 1.3068, Accuracy: 0.5354, F1 Score: 0.5293\n",
      "Epoch 11/20 - Train Loss: 1.1607, Val Loss: 1.3068, Acc: 0.5354, F1: 0.5293\n"
     ]
    },
    {
     "name": "stderr",
     "output_type": "stream",
     "text": [
      "Training: 100%|██████████| 40/40 [00:00<00:00, 105.26it/s]\n",
      "Validating: 100%|██████████| 79/79 [00:01<00:00, 40.02it/s]\n"
     ]
    },
    {
     "name": "stdout",
     "output_type": "stream",
     "text": [
      "Validation Loss: 1.2927, Accuracy: 0.5413, F1 Score: 0.5357\n",
      "Epoch 12/20 - Train Loss: 1.1344, Val Loss: 1.2927, Acc: 0.5413, F1: 0.5357\n"
     ]
    },
    {
     "name": "stderr",
     "output_type": "stream",
     "text": [
      "Training: 100%|██████████| 40/40 [00:00<00:00, 114.36it/s]\n",
      "Validating: 100%|██████████| 79/79 [00:01<00:00, 40.08it/s]\n"
     ]
    },
    {
     "name": "stdout",
     "output_type": "stream",
     "text": [
      "Validation Loss: 1.3414, Accuracy: 0.5289, F1 Score: 0.5098\n",
      "Epoch 13/20 - Train Loss: 1.0944, Val Loss: 1.3414, Acc: 0.5289, F1: 0.5098\n"
     ]
    },
    {
     "name": "stderr",
     "output_type": "stream",
     "text": [
      "Training: 100%|██████████| 40/40 [00:00<00:00, 176.01it/s]\n",
      "Validating: 100%|██████████| 79/79 [00:01<00:00, 41.30it/s]\n"
     ]
    },
    {
     "name": "stdout",
     "output_type": "stream",
     "text": [
      "Validation Loss: 1.2712, Accuracy: 0.5561, F1 Score: 0.5509\n",
      "Epoch 14/20 - Train Loss: 1.0634, Val Loss: 1.2712, Acc: 0.5561, F1: 0.5509\n"
     ]
    },
    {
     "name": "stderr",
     "output_type": "stream",
     "text": [
      "Training: 100%|██████████| 40/40 [00:00<00:00, 121.34it/s]\n",
      "Validating: 100%|██████████| 79/79 [00:01<00:00, 40.27it/s]\n"
     ]
    },
    {
     "name": "stdout",
     "output_type": "stream",
     "text": [
      "Validation Loss: 1.2736, Accuracy: 0.5471, F1 Score: 0.5383\n",
      "Epoch 15/20 - Train Loss: 1.0438, Val Loss: 1.2736, Acc: 0.5471, F1: 0.5383\n"
     ]
    },
    {
     "name": "stderr",
     "output_type": "stream",
     "text": [
      "Training: 100%|██████████| 40/40 [00:00<00:00, 109.05it/s]\n",
      "Validating: 100%|██████████| 79/79 [00:01<00:00, 39.66it/s]\n"
     ]
    },
    {
     "name": "stdout",
     "output_type": "stream",
     "text": [
      "Validation Loss: 1.2620, Accuracy: 0.5533, F1 Score: 0.5466\n",
      "Epoch 16/20 - Train Loss: 1.0167, Val Loss: 1.2620, Acc: 0.5533, F1: 0.5466\n"
     ]
    },
    {
     "name": "stderr",
     "output_type": "stream",
     "text": [
      "Training: 100%|██████████| 40/40 [00:00<00:00, 124.58it/s]\n",
      "Validating: 100%|██████████| 79/79 [00:01<00:00, 42.02it/s]\n"
     ]
    },
    {
     "name": "stdout",
     "output_type": "stream",
     "text": [
      "Validation Loss: 1.2557, Accuracy: 0.5588, F1 Score: 0.5535\n",
      "Epoch 17/20 - Train Loss: 0.9858, Val Loss: 1.2557, Acc: 0.5588, F1: 0.5535\n"
     ]
    },
    {
     "name": "stderr",
     "output_type": "stream",
     "text": [
      "Training: 100%|██████████| 40/40 [00:00<00:00, 207.12it/s]\n",
      "Validating: 100%|██████████| 79/79 [00:01<00:00, 42.80it/s]\n"
     ]
    },
    {
     "name": "stdout",
     "output_type": "stream",
     "text": [
      "Validation Loss: 1.2376, Accuracy: 0.5701, F1 Score: 0.5665\n",
      "Epoch 18/20 - Train Loss: 0.9410, Val Loss: 1.2376, Acc: 0.5701, F1: 0.5665\n"
     ]
    },
    {
     "name": "stderr",
     "output_type": "stream",
     "text": [
      "Training: 100%|██████████| 40/40 [00:00<00:00, 217.89it/s]\n",
      "Validating: 100%|██████████| 79/79 [00:01<00:00, 42.79it/s]\n"
     ]
    },
    {
     "name": "stdout",
     "output_type": "stream",
     "text": [
      "Validation Loss: 1.2497, Accuracy: 0.5682, F1 Score: 0.5656\n",
      "Epoch 19/20 - Train Loss: 0.9042, Val Loss: 1.2497, Acc: 0.5682, F1: 0.5656\n"
     ]
    },
    {
     "name": "stderr",
     "output_type": "stream",
     "text": [
      "Training: 100%|██████████| 40/40 [00:00<00:00, 213.81it/s]\n",
      "Validating: 100%|██████████| 79/79 [00:01<00:00, 41.33it/s]\n"
     ]
    },
    {
     "name": "stdout",
     "output_type": "stream",
     "text": [
      "Validation Loss: 1.2245, Accuracy: 0.5720, F1 Score: 0.5724\n",
      "Epoch 20/20 - Train Loss: 0.8906, Val Loss: 1.2245, Acc: 0.5720, F1: 0.5724\n",
      "f1 for random init: p = 0.1, f1 = 0.5724082249562311\n",
      "10000\n"
     ]
    },
    {
     "name": "stderr",
     "output_type": "stream",
     "text": [
      "Training: 100%|██████████| 79/79 [00:00<00:00, 208.59it/s]\n",
      "Validating: 100%|██████████| 79/79 [00:01<00:00, 42.08it/s]\n"
     ]
    },
    {
     "name": "stdout",
     "output_type": "stream",
     "text": [
      "Validation Loss: 1.6538, Accuracy: 0.4209, F1 Score: 0.4060\n",
      "Epoch 1/20 - Train Loss: 1.9001, Val Loss: 1.6538, Acc: 0.4209, F1: 0.4060\n"
     ]
    },
    {
     "name": "stderr",
     "output_type": "stream",
     "text": [
      "Training: 100%|██████████| 79/79 [00:00<00:00, 200.57it/s]\n",
      "Validating: 100%|██████████| 79/79 [00:01<00:00, 41.47it/s]\n"
     ]
    },
    {
     "name": "stdout",
     "output_type": "stream",
     "text": [
      "Validation Loss: 1.4936, Accuracy: 0.4634, F1 Score: 0.4582\n",
      "Epoch 2/20 - Train Loss: 1.5528, Val Loss: 1.4936, Acc: 0.4634, F1: 0.4582\n"
     ]
    },
    {
     "name": "stderr",
     "output_type": "stream",
     "text": [
      "Training: 100%|██████████| 79/79 [00:00<00:00, 189.71it/s]\n",
      "Validating: 100%|██████████| 79/79 [00:01<00:00, 40.98it/s]\n"
     ]
    },
    {
     "name": "stdout",
     "output_type": "stream",
     "text": [
      "Validation Loss: 1.3733, Accuracy: 0.5074, F1 Score: 0.5001\n",
      "Epoch 3/20 - Train Loss: 1.4228, Val Loss: 1.3733, Acc: 0.5074, F1: 0.5001\n"
     ]
    },
    {
     "name": "stderr",
     "output_type": "stream",
     "text": [
      "Training: 100%|██████████| 79/79 [00:00<00:00, 199.32it/s]\n",
      "Validating: 100%|██████████| 79/79 [00:01<00:00, 40.19it/s]\n"
     ]
    },
    {
     "name": "stdout",
     "output_type": "stream",
     "text": [
      "Validation Loss: 1.3662, Accuracy: 0.5149, F1 Score: 0.4947\n",
      "Epoch 4/20 - Train Loss: 1.3220, Val Loss: 1.3662, Acc: 0.5149, F1: 0.4947\n"
     ]
    },
    {
     "name": "stderr",
     "output_type": "stream",
     "text": [
      "Training: 100%|██████████| 79/79 [00:00<00:00, 176.73it/s]\n",
      "Validating: 100%|██████████| 79/79 [00:01<00:00, 41.06it/s]\n"
     ]
    },
    {
     "name": "stdout",
     "output_type": "stream",
     "text": [
      "Validation Loss: 1.2918, Accuracy: 0.5423, F1 Score: 0.5344\n",
      "Epoch 5/20 - Train Loss: 1.2610, Val Loss: 1.2918, Acc: 0.5423, F1: 0.5344\n"
     ]
    },
    {
     "name": "stderr",
     "output_type": "stream",
     "text": [
      "Training: 100%|██████████| 79/79 [00:00<00:00, 198.49it/s]\n",
      "Validating: 100%|██████████| 79/79 [00:01<00:00, 41.22it/s]\n"
     ]
    },
    {
     "name": "stdout",
     "output_type": "stream",
     "text": [
      "Validation Loss: 1.2437, Accuracy: 0.5610, F1 Score: 0.5521\n",
      "Epoch 6/20 - Train Loss: 1.2015, Val Loss: 1.2437, Acc: 0.5610, F1: 0.5521\n"
     ]
    },
    {
     "name": "stderr",
     "output_type": "stream",
     "text": [
      "Training: 100%|██████████| 79/79 [00:00<00:00, 180.60it/s]\n",
      "Validating: 100%|██████████| 79/79 [00:01<00:00, 40.64it/s]\n"
     ]
    },
    {
     "name": "stdout",
     "output_type": "stream",
     "text": [
      "Validation Loss: 1.2214, Accuracy: 0.5637, F1 Score: 0.5574\n",
      "Epoch 7/20 - Train Loss: 1.1466, Val Loss: 1.2214, Acc: 0.5637, F1: 0.5574\n"
     ]
    },
    {
     "name": "stderr",
     "output_type": "stream",
     "text": [
      "Training: 100%|██████████| 79/79 [00:00<00:00, 182.87it/s]\n",
      "Validating: 100%|██████████| 79/79 [00:01<00:00, 39.96it/s]\n"
     ]
    },
    {
     "name": "stdout",
     "output_type": "stream",
     "text": [
      "Validation Loss: 1.2050, Accuracy: 0.5709, F1 Score: 0.5654\n",
      "Epoch 8/20 - Train Loss: 1.0998, Val Loss: 1.2050, Acc: 0.5709, F1: 0.5654\n"
     ]
    },
    {
     "name": "stderr",
     "output_type": "stream",
     "text": [
      "Training: 100%|██████████| 79/79 [00:00<00:00, 215.32it/s]\n",
      "Validating: 100%|██████████| 79/79 [00:01<00:00, 41.09it/s]\n"
     ]
    },
    {
     "name": "stdout",
     "output_type": "stream",
     "text": [
      "Validation Loss: 1.1577, Accuracy: 0.5883, F1 Score: 0.5822\n",
      "Epoch 9/20 - Train Loss: 1.0528, Val Loss: 1.1577, Acc: 0.5883, F1: 0.5822\n"
     ]
    },
    {
     "name": "stderr",
     "output_type": "stream",
     "text": [
      "Training: 100%|██████████| 79/79 [00:00<00:00, 186.72it/s]\n",
      "Validating: 100%|██████████| 79/79 [00:01<00:00, 40.94it/s]\n"
     ]
    },
    {
     "name": "stdout",
     "output_type": "stream",
     "text": [
      "Validation Loss: 1.1383, Accuracy: 0.5965, F1 Score: 0.5907\n",
      "Epoch 10/20 - Train Loss: 1.0087, Val Loss: 1.1383, Acc: 0.5965, F1: 0.5907\n"
     ]
    },
    {
     "name": "stderr",
     "output_type": "stream",
     "text": [
      "Training: 100%|██████████| 79/79 [00:00<00:00, 169.42it/s]\n",
      "Validating: 100%|██████████| 79/79 [00:01<00:00, 39.60it/s]\n"
     ]
    },
    {
     "name": "stdout",
     "output_type": "stream",
     "text": [
      "Validation Loss: 1.1555, Accuracy: 0.5921, F1 Score: 0.5802\n",
      "Epoch 11/20 - Train Loss: 0.9764, Val Loss: 1.1555, Acc: 0.5921, F1: 0.5802\n"
     ]
    },
    {
     "name": "stderr",
     "output_type": "stream",
     "text": [
      "Training: 100%|██████████| 79/79 [00:00<00:00, 180.62it/s]\n",
      "Validating: 100%|██████████| 79/79 [00:02<00:00, 39.26it/s]\n"
     ]
    },
    {
     "name": "stdout",
     "output_type": "stream",
     "text": [
      "Validation Loss: 1.1322, Accuracy: 0.6036, F1 Score: 0.5976\n",
      "Epoch 12/20 - Train Loss: 0.9395, Val Loss: 1.1322, Acc: 0.6036, F1: 0.5976\n"
     ]
    },
    {
     "name": "stderr",
     "output_type": "stream",
     "text": [
      "Training: 100%|██████████| 79/79 [00:00<00:00, 148.76it/s]\n",
      "Validating: 100%|██████████| 79/79 [00:01<00:00, 39.86it/s]\n"
     ]
    },
    {
     "name": "stdout",
     "output_type": "stream",
     "text": [
      "Validation Loss: 1.1013, Accuracy: 0.6139, F1 Score: 0.6110\n",
      "Epoch 13/20 - Train Loss: 0.9159, Val Loss: 1.1013, Acc: 0.6139, F1: 0.6110\n"
     ]
    },
    {
     "name": "stderr",
     "output_type": "stream",
     "text": [
      "Training: 100%|██████████| 79/79 [00:00<00:00, 183.34it/s]\n",
      "Validating: 100%|██████████| 79/79 [00:01<00:00, 41.62it/s]\n"
     ]
    },
    {
     "name": "stdout",
     "output_type": "stream",
     "text": [
      "Validation Loss: 1.1007, Accuracy: 0.6121, F1 Score: 0.6032\n",
      "Epoch 14/20 - Train Loss: 0.8860, Val Loss: 1.1007, Acc: 0.6121, F1: 0.6032\n"
     ]
    },
    {
     "name": "stderr",
     "output_type": "stream",
     "text": [
      "Training: 100%|██████████| 79/79 [00:00<00:00, 187.88it/s]\n",
      "Validating: 100%|██████████| 79/79 [00:01<00:00, 39.73it/s]\n"
     ]
    },
    {
     "name": "stdout",
     "output_type": "stream",
     "text": [
      "Validation Loss: 1.1026, Accuracy: 0.6161, F1 Score: 0.6125\n",
      "Epoch 15/20 - Train Loss: 0.8381, Val Loss: 1.1026, Acc: 0.6161, F1: 0.6125\n"
     ]
    },
    {
     "name": "stderr",
     "output_type": "stream",
     "text": [
      "Training: 100%|██████████| 79/79 [00:00<00:00, 191.04it/s]\n",
      "Validating: 100%|██████████| 79/79 [00:01<00:00, 40.28it/s]\n"
     ]
    },
    {
     "name": "stdout",
     "output_type": "stream",
     "text": [
      "Validation Loss: 1.0897, Accuracy: 0.6186, F1 Score: 0.6116\n",
      "Epoch 16/20 - Train Loss: 0.8077, Val Loss: 1.0897, Acc: 0.6186, F1: 0.6116\n"
     ]
    },
    {
     "name": "stderr",
     "output_type": "stream",
     "text": [
      "Training: 100%|██████████| 79/79 [00:00<00:00, 180.35it/s]\n",
      "Validating: 100%|██████████| 79/79 [00:02<00:00, 39.18it/s]\n"
     ]
    },
    {
     "name": "stdout",
     "output_type": "stream",
     "text": [
      "Validation Loss: 1.0910, Accuracy: 0.6182, F1 Score: 0.6109\n",
      "Epoch 17/20 - Train Loss: 0.7846, Val Loss: 1.0910, Acc: 0.6182, F1: 0.6109\n"
     ]
    },
    {
     "name": "stderr",
     "output_type": "stream",
     "text": [
      "Training: 100%|██████████| 79/79 [00:00<00:00, 200.16it/s]\n",
      "Validating: 100%|██████████| 79/79 [00:01<00:00, 40.86it/s]\n"
     ]
    },
    {
     "name": "stdout",
     "output_type": "stream",
     "text": [
      "Validation Loss: 1.0897, Accuracy: 0.6192, F1 Score: 0.6171\n",
      "Epoch 18/20 - Train Loss: 0.7623, Val Loss: 1.0897, Acc: 0.6192, F1: 0.6171\n"
     ]
    },
    {
     "name": "stderr",
     "output_type": "stream",
     "text": [
      "Training: 100%|██████████| 79/79 [00:00<00:00, 199.46it/s]\n",
      "Validating: 100%|██████████| 79/79 [00:01<00:00, 41.56it/s]\n"
     ]
    },
    {
     "name": "stdout",
     "output_type": "stream",
     "text": [
      "Validation Loss: 1.0876, Accuracy: 0.6252, F1 Score: 0.6205\n",
      "Epoch 19/20 - Train Loss: 0.7244, Val Loss: 1.0876, Acc: 0.6252, F1: 0.6205\n"
     ]
    },
    {
     "name": "stderr",
     "output_type": "stream",
     "text": [
      "Training: 100%|██████████| 79/79 [00:00<00:00, 198.00it/s]\n",
      "Validating: 100%|██████████| 79/79 [00:01<00:00, 41.36it/s]"
     ]
    },
    {
     "name": "stdout",
     "output_type": "stream",
     "text": [
      "Validation Loss: 1.0751, Accuracy: 0.6342, F1 Score: 0.6311\n",
      "Epoch 20/20 - Train Loss: 0.7049, Val Loss: 1.0751, Acc: 0.6342, F1: 0.6311\n",
      "f1 for random init: p = 0.2, f1 = 0.631071272373181\n"
     ]
    },
    {
     "name": "stderr",
     "output_type": "stream",
     "text": [
      "\n"
     ]
    }
   ],
   "source": [
    "val_dict = {}\n",
    "for p in [0.01, 0.1, 0.2]:\n",
    "    # Разделяем данные\n",
    "    initial_indices = []\n",
    "    pool_indices = []\n",
    "    # for class_idx, indices in class_indices.items():\n",
    "    #     np.random.shuffle(indices)  # Перемешиваем индексы внутри класса\n",
    "    #     split_idx = int(len(indices) * p)  # Вычисляем границу разделения\n",
    "    #     initial_indices.extend(indices[:split_idx])\n",
    "    \n",
    "    model = SimpleCNN(NUM_CLASSES).to(DEVICE)\n",
    "    \n",
    "    optimizer = optim.AdamW(model.parameters(), lr=learning_rate )\n",
    "    criterion = torch.nn.CrossEntropyLoss()\n",
    "    scheduler = optim.lr_scheduler.ReduceLROnPlateau(optimizer, mode='min', factor=0.5, patience=5)\n",
    "\n",
    "        \n",
    "    # Находим индексы образцов с наименьшей уверенностью\n",
    "    least_confident_indices = torch.argsort(1 - confidence_scores)[:int(len(dataloader.dataset) * p)]\n",
    "    print(len(least_confident_indices))\n",
    "    samples = [dataloader.dataset[i] for i in least_confident_indices]\n",
    "        \n",
    "\n",
    "    train_dataloader = DataLoader(samples, batch_size=128, shuffle=True)\n",
    "\n",
    "    trainer = Trainer(model = model,\n",
    "                      optimizer=optimizer,\n",
    "                      pool_loader=None,\n",
    "                      criterion=criterion ,\n",
    "                      train_loader=train_dataloader,\n",
    "                      val_loader = val_dataloader,\n",
    "                      device=DEVICE,\n",
    "                      scheduler=scheduler)\n",
    "    trainer.fit(EPOCHS)\n",
    "    f1 = max(trainer.val_f1)\n",
    "    del optimizer \n",
    "    del criterion\n",
    "    del scheduler\n",
    "    del model\n",
    "    del trainer\n",
    "    val_dict[p] = f1\n",
    "    torch.cuda.empty_cache()\n",
    "    print(f\"f1 for random init: p = {p}, f1 = {val_dict[p]}\")"
   ]
  },
  {
   "cell_type": "code",
   "execution_count": 9,
   "metadata": {},
   "outputs": [],
   "source": []
  },
  {
   "cell_type": "code",
   "execution_count": 11,
   "metadata": {},
   "outputs": [
    {
     "name": "stdout",
     "output_type": "stream",
     "text": [
      "{0.01: 0.3457578408268053, 0.1: 0.5709083333098373, 0.2: 0.6295679530845513}\n"
     ]
    }
   ],
   "source": []
  }
 ],
 "metadata": {
  "kernelspec": {
   "display_name": "base",
   "language": "python",
   "name": "python3"
  },
  "language_info": {
   "codemirror_mode": {
    "name": "ipython",
    "version": 3
   },
   "file_extension": ".py",
   "mimetype": "text/x-python",
   "name": "python",
   "nbconvert_exporter": "python",
   "pygments_lexer": "ipython3",
   "version": "3.11.5"
  }
 },
 "nbformat": 4,
 "nbformat_minor": 2
}
