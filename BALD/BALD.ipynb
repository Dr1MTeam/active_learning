{
 "cells": [
  {
   "cell_type": "code",
   "execution_count": 3,
   "metadata": {},
   "outputs": [],
   "source": [
    "import torch\n",
    "import torch.nn as nn\n",
    "import torch.optim as optim\n",
    "\n",
    "from torch.utils.data import ConcatDataset, DataLoader, Subset, Dataset\n",
    "\n",
    "from torchvision import datasets, transforms, models\n",
    "from torchvision.transforms import functional as F\n",
    "\n",
    "from tqdm import tqdm\n",
    "from sklearn.metrics import f1_score, accuracy_score\n",
    "import numpy as np\n",
    "from matplotlib import pyplot as plt\n",
    "\n",
    "import os\n",
    "import sys"
   ]
  },
  {
   "cell_type": "code",
   "execution_count": 4,
   "metadata": {},
   "outputs": [
    {
     "name": "stdout",
     "output_type": "stream",
     "text": [
      "Files already downloaded and verified\n",
      "Files already downloaded and verified\n"
     ]
    }
   ],
   "source": [
    "# Загружаем CIFAR-10\n",
    "transform = transforms.Compose([transforms.ToTensor(), transforms.Normalize(mean=[0.485, 0.456, 0.406], std=[0.229, 0.224, 0.225])])\n",
    "train_dataset = datasets.CIFAR10(root='../data', train=True, download=True, transform=transform)\n",
    "test_dataset = datasets.CIFAR10(root='../data', train=False, download=True, transform=transform)"
   ]
  },
  {
   "cell_type": "code",
   "execution_count": 5,
   "metadata": {},
   "outputs": [],
   "source": [
    "data_len = train_dataset.__len__()"
   ]
  },
  {
   "cell_type": "code",
   "execution_count": 6,
   "metadata": {},
   "outputs": [],
   "source": [
    "# Глобальные параметры\n",
    "INITIAL_TRAIN = 0.2                        # Начальные данные\n",
    "BATCH_ADD_SIZE = 1000                       # K данных для добавления\n",
    "WARMUP_EPOCHS = 5\n",
    "TOTAL_TRAIN_SIZE = data_len                 # Общее количество тренировочных данных\n",
    "NUM_CLASSES = 10                            # CIFAR-10"
   ]
  },
  {
   "cell_type": "code",
   "execution_count": 7,
   "metadata": {},
   "outputs": [
    {
     "name": "stdout",
     "output_type": "stream",
     "text": [
      "Files already downloaded and verified\n",
      "Размер initial_train_dataset: 10000\n",
      "Размер pool_dataset: 40000\n"
     ]
    }
   ],
   "source": [
    "# Задаем пропорцию выборки\n",
    "p = INITIAL_TRAIN \n",
    "\n",
    "# Загрузка данных\n",
    "transform = transforms.ToTensor()\n",
    "train_dataset = datasets.CIFAR10(root='../data', train=True, download=True, transform=transform)\n",
    "\n",
    "# Группируем индексы по классам\n",
    "class_indices = {class_idx: [] for class_idx in range(NUM_CLASSES)}\n",
    "for idx, (_, label) in enumerate(train_dataset):\n",
    "    class_indices[label].append(idx)\n",
    "\n",
    "# Разделяем данные\n",
    "initial_indices = []\n",
    "pool_indices = []\n",
    "\n",
    "for class_idx, indices in class_indices.items():\n",
    "    np.random.shuffle(indices)  # Перемешиваем индексы внутри класса\n",
    "    split_idx = int(len(indices) * p)  # Вычисляем границу разделения\n",
    "    initial_indices.extend(indices[:split_idx])\n",
    "    pool_indices.extend(indices[split_idx:])\n",
    "\n",
    "# Создаем подмножества данных\n",
    "initial_train_dataset = Subset(train_dataset, initial_indices)\n",
    "pool_dataset = Subset(train_dataset, pool_indices)\n",
    "\n",
    "print(f\"Размер initial_train_dataset: {len(initial_train_dataset)}\")\n",
    "print(f\"Размер pool_dataset: {len(pool_dataset)}\")"
   ]
  },
  {
   "cell_type": "code",
   "execution_count": 8,
   "metadata": {},
   "outputs": [],
   "source": [
    "sys.path.insert(0, os.path.abspath(os.path.join(os.getcwd(), '..')))\n",
    "from base_trainer import Trainer\n",
    "from model import SimpleCNN\n",
    "sys.path.insert(0, os.path.abspath(os.path.join(os.getcwd(), 'EGL')))"
   ]
  },
  {
   "cell_type": "code",
   "execution_count": 9,
   "metadata": {},
   "outputs": [],
   "source": [
    "class BALDTrainer(Trainer):\n",
    "\n",
    "    def enable_dropout(self):\n",
    "        \"\"\"\n",
    "        Включает Dropout в модели даже в режиме eval.\n",
    "        \"\"\"\n",
    "        for module in self.model.modules():\n",
    "            if module.__class__.__name__.startswith('Dropout'):\n",
    "                module.train()\n",
    "\n",
    "    def select_samples(self, num_samples):\n",
    "        \"\"\"\n",
    "        Выбирает наиболее информативные примеры из пула данных, используя метод BALD.\n",
    "\n",
    "        :param num_samples: Количество отбираемых примеров.\n",
    "        :return: Список индексов информативных примеров.\n",
    "        \"\"\"\n",
    "        self.model.eval()  # Переключаем модель в режим оценки\n",
    "        self.enable_dropout() # Включаем Dropout для Monte Carlo Dropout\n",
    "        all_entropies = []  # Список для хранения энтропий каждого примера\n",
    "        all_indices = []  # Список для хранения индексов примеров\n",
    "\n",
    "        with torch.no_grad():\n",
    "            for batch in self.pool_loader:\n",
    "                inputs, indices = batch  # Предполагается, что loader возвращает данные и их индексы\n",
    "                inputs = inputs.to(self.device)\n",
    "\n",
    "                # Monte Carlo Dropout: несколько проходов через модель\n",
    "                mc_outputs = torch.stack([\n",
    "                    torch.softmax(self.model(inputs), dim=-1) for _ in range(10)  # 10 итераций MC Dropout\n",
    "                ])  # (mc_samples, batch_size, num_classes)\n",
    "\n",
    "                # Среднее предсказание по всем MC итерациям\n",
    "                mean_probs = mc_outputs.mean(dim=0)  # (batch_size, num_classes)\n",
    "\n",
    "                # Общая энтропия\n",
    "                total_entropy = -torch.sum(mean_probs * mean_probs.log(), dim=-1)  # (batch_size)\n",
    "\n",
    "                # Условная энтропия\n",
    "                conditional_entropy = -torch.mean(\n",
    "                    torch.sum(mc_outputs * mc_outputs.log(), dim=-1), dim=0  # (batch_size)\n",
    "                )\n",
    "\n",
    "                # Взаимная информация (BALD score)\n",
    "                bald_scores = total_entropy - conditional_entropy  # (batch_size)\n",
    "\n",
    "                # Сохраняем результаты\n",
    "                all_entropies.append(bald_scores.cpu())\n",
    "                all_indices.append(indices)\n",
    "\n",
    "        # Объединяем результаты для всех батчей\n",
    "        all_entropies = torch.cat(all_entropies)  # Все BALD оценки\n",
    "        all_indices = torch.cat(all_indices)  # Все индексы\n",
    "\n",
    "        # Отбираем топ-K индексов с наибольшими BALD оценками\n",
    "        _, top_indices = torch.topk(all_entropies, num_samples)\n",
    "        informative_indices = all_indices[top_indices].tolist()\n",
    "\n",
    "        # Обновляем dataloader для следующих итераций\n",
    "        self.update_dataloader(informative_indices)\n",
    "\n",
    "        return informative_indices\n",
    "    \n",
    "    def update_dataloader(self, samples_index):\n",
    "        \"\"\"\n",
    "        Обновляем даталоудеры\n",
    "        \"\"\"\n",
    "        samples = [self.pool_loader.dataset[i] for i in samples_index]\n",
    "\n",
    "\n",
    "        new_train_data = ConcatDataset([self.train_loader.dataset, samples])\n",
    "        \n",
    "        self.train_loader = DataLoader(new_train_data,\n",
    "                                       batch_size=self.train_loader.batch_size,\n",
    "                                       shuffle=True,\n",
    "                                       num_workers=self.train_loader.num_workers)\n",
    "        \n",
    "\n",
    "        all_indexes = list(range(len(self.pool_loader.dataset)))\n",
    "        \n",
    "        filtered_indexes = [idx for idx in all_indexes if idx not in samples_index]\n",
    "\n",
    "        new_pool_data = Subset(self.pool_loader.dataset, filtered_indexes)\n",
    "\n",
    "        self.pool_loader = DataLoader(new_pool_data,\n",
    "                                      batch_size=self.pool_loader.batch_size,\n",
    "                                      shuffle=True,\n",
    "                                      num_workers=self.pool_loader.num_workers)\n",
    "    \n",
    "    def fit(self, num_epochs, num_samples = BATCH_ADD_SIZE):\n",
    "\n",
    "        \"\"\"\n",
    "        Полный цикл обучения.\n",
    "        :param num_epochs: Количество эпох\n",
    "        \"\"\"\n",
    "        for epoch in range(num_epochs):\n",
    "\n",
    "            train_loss = self.train_step()\n",
    "            val_loss, accuracy, f1 = self.val_step()\n",
    "            if len(self.pool_loader.dataset) > num_samples:\n",
    "                self.select_samples(num_samples)\n",
    "            if self.scheduler is not None:\n",
    "                if isinstance(self.scheduler, torch.optim.lr_scheduler.ReduceLROnPlateau):\n",
    "                    self.scheduler.step(val_loss)\n",
    "                else:\n",
    "                    self.scheduler.step()\n",
    "\n",
    "            \n",
    "            print(f\"Epoch {epoch+1}/{num_epochs} - Train Loss: {train_loss:.4f}, Val Loss: {val_loss:.4f}, Acc: {accuracy:.4f}, F1: {f1:.4f}\")\n",
    "\n",
    "\n"
   ]
  },
  {
   "cell_type": "code",
   "execution_count": 10,
   "metadata": {},
   "outputs": [],
   "source": [
    "train_dataloader = DataLoader(initial_train_dataset, batch_size=128, shuffle=True)\n",
    "pool_dataloader = DataLoader(pool_dataset, batch_size=128, shuffle=True)\n",
    "val_dataloader = DataLoader(test_dataset, batch_size=128, shuffle=True)"
   ]
  },
  {
   "cell_type": "code",
   "execution_count": 11,
   "metadata": {},
   "outputs": [],
   "source": [
    "model = SimpleCNN(10)"
   ]
  },
  {
   "cell_type": "code",
   "execution_count": 12,
   "metadata": {},
   "outputs": [],
   "source": [
    "EPOCHS = 50\n",
    "learning_rate = 5e-4\n",
    "total_steps = len(train_dataloader) * EPOCHS\n",
    "\n",
    "optimizer = optim.AdamW(model.parameters(), lr=learning_rate )\n",
    "# from adabelief_pytorch import AdaBelief\n",
    "# optimizer = AdaBelief(model.parameters(), lr=learning_rate, eps=learning_rate, betas=(0.9, 0.999), weight_decay=1e-2, weight_decouple=False, rectify=True, print_change_log = False)\n",
    "criterion = torch.nn.CrossEntropyLoss()\n",
    "scheduler = optim.lr_scheduler.ReduceLROnPlateau(optimizer, mode='min', factor=0.5, patience=5)\n",
    "# scheduler = optim.lr_scheduler.OneCycleLR(optimizer, max_lr=learning_rate , total_steps=total_steps, pct_start=0.1, anneal_strategy='linear')\n"
   ]
  },
  {
   "cell_type": "code",
   "execution_count": 13,
   "metadata": {},
   "outputs": [
    {
     "data": {
      "text/plain": [
       "'cuda'"
      ]
     },
     "execution_count": 13,
     "metadata": {},
     "output_type": "execute_result"
    }
   ],
   "source": [
    "DEVICE = 'cuda' if torch.cuda.is_available() else 'cpu'\n",
    "DEVICE\n"
   ]
  },
  {
   "cell_type": "code",
   "execution_count": 14,
   "metadata": {},
   "outputs": [],
   "source": [
    "trainer = BALDTrainer(model=model.to(DEVICE), \n",
    "                     optimizer=optimizer,\n",
    "                     criterion=criterion, \n",
    "                     train_loader=train_dataloader,\n",
    "                     val_loader=val_dataloader, \n",
    "                     device=DEVICE, \n",
    "                     scheduler = None,\n",
    "                     pool_loader= pool_dataloader)"
   ]
  },
  {
   "cell_type": "code",
   "execution_count": 15,
   "metadata": {},
   "outputs": [
    {
     "name": "stderr",
     "output_type": "stream",
     "text": [
      "Training: 100%|██████████| 79/79 [00:01<00:00, 46.97it/s]\n",
      "Validating: 100%|██████████| 79/79 [00:01<00:00, 43.83it/s]\n"
     ]
    },
    {
     "name": "stdout",
     "output_type": "stream",
     "text": [
      "Validation Loss: 3.1731, Accuracy: 0.2179, F1 Score: 0.1662\n",
      "Epoch 1/50 - Train Loss: 2.0818, Val Loss: 3.1731, Acc: 0.2179, F1: 0.1662\n"
     ]
    },
    {
     "name": "stderr",
     "output_type": "stream",
     "text": [
      "Training: 100%|██████████| 86/86 [00:01<00:00, 58.64it/s]\n",
      "Validating: 100%|██████████| 79/79 [00:01<00:00, 42.50it/s]\n"
     ]
    },
    {
     "name": "stdout",
     "output_type": "stream",
     "text": [
      "Validation Loss: 6.3379, Accuracy: 0.1939, F1 Score: 0.1397\n",
      "Epoch 2/50 - Train Loss: 1.7384, Val Loss: 6.3379, Acc: 0.1939, F1: 0.1397\n"
     ]
    },
    {
     "name": "stderr",
     "output_type": "stream",
     "text": [
      "Training: 100%|██████████| 94/94 [00:01<00:00, 62.56it/s]\n",
      "Validating: 100%|██████████| 79/79 [00:01<00:00, 41.42it/s]\n"
     ]
    },
    {
     "name": "stdout",
     "output_type": "stream",
     "text": [
      "Validation Loss: 7.2491, Accuracy: 0.1683, F1 Score: 0.1274\n",
      "Epoch 3/50 - Train Loss: 1.4706, Val Loss: 7.2491, Acc: 0.1683, F1: 0.1274\n"
     ]
    },
    {
     "name": "stderr",
     "output_type": "stream",
     "text": [
      "Training: 100%|██████████| 102/102 [00:01<00:00, 65.85it/s]\n",
      "Validating: 100%|██████████| 79/79 [00:01<00:00, 42.04it/s]\n"
     ]
    },
    {
     "name": "stdout",
     "output_type": "stream",
     "text": [
      "Validation Loss: 7.2738, Accuracy: 0.1961, F1 Score: 0.1582\n",
      "Epoch 4/50 - Train Loss: 1.3066, Val Loss: 7.2738, Acc: 0.1961, F1: 0.1582\n"
     ]
    },
    {
     "name": "stderr",
     "output_type": "stream",
     "text": [
      "Training: 100%|██████████| 110/110 [00:01<00:00, 69.65it/s]\n",
      "Validating: 100%|██████████| 79/79 [00:01<00:00, 42.68it/s]\n"
     ]
    },
    {
     "name": "stdout",
     "output_type": "stream",
     "text": [
      "Validation Loss: 7.3016, Accuracy: 0.2165, F1 Score: 0.1867\n",
      "Epoch 5/50 - Train Loss: 1.1822, Val Loss: 7.3016, Acc: 0.2165, F1: 0.1867\n"
     ]
    },
    {
     "name": "stderr",
     "output_type": "stream",
     "text": [
      "Training: 100%|██████████| 118/118 [00:01<00:00, 71.67it/s]\n",
      "Validating: 100%|██████████| 79/79 [00:01<00:00, 41.73it/s]\n"
     ]
    },
    {
     "name": "stdout",
     "output_type": "stream",
     "text": [
      "Validation Loss: 7.7849, Accuracy: 0.2404, F1 Score: 0.1932\n",
      "Epoch 6/50 - Train Loss: 1.0764, Val Loss: 7.7849, Acc: 0.2404, F1: 0.1932\n"
     ]
    },
    {
     "name": "stderr",
     "output_type": "stream",
     "text": [
      "Training: 100%|██████████| 125/125 [00:01<00:00, 74.43it/s]\n",
      "Validating: 100%|██████████| 79/79 [00:01<00:00, 41.56it/s]\n"
     ]
    },
    {
     "name": "stdout",
     "output_type": "stream",
     "text": [
      "Validation Loss: 7.2778, Accuracy: 0.2723, F1 Score: 0.2267\n",
      "Epoch 7/50 - Train Loss: 0.9772, Val Loss: 7.2778, Acc: 0.2723, F1: 0.2267\n"
     ]
    },
    {
     "name": "stderr",
     "output_type": "stream",
     "text": [
      "Training: 100%|██████████| 133/133 [00:01<00:00, 76.80it/s]\n",
      "Validating: 100%|██████████| 79/79 [00:01<00:00, 41.95it/s]\n"
     ]
    },
    {
     "name": "stdout",
     "output_type": "stream",
     "text": [
      "Validation Loss: 7.4374, Accuracy: 0.2764, F1 Score: 0.2344\n",
      "Epoch 8/50 - Train Loss: 0.8728, Val Loss: 7.4374, Acc: 0.2764, F1: 0.2344\n"
     ]
    },
    {
     "name": "stderr",
     "output_type": "stream",
     "text": [
      "Training: 100%|██████████| 141/141 [00:01<00:00, 81.16it/s]\n",
      "Validating: 100%|██████████| 79/79 [00:01<00:00, 42.96it/s]\n"
     ]
    },
    {
     "name": "stdout",
     "output_type": "stream",
     "text": [
      "Validation Loss: 5.7368, Accuracy: 0.3370, F1 Score: 0.2898\n",
      "Epoch 9/50 - Train Loss: 0.8139, Val Loss: 5.7368, Acc: 0.3370, F1: 0.2898\n"
     ]
    },
    {
     "name": "stderr",
     "output_type": "stream",
     "text": [
      "Training: 100%|██████████| 149/149 [00:01<00:00, 83.87it/s]\n",
      "Validating: 100%|██████████| 79/79 [00:01<00:00, 42.65it/s]\n"
     ]
    },
    {
     "name": "stdout",
     "output_type": "stream",
     "text": [
      "Validation Loss: 7.0406, Accuracy: 0.3043, F1 Score: 0.2642\n",
      "Epoch 10/50 - Train Loss: 0.7386, Val Loss: 7.0406, Acc: 0.3043, F1: 0.2642\n"
     ]
    },
    {
     "name": "stderr",
     "output_type": "stream",
     "text": [
      "Training: 100%|██████████| 157/157 [00:01<00:00, 85.10it/s]\n",
      "Validating: 100%|██████████| 79/79 [00:01<00:00, 43.11it/s]\n"
     ]
    },
    {
     "name": "stdout",
     "output_type": "stream",
     "text": [
      "Validation Loss: 7.4090, Accuracy: 0.2984, F1 Score: 0.2587\n",
      "Epoch 11/50 - Train Loss: 0.6992, Val Loss: 7.4090, Acc: 0.2984, F1: 0.2587\n"
     ]
    },
    {
     "name": "stderr",
     "output_type": "stream",
     "text": [
      "Training: 100%|██████████| 165/165 [00:01<00:00, 88.38it/s]\n",
      "Validating: 100%|██████████| 79/79 [00:01<00:00, 43.06it/s]\n"
     ]
    },
    {
     "name": "stdout",
     "output_type": "stream",
     "text": [
      "Validation Loss: 7.5685, Accuracy: 0.3103, F1 Score: 0.2670\n",
      "Epoch 12/50 - Train Loss: 0.6501, Val Loss: 7.5685, Acc: 0.3103, F1: 0.2670\n"
     ]
    },
    {
     "name": "stderr",
     "output_type": "stream",
     "text": [
      "Training: 100%|██████████| 172/172 [00:01<00:00, 89.91it/s]\n",
      "Validating: 100%|██████████| 79/79 [00:01<00:00, 43.56it/s]\n"
     ]
    },
    {
     "name": "stdout",
     "output_type": "stream",
     "text": [
      "Validation Loss: 6.2221, Accuracy: 0.3582, F1 Score: 0.3202\n",
      "Epoch 13/50 - Train Loss: 0.6076, Val Loss: 6.2221, Acc: 0.3582, F1: 0.3202\n"
     ]
    },
    {
     "name": "stderr",
     "output_type": "stream",
     "text": [
      "Training: 100%|██████████| 180/180 [00:01<00:00, 92.65it/s]\n",
      "Validating: 100%|██████████| 79/79 [00:01<00:00, 43.56it/s]\n"
     ]
    },
    {
     "name": "stdout",
     "output_type": "stream",
     "text": [
      "Validation Loss: 6.0895, Accuracy: 0.3606, F1 Score: 0.3255\n",
      "Epoch 14/50 - Train Loss: 0.5677, Val Loss: 6.0895, Acc: 0.3606, F1: 0.3255\n"
     ]
    },
    {
     "name": "stderr",
     "output_type": "stream",
     "text": [
      "Training: 100%|██████████| 188/188 [00:02<00:00, 93.04it/s]\n",
      "Validating: 100%|██████████| 79/79 [00:01<00:00, 42.90it/s]\n"
     ]
    },
    {
     "name": "stdout",
     "output_type": "stream",
     "text": [
      "Validation Loss: 6.8690, Accuracy: 0.3355, F1 Score: 0.3066\n",
      "Epoch 15/50 - Train Loss: 0.5276, Val Loss: 6.8690, Acc: 0.3355, F1: 0.3066\n"
     ]
    },
    {
     "name": "stderr",
     "output_type": "stream",
     "text": [
      "Training: 100%|██████████| 196/196 [00:02<00:00, 96.36it/s]\n",
      "Validating: 100%|██████████| 79/79 [00:01<00:00, 43.55it/s]\n"
     ]
    },
    {
     "name": "stdout",
     "output_type": "stream",
     "text": [
      "Validation Loss: 6.0372, Accuracy: 0.3834, F1 Score: 0.3564\n",
      "Epoch 16/50 - Train Loss: 0.4891, Val Loss: 6.0372, Acc: 0.3834, F1: 0.3564\n"
     ]
    },
    {
     "name": "stderr",
     "output_type": "stream",
     "text": [
      "Training: 100%|██████████| 204/204 [00:02<00:00, 97.73it/s] \n",
      "Validating: 100%|██████████| 79/79 [00:02<00:00, 39.49it/s]\n"
     ]
    },
    {
     "name": "stdout",
     "output_type": "stream",
     "text": [
      "Validation Loss: 6.3088, Accuracy: 0.3776, F1 Score: 0.3422\n",
      "Epoch 17/50 - Train Loss: 0.4607, Val Loss: 6.3088, Acc: 0.3776, F1: 0.3422\n"
     ]
    },
    {
     "name": "stderr",
     "output_type": "stream",
     "text": [
      "Training: 100%|██████████| 211/211 [00:02<00:00, 97.01it/s]\n",
      "Validating: 100%|██████████| 79/79 [00:01<00:00, 41.58it/s]\n"
     ]
    },
    {
     "name": "stdout",
     "output_type": "stream",
     "text": [
      "Validation Loss: 6.8965, Accuracy: 0.3521, F1 Score: 0.3286\n",
      "Epoch 18/50 - Train Loss: 0.4411, Val Loss: 6.8965, Acc: 0.3521, F1: 0.3286\n"
     ]
    },
    {
     "name": "stderr",
     "output_type": "stream",
     "text": [
      "Training: 100%|██████████| 219/219 [00:02<00:00, 100.83it/s]\n",
      "Validating: 100%|██████████| 79/79 [00:01<00:00, 42.31it/s]\n"
     ]
    },
    {
     "name": "stdout",
     "output_type": "stream",
     "text": [
      "Validation Loss: 6.2787, Accuracy: 0.3784, F1 Score: 0.3558\n",
      "Epoch 19/50 - Train Loss: 0.4154, Val Loss: 6.2787, Acc: 0.3784, F1: 0.3558\n"
     ]
    },
    {
     "name": "stderr",
     "output_type": "stream",
     "text": [
      "Training: 100%|██████████| 227/227 [00:02<00:00, 102.79it/s]\n",
      "Validating: 100%|██████████| 79/79 [00:01<00:00, 42.94it/s]\n"
     ]
    },
    {
     "name": "stdout",
     "output_type": "stream",
     "text": [
      "Validation Loss: 6.1646, Accuracy: 0.3942, F1 Score: 0.3608\n",
      "Epoch 20/50 - Train Loss: 0.3923, Val Loss: 6.1646, Acc: 0.3942, F1: 0.3608\n"
     ]
    },
    {
     "name": "stderr",
     "output_type": "stream",
     "text": [
      "Training: 100%|██████████| 235/235 [00:02<00:00, 103.89it/s]\n",
      "Validating: 100%|██████████| 79/79 [00:01<00:00, 42.73it/s]\n"
     ]
    },
    {
     "name": "stdout",
     "output_type": "stream",
     "text": [
      "Validation Loss: 6.3193, Accuracy: 0.3864, F1 Score: 0.3628\n",
      "Epoch 21/50 - Train Loss: 0.3653, Val Loss: 6.3193, Acc: 0.3864, F1: 0.3628\n"
     ]
    },
    {
     "name": "stderr",
     "output_type": "stream",
     "text": [
      "Training: 100%|██████████| 243/243 [00:02<00:00, 105.74it/s]\n",
      "Validating: 100%|██████████| 79/79 [00:01<00:00, 42.74it/s]\n"
     ]
    },
    {
     "name": "stdout",
     "output_type": "stream",
     "text": [
      "Validation Loss: 6.7850, Accuracy: 0.3724, F1 Score: 0.3494\n",
      "Epoch 22/50 - Train Loss: 0.3437, Val Loss: 6.7850, Acc: 0.3724, F1: 0.3494\n"
     ]
    },
    {
     "name": "stderr",
     "output_type": "stream",
     "text": [
      "Training: 100%|██████████| 250/250 [00:02<00:00, 103.84it/s]\n",
      "Validating: 100%|██████████| 79/79 [00:01<00:00, 42.93it/s]\n"
     ]
    },
    {
     "name": "stdout",
     "output_type": "stream",
     "text": [
      "Validation Loss: 6.5411, Accuracy: 0.3787, F1 Score: 0.3500\n",
      "Epoch 23/50 - Train Loss: 0.3275, Val Loss: 6.5411, Acc: 0.3787, F1: 0.3500\n"
     ]
    },
    {
     "name": "stderr",
     "output_type": "stream",
     "text": [
      "Training: 100%|██████████| 258/258 [00:02<00:00, 108.87it/s]\n",
      "Validating: 100%|██████████| 79/79 [00:01<00:00, 43.08it/s]\n"
     ]
    },
    {
     "name": "stdout",
     "output_type": "stream",
     "text": [
      "Validation Loss: 7.7618, Accuracy: 0.3532, F1 Score: 0.3218\n",
      "Epoch 24/50 - Train Loss: 0.3058, Val Loss: 7.7618, Acc: 0.3532, F1: 0.3218\n"
     ]
    },
    {
     "name": "stderr",
     "output_type": "stream",
     "text": [
      "Training: 100%|██████████| 266/266 [00:02<00:00, 111.05it/s]\n",
      "Validating: 100%|██████████| 79/79 [00:01<00:00, 41.80it/s]\n"
     ]
    },
    {
     "name": "stdout",
     "output_type": "stream",
     "text": [
      "Validation Loss: 6.6036, Accuracy: 0.3851, F1 Score: 0.3600\n",
      "Epoch 25/50 - Train Loss: 0.2907, Val Loss: 6.6036, Acc: 0.3851, F1: 0.3600\n"
     ]
    },
    {
     "name": "stderr",
     "output_type": "stream",
     "text": [
      "Training: 100%|██████████| 274/274 [00:02<00:00, 107.75it/s]\n",
      "Validating: 100%|██████████| 79/79 [00:01<00:00, 41.54it/s]\n"
     ]
    },
    {
     "name": "stdout",
     "output_type": "stream",
     "text": [
      "Validation Loss: 7.4641, Accuracy: 0.3726, F1 Score: 0.3483\n",
      "Epoch 26/50 - Train Loss: 0.2719, Val Loss: 7.4641, Acc: 0.3726, F1: 0.3483\n"
     ]
    },
    {
     "name": "stderr",
     "output_type": "stream",
     "text": [
      "Training: 100%|██████████| 282/282 [00:02<00:00, 110.01it/s]\n",
      "Validating: 100%|██████████| 79/79 [00:01<00:00, 42.33it/s]\n"
     ]
    },
    {
     "name": "stdout",
     "output_type": "stream",
     "text": [
      "Validation Loss: 6.8336, Accuracy: 0.3952, F1 Score: 0.3686\n",
      "Epoch 27/50 - Train Loss: 0.2632, Val Loss: 6.8336, Acc: 0.3952, F1: 0.3686\n"
     ]
    },
    {
     "name": "stderr",
     "output_type": "stream",
     "text": [
      "Training: 100%|██████████| 290/290 [00:02<00:00, 110.53it/s]\n",
      "Validating: 100%|██████████| 79/79 [00:01<00:00, 42.85it/s]\n"
     ]
    },
    {
     "name": "stdout",
     "output_type": "stream",
     "text": [
      "Validation Loss: 6.9001, Accuracy: 0.3983, F1 Score: 0.3751\n",
      "Epoch 28/50 - Train Loss: 0.2476, Val Loss: 6.9001, Acc: 0.3983, F1: 0.3751\n"
     ]
    },
    {
     "name": "stderr",
     "output_type": "stream",
     "text": [
      "Training: 100%|██████████| 297/297 [00:02<00:00, 113.01it/s]\n",
      "Validating: 100%|██████████| 79/79 [00:01<00:00, 42.77it/s]\n"
     ]
    },
    {
     "name": "stdout",
     "output_type": "stream",
     "text": [
      "Validation Loss: 7.1483, Accuracy: 0.4010, F1 Score: 0.3744\n",
      "Epoch 29/50 - Train Loss: 0.2323, Val Loss: 7.1483, Acc: 0.4010, F1: 0.3744\n"
     ]
    },
    {
     "name": "stderr",
     "output_type": "stream",
     "text": [
      "Training: 100%|██████████| 305/305 [00:02<00:00, 114.16it/s]\n",
      "Validating: 100%|██████████| 79/79 [00:01<00:00, 41.08it/s]\n"
     ]
    },
    {
     "name": "stdout",
     "output_type": "stream",
     "text": [
      "Validation Loss: 6.5967, Accuracy: 0.4233, F1 Score: 0.3890\n",
      "Epoch 30/50 - Train Loss: 0.2210, Val Loss: 6.5967, Acc: 0.4233, F1: 0.3890\n"
     ]
    },
    {
     "name": "stderr",
     "output_type": "stream",
     "text": [
      "Training: 100%|██████████| 313/313 [00:02<00:00, 118.56it/s]\n",
      "Validating: 100%|██████████| 79/79 [00:01<00:00, 40.07it/s]\n"
     ]
    },
    {
     "name": "stdout",
     "output_type": "stream",
     "text": [
      "Validation Loss: 7.8759, Accuracy: 0.3900, F1 Score: 0.3557\n",
      "Epoch 31/50 - Train Loss: 0.2080, Val Loss: 7.8759, Acc: 0.3900, F1: 0.3557\n"
     ]
    },
    {
     "name": "stderr",
     "output_type": "stream",
     "text": [
      "Training: 100%|██████████| 321/321 [00:02<00:00, 115.15it/s]\n",
      "Validating: 100%|██████████| 79/79 [00:01<00:00, 43.87it/s]\n"
     ]
    },
    {
     "name": "stdout",
     "output_type": "stream",
     "text": [
      "Validation Loss: 7.5753, Accuracy: 0.4028, F1 Score: 0.3782\n",
      "Epoch 32/50 - Train Loss: 0.1977, Val Loss: 7.5753, Acc: 0.4028, F1: 0.3782\n"
     ]
    },
    {
     "name": "stderr",
     "output_type": "stream",
     "text": [
      "Training: 100%|██████████| 329/329 [00:02<00:00, 114.12it/s]\n",
      "Validating: 100%|██████████| 79/79 [00:01<00:00, 40.77it/s]\n"
     ]
    },
    {
     "name": "stdout",
     "output_type": "stream",
     "text": [
      "Validation Loss: 6.9463, Accuracy: 0.4272, F1 Score: 0.4026\n",
      "Epoch 33/50 - Train Loss: 0.1857, Val Loss: 6.9463, Acc: 0.4272, F1: 0.4026\n"
     ]
    },
    {
     "name": "stderr",
     "output_type": "stream",
     "text": [
      "Training: 100%|██████████| 336/336 [00:02<00:00, 116.62it/s]\n",
      "Validating: 100%|██████████| 79/79 [00:01<00:00, 43.18it/s]\n"
     ]
    },
    {
     "name": "stdout",
     "output_type": "stream",
     "text": [
      "Validation Loss: 7.7367, Accuracy: 0.4099, F1 Score: 0.3873\n",
      "Epoch 34/50 - Train Loss: 0.1745, Val Loss: 7.7367, Acc: 0.4099, F1: 0.3873\n"
     ]
    },
    {
     "name": "stderr",
     "output_type": "stream",
     "text": [
      "Training: 100%|██████████| 344/344 [00:02<00:00, 120.47it/s]\n",
      "Validating: 100%|██████████| 79/79 [00:01<00:00, 42.13it/s]\n"
     ]
    },
    {
     "name": "stdout",
     "output_type": "stream",
     "text": [
      "Validation Loss: 7.4675, Accuracy: 0.4151, F1 Score: 0.3898\n",
      "Epoch 35/50 - Train Loss: 0.1660, Val Loss: 7.4675, Acc: 0.4151, F1: 0.3898\n"
     ]
    },
    {
     "name": "stderr",
     "output_type": "stream",
     "text": [
      "Training: 100%|██████████| 352/352 [00:02<00:00, 118.66it/s]\n",
      "Validating: 100%|██████████| 79/79 [00:01<00:00, 41.76it/s]\n"
     ]
    },
    {
     "name": "stdout",
     "output_type": "stream",
     "text": [
      "Validation Loss: 7.6748, Accuracy: 0.4156, F1 Score: 0.3911\n",
      "Epoch 36/50 - Train Loss: 0.1548, Val Loss: 7.6748, Acc: 0.4156, F1: 0.3911\n"
     ]
    },
    {
     "name": "stderr",
     "output_type": "stream",
     "text": [
      "Training: 100%|██████████| 360/360 [00:03<00:00, 117.01it/s]\n",
      "Validating: 100%|██████████| 79/79 [00:01<00:00, 44.25it/s]\n"
     ]
    },
    {
     "name": "stdout",
     "output_type": "stream",
     "text": [
      "Validation Loss: 7.2385, Accuracy: 0.4391, F1 Score: 0.4126\n",
      "Epoch 37/50 - Train Loss: 0.1488, Val Loss: 7.2385, Acc: 0.4391, F1: 0.4126\n"
     ]
    },
    {
     "name": "stderr",
     "output_type": "stream",
     "text": [
      "Training: 100%|██████████| 368/368 [00:03<00:00, 122.23it/s]\n",
      "Validating: 100%|██████████| 79/79 [00:01<00:00, 43.08it/s]\n"
     ]
    },
    {
     "name": "stdout",
     "output_type": "stream",
     "text": [
      "Validation Loss: 7.2214, Accuracy: 0.4397, F1 Score: 0.4141\n",
      "Epoch 38/50 - Train Loss: 0.1443, Val Loss: 7.2214, Acc: 0.4397, F1: 0.4141\n"
     ]
    },
    {
     "name": "stderr",
     "output_type": "stream",
     "text": [
      "Training: 100%|██████████| 375/375 [00:03<00:00, 123.39it/s]\n",
      "Validating: 100%|██████████| 79/79 [00:01<00:00, 43.89it/s]\n"
     ]
    },
    {
     "name": "stdout",
     "output_type": "stream",
     "text": [
      "Validation Loss: 7.7441, Accuracy: 0.4362, F1 Score: 0.4071\n",
      "Epoch 39/50 - Train Loss: 0.1352, Val Loss: 7.7441, Acc: 0.4362, F1: 0.4071\n"
     ]
    },
    {
     "name": "stderr",
     "output_type": "stream",
     "text": [
      "Training: 100%|██████████| 383/383 [00:03<00:00, 125.77it/s]\n",
      "Validating: 100%|██████████| 79/79 [00:01<00:00, 43.34it/s]\n"
     ]
    },
    {
     "name": "stdout",
     "output_type": "stream",
     "text": [
      "Validation Loss: 8.1111, Accuracy: 0.4302, F1 Score: 0.4100\n",
      "Epoch 40/50 - Train Loss: 0.1262, Val Loss: 8.1111, Acc: 0.4302, F1: 0.4100\n"
     ]
    },
    {
     "name": "stderr",
     "output_type": "stream",
     "text": [
      "Training: 100%|██████████| 391/391 [00:03<00:00, 125.07it/s]\n",
      "Validating: 100%|██████████| 79/79 [00:01<00:00, 43.08it/s]\n"
     ]
    },
    {
     "name": "stdout",
     "output_type": "stream",
     "text": [
      "Validation Loss: 8.2541, Accuracy: 0.4383, F1 Score: 0.4167\n",
      "Epoch 41/50 - Train Loss: 0.1221, Val Loss: 8.2541, Acc: 0.4383, F1: 0.4167\n"
     ]
    },
    {
     "name": "stderr",
     "output_type": "stream",
     "text": [
      "Training: 100%|██████████| 399/399 [00:03<00:00, 125.69it/s]\n",
      "Validating: 100%|██████████| 79/79 [00:01<00:00, 44.01it/s]\n"
     ]
    },
    {
     "name": "stdout",
     "output_type": "stream",
     "text": [
      "Validation Loss: 9.0940, Accuracy: 0.4276, F1 Score: 0.3937\n",
      "Epoch 42/50 - Train Loss: 0.1132, Val Loss: 9.0940, Acc: 0.4276, F1: 0.3937\n"
     ]
    },
    {
     "name": "stderr",
     "output_type": "stream",
     "text": [
      "Training: 100%|██████████| 407/407 [00:03<00:00, 126.96it/s]\n",
      "Validating: 100%|██████████| 79/79 [00:01<00:00, 42.56it/s]\n"
     ]
    },
    {
     "name": "stdout",
     "output_type": "stream",
     "text": [
      "Validation Loss: 8.3367, Accuracy: 0.4428, F1 Score: 0.4114\n",
      "Epoch 43/50 - Train Loss: 0.1088, Val Loss: 8.3367, Acc: 0.4428, F1: 0.4114\n"
     ]
    },
    {
     "name": "stderr",
     "output_type": "stream",
     "text": [
      "Training: 100%|██████████| 415/415 [00:03<00:00, 125.88it/s]\n",
      "Validating: 100%|██████████| 79/79 [00:01<00:00, 43.23it/s]\n"
     ]
    },
    {
     "name": "stdout",
     "output_type": "stream",
     "text": [
      "Validation Loss: 8.7565, Accuracy: 0.4367, F1 Score: 0.4107\n",
      "Epoch 44/50 - Train Loss: 0.1026, Val Loss: 8.7565, Acc: 0.4367, F1: 0.4107\n"
     ]
    },
    {
     "name": "stderr",
     "output_type": "stream",
     "text": [
      "Training: 100%|██████████| 422/422 [00:03<00:00, 125.66it/s]\n",
      "Validating: 100%|██████████| 79/79 [00:01<00:00, 44.35it/s]\n"
     ]
    },
    {
     "name": "stdout",
     "output_type": "stream",
     "text": [
      "Validation Loss: 7.8866, Accuracy: 0.4557, F1 Score: 0.4349\n",
      "Epoch 45/50 - Train Loss: 0.0951, Val Loss: 7.8866, Acc: 0.4557, F1: 0.4349\n"
     ]
    },
    {
     "name": "stderr",
     "output_type": "stream",
     "text": [
      "Training: 100%|██████████| 430/430 [00:03<00:00, 127.34it/s]\n",
      "Validating: 100%|██████████| 79/79 [00:01<00:00, 44.55it/s]\n"
     ]
    },
    {
     "name": "stdout",
     "output_type": "stream",
     "text": [
      "Validation Loss: 9.2235, Accuracy: 0.4383, F1 Score: 0.4094\n",
      "Epoch 46/50 - Train Loss: 0.0908, Val Loss: 9.2235, Acc: 0.4383, F1: 0.4094\n"
     ]
    },
    {
     "name": "stderr",
     "output_type": "stream",
     "text": [
      "Training: 100%|██████████| 438/438 [00:03<00:00, 126.97it/s]\n",
      "Validating: 100%|██████████| 79/79 [00:01<00:00, 42.94it/s]\n"
     ]
    },
    {
     "name": "stdout",
     "output_type": "stream",
     "text": [
      "Validation Loss: 8.9068, Accuracy: 0.4452, F1 Score: 0.4194\n",
      "Epoch 47/50 - Train Loss: 0.0858, Val Loss: 8.9068, Acc: 0.4452, F1: 0.4194\n"
     ]
    },
    {
     "name": "stderr",
     "output_type": "stream",
     "text": [
      "Training: 100%|██████████| 446/446 [00:03<00:00, 128.50it/s]\n",
      "Validating: 100%|██████████| 79/79 [00:01<00:00, 42.46it/s]\n"
     ]
    },
    {
     "name": "stdout",
     "output_type": "stream",
     "text": [
      "Validation Loss: 9.5348, Accuracy: 0.4516, F1 Score: 0.4164\n",
      "Epoch 48/50 - Train Loss: 0.0840, Val Loss: 9.5348, Acc: 0.4516, F1: 0.4164\n"
     ]
    },
    {
     "name": "stderr",
     "output_type": "stream",
     "text": [
      "Training: 100%|██████████| 454/454 [00:03<00:00, 127.79it/s]\n",
      "Validating: 100%|██████████| 79/79 [00:01<00:00, 43.75it/s]\n"
     ]
    },
    {
     "name": "stdout",
     "output_type": "stream",
     "text": [
      "Validation Loss: 9.2645, Accuracy: 0.4512, F1 Score: 0.4151\n",
      "Epoch 49/50 - Train Loss: 0.0788, Val Loss: 9.2645, Acc: 0.4512, F1: 0.4151\n"
     ]
    },
    {
     "name": "stderr",
     "output_type": "stream",
     "text": [
      "Training: 100%|██████████| 461/461 [00:03<00:00, 132.54it/s]\n",
      "Validating: 100%|██████████| 79/79 [00:01<00:00, 44.29it/s]\n"
     ]
    },
    {
     "name": "stdout",
     "output_type": "stream",
     "text": [
      "Validation Loss: 10.4889, Accuracy: 0.4277, F1 Score: 0.4053\n",
      "Epoch 50/50 - Train Loss: 0.0734, Val Loss: 10.4889, Acc: 0.4277, F1: 0.4053\n"
     ]
    }
   ],
   "source": [
    "trainer.fit(EPOCHS)\n"
   ]
  },
  {
   "cell_type": "code",
   "execution_count": 16,
   "metadata": {},
   "outputs": [
    {
     "data": {
      "image/png": "[encoded data removed]",
      "text/plain": [
       "<Figure size 1000x500 with 1 Axes>"
      ]
     },
     "metadata": {},
     "output_type": "display_data"
    }
   ],
   "source": [
    "trainer.plot_losses()"
   ]
  },
  {
   "cell_type": "code",
   "execution_count": 17,
   "metadata": {},
   "outputs": [
    {
     "data": {
      "image/png": "[encoded data removed]",
      "text/plain": [
       "<Figure size 1000x500 with 1 Axes>"
      ]
     },
     "metadata": {},
     "output_type": "display_data"
    }
   ],
   "source": [
    "trainer.plot_acc()"
   ]
  },
  {
   "cell_type": "code",
   "execution_count": 18,
   "metadata": {},
   "outputs": [
    {
     "data": {
      "image/png": "[encoded data removed]",
      "text/plain": [
       "<Figure size 1000x500 with 1 Axes>"
      ]
     },
     "metadata": {},
     "output_type": "display_data"
    }
   ],
   "source": [
    "trainer.plot_f1()"
   ]
  },
  {
   "cell_type": "markdown",
   "metadata": {},
   "source": []
  },
  {
   "cell_type": "code",
   "execution_count": null,
   "metadata": {},
   "outputs": [],
   "source": [
    "import sys\n",
    "import os\n",
    "\n",
    "sys.path.insert(0, os.path.abspath(os.path.join(os.getcwd(), '..')))\n"
   ]
  },
  {
   "cell_type": "code",
   "execution_count": null,
   "metadata": {},
   "outputs": [],
   "source": [
    "from base_trainer import Trainer"
   ]
  },
  {
   "cell_type": "code",
   "execution_count": null,
   "metadata": {},
   "outputs": [],
   "source": [
    "trainer = Trainer(model=model.to(DEVICE), optimizer=optimizer,criterion=criterion, train_loader=train_dataloader, val_loader=val_dataloader, device=DEVICE, scheduler = scheduler)"
   ]
  },
  {
   "cell_type": "code",
   "execution_count": null,
   "metadata": {},
   "outputs": [
    {
     "name": "stderr",
     "output_type": "stream",
     "text": [
      "Training: 100%|██████████| 782/782 [00:12<00:00, 63.48it/s]\n",
      "Validating: 100%|██████████| 157/157 [00:02<00:00, 77.56it/s]\n"
     ]
    },
    {
     "name": "stdout",
     "output_type": "stream",
     "text": [
      "Validation Loss: 1.1971, Accuracy: 0.5813, F1 Score: 0.5716\n",
      "Epoch 1/5 - Train Loss: 1.4456, Val Loss: 1.1971, Acc: 0.5813, F1: 0.5716\n"
     ]
    },
    {
     "name": "stderr",
     "output_type": "stream",
     "text": [
      "Training: 100%|██████████| 782/782 [00:12<00:00, 60.37it/s]\n",
      "Validating: 100%|██████████| 157/157 [00:02<00:00, 78.22it/s]\n"
     ]
    },
    {
     "name": "stdout",
     "output_type": "stream",
     "text": [
      "Validation Loss: 1.0325, Accuracy: 0.6368, F1 Score: 0.6324\n",
      "Epoch 2/5 - Train Loss: 1.1362, Val Loss: 1.0325, Acc: 0.6368, F1: 0.6324\n"
     ]
    },
    {
     "name": "stderr",
     "output_type": "stream",
     "text": [
      "Training: 100%|██████████| 782/782 [00:12<00:00, 60.79it/s]\n",
      "Validating: 100%|██████████| 157/157 [00:02<00:00, 77.56it/s]\n"
     ]
    },
    {
     "name": "stdout",
     "output_type": "stream",
     "text": [
      "Validation Loss: 0.9409, Accuracy: 0.6731, F1 Score: 0.6702\n",
      "Epoch 3/5 - Train Loss: 1.0026, Val Loss: 0.9409, Acc: 0.6731, F1: 0.6702\n"
     ]
    },
    {
     "name": "stderr",
     "output_type": "stream",
     "text": [
      "Training: 100%|██████████| 782/782 [00:13<00:00, 59.66it/s]\n",
      "Validating: 100%|██████████| 157/157 [00:02<00:00, 76.66it/s]\n"
     ]
    },
    {
     "name": "stdout",
     "output_type": "stream",
     "text": [
      "Validation Loss: 0.8854, Accuracy: 0.6921, F1 Score: 0.6893\n",
      "Epoch 4/5 - Train Loss: 0.9173, Val Loss: 0.8854, Acc: 0.6921, F1: 0.6893\n"
     ]
    },
    {
     "name": "stderr",
     "output_type": "stream",
     "text": [
      "Training: 100%|██████████| 782/782 [00:12<00:00, 60.40it/s]\n",
      "Validating: 100%|██████████| 157/157 [00:02<00:00, 76.14it/s]\n"
     ]
    },
    {
     "name": "stdout",
     "output_type": "stream",
     "text": [
      "Validation Loss: 0.8437, Accuracy: 0.7077, F1 Score: 0.7050\n",
      "Epoch 5/5 - Train Loss: 0.8472, Val Loss: 0.8437, Acc: 0.7077, F1: 0.7050\n"
     ]
    }
   ],
   "source": [
    "trainer.fit(5)"
   ]
  },
  {
   "cell_type": "code",
   "execution_count": null,
   "metadata": {},
   "outputs": [
    {
     "data": {
      "image/png": "[encoded data removed]",
      "text/plain": [
       "<Figure size 1000x500 with 1 Axes>"
      ]
     },
     "metadata": {},
     "output_type": "display_data"
    }
   ],
   "source": [
    "trainer.plot_f1()"
   ]
  },
  {
   "cell_type": "code",
   "execution_count": null,
   "metadata": {},
   "outputs": [],
   "source": []
  }
 ],
 "metadata": {
  "kernelspec": {
   "display_name": "pip-torch",
   "language": "python",
   "name": "python3"
  },
  "language_info": {
   "codemirror_mode": {
    "name": "ipython",
    "version": 3
   },
   "file_extension": ".py",
   "mimetype": "text/x-python",
   "name": "python",
   "nbconvert_exporter": "python",
   "pygments_lexer": "ipython3",
   "version": "3.11.5"
  }
 },
 "nbformat": 4,
 "nbformat_minor": 2
}
