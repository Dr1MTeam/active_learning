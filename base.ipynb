{
 "cells": [
  {
   "cell_type": "code",
   "execution_count": 1,
   "metadata": {},
   "outputs": [],
   "source": [
    "import torch\n",
    "import torch.nn as nn\n",
    "import torch.optim as optim\n",
    "from torch.utils.data import DataLoader, Subset, Dataset\n",
    "from torchvision import datasets, transforms, models\n",
    "import timm\n",
    "import numpy as np\n",
    "from matplotlib import pyplot as plt"
   ]
  },
  {
   "cell_type": "code",
   "execution_count": 2,
   "metadata": {},
   "outputs": [],
   "source": [
    "import sys\n",
    "import os"
   ]
  },
  {
   "cell_type": "code",
   "execution_count": 1,
   "metadata": {},
   "outputs": [],
   "source": [
    "from base_trainer import Trainer\n",
    "from model import SimpleCNN"
   ]
  },
  {
   "cell_type": "code",
   "execution_count": 15,
   "metadata": {},
   "outputs": [],
   "source": [
    "import json"
   ]
  },
  {
   "cell_type": "code",
   "execution_count": 5,
   "metadata": {},
   "outputs": [],
   "source": [
    "\n",
    "NUM_CLASSES = 10           # CIFAR-10\n"
   ]
  },
  {
   "cell_type": "code",
   "execution_count": 6,
   "metadata": {},
   "outputs": [
    {
     "name": "stdout",
     "output_type": "stream",
     "text": [
      "Files already downloaded and verified\n",
      "Files already downloaded and verified\n"
     ]
    }
   ],
   "source": [
    "# Загружаем CIFAR-10\n",
    "transform = transforms.Compose([transforms.ToTensor(), transforms.Normalize(mean=[0.485, 0.456, 0.406], std=[0.229, 0.224, 0.225])])\n",
    "train_dataset = datasets.CIFAR10(root='../data', train=True, download=True, transform=transform)\n",
    "test_dataset = datasets.CIFAR10(root='../data', train=False, download=True, transform=transform)"
   ]
  },
  {
   "cell_type": "code",
   "execution_count": 7,
   "metadata": {},
   "outputs": [],
   "source": [
    "DEVICE = 'cuda' if torch.cuda.is_available() else 'cpu'"
   ]
  },
  {
   "cell_type": "code",
   "execution_count": 8,
   "metadata": {},
   "outputs": [],
   "source": [
    "class_indices = {class_idx: [] for class_idx in range(NUM_CLASSES)}\n",
    "for idx, (_, label) in enumerate(train_dataset):\n",
    "    class_indices[label].append(idx)\n",
    "\n",
    "\n",
    "EPOCHS = 20\n",
    "learning_rate = 5e-4\n",
    "\n",
    "val_dataloader = DataLoader(test_dataset, batch_size=128, shuffle=True)"
   ]
  },
  {
   "cell_type": "code",
   "execution_count": 9,
   "metadata": {},
   "outputs": [
    {
     "name": "stdout",
     "output_type": "stream",
     "text": [
      "Размер initial_train_dataset: 500\n"
     ]
    },
    {
     "name": "stderr",
     "output_type": "stream",
     "text": [
      "Training: 100%|██████████| 4/4 [00:00<00:00,  9.99it/s]\n",
      "Validating: 100%|██████████| 79/79 [00:01<00:00, 44.31it/s]\n"
     ]
    },
    {
     "name": "stdout",
     "output_type": "stream",
     "text": [
      "Validation Loss: 2.2639, Accuracy: 0.1132, F1 Score: 0.0417\n",
      "Epoch 1/20 - Train Loss: 2.3056, Val Loss: 2.2639, Acc: 0.1132, F1: 0.0417\n"
     ]
    },
    {
     "name": "stderr",
     "output_type": "stream",
     "text": [
      "Training: 100%|██████████| 4/4 [00:00<00:00, 37.74it/s]\n",
      "Validating: 100%|██████████| 79/79 [00:01<00:00, 43.81it/s]\n"
     ]
    },
    {
     "name": "stdout",
     "output_type": "stream",
     "text": [
      "Validation Loss: 2.2036, Accuracy: 0.2498, F1 Score: 0.2114\n",
      "Epoch 2/20 - Train Loss: 2.2323, Val Loss: 2.2036, Acc: 0.2498, F1: 0.2114\n"
     ]
    },
    {
     "name": "stderr",
     "output_type": "stream",
     "text": [
      "Training: 100%|██████████| 4/4 [00:00<00:00, 36.41it/s]\n",
      "Validating: 100%|██████████| 79/79 [00:01<00:00, 44.73it/s]\n"
     ]
    },
    {
     "name": "stdout",
     "output_type": "stream",
     "text": [
      "Validation Loss: 2.1336, Accuracy: 0.2522, F1 Score: 0.2176\n",
      "Epoch 3/20 - Train Loss: 2.1414, Val Loss: 2.1336, Acc: 0.2522, F1: 0.2176\n"
     ]
    },
    {
     "name": "stderr",
     "output_type": "stream",
     "text": [
      "Training: 100%|██████████| 4/4 [00:00<00:00, 39.60it/s]\n",
      "Validating: 100%|██████████| 79/79 [00:02<00:00, 36.66it/s]\n"
     ]
    },
    {
     "name": "stdout",
     "output_type": "stream",
     "text": [
      "Validation Loss: 2.0622, Accuracy: 0.2825, F1 Score: 0.2594\n",
      "Epoch 4/20 - Train Loss: 2.0348, Val Loss: 2.0622, Acc: 0.2825, F1: 0.2594\n"
     ]
    },
    {
     "name": "stderr",
     "output_type": "stream",
     "text": [
      "Training: 100%|██████████| 4/4 [00:00<00:00, 20.71it/s]\n",
      "Validating: 100%|██████████| 79/79 [00:01<00:00, 39.90it/s]\n"
     ]
    },
    {
     "name": "stdout",
     "output_type": "stream",
     "text": [
      "Validation Loss: 2.0211, Accuracy: 0.2910, F1 Score: 0.2714\n",
      "Epoch 5/20 - Train Loss: 1.9474, Val Loss: 2.0211, Acc: 0.2910, F1: 0.2714\n"
     ]
    },
    {
     "name": "stderr",
     "output_type": "stream",
     "text": [
      "Training: 100%|██████████| 4/4 [00:00<00:00, 39.55it/s]\n",
      "Validating: 100%|██████████| 79/79 [00:01<00:00, 44.75it/s]\n"
     ]
    },
    {
     "name": "stdout",
     "output_type": "stream",
     "text": [
      "Validation Loss: 2.0013, Accuracy: 0.2933, F1 Score: 0.2632\n",
      "Epoch 6/20 - Train Loss: 1.8515, Val Loss: 2.0013, Acc: 0.2933, F1: 0.2632\n"
     ]
    },
    {
     "name": "stderr",
     "output_type": "stream",
     "text": [
      "Training: 100%|██████████| 4/4 [00:00<00:00, 36.87it/s]\n",
      "Validating: 100%|██████████| 79/79 [00:01<00:00, 43.11it/s]\n"
     ]
    },
    {
     "name": "stdout",
     "output_type": "stream",
     "text": [
      "Validation Loss: 1.9656, Accuracy: 0.3056, F1 Score: 0.2867\n",
      "Epoch 7/20 - Train Loss: 1.7747, Val Loss: 1.9656, Acc: 0.3056, F1: 0.2867\n"
     ]
    },
    {
     "name": "stderr",
     "output_type": "stream",
     "text": [
      "Training: 100%|██████████| 4/4 [00:00<00:00, 31.06it/s]\n",
      "Validating: 100%|██████████| 79/79 [00:02<00:00, 35.89it/s]\n"
     ]
    },
    {
     "name": "stdout",
     "output_type": "stream",
     "text": [
      "Validation Loss: 1.9568, Accuracy: 0.3070, F1 Score: 0.2814\n",
      "Epoch 8/20 - Train Loss: 1.7141, Val Loss: 1.9568, Acc: 0.3070, F1: 0.2814\n"
     ]
    },
    {
     "name": "stderr",
     "output_type": "stream",
     "text": [
      "Training: 100%|██████████| 4/4 [00:00<00:00, 20.58it/s]\n",
      "Validating: 100%|██████████| 79/79 [00:02<00:00, 32.84it/s]\n"
     ]
    },
    {
     "name": "stdout",
     "output_type": "stream",
     "text": [
      "Validation Loss: 1.9193, Accuracy: 0.3361, F1 Score: 0.3263\n",
      "Epoch 9/20 - Train Loss: 1.6623, Val Loss: 1.9193, Acc: 0.3361, F1: 0.3263\n"
     ]
    },
    {
     "name": "stderr",
     "output_type": "stream",
     "text": [
      "Training: 100%|██████████| 4/4 [00:00<00:00, 20.38it/s]\n",
      "Validating: 100%|██████████| 79/79 [00:02<00:00, 32.17it/s]\n"
     ]
    },
    {
     "name": "stdout",
     "output_type": "stream",
     "text": [
      "Validation Loss: 1.9263, Accuracy: 0.3163, F1 Score: 0.3026\n",
      "Epoch 10/20 - Train Loss: 1.6222, Val Loss: 1.9263, Acc: 0.3163, F1: 0.3026\n"
     ]
    },
    {
     "name": "stderr",
     "output_type": "stream",
     "text": [
      "Training: 100%|██████████| 4/4 [00:00<00:00, 20.18it/s]\n",
      "Validating: 100%|██████████| 79/79 [00:02<00:00, 32.02it/s]\n"
     ]
    },
    {
     "name": "stdout",
     "output_type": "stream",
     "text": [
      "Validation Loss: 1.9091, Accuracy: 0.3321, F1 Score: 0.3184\n",
      "Epoch 11/20 - Train Loss: 1.5734, Val Loss: 1.9091, Acc: 0.3321, F1: 0.3184\n"
     ]
    },
    {
     "name": "stderr",
     "output_type": "stream",
     "text": [
      "Training: 100%|██████████| 4/4 [00:00<00:00, 22.27it/s]\n",
      "Validating: 100%|██████████| 79/79 [00:02<00:00, 32.67it/s]\n"
     ]
    },
    {
     "name": "stdout",
     "output_type": "stream",
     "text": [
      "Validation Loss: 1.8895, Accuracy: 0.3406, F1 Score: 0.3344\n",
      "Epoch 12/20 - Train Loss: 1.4822, Val Loss: 1.8895, Acc: 0.3406, F1: 0.3344\n"
     ]
    },
    {
     "name": "stderr",
     "output_type": "stream",
     "text": [
      "Training: 100%|██████████| 4/4 [00:00<00:00, 21.55it/s]\n",
      "Validating: 100%|██████████| 79/79 [00:02<00:00, 33.02it/s]\n"
     ]
    },
    {
     "name": "stdout",
     "output_type": "stream",
     "text": [
      "Validation Loss: 1.8922, Accuracy: 0.3396, F1 Score: 0.3241\n",
      "Epoch 13/20 - Train Loss: 1.4195, Val Loss: 1.8922, Acc: 0.3396, F1: 0.3241\n"
     ]
    },
    {
     "name": "stderr",
     "output_type": "stream",
     "text": [
      "Training: 100%|██████████| 4/4 [00:00<00:00, 21.28it/s]\n",
      "Validating: 100%|██████████| 79/79 [00:02<00:00, 31.68it/s]\n"
     ]
    },
    {
     "name": "stdout",
     "output_type": "stream",
     "text": [
      "Validation Loss: 1.8819, Accuracy: 0.3421, F1 Score: 0.3361\n",
      "Epoch 14/20 - Train Loss: 1.3675, Val Loss: 1.8819, Acc: 0.3421, F1: 0.3361\n"
     ]
    },
    {
     "name": "stderr",
     "output_type": "stream",
     "text": [
      "Training: 100%|██████████| 4/4 [00:00<00:00, 22.04it/s]\n",
      "Validating: 100%|██████████| 79/79 [00:02<00:00, 32.77it/s]\n"
     ]
    },
    {
     "name": "stdout",
     "output_type": "stream",
     "text": [
      "Validation Loss: 1.8952, Accuracy: 0.3427, F1 Score: 0.3309\n",
      "Epoch 15/20 - Train Loss: 1.3131, Val Loss: 1.8952, Acc: 0.3427, F1: 0.3309\n"
     ]
    },
    {
     "name": "stderr",
     "output_type": "stream",
     "text": [
      "Training: 100%|██████████| 4/4 [00:00<00:00, 21.51it/s]\n",
      "Validating: 100%|██████████| 79/79 [00:02<00:00, 32.89it/s]\n"
     ]
    },
    {
     "name": "stdout",
     "output_type": "stream",
     "text": [
      "Validation Loss: 1.8999, Accuracy: 0.3450, F1 Score: 0.3350\n",
      "Epoch 16/20 - Train Loss: 1.2691, Val Loss: 1.8999, Acc: 0.3450, F1: 0.3350\n"
     ]
    },
    {
     "name": "stderr",
     "output_type": "stream",
     "text": [
      "Training: 100%|██████████| 4/4 [00:00<00:00, 21.10it/s]\n",
      "Validating: 100%|██████████| 79/79 [00:02<00:00, 31.95it/s]\n"
     ]
    },
    {
     "name": "stdout",
     "output_type": "stream",
     "text": [
      "Validation Loss: 1.9028, Accuracy: 0.3489, F1 Score: 0.3459\n",
      "Epoch 17/20 - Train Loss: 1.2222, Val Loss: 1.9028, Acc: 0.3489, F1: 0.3459\n"
     ]
    },
    {
     "name": "stderr",
     "output_type": "stream",
     "text": [
      "Training: 100%|██████████| 4/4 [00:00<00:00, 20.20it/s]\n",
      "Validating: 100%|██████████| 79/79 [00:02<00:00, 33.37it/s]\n"
     ]
    },
    {
     "name": "stdout",
     "output_type": "stream",
     "text": [
      "Validation Loss: 1.8869, Accuracy: 0.3561, F1 Score: 0.3478\n",
      "Epoch 18/20 - Train Loss: 1.1544, Val Loss: 1.8869, Acc: 0.3561, F1: 0.3478\n"
     ]
    },
    {
     "name": "stderr",
     "output_type": "stream",
     "text": [
      "Training: 100%|██████████| 4/4 [00:00<00:00, 21.17it/s]\n",
      "Validating: 100%|██████████| 79/79 [00:02<00:00, 32.95it/s]\n"
     ]
    },
    {
     "name": "stdout",
     "output_type": "stream",
     "text": [
      "Validation Loss: 1.9199, Accuracy: 0.3483, F1 Score: 0.3408\n",
      "Epoch 19/20 - Train Loss: 1.1085, Val Loss: 1.9199, Acc: 0.3483, F1: 0.3408\n"
     ]
    },
    {
     "name": "stderr",
     "output_type": "stream",
     "text": [
      "Training: 100%|██████████| 4/4 [00:00<00:00, 21.62it/s]\n",
      "Validating: 100%|██████████| 79/79 [00:02<00:00, 31.86it/s]\n"
     ]
    },
    {
     "name": "stdout",
     "output_type": "stream",
     "text": [
      "Validation Loss: 1.9278, Accuracy: 0.3476, F1 Score: 0.3371\n",
      "Epoch 20/20 - Train Loss: 1.0786, Val Loss: 1.9278, Acc: 0.3476, F1: 0.3371\n",
      "Размер initial_train_dataset: 500\n"
     ]
    },
    {
     "name": "stderr",
     "output_type": "stream",
     "text": [
      "Training: 100%|██████████| 4/4 [00:00<00:00, 21.42it/s]\n",
      "Validating: 100%|██████████| 79/79 [00:02<00:00, 33.55it/s]\n"
     ]
    },
    {
     "name": "stdout",
     "output_type": "stream",
     "text": [
      "Validation Loss: 2.2536, Accuracy: 0.1456, F1 Score: 0.0895\n",
      "Epoch 1/20 - Train Loss: 2.3084, Val Loss: 2.2536, Acc: 0.1456, F1: 0.0895\n"
     ]
    },
    {
     "name": "stderr",
     "output_type": "stream",
     "text": [
      "Training: 100%|██████████| 4/4 [00:00<00:00, 21.86it/s]\n",
      "Validating: 100%|██████████| 79/79 [00:02<00:00, 33.05it/s]\n"
     ]
    },
    {
     "name": "stdout",
     "output_type": "stream",
     "text": [
      "Validation Loss: 2.1871, Accuracy: 0.2677, F1 Score: 0.2333\n",
      "Epoch 2/20 - Train Loss: 2.2091, Val Loss: 2.1871, Acc: 0.2677, F1: 0.2333\n"
     ]
    },
    {
     "name": "stderr",
     "output_type": "stream",
     "text": [
      "Training: 100%|██████████| 4/4 [00:00<00:00, 21.36it/s]\n",
      "Validating: 100%|██████████| 79/79 [00:02<00:00, 31.51it/s]\n"
     ]
    },
    {
     "name": "stdout",
     "output_type": "stream",
     "text": [
      "Validation Loss: 2.1031, Accuracy: 0.2886, F1 Score: 0.2527\n",
      "Epoch 3/20 - Train Loss: 2.1169, Val Loss: 2.1031, Acc: 0.2886, F1: 0.2527\n"
     ]
    },
    {
     "name": "stderr",
     "output_type": "stream",
     "text": [
      "Training: 100%|██████████| 4/4 [00:00<00:00, 18.68it/s]\n",
      "Validating: 100%|██████████| 79/79 [00:02<00:00, 35.80it/s]\n"
     ]
    },
    {
     "name": "stdout",
     "output_type": "stream",
     "text": [
      "Validation Loss: 2.0272, Accuracy: 0.2949, F1 Score: 0.2595\n",
      "Epoch 4/20 - Train Loss: 2.0047, Val Loss: 2.0272, Acc: 0.2949, F1: 0.2595\n"
     ]
    },
    {
     "name": "stderr",
     "output_type": "stream",
     "text": [
      "Training: 100%|██████████| 4/4 [00:00<00:00, 40.00it/s]\n",
      "Validating: 100%|██████████| 79/79 [00:01<00:00, 42.53it/s]\n"
     ]
    },
    {
     "name": "stdout",
     "output_type": "stream",
     "text": [
      "Validation Loss: 1.9689, Accuracy: 0.3132, F1 Score: 0.2902\n",
      "Epoch 5/20 - Train Loss: 1.9091, Val Loss: 1.9689, Acc: 0.3132, F1: 0.2902\n"
     ]
    },
    {
     "name": "stderr",
     "output_type": "stream",
     "text": [
      "Training: 100%|██████████| 4/4 [00:00<00:00, 38.26it/s]\n",
      "Validating: 100%|██████████| 79/79 [00:01<00:00, 42.50it/s]\n"
     ]
    },
    {
     "name": "stdout",
     "output_type": "stream",
     "text": [
      "Validation Loss: 1.9312, Accuracy: 0.3216, F1 Score: 0.3001\n",
      "Epoch 6/20 - Train Loss: 1.8123, Val Loss: 1.9312, Acc: 0.3216, F1: 0.3001\n"
     ]
    },
    {
     "name": "stderr",
     "output_type": "stream",
     "text": [
      "Training: 100%|██████████| 4/4 [00:00<00:00, 29.90it/s]\n",
      "Validating: 100%|██████████| 79/79 [00:02<00:00, 35.31it/s]\n"
     ]
    },
    {
     "name": "stdout",
     "output_type": "stream",
     "text": [
      "Validation Loss: 1.9147, Accuracy: 0.3207, F1 Score: 0.2991\n",
      "Epoch 7/20 - Train Loss: 1.7356, Val Loss: 1.9147, Acc: 0.3207, F1: 0.2991\n"
     ]
    },
    {
     "name": "stderr",
     "output_type": "stream",
     "text": [
      "Training: 100%|██████████| 4/4 [00:00<00:00, 19.60it/s]\n",
      "Validating: 100%|██████████| 79/79 [00:02<00:00, 32.83it/s]\n"
     ]
    },
    {
     "name": "stdout",
     "output_type": "stream",
     "text": [
      "Validation Loss: 1.8891, Accuracy: 0.3352, F1 Score: 0.3190\n",
      "Epoch 8/20 - Train Loss: 1.6709, Val Loss: 1.8891, Acc: 0.3352, F1: 0.3190\n"
     ]
    },
    {
     "name": "stderr",
     "output_type": "stream",
     "text": [
      "Training: 100%|██████████| 4/4 [00:00<00:00, 20.59it/s]\n",
      "Validating: 100%|██████████| 79/79 [00:02<00:00, 33.07it/s]\n"
     ]
    },
    {
     "name": "stdout",
     "output_type": "stream",
     "text": [
      "Validation Loss: 1.8817, Accuracy: 0.3325, F1 Score: 0.3046\n",
      "Epoch 9/20 - Train Loss: 1.5830, Val Loss: 1.8817, Acc: 0.3325, F1: 0.3046\n"
     ]
    },
    {
     "name": "stderr",
     "output_type": "stream",
     "text": [
      "Training: 100%|██████████| 4/4 [00:00<00:00, 16.07it/s]\n",
      "Validating: 100%|██████████| 79/79 [00:02<00:00, 35.78it/s]\n"
     ]
    },
    {
     "name": "stdout",
     "output_type": "stream",
     "text": [
      "Validation Loss: 1.8612, Accuracy: 0.3447, F1 Score: 0.3336\n",
      "Epoch 10/20 - Train Loss: 1.5483, Val Loss: 1.8612, Acc: 0.3447, F1: 0.3336\n"
     ]
    },
    {
     "name": "stderr",
     "output_type": "stream",
     "text": [
      "Training: 100%|██████████| 4/4 [00:00<00:00, 38.10it/s]\n",
      "Validating: 100%|██████████| 79/79 [00:01<00:00, 43.24it/s]\n"
     ]
    },
    {
     "name": "stdout",
     "output_type": "stream",
     "text": [
      "Validation Loss: 1.8511, Accuracy: 0.3471, F1 Score: 0.3365\n",
      "Epoch 11/20 - Train Loss: 1.4912, Val Loss: 1.8511, Acc: 0.3471, F1: 0.3365\n"
     ]
    },
    {
     "name": "stderr",
     "output_type": "stream",
     "text": [
      "Training: 100%|██████████| 4/4 [00:00<00:00, 29.30it/s]\n",
      "Validating: 100%|██████████| 79/79 [00:02<00:00, 37.09it/s]\n"
     ]
    },
    {
     "name": "stdout",
     "output_type": "stream",
     "text": [
      "Validation Loss: 1.8838, Accuracy: 0.3320, F1 Score: 0.3097\n",
      "Epoch 12/20 - Train Loss: 1.4413, Val Loss: 1.8838, Acc: 0.3320, F1: 0.3097\n"
     ]
    },
    {
     "name": "stderr",
     "output_type": "stream",
     "text": [
      "Training: 100%|██████████| 4/4 [00:00<00:00, 15.90it/s]\n",
      "Validating: 100%|██████████| 79/79 [00:02<00:00, 37.07it/s]\n"
     ]
    },
    {
     "name": "stdout",
     "output_type": "stream",
     "text": [
      "Validation Loss: 1.8434, Accuracy: 0.3517, F1 Score: 0.3473\n",
      "Epoch 13/20 - Train Loss: 1.4224, Val Loss: 1.8434, Acc: 0.3517, F1: 0.3473\n"
     ]
    },
    {
     "name": "stderr",
     "output_type": "stream",
     "text": [
      "Training: 100%|██████████| 4/4 [00:00<00:00, 29.72it/s]\n",
      "Validating: 100%|██████████| 79/79 [00:01<00:00, 42.17it/s]\n"
     ]
    },
    {
     "name": "stdout",
     "output_type": "stream",
     "text": [
      "Validation Loss: 1.8414, Accuracy: 0.3495, F1 Score: 0.3309\n",
      "Epoch 14/20 - Train Loss: 1.3653, Val Loss: 1.8414, Acc: 0.3495, F1: 0.3309\n"
     ]
    },
    {
     "name": "stderr",
     "output_type": "stream",
     "text": [
      "Training: 100%|██████████| 4/4 [00:00<00:00, 29.72it/s]\n",
      "Validating: 100%|██████████| 79/79 [00:02<00:00, 35.78it/s]\n"
     ]
    },
    {
     "name": "stdout",
     "output_type": "stream",
     "text": [
      "Validation Loss: 1.8455, Accuracy: 0.3528, F1 Score: 0.3390\n",
      "Epoch 15/20 - Train Loss: 1.3146, Val Loss: 1.8455, Acc: 0.3528, F1: 0.3390\n"
     ]
    },
    {
     "name": "stderr",
     "output_type": "stream",
     "text": [
      "Training: 100%|██████████| 4/4 [00:00<00:00, 18.14it/s]\n",
      "Validating: 100%|██████████| 79/79 [00:01<00:00, 42.62it/s]\n"
     ]
    },
    {
     "name": "stdout",
     "output_type": "stream",
     "text": [
      "Validation Loss: 1.8485, Accuracy: 0.3530, F1 Score: 0.3398\n",
      "Epoch 16/20 - Train Loss: 1.3058, Val Loss: 1.8485, Acc: 0.3530, F1: 0.3398\n"
     ]
    },
    {
     "name": "stderr",
     "output_type": "stream",
     "text": [
      "Training: 100%|██████████| 4/4 [00:00<00:00, 20.20it/s]\n",
      "Validating: 100%|██████████| 79/79 [00:02<00:00, 31.44it/s]\n"
     ]
    },
    {
     "name": "stdout",
     "output_type": "stream",
     "text": [
      "Validation Loss: 1.8368, Accuracy: 0.3539, F1 Score: 0.3409\n",
      "Epoch 17/20 - Train Loss: 1.2750, Val Loss: 1.8368, Acc: 0.3539, F1: 0.3409\n"
     ]
    },
    {
     "name": "stderr",
     "output_type": "stream",
     "text": [
      "Training: 100%|██████████| 4/4 [00:00<00:00, 19.85it/s]\n",
      "Validating: 100%|██████████| 79/79 [00:01<00:00, 42.46it/s]\n"
     ]
    },
    {
     "name": "stdout",
     "output_type": "stream",
     "text": [
      "Validation Loss: 1.8420, Accuracy: 0.3571, F1 Score: 0.3423\n",
      "Epoch 18/20 - Train Loss: 1.1949, Val Loss: 1.8420, Acc: 0.3571, F1: 0.3423\n"
     ]
    },
    {
     "name": "stderr",
     "output_type": "stream",
     "text": [
      "Training: 100%|██████████| 4/4 [00:00<00:00, 20.41it/s]\n",
      "Validating: 100%|██████████| 79/79 [00:01<00:00, 41.24it/s]\n"
     ]
    },
    {
     "name": "stdout",
     "output_type": "stream",
     "text": [
      "Validation Loss: 1.8368, Accuracy: 0.3549, F1 Score: 0.3468\n",
      "Epoch 19/20 - Train Loss: 1.1650, Val Loss: 1.8368, Acc: 0.3549, F1: 0.3468\n"
     ]
    },
    {
     "name": "stderr",
     "output_type": "stream",
     "text": [
      "Training: 100%|██████████| 4/4 [00:00<00:00, 28.64it/s]\n",
      "Validating: 100%|██████████| 79/79 [00:02<00:00, 33.55it/s]\n"
     ]
    },
    {
     "name": "stdout",
     "output_type": "stream",
     "text": [
      "Validation Loss: 1.8450, Accuracy: 0.3571, F1 Score: 0.3443\n",
      "Epoch 20/20 - Train Loss: 1.1057, Val Loss: 1.8450, Acc: 0.3571, F1: 0.3443\n",
      "Размер initial_train_dataset: 500\n"
     ]
    },
    {
     "name": "stderr",
     "output_type": "stream",
     "text": [
      "Training: 100%|██████████| 4/4 [00:00<00:00, 34.44it/s]\n",
      "Validating: 100%|██████████| 79/79 [00:01<00:00, 39.92it/s]\n"
     ]
    },
    {
     "name": "stdout",
     "output_type": "stream",
     "text": [
      "Validation Loss: 2.2589, Accuracy: 0.1967, F1 Score: 0.1282\n",
      "Epoch 1/20 - Train Loss: 2.2991, Val Loss: 2.2589, Acc: 0.1967, F1: 0.1282\n"
     ]
    },
    {
     "name": "stderr",
     "output_type": "stream",
     "text": [
      "Training: 100%|██████████| 4/4 [00:00<00:00, 19.36it/s]\n",
      "Validating: 100%|██████████| 79/79 [00:01<00:00, 42.08it/s]\n"
     ]
    },
    {
     "name": "stdout",
     "output_type": "stream",
     "text": [
      "Validation Loss: 2.1996, Accuracy: 0.2354, F1 Score: 0.1838\n",
      "Epoch 2/20 - Train Loss: 2.2206, Val Loss: 2.1996, Acc: 0.2354, F1: 0.1838\n"
     ]
    },
    {
     "name": "stderr",
     "output_type": "stream",
     "text": [
      "Training: 100%|██████████| 4/4 [00:00<00:00, 30.53it/s]\n",
      "Validating: 100%|██████████| 79/79 [00:02<00:00, 33.34it/s]\n"
     ]
    },
    {
     "name": "stdout",
     "output_type": "stream",
     "text": [
      "Validation Loss: 2.1113, Accuracy: 0.2604, F1 Score: 0.2041\n",
      "Epoch 3/20 - Train Loss: 2.1134, Val Loss: 2.1113, Acc: 0.2604, F1: 0.2041\n"
     ]
    },
    {
     "name": "stderr",
     "output_type": "stream",
     "text": [
      "Training: 100%|██████████| 4/4 [00:00<00:00, 18.87it/s]\n",
      "Validating: 100%|██████████| 79/79 [00:02<00:00, 30.78it/s]\n"
     ]
    },
    {
     "name": "stdout",
     "output_type": "stream",
     "text": [
      "Validation Loss: 2.0330, Accuracy: 0.2895, F1 Score: 0.2447\n",
      "Epoch 4/20 - Train Loss: 2.0111, Val Loss: 2.0330, Acc: 0.2895, F1: 0.2447\n"
     ]
    },
    {
     "name": "stderr",
     "output_type": "stream",
     "text": [
      "Training: 100%|██████████| 4/4 [00:00<00:00, 21.47it/s]\n",
      "Validating: 100%|██████████| 79/79 [00:02<00:00, 31.65it/s]\n"
     ]
    },
    {
     "name": "stdout",
     "output_type": "stream",
     "text": [
      "Validation Loss: 1.9717, Accuracy: 0.3067, F1 Score: 0.2661\n",
      "Epoch 5/20 - Train Loss: 1.9082, Val Loss: 1.9717, Acc: 0.3067, F1: 0.2661\n"
     ]
    },
    {
     "name": "stderr",
     "output_type": "stream",
     "text": [
      "Training: 100%|██████████| 4/4 [00:00<00:00, 19.85it/s]\n",
      "Validating: 100%|██████████| 79/79 [00:02<00:00, 33.15it/s]\n"
     ]
    },
    {
     "name": "stdout",
     "output_type": "stream",
     "text": [
      "Validation Loss: 1.9148, Accuracy: 0.3139, F1 Score: 0.2834\n",
      "Epoch 6/20 - Train Loss: 1.8112, Val Loss: 1.9148, Acc: 0.3139, F1: 0.2834\n"
     ]
    },
    {
     "name": "stderr",
     "output_type": "stream",
     "text": [
      "Training: 100%|██████████| 4/4 [00:00<00:00, 21.51it/s]\n",
      "Validating: 100%|██████████| 79/79 [00:02<00:00, 38.05it/s]\n"
     ]
    },
    {
     "name": "stdout",
     "output_type": "stream",
     "text": [
      "Validation Loss: 1.8872, Accuracy: 0.3311, F1 Score: 0.2990\n",
      "Epoch 7/20 - Train Loss: 1.7270, Val Loss: 1.8872, Acc: 0.3311, F1: 0.2990\n"
     ]
    },
    {
     "name": "stderr",
     "output_type": "stream",
     "text": [
      "Training: 100%|██████████| 4/4 [00:00<00:00, 27.72it/s]\n",
      "Validating: 100%|██████████| 79/79 [00:02<00:00, 32.56it/s]\n"
     ]
    },
    {
     "name": "stdout",
     "output_type": "stream",
     "text": [
      "Validation Loss: 1.8624, Accuracy: 0.3311, F1 Score: 0.3065\n",
      "Epoch 8/20 - Train Loss: 1.6794, Val Loss: 1.8624, Acc: 0.3311, F1: 0.3065\n"
     ]
    },
    {
     "name": "stderr",
     "output_type": "stream",
     "text": [
      "Training: 100%|██████████| 4/4 [00:00<00:00, 22.86it/s]\n",
      "Validating: 100%|██████████| 79/79 [00:02<00:00, 31.71it/s]\n"
     ]
    },
    {
     "name": "stdout",
     "output_type": "stream",
     "text": [
      "Validation Loss: 1.8492, Accuracy: 0.3397, F1 Score: 0.3113\n",
      "Epoch 9/20 - Train Loss: 1.6041, Val Loss: 1.8492, Acc: 0.3397, F1: 0.3113\n"
     ]
    },
    {
     "name": "stderr",
     "output_type": "stream",
     "text": [
      "Training: 100%|██████████| 4/4 [00:00<00:00, 20.61it/s]\n",
      "Validating: 100%|██████████| 79/79 [00:02<00:00, 31.50it/s]\n"
     ]
    },
    {
     "name": "stdout",
     "output_type": "stream",
     "text": [
      "Validation Loss: 1.8268, Accuracy: 0.3459, F1 Score: 0.3276\n",
      "Epoch 10/20 - Train Loss: 1.5625, Val Loss: 1.8268, Acc: 0.3459, F1: 0.3276\n"
     ]
    },
    {
     "name": "stderr",
     "output_type": "stream",
     "text": [
      "Training: 100%|██████████| 4/4 [00:00<00:00, 20.10it/s]\n",
      "Validating: 100%|██████████| 79/79 [00:02<00:00, 32.73it/s]\n"
     ]
    },
    {
     "name": "stdout",
     "output_type": "stream",
     "text": [
      "Validation Loss: 1.8155, Accuracy: 0.3509, F1 Score: 0.3236\n",
      "Epoch 11/20 - Train Loss: 1.4890, Val Loss: 1.8155, Acc: 0.3509, F1: 0.3236\n"
     ]
    },
    {
     "name": "stderr",
     "output_type": "stream",
     "text": [
      "Training: 100%|██████████| 4/4 [00:00<00:00, 20.73it/s]\n",
      "Validating: 100%|██████████| 79/79 [00:02<00:00, 30.58it/s]\n"
     ]
    },
    {
     "name": "stdout",
     "output_type": "stream",
     "text": [
      "Validation Loss: 1.8135, Accuracy: 0.3511, F1 Score: 0.3345\n",
      "Epoch 12/20 - Train Loss: 1.4241, Val Loss: 1.8135, Acc: 0.3511, F1: 0.3345\n"
     ]
    },
    {
     "name": "stderr",
     "output_type": "stream",
     "text": [
      "Training: 100%|██████████| 4/4 [00:00<00:00, 20.75it/s]\n",
      "Validating: 100%|██████████| 79/79 [00:02<00:00, 32.02it/s]\n"
     ]
    },
    {
     "name": "stdout",
     "output_type": "stream",
     "text": [
      "Validation Loss: 1.8037, Accuracy: 0.3553, F1 Score: 0.3408\n",
      "Epoch 13/20 - Train Loss: 1.3721, Val Loss: 1.8037, Acc: 0.3553, F1: 0.3408\n"
     ]
    },
    {
     "name": "stderr",
     "output_type": "stream",
     "text": [
      "Training: 100%|██████████| 4/4 [00:00<00:00, 22.32it/s]\n",
      "Validating: 100%|██████████| 79/79 [00:01<00:00, 42.82it/s]\n"
     ]
    },
    {
     "name": "stdout",
     "output_type": "stream",
     "text": [
      "Validation Loss: 1.8104, Accuracy: 0.3552, F1 Score: 0.3317\n",
      "Epoch 14/20 - Train Loss: 1.3390, Val Loss: 1.8104, Acc: 0.3552, F1: 0.3317\n"
     ]
    },
    {
     "name": "stderr",
     "output_type": "stream",
     "text": [
      "Training: 100%|██████████| 4/4 [00:00<00:00, 30.77it/s]\n",
      "Validating: 100%|██████████| 79/79 [00:02<00:00, 35.62it/s]\n"
     ]
    },
    {
     "name": "stdout",
     "output_type": "stream",
     "text": [
      "Validation Loss: 1.7934, Accuracy: 0.3561, F1 Score: 0.3512\n",
      "Epoch 15/20 - Train Loss: 1.2607, Val Loss: 1.7934, Acc: 0.3561, F1: 0.3512\n"
     ]
    },
    {
     "name": "stderr",
     "output_type": "stream",
     "text": [
      "Training: 100%|██████████| 4/4 [00:00<00:00, 19.04it/s]\n",
      "Validating: 100%|██████████| 79/79 [00:02<00:00, 31.49it/s]\n"
     ]
    },
    {
     "name": "stdout",
     "output_type": "stream",
     "text": [
      "Validation Loss: 1.7839, Accuracy: 0.3691, F1 Score: 0.3588\n",
      "Epoch 16/20 - Train Loss: 1.2310, Val Loss: 1.7839, Acc: 0.3691, F1: 0.3588\n"
     ]
    },
    {
     "name": "stderr",
     "output_type": "stream",
     "text": [
      "Training: 100%|██████████| 4/4 [00:00<00:00, 20.94it/s]\n",
      "Validating: 100%|██████████| 79/79 [00:02<00:00, 32.87it/s]\n"
     ]
    },
    {
     "name": "stdout",
     "output_type": "stream",
     "text": [
      "Validation Loss: 1.7736, Accuracy: 0.3706, F1 Score: 0.3613\n",
      "Epoch 17/20 - Train Loss: 1.1778, Val Loss: 1.7736, Acc: 0.3706, F1: 0.3613\n"
     ]
    },
    {
     "name": "stderr",
     "output_type": "stream",
     "text": [
      "Training: 100%|██████████| 4/4 [00:00<00:00, 21.87it/s]\n",
      "Validating: 100%|██████████| 79/79 [00:02<00:00, 32.70it/s]\n"
     ]
    },
    {
     "name": "stdout",
     "output_type": "stream",
     "text": [
      "Validation Loss: 1.7755, Accuracy: 0.3764, F1 Score: 0.3699\n",
      "Epoch 18/20 - Train Loss: 1.1351, Val Loss: 1.7755, Acc: 0.3764, F1: 0.3699\n"
     ]
    },
    {
     "name": "stderr",
     "output_type": "stream",
     "text": [
      "Training: 100%|██████████| 4/4 [00:00<00:00, 21.39it/s]\n",
      "Validating: 100%|██████████| 79/79 [00:02<00:00, 31.04it/s]\n"
     ]
    },
    {
     "name": "stdout",
     "output_type": "stream",
     "text": [
      "Validation Loss: 1.7801, Accuracy: 0.3819, F1 Score: 0.3749\n",
      "Epoch 19/20 - Train Loss: 1.0957, Val Loss: 1.7801, Acc: 0.3819, F1: 0.3749\n"
     ]
    },
    {
     "name": "stderr",
     "output_type": "stream",
     "text": [
      "Training: 100%|██████████| 4/4 [00:00<00:00, 20.83it/s]\n",
      "Validating: 100%|██████████| 79/79 [00:01<00:00, 42.88it/s]\n"
     ]
    },
    {
     "name": "stdout",
     "output_type": "stream",
     "text": [
      "Validation Loss: 1.7817, Accuracy: 0.3782, F1 Score: 0.3672\n",
      "Epoch 20/20 - Train Loss: 1.0201, Val Loss: 1.7817, Acc: 0.3782, F1: 0.3672\n",
      "Размер initial_train_dataset: 500\n"
     ]
    },
    {
     "name": "stderr",
     "output_type": "stream",
     "text": [
      "Training: 100%|██████████| 4/4 [00:00<00:00, 22.87it/s]\n",
      "Validating: 100%|██████████| 79/79 [00:02<00:00, 32.74it/s]\n"
     ]
    },
    {
     "name": "stdout",
     "output_type": "stream",
     "text": [
      "Validation Loss: 2.2515, Accuracy: 0.1461, F1 Score: 0.0742\n",
      "Epoch 1/20 - Train Loss: 2.2913, Val Loss: 2.2515, Acc: 0.1461, F1: 0.0742\n"
     ]
    },
    {
     "name": "stderr",
     "output_type": "stream",
     "text": [
      "Training: 100%|██████████| 4/4 [00:00<00:00, 19.33it/s]\n",
      "Validating: 100%|██████████| 79/79 [00:02<00:00, 31.70it/s]\n"
     ]
    },
    {
     "name": "stdout",
     "output_type": "stream",
     "text": [
      "Validation Loss: 2.1702, Accuracy: 0.2280, F1 Score: 0.1616\n",
      "Epoch 2/20 - Train Loss: 2.1966, Val Loss: 2.1702, Acc: 0.2280, F1: 0.1616\n"
     ]
    },
    {
     "name": "stderr",
     "output_type": "stream",
     "text": [
      "Training: 100%|██████████| 4/4 [00:00<00:00, 14.64it/s]\n",
      "Validating: 100%|██████████| 79/79 [00:01<00:00, 41.80it/s]\n"
     ]
    },
    {
     "name": "stdout",
     "output_type": "stream",
     "text": [
      "Validation Loss: 2.0993, Accuracy: 0.2581, F1 Score: 0.2234\n",
      "Epoch 3/20 - Train Loss: 2.0775, Val Loss: 2.0993, Acc: 0.2581, F1: 0.2234\n"
     ]
    },
    {
     "name": "stderr",
     "output_type": "stream",
     "text": [
      "Training: 100%|██████████| 4/4 [00:00<00:00, 31.03it/s]\n",
      "Validating: 100%|██████████| 79/79 [00:02<00:00, 35.36it/s]\n"
     ]
    },
    {
     "name": "stdout",
     "output_type": "stream",
     "text": [
      "Validation Loss: 2.0365, Accuracy: 0.2992, F1 Score: 0.2922\n",
      "Epoch 4/20 - Train Loss: 1.9755, Val Loss: 2.0365, Acc: 0.2992, F1: 0.2922\n"
     ]
    },
    {
     "name": "stderr",
     "output_type": "stream",
     "text": [
      "Training: 100%|██████████| 4/4 [00:00<00:00, 19.82it/s]\n",
      "Validating: 100%|██████████| 79/79 [00:02<00:00, 31.05it/s]\n"
     ]
    },
    {
     "name": "stdout",
     "output_type": "stream",
     "text": [
      "Validation Loss: 1.9712, Accuracy: 0.2983, F1 Score: 0.2870\n",
      "Epoch 5/20 - Train Loss: 1.8749, Val Loss: 1.9712, Acc: 0.2983, F1: 0.2870\n"
     ]
    },
    {
     "name": "stderr",
     "output_type": "stream",
     "text": [
      "Training: 100%|██████████| 4/4 [00:00<00:00, 19.78it/s]\n",
      "Validating: 100%|██████████| 79/79 [00:02<00:00, 32.05it/s]\n"
     ]
    },
    {
     "name": "stdout",
     "output_type": "stream",
     "text": [
      "Validation Loss: 1.9356, Accuracy: 0.3102, F1 Score: 0.2901\n",
      "Epoch 6/20 - Train Loss: 1.7753, Val Loss: 1.9356, Acc: 0.3102, F1: 0.2901\n"
     ]
    },
    {
     "name": "stderr",
     "output_type": "stream",
     "text": [
      "Training: 100%|██████████| 4/4 [00:00<00:00, 22.47it/s]\n",
      "Validating: 100%|██████████| 79/79 [00:02<00:00, 31.14it/s]\n"
     ]
    },
    {
     "name": "stdout",
     "output_type": "stream",
     "text": [
      "Validation Loss: 1.8941, Accuracy: 0.3283, F1 Score: 0.3209\n",
      "Epoch 7/20 - Train Loss: 1.7113, Val Loss: 1.8941, Acc: 0.3283, F1: 0.3209\n"
     ]
    },
    {
     "name": "stderr",
     "output_type": "stream",
     "text": [
      "Training: 100%|██████████| 4/4 [00:00<00:00, 19.61it/s]\n",
      "Validating: 100%|██████████| 79/79 [00:02<00:00, 31.58it/s]\n"
     ]
    },
    {
     "name": "stdout",
     "output_type": "stream",
     "text": [
      "Validation Loss: 1.8768, Accuracy: 0.3307, F1 Score: 0.3156\n",
      "Epoch 8/20 - Train Loss: 1.6196, Val Loss: 1.8768, Acc: 0.3307, F1: 0.3156\n"
     ]
    },
    {
     "name": "stderr",
     "output_type": "stream",
     "text": [
      "Training: 100%|██████████| 4/4 [00:00<00:00, 17.20it/s]\n",
      "Validating: 100%|██████████| 79/79 [00:02<00:00, 37.28it/s]\n"
     ]
    },
    {
     "name": "stdout",
     "output_type": "stream",
     "text": [
      "Validation Loss: 1.8449, Accuracy: 0.3352, F1 Score: 0.3311\n",
      "Epoch 9/20 - Train Loss: 1.5694, Val Loss: 1.8449, Acc: 0.3352, F1: 0.3311\n"
     ]
    },
    {
     "name": "stderr",
     "output_type": "stream",
     "text": [
      "Training: 100%|██████████| 4/4 [00:00<00:00, 19.32it/s]\n",
      "Validating: 100%|██████████| 79/79 [00:02<00:00, 29.43it/s]\n"
     ]
    },
    {
     "name": "stdout",
     "output_type": "stream",
     "text": [
      "Validation Loss: 1.8500, Accuracy: 0.3486, F1 Score: 0.3322\n",
      "Epoch 10/20 - Train Loss: 1.5176, Val Loss: 1.8500, Acc: 0.3486, F1: 0.3322\n"
     ]
    },
    {
     "name": "stderr",
     "output_type": "stream",
     "text": [
      "Training: 100%|██████████| 4/4 [00:00<00:00, 21.53it/s]\n",
      "Validating: 100%|██████████| 79/79 [00:02<00:00, 31.91it/s]\n"
     ]
    },
    {
     "name": "stdout",
     "output_type": "stream",
     "text": [
      "Validation Loss: 1.8264, Accuracy: 0.3539, F1 Score: 0.3457\n",
      "Epoch 11/20 - Train Loss: 1.4806, Val Loss: 1.8264, Acc: 0.3539, F1: 0.3457\n"
     ]
    },
    {
     "name": "stderr",
     "output_type": "stream",
     "text": [
      "Training: 100%|██████████| 4/4 [00:00<00:00, 16.66it/s]\n",
      "Validating: 100%|██████████| 79/79 [00:01<00:00, 41.60it/s]\n"
     ]
    },
    {
     "name": "stdout",
     "output_type": "stream",
     "text": [
      "Validation Loss: 1.8182, Accuracy: 0.3556, F1 Score: 0.3502\n",
      "Epoch 12/20 - Train Loss: 1.4435, Val Loss: 1.8182, Acc: 0.3556, F1: 0.3502\n"
     ]
    },
    {
     "name": "stderr",
     "output_type": "stream",
     "text": [
      "Training: 100%|██████████| 4/4 [00:00<00:00, 28.83it/s]\n",
      "Validating: 100%|██████████| 79/79 [00:02<00:00, 36.84it/s]\n"
     ]
    },
    {
     "name": "stdout",
     "output_type": "stream",
     "text": [
      "Validation Loss: 1.8088, Accuracy: 0.3606, F1 Score: 0.3428\n",
      "Epoch 13/20 - Train Loss: 1.3534, Val Loss: 1.8088, Acc: 0.3606, F1: 0.3428\n"
     ]
    },
    {
     "name": "stderr",
     "output_type": "stream",
     "text": [
      "Training: 100%|██████████| 4/4 [00:00<00:00, 20.17it/s]\n",
      "Validating: 100%|██████████| 79/79 [00:02<00:00, 31.68it/s]\n"
     ]
    },
    {
     "name": "stdout",
     "output_type": "stream",
     "text": [
      "Validation Loss: 1.7981, Accuracy: 0.3579, F1 Score: 0.3525\n",
      "Epoch 14/20 - Train Loss: 1.3101, Val Loss: 1.7981, Acc: 0.3579, F1: 0.3525\n"
     ]
    },
    {
     "name": "stderr",
     "output_type": "stream",
     "text": [
      "Training: 100%|██████████| 4/4 [00:00<00:00, 21.09it/s]\n",
      "Validating: 100%|██████████| 79/79 [00:02<00:00, 31.72it/s]\n"
     ]
    },
    {
     "name": "stdout",
     "output_type": "stream",
     "text": [
      "Validation Loss: 1.7948, Accuracy: 0.3715, F1 Score: 0.3671\n",
      "Epoch 15/20 - Train Loss: 1.2588, Val Loss: 1.7948, Acc: 0.3715, F1: 0.3671\n"
     ]
    },
    {
     "name": "stderr",
     "output_type": "stream",
     "text": [
      "Training: 100%|██████████| 4/4 [00:00<00:00, 21.35it/s]\n",
      "Validating: 100%|██████████| 79/79 [00:02<00:00, 31.95it/s]\n"
     ]
    },
    {
     "name": "stdout",
     "output_type": "stream",
     "text": [
      "Validation Loss: 1.7860, Accuracy: 0.3698, F1 Score: 0.3590\n",
      "Epoch 16/20 - Train Loss: 1.2698, Val Loss: 1.7860, Acc: 0.3698, F1: 0.3590\n"
     ]
    },
    {
     "name": "stderr",
     "output_type": "stream",
     "text": [
      "Training: 100%|██████████| 4/4 [00:00<00:00, 20.92it/s]\n",
      "Validating: 100%|██████████| 79/79 [00:02<00:00, 32.81it/s]\n"
     ]
    },
    {
     "name": "stdout",
     "output_type": "stream",
     "text": [
      "Validation Loss: 1.7970, Accuracy: 0.3605, F1 Score: 0.3540\n",
      "Epoch 17/20 - Train Loss: 1.1599, Val Loss: 1.7970, Acc: 0.3605, F1: 0.3540\n"
     ]
    },
    {
     "name": "stderr",
     "output_type": "stream",
     "text": [
      "Training: 100%|██████████| 4/4 [00:00<00:00, 21.91it/s]\n",
      "Validating: 100%|██████████| 79/79 [00:02<00:00, 31.81it/s]\n"
     ]
    },
    {
     "name": "stdout",
     "output_type": "stream",
     "text": [
      "Validation Loss: 1.7691, Accuracy: 0.3836, F1 Score: 0.3753\n",
      "Epoch 18/20 - Train Loss: 1.1246, Val Loss: 1.7691, Acc: 0.3836, F1: 0.3753\n"
     ]
    },
    {
     "name": "stderr",
     "output_type": "stream",
     "text": [
      "Training: 100%|██████████| 4/4 [00:00<00:00, 21.66it/s]\n",
      "Validating: 100%|██████████| 79/79 [00:02<00:00, 30.27it/s]\n"
     ]
    },
    {
     "name": "stdout",
     "output_type": "stream",
     "text": [
      "Validation Loss: 1.7804, Accuracy: 0.3703, F1 Score: 0.3641\n",
      "Epoch 19/20 - Train Loss: 1.0682, Val Loss: 1.7804, Acc: 0.3703, F1: 0.3641\n"
     ]
    },
    {
     "name": "stderr",
     "output_type": "stream",
     "text": [
      "Training: 100%|██████████| 4/4 [00:00<00:00, 22.35it/s]\n",
      "Validating: 100%|██████████| 79/79 [00:02<00:00, 32.26it/s]\n"
     ]
    },
    {
     "name": "stdout",
     "output_type": "stream",
     "text": [
      "Validation Loss: 1.7934, Accuracy: 0.3809, F1 Score: 0.3765\n",
      "Epoch 20/20 - Train Loss: 1.0440, Val Loss: 1.7934, Acc: 0.3809, F1: 0.3765\n",
      "Размер initial_train_dataset: 500\n"
     ]
    },
    {
     "name": "stderr",
     "output_type": "stream",
     "text": [
      "Training: 100%|██████████| 4/4 [00:00<00:00, 21.39it/s]\n",
      "Validating: 100%|██████████| 79/79 [00:02<00:00, 32.25it/s]\n"
     ]
    },
    {
     "name": "stdout",
     "output_type": "stream",
     "text": [
      "Validation Loss: 2.2324, Accuracy: 0.2159, F1 Score: 0.1630\n",
      "Epoch 1/20 - Train Loss: 2.3078, Val Loss: 2.2324, Acc: 0.2159, F1: 0.1630\n"
     ]
    },
    {
     "name": "stderr",
     "output_type": "stream",
     "text": [
      "Training: 100%|██████████| 4/4 [00:00<00:00, 22.28it/s]\n",
      "Validating: 100%|██████████| 79/79 [00:02<00:00, 33.41it/s]\n"
     ]
    },
    {
     "name": "stdout",
     "output_type": "stream",
     "text": [
      "Validation Loss: 2.1562, Accuracy: 0.2600, F1 Score: 0.2176\n",
      "Epoch 2/20 - Train Loss: 2.1979, Val Loss: 2.1562, Acc: 0.2600, F1: 0.2176\n"
     ]
    },
    {
     "name": "stderr",
     "output_type": "stream",
     "text": [
      "Training: 100%|██████████| 4/4 [00:00<00:00, 21.21it/s]\n",
      "Validating: 100%|██████████| 79/79 [00:02<00:00, 33.12it/s]\n"
     ]
    },
    {
     "name": "stdout",
     "output_type": "stream",
     "text": [
      "Validation Loss: 2.0659, Accuracy: 0.2778, F1 Score: 0.2317\n",
      "Epoch 3/20 - Train Loss: 2.0855, Val Loss: 2.0659, Acc: 0.2778, F1: 0.2317\n"
     ]
    },
    {
     "name": "stderr",
     "output_type": "stream",
     "text": [
      "Training: 100%|██████████| 4/4 [00:00<00:00, 20.10it/s]\n",
      "Validating: 100%|██████████| 79/79 [00:02<00:00, 31.43it/s]\n"
     ]
    },
    {
     "name": "stdout",
     "output_type": "stream",
     "text": [
      "Validation Loss: 1.9929, Accuracy: 0.3010, F1 Score: 0.2601\n",
      "Epoch 4/20 - Train Loss: 1.9737, Val Loss: 1.9929, Acc: 0.3010, F1: 0.2601\n"
     ]
    },
    {
     "name": "stderr",
     "output_type": "stream",
     "text": [
      "Training: 100%|██████████| 4/4 [00:00<00:00, 31.05it/s]\n",
      "Validating: 100%|██████████| 79/79 [00:01<00:00, 42.56it/s]\n"
     ]
    },
    {
     "name": "stdout",
     "output_type": "stream",
     "text": [
      "Validation Loss: 1.9378, Accuracy: 0.3110, F1 Score: 0.2826\n",
      "Epoch 5/20 - Train Loss: 1.8664, Val Loss: 1.9378, Acc: 0.3110, F1: 0.2826\n"
     ]
    },
    {
     "name": "stderr",
     "output_type": "stream",
     "text": [
      "Training: 100%|██████████| 4/4 [00:00<00:00, 23.63it/s]\n",
      "Validating: 100%|██████████| 79/79 [00:02<00:00, 33.78it/s]\n"
     ]
    },
    {
     "name": "stdout",
     "output_type": "stream",
     "text": [
      "Validation Loss: 1.9162, Accuracy: 0.3082, F1 Score: 0.2741\n",
      "Epoch 6/20 - Train Loss: 1.8070, Val Loss: 1.9162, Acc: 0.3082, F1: 0.2741\n"
     ]
    },
    {
     "name": "stderr",
     "output_type": "stream",
     "text": [
      "Training: 100%|██████████| 4/4 [00:00<00:00, 20.74it/s]\n",
      "Validating: 100%|██████████| 79/79 [00:02<00:00, 31.19it/s]\n"
     ]
    },
    {
     "name": "stdout",
     "output_type": "stream",
     "text": [
      "Validation Loss: 1.8897, Accuracy: 0.3157, F1 Score: 0.2842\n",
      "Epoch 7/20 - Train Loss: 1.7180, Val Loss: 1.8897, Acc: 0.3157, F1: 0.2842\n"
     ]
    },
    {
     "name": "stderr",
     "output_type": "stream",
     "text": [
      "Training: 100%|██████████| 4/4 [00:00<00:00, 29.41it/s]\n",
      "Validating: 100%|██████████| 79/79 [00:01<00:00, 40.40it/s]\n"
     ]
    },
    {
     "name": "stdout",
     "output_type": "stream",
     "text": [
      "Validation Loss: 1.8618, Accuracy: 0.3292, F1 Score: 0.3022\n",
      "Epoch 8/20 - Train Loss: 1.6381, Val Loss: 1.8618, Acc: 0.3292, F1: 0.3022\n"
     ]
    },
    {
     "name": "stderr",
     "output_type": "stream",
     "text": [
      "Training: 100%|██████████| 4/4 [00:00<00:00, 29.36it/s]\n",
      "Validating: 100%|██████████| 79/79 [00:02<00:00, 34.87it/s]\n"
     ]
    },
    {
     "name": "stdout",
     "output_type": "stream",
     "text": [
      "Validation Loss: 1.8542, Accuracy: 0.3349, F1 Score: 0.3191\n",
      "Epoch 9/20 - Train Loss: 1.5865, Val Loss: 1.8542, Acc: 0.3349, F1: 0.3191\n"
     ]
    },
    {
     "name": "stderr",
     "output_type": "stream",
     "text": [
      "Training: 100%|██████████| 4/4 [00:00<00:00, 19.37it/s]\n",
      "Validating: 100%|██████████| 79/79 [00:02<00:00, 31.27it/s]\n"
     ]
    },
    {
     "name": "stdout",
     "output_type": "stream",
     "text": [
      "Validation Loss: 1.8298, Accuracy: 0.3467, F1 Score: 0.3274\n",
      "Epoch 10/20 - Train Loss: 1.5241, Val Loss: 1.8298, Acc: 0.3467, F1: 0.3274\n"
     ]
    },
    {
     "name": "stderr",
     "output_type": "stream",
     "text": [
      "Training: 100%|██████████| 4/4 [00:00<00:00, 17.47it/s]\n",
      "Validating: 100%|██████████| 79/79 [00:02<00:00, 32.60it/s]\n"
     ]
    },
    {
     "name": "stdout",
     "output_type": "stream",
     "text": [
      "Validation Loss: 1.8286, Accuracy: 0.3463, F1 Score: 0.3277\n",
      "Epoch 11/20 - Train Loss: 1.4623, Val Loss: 1.8286, Acc: 0.3463, F1: 0.3277\n"
     ]
    },
    {
     "name": "stderr",
     "output_type": "stream",
     "text": [
      "Training: 100%|██████████| 4/4 [00:00<00:00, 21.97it/s]\n",
      "Validating: 100%|██████████| 79/79 [00:02<00:00, 32.46it/s]\n"
     ]
    },
    {
     "name": "stdout",
     "output_type": "stream",
     "text": [
      "Validation Loss: 1.8201, Accuracy: 0.3481, F1 Score: 0.3319\n",
      "Epoch 12/20 - Train Loss: 1.4044, Val Loss: 1.8201, Acc: 0.3481, F1: 0.3319\n"
     ]
    },
    {
     "name": "stderr",
     "output_type": "stream",
     "text": [
      "Training: 100%|██████████| 4/4 [00:00<00:00, 20.14it/s]\n",
      "Validating: 100%|██████████| 79/79 [00:02<00:00, 32.67it/s]\n"
     ]
    },
    {
     "name": "stdout",
     "output_type": "stream",
     "text": [
      "Validation Loss: 1.8197, Accuracy: 0.3546, F1 Score: 0.3539\n",
      "Epoch 13/20 - Train Loss: 1.3687, Val Loss: 1.8197, Acc: 0.3546, F1: 0.3539\n"
     ]
    },
    {
     "name": "stderr",
     "output_type": "stream",
     "text": [
      "Training: 100%|██████████| 4/4 [00:00<00:00, 18.60it/s]\n",
      "Validating: 100%|██████████| 79/79 [00:01<00:00, 41.12it/s]\n"
     ]
    },
    {
     "name": "stdout",
     "output_type": "stream",
     "text": [
      "Validation Loss: 1.8347, Accuracy: 0.3480, F1 Score: 0.3230\n",
      "Epoch 14/20 - Train Loss: 1.3062, Val Loss: 1.8347, Acc: 0.3480, F1: 0.3230\n"
     ]
    },
    {
     "name": "stderr",
     "output_type": "stream",
     "text": [
      "Training: 100%|██████████| 4/4 [00:00<00:00, 28.95it/s]\n",
      "Validating: 100%|██████████| 79/79 [00:01<00:00, 40.10it/s]\n"
     ]
    },
    {
     "name": "stdout",
     "output_type": "stream",
     "text": [
      "Validation Loss: 1.8212, Accuracy: 0.3553, F1 Score: 0.3572\n",
      "Epoch 15/20 - Train Loss: 1.2236, Val Loss: 1.8212, Acc: 0.3553, F1: 0.3572\n"
     ]
    },
    {
     "name": "stderr",
     "output_type": "stream",
     "text": [
      "Training: 100%|██████████| 4/4 [00:00<00:00, 16.86it/s]\n",
      "Validating: 100%|██████████| 79/79 [00:02<00:00, 31.63it/s]\n"
     ]
    },
    {
     "name": "stdout",
     "output_type": "stream",
     "text": [
      "Validation Loss: 1.8428, Accuracy: 0.3577, F1 Score: 0.3333\n",
      "Epoch 16/20 - Train Loss: 1.2179, Val Loss: 1.8428, Acc: 0.3577, F1: 0.3333\n"
     ]
    },
    {
     "name": "stderr",
     "output_type": "stream",
     "text": [
      "Training: 100%|██████████| 4/4 [00:00<00:00, 19.70it/s]\n",
      "Validating: 100%|██████████| 79/79 [00:02<00:00, 31.32it/s]\n"
     ]
    },
    {
     "name": "stdout",
     "output_type": "stream",
     "text": [
      "Validation Loss: 1.8295, Accuracy: 0.3644, F1 Score: 0.3594\n",
      "Epoch 17/20 - Train Loss: 1.1591, Val Loss: 1.8295, Acc: 0.3644, F1: 0.3594\n"
     ]
    },
    {
     "name": "stderr",
     "output_type": "stream",
     "text": [
      "Training: 100%|██████████| 4/4 [00:00<00:00, 18.82it/s]\n",
      "Validating: 100%|██████████| 79/79 [00:02<00:00, 32.83it/s]\n"
     ]
    },
    {
     "name": "stdout",
     "output_type": "stream",
     "text": [
      "Validation Loss: 1.8560, Accuracy: 0.3567, F1 Score: 0.3412\n",
      "Epoch 18/20 - Train Loss: 1.1019, Val Loss: 1.8560, Acc: 0.3567, F1: 0.3412\n"
     ]
    },
    {
     "name": "stderr",
     "output_type": "stream",
     "text": [
      "Training: 100%|██████████| 4/4 [00:00<00:00, 20.22it/s]\n",
      "Validating: 100%|██████████| 79/79 [00:02<00:00, 33.13it/s]\n"
     ]
    },
    {
     "name": "stdout",
     "output_type": "stream",
     "text": [
      "Validation Loss: 1.8307, Accuracy: 0.3639, F1 Score: 0.3601\n",
      "Epoch 19/20 - Train Loss: 1.0439, Val Loss: 1.8307, Acc: 0.3639, F1: 0.3601\n"
     ]
    },
    {
     "name": "stderr",
     "output_type": "stream",
     "text": [
      "Training: 100%|██████████| 4/4 [00:00<00:00, 21.05it/s]\n",
      "Validating: 100%|██████████| 79/79 [00:02<00:00, 29.79it/s]\n"
     ]
    },
    {
     "name": "stdout",
     "output_type": "stream",
     "text": [
      "Validation Loss: 1.8329, Accuracy: 0.3702, F1 Score: 0.3637\n",
      "Epoch 20/20 - Train Loss: 0.9819, Val Loss: 1.8329, Acc: 0.3702, F1: 0.3637\n",
      "f1 for random init: p = 0.01, f1 = 0.3620172704387155\n",
      "Размер initial_train_dataset: 5000\n"
     ]
    },
    {
     "name": "stderr",
     "output_type": "stream",
     "text": [
      "Training: 100%|██████████| 40/40 [00:01<00:00, 33.39it/s]\n",
      "Validating: 100%|██████████| 79/79 [00:01<00:00, 41.21it/s]\n"
     ]
    },
    {
     "name": "stdout",
     "output_type": "stream",
     "text": [
      "Validation Loss: 1.9189, Accuracy: 0.3386, F1 Score: 0.3117\n",
      "Epoch 1/20 - Train Loss: 2.0778, Val Loss: 1.9189, Acc: 0.3386, F1: 0.3117\n"
     ]
    },
    {
     "name": "stderr",
     "output_type": "stream",
     "text": [
      "Training: 100%|██████████| 40/40 [00:01<00:00, 32.33it/s]\n",
      "Validating: 100%|██████████| 79/79 [00:01<00:00, 40.06it/s]\n"
     ]
    },
    {
     "name": "stdout",
     "output_type": "stream",
     "text": [
      "Validation Loss: 1.6976, Accuracy: 0.4039, F1 Score: 0.3819\n",
      "Epoch 2/20 - Train Loss: 1.7931, Val Loss: 1.6976, Acc: 0.4039, F1: 0.3819\n"
     ]
    },
    {
     "name": "stderr",
     "output_type": "stream",
     "text": [
      "Training: 100%|██████████| 40/40 [00:01<00:00, 29.92it/s]\n",
      "Validating: 100%|██████████| 79/79 [00:01<00:00, 39.53it/s]\n"
     ]
    },
    {
     "name": "stdout",
     "output_type": "stream",
     "text": [
      "Validation Loss: 1.5859, Accuracy: 0.4397, F1 Score: 0.4335\n",
      "Epoch 3/20 - Train Loss: 1.6098, Val Loss: 1.5859, Acc: 0.4397, F1: 0.4335\n"
     ]
    },
    {
     "name": "stderr",
     "output_type": "stream",
     "text": [
      "Training: 100%|██████████| 40/40 [00:01<00:00, 26.17it/s]\n",
      "Validating: 100%|██████████| 79/79 [00:01<00:00, 42.39it/s]\n"
     ]
    },
    {
     "name": "stdout",
     "output_type": "stream",
     "text": [
      "Validation Loss: 1.4965, Accuracy: 0.4685, F1 Score: 0.4522\n",
      "Epoch 4/20 - Train Loss: 1.4958, Val Loss: 1.4965, Acc: 0.4685, F1: 0.4522\n"
     ]
    },
    {
     "name": "stderr",
     "output_type": "stream",
     "text": [
      "Training: 100%|██████████| 40/40 [00:01<00:00, 30.22it/s]\n",
      "Validating: 100%|██████████| 79/79 [00:01<00:00, 40.00it/s]\n"
     ]
    },
    {
     "name": "stdout",
     "output_type": "stream",
     "text": [
      "Validation Loss: 1.4451, Accuracy: 0.4871, F1 Score: 0.4832\n",
      "Epoch 5/20 - Train Loss: 1.4165, Val Loss: 1.4451, Acc: 0.4871, F1: 0.4832\n"
     ]
    },
    {
     "name": "stderr",
     "output_type": "stream",
     "text": [
      "Training: 100%|██████████| 40/40 [00:01<00:00, 27.19it/s]\n",
      "Validating: 100%|██████████| 79/79 [00:01<00:00, 41.16it/s]\n"
     ]
    },
    {
     "name": "stdout",
     "output_type": "stream",
     "text": [
      "Validation Loss: 1.4063, Accuracy: 0.5007, F1 Score: 0.4920\n",
      "Epoch 6/20 - Train Loss: 1.3426, Val Loss: 1.4063, Acc: 0.5007, F1: 0.4920\n"
     ]
    },
    {
     "name": "stderr",
     "output_type": "stream",
     "text": [
      "Training: 100%|██████████| 40/40 [00:01<00:00, 31.39it/s]\n",
      "Validating: 100%|██████████| 79/79 [00:02<00:00, 38.38it/s]\n"
     ]
    },
    {
     "name": "stdout",
     "output_type": "stream",
     "text": [
      "Validation Loss: 1.3716, Accuracy: 0.5095, F1 Score: 0.4970\n",
      "Epoch 7/20 - Train Loss: 1.2932, Val Loss: 1.3716, Acc: 0.5095, F1: 0.4970\n"
     ]
    },
    {
     "name": "stderr",
     "output_type": "stream",
     "text": [
      "Training: 100%|██████████| 40/40 [00:01<00:00, 26.95it/s]\n",
      "Validating: 100%|██████████| 79/79 [00:01<00:00, 42.79it/s]\n"
     ]
    },
    {
     "name": "stdout",
     "output_type": "stream",
     "text": [
      "Validation Loss: 1.3488, Accuracy: 0.5210, F1 Score: 0.5096\n",
      "Epoch 8/20 - Train Loss: 1.2600, Val Loss: 1.3488, Acc: 0.5210, F1: 0.5096\n"
     ]
    },
    {
     "name": "stderr",
     "output_type": "stream",
     "text": [
      "Training: 100%|██████████| 40/40 [00:01<00:00, 32.66it/s]\n",
      "Validating: 100%|██████████| 79/79 [00:02<00:00, 38.37it/s]\n"
     ]
    },
    {
     "name": "stdout",
     "output_type": "stream",
     "text": [
      "Validation Loss: 1.3314, Accuracy: 0.5255, F1 Score: 0.5163\n",
      "Epoch 9/20 - Train Loss: 1.2141, Val Loss: 1.3314, Acc: 0.5255, F1: 0.5163\n"
     ]
    },
    {
     "name": "stderr",
     "output_type": "stream",
     "text": [
      "Training: 100%|██████████| 40/40 [00:01<00:00, 28.55it/s]\n",
      "Validating: 100%|██████████| 79/79 [00:01<00:00, 42.68it/s]\n"
     ]
    },
    {
     "name": "stdout",
     "output_type": "stream",
     "text": [
      "Validation Loss: 1.3477, Accuracy: 0.5204, F1 Score: 0.5102\n",
      "Epoch 10/20 - Train Loss: 1.1783, Val Loss: 1.3477, Acc: 0.5204, F1: 0.5102\n"
     ]
    },
    {
     "name": "stderr",
     "output_type": "stream",
     "text": [
      "Training: 100%|██████████| 40/40 [00:01<00:00, 32.58it/s]\n",
      "Validating: 100%|██████████| 79/79 [00:02<00:00, 39.26it/s]\n"
     ]
    },
    {
     "name": "stdout",
     "output_type": "stream",
     "text": [
      "Validation Loss: 1.3080, Accuracy: 0.5362, F1 Score: 0.5396\n",
      "Epoch 11/20 - Train Loss: 1.1588, Val Loss: 1.3080, Acc: 0.5362, F1: 0.5396\n"
     ]
    },
    {
     "name": "stderr",
     "output_type": "stream",
     "text": [
      "Training: 100%|██████████| 40/40 [00:01<00:00, 27.91it/s]\n",
      "Validating: 100%|██████████| 79/79 [00:01<00:00, 42.05it/s]\n"
     ]
    },
    {
     "name": "stdout",
     "output_type": "stream",
     "text": [
      "Validation Loss: 1.3011, Accuracy: 0.5384, F1 Score: 0.5329\n",
      "Epoch 12/20 - Train Loss: 1.1326, Val Loss: 1.3011, Acc: 0.5384, F1: 0.5329\n"
     ]
    },
    {
     "name": "stderr",
     "output_type": "stream",
     "text": [
      "Training: 100%|██████████| 40/40 [00:01<00:00, 31.40it/s]\n",
      "Validating: 100%|██████████| 79/79 [00:02<00:00, 38.40it/s]\n"
     ]
    },
    {
     "name": "stdout",
     "output_type": "stream",
     "text": [
      "Validation Loss: 1.2663, Accuracy: 0.5470, F1 Score: 0.5403\n",
      "Epoch 13/20 - Train Loss: 1.1002, Val Loss: 1.2663, Acc: 0.5470, F1: 0.5403\n"
     ]
    },
    {
     "name": "stderr",
     "output_type": "stream",
     "text": [
      "Training: 100%|██████████| 40/40 [00:01<00:00, 26.89it/s]\n",
      "Validating: 100%|██████████| 79/79 [00:01<00:00, 42.01it/s]\n"
     ]
    },
    {
     "name": "stdout",
     "output_type": "stream",
     "text": [
      "Validation Loss: 1.2708, Accuracy: 0.5519, F1 Score: 0.5457\n",
      "Epoch 14/20 - Train Loss: 1.0573, Val Loss: 1.2708, Acc: 0.5519, F1: 0.5457\n"
     ]
    },
    {
     "name": "stderr",
     "output_type": "stream",
     "text": [
      "Training: 100%|██████████| 40/40 [00:01<00:00, 31.63it/s]\n",
      "Validating: 100%|██████████| 79/79 [00:02<00:00, 39.09it/s]\n"
     ]
    },
    {
     "name": "stdout",
     "output_type": "stream",
     "text": [
      "Validation Loss: 1.2723, Accuracy: 0.5476, F1 Score: 0.5410\n",
      "Epoch 15/20 - Train Loss: 1.0158, Val Loss: 1.2723, Acc: 0.5476, F1: 0.5410\n"
     ]
    },
    {
     "name": "stderr",
     "output_type": "stream",
     "text": [
      "Training: 100%|██████████| 40/40 [00:01<00:00, 26.82it/s]\n",
      "Validating: 100%|██████████| 79/79 [00:01<00:00, 42.93it/s]\n"
     ]
    },
    {
     "name": "stdout",
     "output_type": "stream",
     "text": [
      "Validation Loss: 1.3203, Accuracy: 0.5378, F1 Score: 0.5285\n",
      "Epoch 16/20 - Train Loss: 0.9925, Val Loss: 1.3203, Acc: 0.5378, F1: 0.5285\n"
     ]
    },
    {
     "name": "stderr",
     "output_type": "stream",
     "text": [
      "Training: 100%|██████████| 40/40 [00:01<00:00, 30.81it/s]\n",
      "Validating: 100%|██████████| 79/79 [00:01<00:00, 40.21it/s]\n"
     ]
    },
    {
     "name": "stdout",
     "output_type": "stream",
     "text": [
      "Validation Loss: 1.2797, Accuracy: 0.5449, F1 Score: 0.5367\n",
      "Epoch 17/20 - Train Loss: 0.9505, Val Loss: 1.2797, Acc: 0.5449, F1: 0.5367\n"
     ]
    },
    {
     "name": "stderr",
     "output_type": "stream",
     "text": [
      "Training: 100%|██████████| 40/40 [00:01<00:00, 26.85it/s]\n",
      "Validating: 100%|██████████| 79/79 [00:01<00:00, 42.23it/s]\n"
     ]
    },
    {
     "name": "stdout",
     "output_type": "stream",
     "text": [
      "Validation Loss: 1.2501, Accuracy: 0.5618, F1 Score: 0.5596\n",
      "Epoch 18/20 - Train Loss: 0.9168, Val Loss: 1.2501, Acc: 0.5618, F1: 0.5596\n"
     ]
    },
    {
     "name": "stderr",
     "output_type": "stream",
     "text": [
      "Training: 100%|██████████| 40/40 [00:01<00:00, 31.42it/s]\n",
      "Validating: 100%|██████████| 79/79 [00:02<00:00, 39.49it/s]\n"
     ]
    },
    {
     "name": "stdout",
     "output_type": "stream",
     "text": [
      "Validation Loss: 1.2451, Accuracy: 0.5588, F1 Score: 0.5549\n",
      "Epoch 19/20 - Train Loss: 0.8678, Val Loss: 1.2451, Acc: 0.5588, F1: 0.5549\n"
     ]
    },
    {
     "name": "stderr",
     "output_type": "stream",
     "text": [
      "Training: 100%|██████████| 40/40 [00:01<00:00, 27.69it/s]\n",
      "Validating: 100%|██████████| 79/79 [00:01<00:00, 42.22it/s]\n"
     ]
    },
    {
     "name": "stdout",
     "output_type": "stream",
     "text": [
      "Validation Loss: 1.2732, Accuracy: 0.5626, F1 Score: 0.5554\n",
      "Epoch 20/20 - Train Loss: 0.8401, Val Loss: 1.2732, Acc: 0.5626, F1: 0.5554\n",
      "Размер initial_train_dataset: 5000\n"
     ]
    },
    {
     "name": "stderr",
     "output_type": "stream",
     "text": [
      "Training: 100%|██████████| 40/40 [00:01<00:00, 31.81it/s]\n",
      "Validating: 100%|██████████| 79/79 [00:01<00:00, 39.66it/s]\n"
     ]
    },
    {
     "name": "stdout",
     "output_type": "stream",
     "text": [
      "Validation Loss: 1.8568, Accuracy: 0.3270, F1 Score: 0.2837\n",
      "Epoch 1/20 - Train Loss: 2.0551, Val Loss: 1.8568, Acc: 0.3270, F1: 0.2837\n"
     ]
    },
    {
     "name": "stderr",
     "output_type": "stream",
     "text": [
      "Training: 100%|██████████| 40/40 [00:01<00:00, 28.06it/s]\n",
      "Validating: 100%|██████████| 79/79 [00:01<00:00, 41.71it/s]\n"
     ]
    },
    {
     "name": "stdout",
     "output_type": "stream",
     "text": [
      "Validation Loss: 1.7042, Accuracy: 0.3938, F1 Score: 0.3705\n",
      "Epoch 2/20 - Train Loss: 1.7928, Val Loss: 1.7042, Acc: 0.3938, F1: 0.3705\n"
     ]
    },
    {
     "name": "stderr",
     "output_type": "stream",
     "text": [
      "Training: 100%|██████████| 40/40 [00:01<00:00, 31.33it/s]\n",
      "Validating: 100%|██████████| 79/79 [00:02<00:00, 39.29it/s]\n"
     ]
    },
    {
     "name": "stdout",
     "output_type": "stream",
     "text": [
      "Validation Loss: 1.5864, Accuracy: 0.4431, F1 Score: 0.4298\n",
      "Epoch 3/20 - Train Loss: 1.6072, Val Loss: 1.5864, Acc: 0.4431, F1: 0.4298\n"
     ]
    },
    {
     "name": "stderr",
     "output_type": "stream",
     "text": [
      "Training: 100%|██████████| 40/40 [00:01<00:00, 27.33it/s]\n",
      "Validating: 100%|██████████| 79/79 [00:01<00:00, 41.68it/s]\n"
     ]
    },
    {
     "name": "stdout",
     "output_type": "stream",
     "text": [
      "Validation Loss: 1.4865, Accuracy: 0.4715, F1 Score: 0.4596\n",
      "Epoch 4/20 - Train Loss: 1.5087, Val Loss: 1.4865, Acc: 0.4715, F1: 0.4596\n"
     ]
    },
    {
     "name": "stderr",
     "output_type": "stream",
     "text": [
      "Training: 100%|██████████| 40/40 [00:01<00:00, 30.62it/s]\n",
      "Validating: 100%|██████████| 79/79 [00:02<00:00, 36.25it/s]\n"
     ]
    },
    {
     "name": "stdout",
     "output_type": "stream",
     "text": [
      "Validation Loss: 1.4370, Accuracy: 0.4960, F1 Score: 0.4923\n",
      "Epoch 5/20 - Train Loss: 1.4256, Val Loss: 1.4370, Acc: 0.4960, F1: 0.4923\n"
     ]
    },
    {
     "name": "stderr",
     "output_type": "stream",
     "text": [
      "Training: 100%|██████████| 40/40 [00:01<00:00, 27.05it/s]\n",
      "Validating: 100%|██████████| 79/79 [00:02<00:00, 36.08it/s]\n"
     ]
    },
    {
     "name": "stdout",
     "output_type": "stream",
     "text": [
      "Validation Loss: 1.4159, Accuracy: 0.4894, F1 Score: 0.4783\n",
      "Epoch 6/20 - Train Loss: 1.3553, Val Loss: 1.4159, Acc: 0.4894, F1: 0.4783\n"
     ]
    },
    {
     "name": "stderr",
     "output_type": "stream",
     "text": [
      "Training: 100%|██████████| 40/40 [00:01<00:00, 31.41it/s]\n",
      "Validating: 100%|██████████| 79/79 [00:02<00:00, 37.68it/s]\n"
     ]
    },
    {
     "name": "stdout",
     "output_type": "stream",
     "text": [
      "Validation Loss: 1.3898, Accuracy: 0.5062, F1 Score: 0.4954\n",
      "Epoch 7/20 - Train Loss: 1.3090, Val Loss: 1.3898, Acc: 0.5062, F1: 0.4954\n"
     ]
    },
    {
     "name": "stderr",
     "output_type": "stream",
     "text": [
      "Training: 100%|██████████| 40/40 [00:01<00:00, 27.49it/s]\n",
      "Validating: 100%|██████████| 79/79 [00:01<00:00, 40.19it/s]\n"
     ]
    },
    {
     "name": "stdout",
     "output_type": "stream",
     "text": [
      "Validation Loss: 1.3420, Accuracy: 0.5169, F1 Score: 0.5115\n",
      "Epoch 8/20 - Train Loss: 1.2481, Val Loss: 1.3420, Acc: 0.5169, F1: 0.5115\n"
     ]
    },
    {
     "name": "stderr",
     "output_type": "stream",
     "text": [
      "Training: 100%|██████████| 40/40 [00:01<00:00, 27.36it/s]\n",
      "Validating: 100%|██████████| 79/79 [00:02<00:00, 34.31it/s]\n"
     ]
    },
    {
     "name": "stdout",
     "output_type": "stream",
     "text": [
      "Validation Loss: 1.3242, Accuracy: 0.5259, F1 Score: 0.5195\n",
      "Epoch 9/20 - Train Loss: 1.2277, Val Loss: 1.3242, Acc: 0.5259, F1: 0.5195\n"
     ]
    },
    {
     "name": "stderr",
     "output_type": "stream",
     "text": [
      "Training: 100%|██████████| 40/40 [00:01<00:00, 28.65it/s]\n",
      "Validating: 100%|██████████| 79/79 [00:01<00:00, 42.45it/s]\n"
     ]
    },
    {
     "name": "stdout",
     "output_type": "stream",
     "text": [
      "Validation Loss: 1.3287, Accuracy: 0.5267, F1 Score: 0.5133\n",
      "Epoch 10/20 - Train Loss: 1.1829, Val Loss: 1.3287, Acc: 0.5267, F1: 0.5133\n"
     ]
    },
    {
     "name": "stderr",
     "output_type": "stream",
     "text": [
      "Training: 100%|██████████| 40/40 [00:01<00:00, 30.42it/s]\n",
      "Validating: 100%|██████████| 79/79 [00:02<00:00, 37.78it/s]\n"
     ]
    },
    {
     "name": "stdout",
     "output_type": "stream",
     "text": [
      "Validation Loss: 1.3119, Accuracy: 0.5318, F1 Score: 0.5256\n",
      "Epoch 11/20 - Train Loss: 1.1365, Val Loss: 1.3119, Acc: 0.5318, F1: 0.5256\n"
     ]
    },
    {
     "name": "stderr",
     "output_type": "stream",
     "text": [
      "Training: 100%|██████████| 40/40 [00:01<00:00, 28.06it/s]\n",
      "Validating: 100%|██████████| 79/79 [00:01<00:00, 41.45it/s]\n"
     ]
    },
    {
     "name": "stdout",
     "output_type": "stream",
     "text": [
      "Validation Loss: 1.2948, Accuracy: 0.5382, F1 Score: 0.5285\n",
      "Epoch 12/20 - Train Loss: 1.1326, Val Loss: 1.2948, Acc: 0.5382, F1: 0.5285\n"
     ]
    },
    {
     "name": "stderr",
     "output_type": "stream",
     "text": [
      "Training: 100%|██████████| 40/40 [00:01<00:00, 31.15it/s]\n",
      "Validating: 100%|██████████| 79/79 [00:02<00:00, 39.04it/s]\n"
     ]
    },
    {
     "name": "stdout",
     "output_type": "stream",
     "text": [
      "Validation Loss: 1.2780, Accuracy: 0.5470, F1 Score: 0.5385\n",
      "Epoch 13/20 - Train Loss: 1.0578, Val Loss: 1.2780, Acc: 0.5470, F1: 0.5385\n"
     ]
    },
    {
     "name": "stderr",
     "output_type": "stream",
     "text": [
      "Training: 100%|██████████| 40/40 [00:01<00:00, 26.26it/s]\n",
      "Validating: 100%|██████████| 79/79 [00:01<00:00, 42.50it/s]\n"
     ]
    },
    {
     "name": "stdout",
     "output_type": "stream",
     "text": [
      "Validation Loss: 1.2595, Accuracy: 0.5555, F1 Score: 0.5485\n",
      "Epoch 14/20 - Train Loss: 1.0152, Val Loss: 1.2595, Acc: 0.5555, F1: 0.5485\n"
     ]
    },
    {
     "name": "stderr",
     "output_type": "stream",
     "text": [
      "Training: 100%|██████████| 40/40 [00:01<00:00, 31.11it/s]\n",
      "Validating: 100%|██████████| 79/79 [00:02<00:00, 39.34it/s]\n"
     ]
    },
    {
     "name": "stdout",
     "output_type": "stream",
     "text": [
      "Validation Loss: 1.2625, Accuracy: 0.5545, F1 Score: 0.5510\n",
      "Epoch 15/20 - Train Loss: 0.9753, Val Loss: 1.2625, Acc: 0.5545, F1: 0.5510\n"
     ]
    },
    {
     "name": "stderr",
     "output_type": "stream",
     "text": [
      "Training: 100%|██████████| 40/40 [00:01<00:00, 28.97it/s]\n",
      "Validating: 100%|██████████| 79/79 [00:01<00:00, 40.99it/s]\n"
     ]
    },
    {
     "name": "stdout",
     "output_type": "stream",
     "text": [
      "Validation Loss: 1.2502, Accuracy: 0.5599, F1 Score: 0.5585\n",
      "Epoch 16/20 - Train Loss: 0.9566, Val Loss: 1.2502, Acc: 0.5599, F1: 0.5585\n"
     ]
    },
    {
     "name": "stderr",
     "output_type": "stream",
     "text": [
      "Training: 100%|██████████| 40/40 [00:01<00:00, 30.07it/s]\n",
      "Validating: 100%|██████████| 79/79 [00:02<00:00, 39.37it/s]\n"
     ]
    },
    {
     "name": "stdout",
     "output_type": "stream",
     "text": [
      "Validation Loss: 1.2600, Accuracy: 0.5587, F1 Score: 0.5566\n",
      "Epoch 17/20 - Train Loss: 0.9255, Val Loss: 1.2600, Acc: 0.5587, F1: 0.5566\n"
     ]
    },
    {
     "name": "stderr",
     "output_type": "stream",
     "text": [
      "Training: 100%|██████████| 40/40 [00:01<00:00, 29.70it/s]\n",
      "Validating: 100%|██████████| 79/79 [00:02<00:00, 38.71it/s]\n"
     ]
    },
    {
     "name": "stdout",
     "output_type": "stream",
     "text": [
      "Validation Loss: 1.2522, Accuracy: 0.5665, F1 Score: 0.5613\n",
      "Epoch 18/20 - Train Loss: 0.9050, Val Loss: 1.2522, Acc: 0.5665, F1: 0.5613\n"
     ]
    },
    {
     "name": "stderr",
     "output_type": "stream",
     "text": [
      "Training: 100%|██████████| 40/40 [00:01<00:00, 29.33it/s]\n",
      "Validating: 100%|██████████| 79/79 [00:02<00:00, 39.17it/s]\n"
     ]
    },
    {
     "name": "stdout",
     "output_type": "stream",
     "text": [
      "Validation Loss: 1.2442, Accuracy: 0.5668, F1 Score: 0.5585\n",
      "Epoch 19/20 - Train Loss: 0.8808, Val Loss: 1.2442, Acc: 0.5668, F1: 0.5585\n"
     ]
    },
    {
     "name": "stderr",
     "output_type": "stream",
     "text": [
      "Training: 100%|██████████| 40/40 [00:01<00:00, 30.56it/s]\n",
      "Validating: 100%|██████████| 79/79 [00:02<00:00, 37.88it/s]\n"
     ]
    },
    {
     "name": "stdout",
     "output_type": "stream",
     "text": [
      "Validation Loss: 1.2441, Accuracy: 0.5661, F1 Score: 0.5599\n",
      "Epoch 20/20 - Train Loss: 0.8291, Val Loss: 1.2441, Acc: 0.5661, F1: 0.5599\n",
      "Размер initial_train_dataset: 5000\n"
     ]
    },
    {
     "name": "stderr",
     "output_type": "stream",
     "text": [
      "Training: 100%|██████████| 40/40 [00:01<00:00, 30.70it/s]\n",
      "Validating: 100%|██████████| 79/79 [00:01<00:00, 39.82it/s]\n"
     ]
    },
    {
     "name": "stdout",
     "output_type": "stream",
     "text": [
      "Validation Loss: 1.8729, Accuracy: 0.3500, F1 Score: 0.3223\n",
      "Epoch 1/20 - Train Loss: 2.0966, Val Loss: 1.8729, Acc: 0.3500, F1: 0.3223\n"
     ]
    },
    {
     "name": "stderr",
     "output_type": "stream",
     "text": [
      "Training: 100%|██████████| 40/40 [00:01<00:00, 29.26it/s]\n",
      "Validating: 100%|██████████| 79/79 [00:01<00:00, 39.63it/s]\n"
     ]
    },
    {
     "name": "stdout",
     "output_type": "stream",
     "text": [
      "Validation Loss: 1.7086, Accuracy: 0.4010, F1 Score: 0.3803\n",
      "Epoch 2/20 - Train Loss: 1.7904, Val Loss: 1.7086, Acc: 0.4010, F1: 0.3803\n"
     ]
    },
    {
     "name": "stderr",
     "output_type": "stream",
     "text": [
      "Training: 100%|██████████| 40/40 [00:01<00:00, 29.61it/s]\n",
      "Validating: 100%|██████████| 79/79 [00:01<00:00, 40.15it/s]\n"
     ]
    },
    {
     "name": "stdout",
     "output_type": "stream",
     "text": [
      "Validation Loss: 1.5726, Accuracy: 0.4436, F1 Score: 0.4258\n",
      "Epoch 3/20 - Train Loss: 1.6298, Val Loss: 1.5726, Acc: 0.4436, F1: 0.4258\n"
     ]
    },
    {
     "name": "stderr",
     "output_type": "stream",
     "text": [
      "Training: 100%|██████████| 40/40 [00:01<00:00, 28.72it/s]\n",
      "Validating: 100%|██████████| 79/79 [00:02<00:00, 39.44it/s]\n"
     ]
    },
    {
     "name": "stdout",
     "output_type": "stream",
     "text": [
      "Validation Loss: 1.4828, Accuracy: 0.4680, F1 Score: 0.4537\n",
      "Epoch 4/20 - Train Loss: 1.5101, Val Loss: 1.4828, Acc: 0.4680, F1: 0.4537\n"
     ]
    },
    {
     "name": "stderr",
     "output_type": "stream",
     "text": [
      "Training: 100%|██████████| 40/40 [00:01<00:00, 28.93it/s]\n",
      "Validating: 100%|██████████| 79/79 [00:02<00:00, 38.81it/s]\n"
     ]
    },
    {
     "name": "stdout",
     "output_type": "stream",
     "text": [
      "Validation Loss: 1.4451, Accuracy: 0.4868, F1 Score: 0.4800\n",
      "Epoch 5/20 - Train Loss: 1.4312, Val Loss: 1.4451, Acc: 0.4868, F1: 0.4800\n"
     ]
    },
    {
     "name": "stderr",
     "output_type": "stream",
     "text": [
      "Training: 100%|██████████| 40/40 [00:01<00:00, 28.58it/s]\n",
      "Validating: 100%|██████████| 79/79 [00:02<00:00, 38.98it/s]\n"
     ]
    },
    {
     "name": "stdout",
     "output_type": "stream",
     "text": [
      "Validation Loss: 1.4200, Accuracy: 0.5026, F1 Score: 0.4864\n",
      "Epoch 6/20 - Train Loss: 1.3597, Val Loss: 1.4200, Acc: 0.5026, F1: 0.4864\n"
     ]
    },
    {
     "name": "stderr",
     "output_type": "stream",
     "text": [
      "Training: 100%|██████████| 40/40 [00:01<00:00, 26.73it/s]\n",
      "Validating: 100%|██████████| 79/79 [00:01<00:00, 41.99it/s]\n"
     ]
    },
    {
     "name": "stdout",
     "output_type": "stream",
     "text": [
      "Validation Loss: 1.3725, Accuracy: 0.5182, F1 Score: 0.5064\n",
      "Epoch 7/20 - Train Loss: 1.3230, Val Loss: 1.3725, Acc: 0.5182, F1: 0.5064\n"
     ]
    },
    {
     "name": "stderr",
     "output_type": "stream",
     "text": [
      "Training: 100%|██████████| 40/40 [00:01<00:00, 31.11it/s]\n",
      "Validating: 100%|██████████| 79/79 [00:02<00:00, 38.17it/s]\n"
     ]
    },
    {
     "name": "stdout",
     "output_type": "stream",
     "text": [
      "Validation Loss: 1.3676, Accuracy: 0.5117, F1 Score: 0.5030\n",
      "Epoch 8/20 - Train Loss: 1.2505, Val Loss: 1.3676, Acc: 0.5117, F1: 0.5030\n"
     ]
    },
    {
     "name": "stderr",
     "output_type": "stream",
     "text": [
      "Training: 100%|██████████| 40/40 [00:01<00:00, 27.04it/s]\n",
      "Validating: 100%|██████████| 79/79 [00:01<00:00, 39.73it/s]\n"
     ]
    },
    {
     "name": "stdout",
     "output_type": "stream",
     "text": [
      "Validation Loss: 1.3285, Accuracy: 0.5286, F1 Score: 0.5188\n",
      "Epoch 9/20 - Train Loss: 1.2134, Val Loss: 1.3285, Acc: 0.5286, F1: 0.5188\n"
     ]
    },
    {
     "name": "stderr",
     "output_type": "stream",
     "text": [
      "Training: 100%|██████████| 40/40 [00:01<00:00, 28.57it/s]\n",
      "Validating: 100%|██████████| 79/79 [00:01<00:00, 40.04it/s]\n"
     ]
    },
    {
     "name": "stdout",
     "output_type": "stream",
     "text": [
      "Validation Loss: 1.3439, Accuracy: 0.5196, F1 Score: 0.5109\n",
      "Epoch 10/20 - Train Loss: 1.1523, Val Loss: 1.3439, Acc: 0.5196, F1: 0.5109\n"
     ]
    },
    {
     "name": "stderr",
     "output_type": "stream",
     "text": [
      "Training: 100%|██████████| 40/40 [00:01<00:00, 31.18it/s]\n",
      "Validating: 100%|██████████| 79/79 [00:02<00:00, 38.49it/s]\n"
     ]
    },
    {
     "name": "stdout",
     "output_type": "stream",
     "text": [
      "Validation Loss: 1.3271, Accuracy: 0.5313, F1 Score: 0.5256\n",
      "Epoch 11/20 - Train Loss: 1.1433, Val Loss: 1.3271, Acc: 0.5313, F1: 0.5256\n"
     ]
    },
    {
     "name": "stderr",
     "output_type": "stream",
     "text": [
      "Training: 100%|██████████| 40/40 [00:01<00:00, 26.73it/s]\n",
      "Validating: 100%|██████████| 79/79 [00:01<00:00, 39.87it/s]\n"
     ]
    },
    {
     "name": "stdout",
     "output_type": "stream",
     "text": [
      "Validation Loss: 1.2997, Accuracy: 0.5419, F1 Score: 0.5352\n",
      "Epoch 12/20 - Train Loss: 1.1133, Val Loss: 1.2997, Acc: 0.5419, F1: 0.5352\n"
     ]
    },
    {
     "name": "stderr",
     "output_type": "stream",
     "text": [
      "Training: 100%|██████████| 40/40 [00:01<00:00, 30.13it/s]\n",
      "Validating: 100%|██████████| 79/79 [00:02<00:00, 36.93it/s]\n"
     ]
    },
    {
     "name": "stdout",
     "output_type": "stream",
     "text": [
      "Validation Loss: 1.2953, Accuracy: 0.5406, F1 Score: 0.5379\n",
      "Epoch 13/20 - Train Loss: 1.0612, Val Loss: 1.2953, Acc: 0.5406, F1: 0.5379\n"
     ]
    },
    {
     "name": "stderr",
     "output_type": "stream",
     "text": [
      "Training: 100%|██████████| 40/40 [00:01<00:00, 27.18it/s]\n",
      "Validating: 100%|██████████| 79/79 [00:01<00:00, 41.04it/s]\n"
     ]
    },
    {
     "name": "stdout",
     "output_type": "stream",
     "text": [
      "Validation Loss: 1.2553, Accuracy: 0.5552, F1 Score: 0.5536\n",
      "Epoch 14/20 - Train Loss: 1.0212, Val Loss: 1.2553, Acc: 0.5552, F1: 0.5536\n"
     ]
    },
    {
     "name": "stderr",
     "output_type": "stream",
     "text": [
      "Training: 100%|██████████| 40/40 [00:01<00:00, 31.21it/s]\n",
      "Validating: 100%|██████████| 79/79 [00:02<00:00, 39.00it/s]\n"
     ]
    },
    {
     "name": "stdout",
     "output_type": "stream",
     "text": [
      "Validation Loss: 1.2575, Accuracy: 0.5632, F1 Score: 0.5548\n",
      "Epoch 15/20 - Train Loss: 0.9724, Val Loss: 1.2575, Acc: 0.5632, F1: 0.5548\n"
     ]
    },
    {
     "name": "stderr",
     "output_type": "stream",
     "text": [
      "Training: 100%|██████████| 40/40 [00:01<00:00, 26.90it/s]\n",
      "Validating: 100%|██████████| 79/79 [00:01<00:00, 42.98it/s]\n"
     ]
    },
    {
     "name": "stdout",
     "output_type": "stream",
     "text": [
      "Validation Loss: 1.2645, Accuracy: 0.5564, F1 Score: 0.5534\n",
      "Epoch 16/20 - Train Loss: 0.9587, Val Loss: 1.2645, Acc: 0.5564, F1: 0.5534\n"
     ]
    },
    {
     "name": "stderr",
     "output_type": "stream",
     "text": [
      "Training: 100%|██████████| 40/40 [00:01<00:00, 31.18it/s]\n",
      "Validating: 100%|██████████| 79/79 [00:02<00:00, 38.80it/s]\n"
     ]
    },
    {
     "name": "stdout",
     "output_type": "stream",
     "text": [
      "Validation Loss: 1.2431, Accuracy: 0.5632, F1 Score: 0.5618\n",
      "Epoch 17/20 - Train Loss: 0.9152, Val Loss: 1.2431, Acc: 0.5632, F1: 0.5618\n"
     ]
    },
    {
     "name": "stderr",
     "output_type": "stream",
     "text": [
      "Training: 100%|██████████| 40/40 [00:01<00:00, 26.94it/s]\n",
      "Validating: 100%|██████████| 79/79 [00:01<00:00, 42.65it/s]\n"
     ]
    },
    {
     "name": "stdout",
     "output_type": "stream",
     "text": [
      "Validation Loss: 1.2545, Accuracy: 0.5603, F1 Score: 0.5608\n",
      "Epoch 18/20 - Train Loss: 0.9096, Val Loss: 1.2545, Acc: 0.5603, F1: 0.5608\n"
     ]
    },
    {
     "name": "stderr",
     "output_type": "stream",
     "text": [
      "Training: 100%|██████████| 40/40 [00:01<00:00, 32.59it/s]\n",
      "Validating: 100%|██████████| 79/79 [00:02<00:00, 39.48it/s]\n"
     ]
    },
    {
     "name": "stdout",
     "output_type": "stream",
     "text": [
      "Validation Loss: 1.2729, Accuracy: 0.5637, F1 Score: 0.5514\n",
      "Epoch 19/20 - Train Loss: 0.8686, Val Loss: 1.2729, Acc: 0.5637, F1: 0.5514\n"
     ]
    },
    {
     "name": "stderr",
     "output_type": "stream",
     "text": [
      "Training: 100%|██████████| 40/40 [00:01<00:00, 27.31it/s]\n",
      "Validating: 100%|██████████| 79/79 [00:01<00:00, 42.62it/s]\n"
     ]
    },
    {
     "name": "stdout",
     "output_type": "stream",
     "text": [
      "Validation Loss: 1.2263, Accuracy: 0.5761, F1 Score: 0.5710\n",
      "Epoch 20/20 - Train Loss: 0.8651, Val Loss: 1.2263, Acc: 0.5761, F1: 0.5710\n",
      "Размер initial_train_dataset: 5000\n"
     ]
    },
    {
     "name": "stderr",
     "output_type": "stream",
     "text": [
      "Training: 100%|██████████| 40/40 [00:01<00:00, 31.47it/s]\n",
      "Validating: 100%|██████████| 79/79 [00:02<00:00, 35.91it/s]\n"
     ]
    },
    {
     "name": "stdout",
     "output_type": "stream",
     "text": [
      "Validation Loss: 1.8244, Accuracy: 0.3684, F1 Score: 0.3607\n",
      "Epoch 1/20 - Train Loss: 2.0142, Val Loss: 1.8244, Acc: 0.3684, F1: 0.3607\n"
     ]
    },
    {
     "name": "stderr",
     "output_type": "stream",
     "text": [
      "Training: 100%|██████████| 40/40 [00:01<00:00, 28.20it/s]\n",
      "Validating: 100%|██████████| 79/79 [00:01<00:00, 42.14it/s]\n"
     ]
    },
    {
     "name": "stdout",
     "output_type": "stream",
     "text": [
      "Validation Loss: 1.6476, Accuracy: 0.4202, F1 Score: 0.4114\n",
      "Epoch 2/20 - Train Loss: 1.7336, Val Loss: 1.6476, Acc: 0.4202, F1: 0.4114\n"
     ]
    },
    {
     "name": "stderr",
     "output_type": "stream",
     "text": [
      "Training: 100%|██████████| 40/40 [00:01<00:00, 32.00it/s]\n",
      "Validating: 100%|██████████| 79/79 [00:02<00:00, 38.47it/s]\n"
     ]
    },
    {
     "name": "stdout",
     "output_type": "stream",
     "text": [
      "Validation Loss: 1.5555, Accuracy: 0.4506, F1 Score: 0.4374\n",
      "Epoch 3/20 - Train Loss: 1.5685, Val Loss: 1.5555, Acc: 0.4506, F1: 0.4374\n"
     ]
    },
    {
     "name": "stderr",
     "output_type": "stream",
     "text": [
      "Training: 100%|██████████| 40/40 [00:01<00:00, 28.03it/s]\n",
      "Validating: 100%|██████████| 79/79 [00:02<00:00, 38.56it/s]\n"
     ]
    },
    {
     "name": "stdout",
     "output_type": "stream",
     "text": [
      "Validation Loss: 1.4807, Accuracy: 0.4715, F1 Score: 0.4499\n",
      "Epoch 4/20 - Train Loss: 1.4630, Val Loss: 1.4807, Acc: 0.4715, F1: 0.4499\n"
     ]
    },
    {
     "name": "stderr",
     "output_type": "stream",
     "text": [
      "Training: 100%|██████████| 40/40 [00:01<00:00, 31.78it/s]\n",
      "Validating: 100%|██████████| 79/79 [00:02<00:00, 34.88it/s]\n"
     ]
    },
    {
     "name": "stdout",
     "output_type": "stream",
     "text": [
      "Validation Loss: 1.4124, Accuracy: 0.5002, F1 Score: 0.4884\n",
      "Epoch 5/20 - Train Loss: 1.3807, Val Loss: 1.4124, Acc: 0.5002, F1: 0.4884\n"
     ]
    },
    {
     "name": "stderr",
     "output_type": "stream",
     "text": [
      "Training: 100%|██████████| 40/40 [00:01<00:00, 31.20it/s]\n",
      "Validating: 100%|██████████| 79/79 [00:01<00:00, 41.57it/s]\n"
     ]
    },
    {
     "name": "stdout",
     "output_type": "stream",
     "text": [
      "Validation Loss: 1.3784, Accuracy: 0.5071, F1 Score: 0.4929\n",
      "Epoch 6/20 - Train Loss: 1.3238, Val Loss: 1.3784, Acc: 0.5071, F1: 0.4929\n"
     ]
    },
    {
     "name": "stderr",
     "output_type": "stream",
     "text": [
      "Training: 100%|██████████| 40/40 [00:01<00:00, 31.34it/s]\n",
      "Validating: 100%|██████████| 79/79 [00:02<00:00, 39.26it/s]\n"
     ]
    },
    {
     "name": "stdout",
     "output_type": "stream",
     "text": [
      "Validation Loss: 1.3649, Accuracy: 0.5136, F1 Score: 0.5007\n",
      "Epoch 7/20 - Train Loss: 1.2692, Val Loss: 1.3649, Acc: 0.5136, F1: 0.5007\n"
     ]
    },
    {
     "name": "stderr",
     "output_type": "stream",
     "text": [
      "Training: 100%|██████████| 40/40 [00:01<00:00, 27.16it/s]\n",
      "Validating: 100%|██████████| 79/79 [00:01<00:00, 42.35it/s]\n"
     ]
    },
    {
     "name": "stdout",
     "output_type": "stream",
     "text": [
      "Validation Loss: 1.3674, Accuracy: 0.5143, F1 Score: 0.5128\n",
      "Epoch 8/20 - Train Loss: 1.2099, Val Loss: 1.3674, Acc: 0.5143, F1: 0.5128\n"
     ]
    },
    {
     "name": "stderr",
     "output_type": "stream",
     "text": [
      "Training: 100%|██████████| 40/40 [00:01<00:00, 29.93it/s]\n",
      "Validating: 100%|██████████| 79/79 [00:02<00:00, 39.00it/s]\n"
     ]
    },
    {
     "name": "stdout",
     "output_type": "stream",
     "text": [
      "Validation Loss: 1.3199, Accuracy: 0.5324, F1 Score: 0.5201\n",
      "Epoch 9/20 - Train Loss: 1.1872, Val Loss: 1.3199, Acc: 0.5324, F1: 0.5201\n"
     ]
    },
    {
     "name": "stderr",
     "output_type": "stream",
     "text": [
      "Training: 100%|██████████| 40/40 [00:01<00:00, 28.35it/s]\n",
      "Validating: 100%|██████████| 79/79 [00:02<00:00, 38.35it/s]\n"
     ]
    },
    {
     "name": "stdout",
     "output_type": "stream",
     "text": [
      "Validation Loss: 1.3016, Accuracy: 0.5377, F1 Score: 0.5303\n",
      "Epoch 10/20 - Train Loss: 1.1549, Val Loss: 1.3016, Acc: 0.5377, F1: 0.5303\n"
     ]
    },
    {
     "name": "stderr",
     "output_type": "stream",
     "text": [
      "Training: 100%|██████████| 40/40 [00:01<00:00, 25.79it/s]\n",
      "Validating: 100%|██████████| 79/79 [00:01<00:00, 40.93it/s]\n"
     ]
    },
    {
     "name": "stdout",
     "output_type": "stream",
     "text": [
      "Validation Loss: 1.2895, Accuracy: 0.5423, F1 Score: 0.5341\n",
      "Epoch 11/20 - Train Loss: 1.1035, Val Loss: 1.2895, Acc: 0.5423, F1: 0.5341\n"
     ]
    },
    {
     "name": "stderr",
     "output_type": "stream",
     "text": [
      "Training: 100%|██████████| 40/40 [00:01<00:00, 32.44it/s]\n",
      "Validating: 100%|██████████| 79/79 [00:02<00:00, 38.66it/s]\n"
     ]
    },
    {
     "name": "stdout",
     "output_type": "stream",
     "text": [
      "Validation Loss: 1.3298, Accuracy: 0.5252, F1 Score: 0.5181\n",
      "Epoch 12/20 - Train Loss: 1.0658, Val Loss: 1.3298, Acc: 0.5252, F1: 0.5181\n"
     ]
    },
    {
     "name": "stderr",
     "output_type": "stream",
     "text": [
      "Training: 100%|██████████| 40/40 [00:01<00:00, 28.58it/s]\n",
      "Validating: 100%|██████████| 79/79 [00:02<00:00, 39.29it/s]\n"
     ]
    },
    {
     "name": "stdout",
     "output_type": "stream",
     "text": [
      "Validation Loss: 1.2554, Accuracy: 0.5540, F1 Score: 0.5434\n",
      "Epoch 13/20 - Train Loss: 1.0544, Val Loss: 1.2554, Acc: 0.5540, F1: 0.5434\n"
     ]
    },
    {
     "name": "stderr",
     "output_type": "stream",
     "text": [
      "Training: 100%|██████████| 40/40 [00:01<00:00, 25.89it/s]\n",
      "Validating: 100%|██████████| 79/79 [00:01<00:00, 43.12it/s]\n"
     ]
    },
    {
     "name": "stdout",
     "output_type": "stream",
     "text": [
      "Validation Loss: 1.2649, Accuracy: 0.5552, F1 Score: 0.5482\n",
      "Epoch 14/20 - Train Loss: 0.9999, Val Loss: 1.2649, Acc: 0.5552, F1: 0.5482\n"
     ]
    },
    {
     "name": "stderr",
     "output_type": "stream",
     "text": [
      "Training: 100%|██████████| 40/40 [00:01<00:00, 31.56it/s]\n",
      "Validating: 100%|██████████| 79/79 [00:01<00:00, 40.07it/s]\n"
     ]
    },
    {
     "name": "stdout",
     "output_type": "stream",
     "text": [
      "Validation Loss: 1.2644, Accuracy: 0.5575, F1 Score: 0.5464\n",
      "Epoch 15/20 - Train Loss: 0.9829, Val Loss: 1.2644, Acc: 0.5575, F1: 0.5464\n"
     ]
    },
    {
     "name": "stderr",
     "output_type": "stream",
     "text": [
      "Training: 100%|██████████| 40/40 [00:01<00:00, 26.88it/s]\n",
      "Validating: 100%|██████████| 79/79 [00:01<00:00, 42.96it/s]\n"
     ]
    },
    {
     "name": "stdout",
     "output_type": "stream",
     "text": [
      "Validation Loss: 1.2144, Accuracy: 0.5750, F1 Score: 0.5725\n",
      "Epoch 16/20 - Train Loss: 0.9493, Val Loss: 1.2144, Acc: 0.5750, F1: 0.5725\n"
     ]
    },
    {
     "name": "stderr",
     "output_type": "stream",
     "text": [
      "Training: 100%|██████████| 40/40 [00:01<00:00, 31.46it/s]\n",
      "Validating: 100%|██████████| 79/79 [00:02<00:00, 39.00it/s]\n"
     ]
    },
    {
     "name": "stdout",
     "output_type": "stream",
     "text": [
      "Validation Loss: 1.2368, Accuracy: 0.5654, F1 Score: 0.5601\n",
      "Epoch 17/20 - Train Loss: 0.9080, Val Loss: 1.2368, Acc: 0.5654, F1: 0.5601\n"
     ]
    },
    {
     "name": "stderr",
     "output_type": "stream",
     "text": [
      "Training: 100%|██████████| 40/40 [00:01<00:00, 25.58it/s]\n",
      "Validating: 100%|██████████| 79/79 [00:01<00:00, 42.57it/s]\n"
     ]
    },
    {
     "name": "stdout",
     "output_type": "stream",
     "text": [
      "Validation Loss: 1.2310, Accuracy: 0.5669, F1 Score: 0.5568\n",
      "Epoch 18/20 - Train Loss: 0.8669, Val Loss: 1.2310, Acc: 0.5669, F1: 0.5568\n"
     ]
    },
    {
     "name": "stderr",
     "output_type": "stream",
     "text": [
      "Training: 100%|██████████| 40/40 [00:01<00:00, 31.80it/s]\n",
      "Validating: 100%|██████████| 79/79 [00:02<00:00, 39.32it/s]\n"
     ]
    },
    {
     "name": "stdout",
     "output_type": "stream",
     "text": [
      "Validation Loss: 1.2374, Accuracy: 0.5712, F1 Score: 0.5625\n",
      "Epoch 19/20 - Train Loss: 0.8288, Val Loss: 1.2374, Acc: 0.5712, F1: 0.5625\n"
     ]
    },
    {
     "name": "stderr",
     "output_type": "stream",
     "text": [
      "Training: 100%|██████████| 40/40 [00:01<00:00, 27.06it/s]\n",
      "Validating: 100%|██████████| 79/79 [00:01<00:00, 42.62it/s]\n"
     ]
    },
    {
     "name": "stdout",
     "output_type": "stream",
     "text": [
      "Validation Loss: 1.2149, Accuracy: 0.5780, F1 Score: 0.5730\n",
      "Epoch 20/20 - Train Loss: 0.8185, Val Loss: 1.2149, Acc: 0.5780, F1: 0.5730\n",
      "Размер initial_train_dataset: 5000\n"
     ]
    },
    {
     "name": "stderr",
     "output_type": "stream",
     "text": [
      "Training: 100%|██████████| 40/40 [00:01<00:00, 30.74it/s]\n",
      "Validating: 100%|██████████| 79/79 [00:01<00:00, 39.74it/s]\n"
     ]
    },
    {
     "name": "stdout",
     "output_type": "stream",
     "text": [
      "Validation Loss: 1.8634, Accuracy: 0.3279, F1 Score: 0.3174\n",
      "Epoch 1/20 - Train Loss: 2.0370, Val Loss: 1.8634, Acc: 0.3279, F1: 0.3174\n"
     ]
    },
    {
     "name": "stderr",
     "output_type": "stream",
     "text": [
      "Training: 100%|██████████| 40/40 [00:01<00:00, 28.21it/s]\n",
      "Validating: 100%|██████████| 79/79 [00:02<00:00, 36.74it/s]\n"
     ]
    },
    {
     "name": "stdout",
     "output_type": "stream",
     "text": [
      "Validation Loss: 1.7194, Accuracy: 0.3889, F1 Score: 0.3611\n",
      "Epoch 2/20 - Train Loss: 1.7816, Val Loss: 1.7194, Acc: 0.3889, F1: 0.3611\n"
     ]
    },
    {
     "name": "stderr",
     "output_type": "stream",
     "text": [
      "Training: 100%|██████████| 40/40 [00:01<00:00, 27.90it/s]\n",
      "Validating: 100%|██████████| 79/79 [00:02<00:00, 37.61it/s]\n"
     ]
    },
    {
     "name": "stdout",
     "output_type": "stream",
     "text": [
      "Validation Loss: 1.6160, Accuracy: 0.4193, F1 Score: 0.3997\n",
      "Epoch 3/20 - Train Loss: 1.6427, Val Loss: 1.6160, Acc: 0.4193, F1: 0.3997\n"
     ]
    },
    {
     "name": "stderr",
     "output_type": "stream",
     "text": [
      "Training: 100%|██████████| 40/40 [00:01<00:00, 30.84it/s]\n",
      "Validating: 100%|██████████| 79/79 [00:01<00:00, 39.78it/s]\n"
     ]
    },
    {
     "name": "stdout",
     "output_type": "stream",
     "text": [
      "Validation Loss: 1.5484, Accuracy: 0.4443, F1 Score: 0.4265\n",
      "Epoch 4/20 - Train Loss: 1.5697, Val Loss: 1.5484, Acc: 0.4443, F1: 0.4265\n"
     ]
    },
    {
     "name": "stderr",
     "output_type": "stream",
     "text": [
      "Training: 100%|██████████| 40/40 [00:01<00:00, 31.07it/s]\n",
      "Validating: 100%|██████████| 79/79 [00:02<00:00, 39.09it/s]\n"
     ]
    },
    {
     "name": "stdout",
     "output_type": "stream",
     "text": [
      "Validation Loss: 1.4907, Accuracy: 0.4760, F1 Score: 0.4636\n",
      "Epoch 5/20 - Train Loss: 1.4540, Val Loss: 1.4907, Acc: 0.4760, F1: 0.4636\n"
     ]
    },
    {
     "name": "stderr",
     "output_type": "stream",
     "text": [
      "Training: 100%|██████████| 40/40 [00:01<00:00, 29.53it/s]\n",
      "Validating: 100%|██████████| 79/79 [00:02<00:00, 38.41it/s]\n"
     ]
    },
    {
     "name": "stdout",
     "output_type": "stream",
     "text": [
      "Validation Loss: 1.4215, Accuracy: 0.4983, F1 Score: 0.4940\n",
      "Epoch 6/20 - Train Loss: 1.3917, Val Loss: 1.4215, Acc: 0.4983, F1: 0.4940\n"
     ]
    },
    {
     "name": "stderr",
     "output_type": "stream",
     "text": [
      "Training: 100%|██████████| 40/40 [00:01<00:00, 27.53it/s]\n",
      "Validating: 100%|██████████| 79/79 [00:02<00:00, 36.65it/s]\n"
     ]
    },
    {
     "name": "stdout",
     "output_type": "stream",
     "text": [
      "Validation Loss: 1.4158, Accuracy: 0.5004, F1 Score: 0.4986\n",
      "Epoch 7/20 - Train Loss: 1.3220, Val Loss: 1.4158, Acc: 0.5004, F1: 0.4986\n"
     ]
    },
    {
     "name": "stderr",
     "output_type": "stream",
     "text": [
      "Training: 100%|██████████| 40/40 [00:01<00:00, 30.73it/s]\n",
      "Validating: 100%|██████████| 79/79 [00:01<00:00, 42.28it/s]\n"
     ]
    },
    {
     "name": "stdout",
     "output_type": "stream",
     "text": [
      "Validation Loss: 1.3563, Accuracy: 0.5177, F1 Score: 0.5126\n",
      "Epoch 8/20 - Train Loss: 1.2645, Val Loss: 1.3563, Acc: 0.5177, F1: 0.5126\n"
     ]
    },
    {
     "name": "stderr",
     "output_type": "stream",
     "text": [
      "Training: 100%|██████████| 40/40 [00:01<00:00, 31.74it/s]\n",
      "Validating: 100%|██████████| 79/79 [00:02<00:00, 38.51it/s]\n"
     ]
    },
    {
     "name": "stdout",
     "output_type": "stream",
     "text": [
      "Validation Loss: 1.3674, Accuracy: 0.5098, F1 Score: 0.5087\n",
      "Epoch 9/20 - Train Loss: 1.2216, Val Loss: 1.3674, Acc: 0.5098, F1: 0.5087\n"
     ]
    },
    {
     "name": "stderr",
     "output_type": "stream",
     "text": [
      "Training: 100%|██████████| 40/40 [00:01<00:00, 25.39it/s]\n",
      "Validating: 100%|██████████| 79/79 [00:01<00:00, 41.34it/s]\n"
     ]
    },
    {
     "name": "stdout",
     "output_type": "stream",
     "text": [
      "Validation Loss: 1.3242, Accuracy: 0.5250, F1 Score: 0.5137\n",
      "Epoch 10/20 - Train Loss: 1.2022, Val Loss: 1.3242, Acc: 0.5250, F1: 0.5137\n"
     ]
    },
    {
     "name": "stderr",
     "output_type": "stream",
     "text": [
      "Training: 100%|██████████| 40/40 [00:01<00:00, 32.99it/s]\n",
      "Validating: 100%|██████████| 79/79 [00:02<00:00, 39.35it/s]\n"
     ]
    },
    {
     "name": "stdout",
     "output_type": "stream",
     "text": [
      "Validation Loss: 1.3203, Accuracy: 0.5321, F1 Score: 0.5199\n",
      "Epoch 11/20 - Train Loss: 1.1650, Val Loss: 1.3203, Acc: 0.5321, F1: 0.5199\n"
     ]
    },
    {
     "name": "stderr",
     "output_type": "stream",
     "text": [
      "Training: 100%|██████████| 40/40 [00:01<00:00, 28.48it/s]\n",
      "Validating: 100%|██████████| 79/79 [00:02<00:00, 36.05it/s]\n"
     ]
    },
    {
     "name": "stdout",
     "output_type": "stream",
     "text": [
      "Validation Loss: 1.2962, Accuracy: 0.5413, F1 Score: 0.5436\n",
      "Epoch 12/20 - Train Loss: 1.1027, Val Loss: 1.2962, Acc: 0.5413, F1: 0.5436\n"
     ]
    },
    {
     "name": "stderr",
     "output_type": "stream",
     "text": [
      "Training: 100%|██████████| 40/40 [00:01<00:00, 27.88it/s]\n",
      "Validating: 100%|██████████| 79/79 [00:01<00:00, 41.43it/s]\n"
     ]
    },
    {
     "name": "stdout",
     "output_type": "stream",
     "text": [
      "Validation Loss: 1.2871, Accuracy: 0.5387, F1 Score: 0.5280\n",
      "Epoch 13/20 - Train Loss: 1.0768, Val Loss: 1.2871, Acc: 0.5387, F1: 0.5280\n"
     ]
    },
    {
     "name": "stderr",
     "output_type": "stream",
     "text": [
      "Training: 100%|██████████| 40/40 [00:01<00:00, 32.59it/s]\n",
      "Validating: 100%|██████████| 79/79 [00:01<00:00, 39.58it/s]\n"
     ]
    },
    {
     "name": "stdout",
     "output_type": "stream",
     "text": [
      "Validation Loss: 1.3370, Accuracy: 0.5363, F1 Score: 0.5235\n",
      "Epoch 14/20 - Train Loss: 1.0476, Val Loss: 1.3370, Acc: 0.5363, F1: 0.5235\n"
     ]
    },
    {
     "name": "stderr",
     "output_type": "stream",
     "text": [
      "Training: 100%|██████████| 40/40 [00:01<00:00, 27.87it/s]\n",
      "Validating: 100%|██████████| 79/79 [00:01<00:00, 43.23it/s]\n"
     ]
    },
    {
     "name": "stdout",
     "output_type": "stream",
     "text": [
      "Validation Loss: 1.2794, Accuracy: 0.5458, F1 Score: 0.5353\n",
      "Epoch 15/20 - Train Loss: 1.0173, Val Loss: 1.2794, Acc: 0.5458, F1: 0.5353\n"
     ]
    },
    {
     "name": "stderr",
     "output_type": "stream",
     "text": [
      "Training: 100%|██████████| 40/40 [00:01<00:00, 32.00it/s]\n",
      "Validating: 100%|██████████| 79/79 [00:01<00:00, 39.88it/s]\n"
     ]
    },
    {
     "name": "stdout",
     "output_type": "stream",
     "text": [
      "Validation Loss: 1.2673, Accuracy: 0.5497, F1 Score: 0.5432\n",
      "Epoch 16/20 - Train Loss: 0.9778, Val Loss: 1.2673, Acc: 0.5497, F1: 0.5432\n"
     ]
    },
    {
     "name": "stderr",
     "output_type": "stream",
     "text": [
      "Training: 100%|██████████| 40/40 [00:01<00:00, 28.13it/s]\n",
      "Validating: 100%|██████████| 79/79 [00:01<00:00, 42.37it/s]\n"
     ]
    },
    {
     "name": "stdout",
     "output_type": "stream",
     "text": [
      "Validation Loss: 1.2607, Accuracy: 0.5512, F1 Score: 0.5426\n",
      "Epoch 17/20 - Train Loss: 0.9415, Val Loss: 1.2607, Acc: 0.5512, F1: 0.5426\n"
     ]
    },
    {
     "name": "stderr",
     "output_type": "stream",
     "text": [
      "Training: 100%|██████████| 40/40 [00:01<00:00, 31.65it/s]\n",
      "Validating: 100%|██████████| 79/79 [00:01<00:00, 40.02it/s]\n"
     ]
    },
    {
     "name": "stdout",
     "output_type": "stream",
     "text": [
      "Validation Loss: 1.2743, Accuracy: 0.5524, F1 Score: 0.5432\n",
      "Epoch 18/20 - Train Loss: 0.9228, Val Loss: 1.2743, Acc: 0.5524, F1: 0.5432\n"
     ]
    },
    {
     "name": "stderr",
     "output_type": "stream",
     "text": [
      "Training: 100%|██████████| 40/40 [00:01<00:00, 25.89it/s]\n",
      "Validating: 100%|██████████| 79/79 [00:01<00:00, 43.16it/s]\n"
     ]
    },
    {
     "name": "stdout",
     "output_type": "stream",
     "text": [
      "Validation Loss: 1.2464, Accuracy: 0.5599, F1 Score: 0.5568\n",
      "Epoch 19/20 - Train Loss: 0.9134, Val Loss: 1.2464, Acc: 0.5599, F1: 0.5568\n"
     ]
    },
    {
     "name": "stderr",
     "output_type": "stream",
     "text": [
      "Training: 100%|██████████| 40/40 [00:01<00:00, 32.26it/s]\n",
      "Validating: 100%|██████████| 79/79 [00:02<00:00, 38.76it/s]\n"
     ]
    },
    {
     "name": "stdout",
     "output_type": "stream",
     "text": [
      "Validation Loss: 1.2310, Accuracy: 0.5686, F1 Score: 0.5601\n",
      "Epoch 20/20 - Train Loss: 0.8744, Val Loss: 1.2310, Acc: 0.5686, F1: 0.5601\n",
      "f1 for random init: p = 0.1, f1 = 0.5649947488309035\n",
      "Размер initial_train_dataset: 10000\n"
     ]
    },
    {
     "name": "stderr",
     "output_type": "stream",
     "text": [
      "Training: 100%|██████████| 79/79 [00:02<00:00, 30.61it/s]\n",
      "Validating: 100%|██████████| 79/79 [00:01<00:00, 40.30it/s]\n"
     ]
    },
    {
     "name": "stdout",
     "output_type": "stream",
     "text": [
      "Validation Loss: 1.7002, Accuracy: 0.4021, F1 Score: 0.3797\n",
      "Epoch 1/20 - Train Loss: 1.9361, Val Loss: 1.7002, Acc: 0.4021, F1: 0.3797\n"
     ]
    },
    {
     "name": "stderr",
     "output_type": "stream",
     "text": [
      "Training: 100%|██████████| 79/79 [00:02<00:00, 31.12it/s]\n",
      "Validating: 100%|██████████| 79/79 [00:02<00:00, 38.97it/s]\n"
     ]
    },
    {
     "name": "stdout",
     "output_type": "stream",
     "text": [
      "Validation Loss: 1.5338, Accuracy: 0.4520, F1 Score: 0.4257\n",
      "Epoch 2/20 - Train Loss: 1.5797, Val Loss: 1.5338, Acc: 0.4520, F1: 0.4257\n"
     ]
    },
    {
     "name": "stderr",
     "output_type": "stream",
     "text": [
      "Training: 100%|██████████| 79/79 [00:02<00:00, 31.65it/s]\n",
      "Validating: 100%|██████████| 79/79 [00:01<00:00, 41.04it/s]\n"
     ]
    },
    {
     "name": "stdout",
     "output_type": "stream",
     "text": [
      "Validation Loss: 1.4263, Accuracy: 0.4889, F1 Score: 0.4674\n",
      "Epoch 3/20 - Train Loss: 1.4414, Val Loss: 1.4263, Acc: 0.4889, F1: 0.4674\n"
     ]
    },
    {
     "name": "stderr",
     "output_type": "stream",
     "text": [
      "Training: 100%|██████████| 79/79 [00:02<00:00, 31.79it/s]\n",
      "Validating: 100%|██████████| 79/79 [00:02<00:00, 34.91it/s]\n"
     ]
    },
    {
     "name": "stdout",
     "output_type": "stream",
     "text": [
      "Validation Loss: 1.3260, Accuracy: 0.5362, F1 Score: 0.5287\n",
      "Epoch 4/20 - Train Loss: 1.3479, Val Loss: 1.3260, Acc: 0.5362, F1: 0.5287\n"
     ]
    },
    {
     "name": "stderr",
     "output_type": "stream",
     "text": [
      "Training: 100%|██████████| 79/79 [00:02<00:00, 32.89it/s]\n",
      "Validating: 100%|██████████| 79/79 [00:01<00:00, 41.11it/s]\n"
     ]
    },
    {
     "name": "stdout",
     "output_type": "stream",
     "text": [
      "Validation Loss: 1.3155, Accuracy: 0.5396, F1 Score: 0.5305\n",
      "Epoch 5/20 - Train Loss: 1.2823, Val Loss: 1.3155, Acc: 0.5396, F1: 0.5305\n"
     ]
    },
    {
     "name": "stderr",
     "output_type": "stream",
     "text": [
      "Training: 100%|██████████| 79/79 [00:02<00:00, 30.93it/s]\n",
      "Validating: 100%|██████████| 79/79 [00:02<00:00, 39.34it/s]\n"
     ]
    },
    {
     "name": "stdout",
     "output_type": "stream",
     "text": [
      "Validation Loss: 1.2612, Accuracy: 0.5498, F1 Score: 0.5468\n",
      "Epoch 6/20 - Train Loss: 1.2250, Val Loss: 1.2612, Acc: 0.5498, F1: 0.5468\n"
     ]
    },
    {
     "name": "stderr",
     "output_type": "stream",
     "text": [
      "Training: 100%|██████████| 79/79 [00:02<00:00, 30.82it/s]\n",
      "Validating: 100%|██████████| 79/79 [00:01<00:00, 42.51it/s]\n"
     ]
    },
    {
     "name": "stdout",
     "output_type": "stream",
     "text": [
      "Validation Loss: 1.2094, Accuracy: 0.5765, F1 Score: 0.5653\n",
      "Epoch 7/20 - Train Loss: 1.1746, Val Loss: 1.2094, Acc: 0.5765, F1: 0.5653\n"
     ]
    },
    {
     "name": "stderr",
     "output_type": "stream",
     "text": [
      "Training: 100%|██████████| 79/79 [00:02<00:00, 30.53it/s]\n",
      "Validating: 100%|██████████| 79/79 [00:02<00:00, 34.38it/s]\n"
     ]
    },
    {
     "name": "stdout",
     "output_type": "stream",
     "text": [
      "Validation Loss: 1.1830, Accuracy: 0.5869, F1 Score: 0.5875\n",
      "Epoch 8/20 - Train Loss: 1.1180, Val Loss: 1.1830, Acc: 0.5869, F1: 0.5875\n"
     ]
    },
    {
     "name": "stderr",
     "output_type": "stream",
     "text": [
      "Training: 100%|██████████| 79/79 [00:02<00:00, 31.24it/s]\n",
      "Validating: 100%|██████████| 79/79 [00:01<00:00, 40.40it/s]\n"
     ]
    },
    {
     "name": "stdout",
     "output_type": "stream",
     "text": [
      "Validation Loss: 1.1817, Accuracy: 0.5803, F1 Score: 0.5739\n",
      "Epoch 9/20 - Train Loss: 1.0781, Val Loss: 1.1817, Acc: 0.5803, F1: 0.5739\n"
     ]
    },
    {
     "name": "stderr",
     "output_type": "stream",
     "text": [
      "Training: 100%|██████████| 79/79 [00:02<00:00, 32.38it/s]\n",
      "Validating: 100%|██████████| 79/79 [00:02<00:00, 38.06it/s]\n"
     ]
    },
    {
     "name": "stdout",
     "output_type": "stream",
     "text": [
      "Validation Loss: 1.1827, Accuracy: 0.5849, F1 Score: 0.5820\n",
      "Epoch 10/20 - Train Loss: 1.0437, Val Loss: 1.1827, Acc: 0.5849, F1: 0.5820\n"
     ]
    },
    {
     "name": "stderr",
     "output_type": "stream",
     "text": [
      "Training: 100%|██████████| 79/79 [00:02<00:00, 29.49it/s]\n",
      "Validating: 100%|██████████| 79/79 [00:02<00:00, 34.76it/s]\n"
     ]
    },
    {
     "name": "stdout",
     "output_type": "stream",
     "text": [
      "Validation Loss: 1.1226, Accuracy: 0.6026, F1 Score: 0.6017\n",
      "Epoch 11/20 - Train Loss: 1.0043, Val Loss: 1.1226, Acc: 0.6026, F1: 0.6017\n"
     ]
    },
    {
     "name": "stderr",
     "output_type": "stream",
     "text": [
      "Training: 100%|██████████| 79/79 [00:02<00:00, 30.55it/s]\n",
      "Validating: 100%|██████████| 79/79 [00:01<00:00, 40.63it/s]\n"
     ]
    },
    {
     "name": "stdout",
     "output_type": "stream",
     "text": [
      "Validation Loss: 1.1294, Accuracy: 0.6049, F1 Score: 0.5984\n",
      "Epoch 12/20 - Train Loss: 0.9678, Val Loss: 1.1294, Acc: 0.6049, F1: 0.5984\n"
     ]
    },
    {
     "name": "stderr",
     "output_type": "stream",
     "text": [
      "Training: 100%|██████████| 79/79 [00:02<00:00, 31.47it/s]\n",
      "Validating: 100%|██████████| 79/79 [00:02<00:00, 38.63it/s]\n"
     ]
    },
    {
     "name": "stdout",
     "output_type": "stream",
     "text": [
      "Validation Loss: 1.0857, Accuracy: 0.6211, F1 Score: 0.6179\n",
      "Epoch 13/20 - Train Loss: 0.9261, Val Loss: 1.0857, Acc: 0.6211, F1: 0.6179\n"
     ]
    },
    {
     "name": "stderr",
     "output_type": "stream",
     "text": [
      "Training: 100%|██████████| 79/79 [00:02<00:00, 31.41it/s]\n",
      "Validating: 100%|██████████| 79/79 [00:01<00:00, 41.33it/s]\n"
     ]
    },
    {
     "name": "stdout",
     "output_type": "stream",
     "text": [
      "Validation Loss: 1.1038, Accuracy: 0.6099, F1 Score: 0.6027\n",
      "Epoch 14/20 - Train Loss: 0.8955, Val Loss: 1.1038, Acc: 0.6099, F1: 0.6027\n"
     ]
    },
    {
     "name": "stderr",
     "output_type": "stream",
     "text": [
      "Training: 100%|██████████| 79/79 [00:02<00:00, 30.57it/s]\n",
      "Validating: 100%|██████████| 79/79 [00:02<00:00, 37.10it/s]\n"
     ]
    },
    {
     "name": "stdout",
     "output_type": "stream",
     "text": [
      "Validation Loss: 1.0890, Accuracy: 0.6185, F1 Score: 0.6111\n",
      "Epoch 15/20 - Train Loss: 0.8598, Val Loss: 1.0890, Acc: 0.6185, F1: 0.6111\n"
     ]
    },
    {
     "name": "stderr",
     "output_type": "stream",
     "text": [
      "Training: 100%|██████████| 79/79 [00:02<00:00, 31.49it/s]\n",
      "Validating: 100%|██████████| 79/79 [00:02<00:00, 35.72it/s]\n"
     ]
    },
    {
     "name": "stdout",
     "output_type": "stream",
     "text": [
      "Validation Loss: 1.0758, Accuracy: 0.6277, F1 Score: 0.6256\n",
      "Epoch 16/20 - Train Loss: 0.8297, Val Loss: 1.0758, Acc: 0.6277, F1: 0.6256\n"
     ]
    },
    {
     "name": "stderr",
     "output_type": "stream",
     "text": [
      "Training: 100%|██████████| 79/79 [00:02<00:00, 29.99it/s]\n",
      "Validating: 100%|██████████| 79/79 [00:02<00:00, 36.86it/s]\n"
     ]
    },
    {
     "name": "stdout",
     "output_type": "stream",
     "text": [
      "Validation Loss: 1.0743, Accuracy: 0.6330, F1 Score: 0.6272\n",
      "Epoch 17/20 - Train Loss: 0.8040, Val Loss: 1.0743, Acc: 0.6330, F1: 0.6272\n"
     ]
    },
    {
     "name": "stderr",
     "output_type": "stream",
     "text": [
      "Training: 100%|██████████| 79/79 [00:02<00:00, 37.17it/s]\n",
      "Validating: 100%|██████████| 79/79 [00:01<00:00, 44.09it/s]\n"
     ]
    },
    {
     "name": "stdout",
     "output_type": "stream",
     "text": [
      "Validation Loss: 1.0874, Accuracy: 0.6252, F1 Score: 0.6188\n",
      "Epoch 18/20 - Train Loss: 0.7791, Val Loss: 1.0874, Acc: 0.6252, F1: 0.6188\n"
     ]
    },
    {
     "name": "stderr",
     "output_type": "stream",
     "text": [
      "Training: 100%|██████████| 79/79 [00:02<00:00, 32.80it/s]\n",
      "Validating: 100%|██████████| 79/79 [00:01<00:00, 41.10it/s]\n"
     ]
    },
    {
     "name": "stdout",
     "output_type": "stream",
     "text": [
      "Validation Loss: 1.0841, Accuracy: 0.6238, F1 Score: 0.6231\n",
      "Epoch 19/20 - Train Loss: 0.7467, Val Loss: 1.0841, Acc: 0.6238, F1: 0.6231\n"
     ]
    },
    {
     "name": "stderr",
     "output_type": "stream",
     "text": [
      "Training: 100%|██████████| 79/79 [00:02<00:00, 28.70it/s]\n",
      "Validating: 100%|██████████| 79/79 [00:02<00:00, 38.33it/s]\n"
     ]
    },
    {
     "name": "stdout",
     "output_type": "stream",
     "text": [
      "Validation Loss: 1.0484, Accuracy: 0.6391, F1 Score: 0.6346\n",
      "Epoch 20/20 - Train Loss: 0.7134, Val Loss: 1.0484, Acc: 0.6391, F1: 0.6346\n",
      "Размер initial_train_dataset: 10000\n"
     ]
    },
    {
     "name": "stderr",
     "output_type": "stream",
     "text": [
      "Training: 100%|██████████| 79/79 [00:02<00:00, 30.66it/s]\n",
      "Validating: 100%|██████████| 79/79 [00:01<00:00, 41.50it/s]\n"
     ]
    },
    {
     "name": "stdout",
     "output_type": "stream",
     "text": [
      "Validation Loss: 1.7210, Accuracy: 0.3978, F1 Score: 0.3817\n",
      "Epoch 1/20 - Train Loss: 1.9358, Val Loss: 1.7210, Acc: 0.3978, F1: 0.3817\n"
     ]
    },
    {
     "name": "stderr",
     "output_type": "stream",
     "text": [
      "Training: 100%|██████████| 79/79 [00:02<00:00, 30.42it/s]\n",
      "Validating: 100%|██████████| 79/79 [00:02<00:00, 37.00it/s]\n"
     ]
    },
    {
     "name": "stdout",
     "output_type": "stream",
     "text": [
      "Validation Loss: 1.5152, Accuracy: 0.4687, F1 Score: 0.4635\n",
      "Epoch 2/20 - Train Loss: 1.6306, Val Loss: 1.5152, Acc: 0.4687, F1: 0.4635\n"
     ]
    },
    {
     "name": "stderr",
     "output_type": "stream",
     "text": [
      "Training: 100%|██████████| 79/79 [00:02<00:00, 30.35it/s]\n",
      "Validating: 100%|██████████| 79/79 [00:01<00:00, 40.55it/s]\n"
     ]
    },
    {
     "name": "stdout",
     "output_type": "stream",
     "text": [
      "Validation Loss: 1.4030, Accuracy: 0.4965, F1 Score: 0.4815\n",
      "Epoch 3/20 - Train Loss: 1.4702, Val Loss: 1.4030, Acc: 0.4965, F1: 0.4815\n"
     ]
    },
    {
     "name": "stderr",
     "output_type": "stream",
     "text": [
      "Training: 100%|██████████| 79/79 [00:02<00:00, 29.07it/s]\n",
      "Validating: 100%|██████████| 79/79 [00:02<00:00, 36.09it/s]\n"
     ]
    },
    {
     "name": "stdout",
     "output_type": "stream",
     "text": [
      "Validation Loss: 1.3479, Accuracy: 0.5187, F1 Score: 0.5123\n",
      "Epoch 4/20 - Train Loss: 1.3767, Val Loss: 1.3479, Acc: 0.5187, F1: 0.5123\n"
     ]
    },
    {
     "name": "stderr",
     "output_type": "stream",
     "text": [
      "Training: 100%|██████████| 79/79 [00:02<00:00, 30.99it/s]\n",
      "Validating: 100%|██████████| 79/79 [00:01<00:00, 41.94it/s]\n"
     ]
    },
    {
     "name": "stdout",
     "output_type": "stream",
     "text": [
      "Validation Loss: 1.2975, Accuracy: 0.5420, F1 Score: 0.5382\n",
      "Epoch 5/20 - Train Loss: 1.3141, Val Loss: 1.2975, Acc: 0.5420, F1: 0.5382\n"
     ]
    },
    {
     "name": "stderr",
     "output_type": "stream",
     "text": [
      "Training: 100%|██████████| 79/79 [00:02<00:00, 30.22it/s]\n",
      "Validating: 100%|██████████| 79/79 [00:02<00:00, 39.34it/s]\n"
     ]
    },
    {
     "name": "stdout",
     "output_type": "stream",
     "text": [
      "Validation Loss: 1.2691, Accuracy: 0.5410, F1 Score: 0.5259\n",
      "Epoch 6/20 - Train Loss: 1.2515, Val Loss: 1.2691, Acc: 0.5410, F1: 0.5259\n"
     ]
    },
    {
     "name": "stderr",
     "output_type": "stream",
     "text": [
      "Training: 100%|██████████| 79/79 [00:02<00:00, 31.14it/s]\n",
      "Validating: 100%|██████████| 79/79 [00:01<00:00, 41.97it/s]\n"
     ]
    },
    {
     "name": "stdout",
     "output_type": "stream",
     "text": [
      "Validation Loss: 1.2755, Accuracy: 0.5447, F1 Score: 0.5438\n",
      "Epoch 7/20 - Train Loss: 1.2167, Val Loss: 1.2755, Acc: 0.5447, F1: 0.5438\n"
     ]
    },
    {
     "name": "stderr",
     "output_type": "stream",
     "text": [
      "Training: 100%|██████████| 79/79 [00:02<00:00, 30.91it/s]\n",
      "Validating: 100%|██████████| 79/79 [00:01<00:00, 39.56it/s]\n"
     ]
    },
    {
     "name": "stdout",
     "output_type": "stream",
     "text": [
      "Validation Loss: 1.2004, Accuracy: 0.5689, F1 Score: 0.5631\n",
      "Epoch 8/20 - Train Loss: 1.1716, Val Loss: 1.2004, Acc: 0.5689, F1: 0.5631\n"
     ]
    },
    {
     "name": "stderr",
     "output_type": "stream",
     "text": [
      "Training: 100%|██████████| 79/79 [00:02<00:00, 28.65it/s]\n",
      "Validating: 100%|██████████| 79/79 [00:02<00:00, 37.69it/s]\n"
     ]
    },
    {
     "name": "stdout",
     "output_type": "stream",
     "text": [
      "Validation Loss: 1.1763, Accuracy: 0.5804, F1 Score: 0.5728\n",
      "Epoch 9/20 - Train Loss: 1.1263, Val Loss: 1.1763, Acc: 0.5804, F1: 0.5728\n"
     ]
    },
    {
     "name": "stderr",
     "output_type": "stream",
     "text": [
      "Training: 100%|██████████| 79/79 [00:02<00:00, 29.90it/s]\n",
      "Validating: 100%|██████████| 79/79 [00:01<00:00, 41.99it/s]\n"
     ]
    },
    {
     "name": "stdout",
     "output_type": "stream",
     "text": [
      "Validation Loss: 1.1646, Accuracy: 0.5807, F1 Score: 0.5723\n",
      "Epoch 10/20 - Train Loss: 1.1001, Val Loss: 1.1646, Acc: 0.5807, F1: 0.5723\n"
     ]
    },
    {
     "name": "stderr",
     "output_type": "stream",
     "text": [
      "Training: 100%|██████████| 79/79 [00:02<00:00, 30.10it/s]\n",
      "Validating: 100%|██████████| 79/79 [00:01<00:00, 39.53it/s]\n"
     ]
    },
    {
     "name": "stdout",
     "output_type": "stream",
     "text": [
      "Validation Loss: 1.1618, Accuracy: 0.5913, F1 Score: 0.5829\n",
      "Epoch 11/20 - Train Loss: 1.0618, Val Loss: 1.1618, Acc: 0.5913, F1: 0.5829\n"
     ]
    },
    {
     "name": "stderr",
     "output_type": "stream",
     "text": [
      "Training: 100%|██████████| 79/79 [00:02<00:00, 29.03it/s]\n",
      "Validating: 100%|██████████| 79/79 [00:02<00:00, 37.35it/s]\n"
     ]
    },
    {
     "name": "stdout",
     "output_type": "stream",
     "text": [
      "Validation Loss: 1.1388, Accuracy: 0.5966, F1 Score: 0.5912\n",
      "Epoch 12/20 - Train Loss: 1.0194, Val Loss: 1.1388, Acc: 0.5966, F1: 0.5912\n"
     ]
    },
    {
     "name": "stderr",
     "output_type": "stream",
     "text": [
      "Training: 100%|██████████| 79/79 [00:02<00:00, 30.73it/s]\n",
      "Validating: 100%|██████████| 79/79 [00:01<00:00, 41.20it/s]\n"
     ]
    },
    {
     "name": "stdout",
     "output_type": "stream",
     "text": [
      "Validation Loss: 1.1139, Accuracy: 0.6006, F1 Score: 0.6008\n",
      "Epoch 13/20 - Train Loss: 0.9968, Val Loss: 1.1139, Acc: 0.6006, F1: 0.6008\n"
     ]
    },
    {
     "name": "stderr",
     "output_type": "stream",
     "text": [
      "Training: 100%|██████████| 79/79 [00:02<00:00, 30.20it/s]\n",
      "Validating: 100%|██████████| 79/79 [00:02<00:00, 38.80it/s]\n"
     ]
    },
    {
     "name": "stdout",
     "output_type": "stream",
     "text": [
      "Validation Loss: 1.0993, Accuracy: 0.6099, F1 Score: 0.6050\n",
      "Epoch 14/20 - Train Loss: 0.9523, Val Loss: 1.0993, Acc: 0.6099, F1: 0.6050\n"
     ]
    },
    {
     "name": "stderr",
     "output_type": "stream",
     "text": [
      "Training: 100%|██████████| 79/79 [00:02<00:00, 31.10it/s]\n",
      "Validating: 100%|██████████| 79/79 [00:01<00:00, 42.10it/s]\n"
     ]
    },
    {
     "name": "stdout",
     "output_type": "stream",
     "text": [
      "Validation Loss: 1.0859, Accuracy: 0.6186, F1 Score: 0.6178\n",
      "Epoch 15/20 - Train Loss: 0.9439, Val Loss: 1.0859, Acc: 0.6186, F1: 0.6178\n"
     ]
    },
    {
     "name": "stderr",
     "output_type": "stream",
     "text": [
      "Training: 100%|██████████| 79/79 [00:02<00:00, 30.05it/s]\n",
      "Validating: 100%|██████████| 79/79 [00:02<00:00, 38.37it/s]\n"
     ]
    },
    {
     "name": "stdout",
     "output_type": "stream",
     "text": [
      "Validation Loss: 1.1051, Accuracy: 0.6090, F1 Score: 0.6028\n",
      "Epoch 16/20 - Train Loss: 0.9017, Val Loss: 1.1051, Acc: 0.6090, F1: 0.6028\n"
     ]
    },
    {
     "name": "stderr",
     "output_type": "stream",
     "text": [
      "Training: 100%|██████████| 79/79 [00:02<00:00, 30.50it/s]\n",
      "Validating: 100%|██████████| 79/79 [00:01<00:00, 42.17it/s]\n"
     ]
    },
    {
     "name": "stdout",
     "output_type": "stream",
     "text": [
      "Validation Loss: 1.0846, Accuracy: 0.6157, F1 Score: 0.6135\n",
      "Epoch 17/20 - Train Loss: 0.8759, Val Loss: 1.0846, Acc: 0.6157, F1: 0.6135\n"
     ]
    },
    {
     "name": "stderr",
     "output_type": "stream",
     "text": [
      "Training: 100%|██████████| 79/79 [00:02<00:00, 30.58it/s]\n",
      "Validating: 100%|██████████| 79/79 [00:01<00:00, 40.97it/s]\n"
     ]
    },
    {
     "name": "stdout",
     "output_type": "stream",
     "text": [
      "Validation Loss: 1.0794, Accuracy: 0.6208, F1 Score: 0.6159\n",
      "Epoch 18/20 - Train Loss: 0.8386, Val Loss: 1.0794, Acc: 0.6208, F1: 0.6159\n"
     ]
    },
    {
     "name": "stderr",
     "output_type": "stream",
     "text": [
      "Training: 100%|██████████| 79/79 [00:02<00:00, 33.89it/s]\n",
      "Validating: 100%|██████████| 79/79 [00:02<00:00, 36.71it/s]\n"
     ]
    },
    {
     "name": "stdout",
     "output_type": "stream",
     "text": [
      "Validation Loss: 1.0910, Accuracy: 0.6166, F1 Score: 0.6135\n",
      "Epoch 19/20 - Train Loss: 0.8189, Val Loss: 1.0910, Acc: 0.6166, F1: 0.6135\n"
     ]
    },
    {
     "name": "stderr",
     "output_type": "stream",
     "text": [
      "Training: 100%|██████████| 79/79 [00:02<00:00, 34.28it/s]\n",
      "Validating: 100%|██████████| 79/79 [00:02<00:00, 38.28it/s]\n"
     ]
    },
    {
     "name": "stdout",
     "output_type": "stream",
     "text": [
      "Validation Loss: 1.0769, Accuracy: 0.6198, F1 Score: 0.6157\n",
      "Epoch 20/20 - Train Loss: 0.8027, Val Loss: 1.0769, Acc: 0.6198, F1: 0.6157\n",
      "Размер initial_train_dataset: 10000\n"
     ]
    },
    {
     "name": "stderr",
     "output_type": "stream",
     "text": [
      "Training: 100%|██████████| 79/79 [00:02<00:00, 29.96it/s]\n",
      "Validating: 100%|██████████| 79/79 [00:02<00:00, 38.78it/s]\n"
     ]
    },
    {
     "name": "stdout",
     "output_type": "stream",
     "text": [
      "Validation Loss: 1.6687, Accuracy: 0.4154, F1 Score: 0.3960\n",
      "Epoch 1/20 - Train Loss: 1.9248, Val Loss: 1.6687, Acc: 0.4154, F1: 0.3960\n"
     ]
    },
    {
     "name": "stderr",
     "output_type": "stream",
     "text": [
      "Training: 100%|██████████| 79/79 [00:02<00:00, 30.71it/s]\n",
      "Validating: 100%|██████████| 79/79 [00:02<00:00, 37.94it/s]\n"
     ]
    },
    {
     "name": "stdout",
     "output_type": "stream",
     "text": [
      "Validation Loss: 1.5125, Accuracy: 0.4674, F1 Score: 0.4441\n",
      "Epoch 2/20 - Train Loss: 1.6023, Val Loss: 1.5125, Acc: 0.4674, F1: 0.4441\n"
     ]
    },
    {
     "name": "stderr",
     "output_type": "stream",
     "text": [
      "Training: 100%|██████████| 79/79 [00:02<00:00, 30.57it/s]\n",
      "Validating: 100%|██████████| 79/79 [00:02<00:00, 36.72it/s]\n"
     ]
    },
    {
     "name": "stdout",
     "output_type": "stream",
     "text": [
      "Validation Loss: 1.3821, Accuracy: 0.5129, F1 Score: 0.4973\n",
      "Epoch 3/20 - Train Loss: 1.4218, Val Loss: 1.3821, Acc: 0.5129, F1: 0.4973\n"
     ]
    },
    {
     "name": "stderr",
     "output_type": "stream",
     "text": [
      "Training: 100%|██████████| 79/79 [00:02<00:00, 30.60it/s]\n",
      "Validating: 100%|██████████| 79/79 [00:01<00:00, 40.83it/s]\n"
     ]
    },
    {
     "name": "stdout",
     "output_type": "stream",
     "text": [
      "Validation Loss: 1.3155, Accuracy: 0.5371, F1 Score: 0.5275\n",
      "Epoch 4/20 - Train Loss: 1.3267, Val Loss: 1.3155, Acc: 0.5371, F1: 0.5275\n"
     ]
    },
    {
     "name": "stderr",
     "output_type": "stream",
     "text": [
      "Training: 100%|██████████| 79/79 [00:02<00:00, 29.41it/s]\n",
      "Validating: 100%|██████████| 79/79 [00:01<00:00, 40.92it/s]\n"
     ]
    },
    {
     "name": "stdout",
     "output_type": "stream",
     "text": [
      "Validation Loss: 1.2661, Accuracy: 0.5537, F1 Score: 0.5456\n",
      "Epoch 5/20 - Train Loss: 1.2571, Val Loss: 1.2661, Acc: 0.5537, F1: 0.5456\n"
     ]
    },
    {
     "name": "stderr",
     "output_type": "stream",
     "text": [
      "Training: 100%|██████████| 79/79 [00:02<00:00, 39.37it/s]\n",
      "Validating: 100%|██████████| 79/79 [00:01<00:00, 42.12it/s]\n"
     ]
    },
    {
     "name": "stdout",
     "output_type": "stream",
     "text": [
      "Validation Loss: 1.2290, Accuracy: 0.5710, F1 Score: 0.5626\n",
      "Epoch 6/20 - Train Loss: 1.2004, Val Loss: 1.2290, Acc: 0.5710, F1: 0.5626\n"
     ]
    },
    {
     "name": "stderr",
     "output_type": "stream",
     "text": [
      "Training: 100%|██████████| 79/79 [00:02<00:00, 32.17it/s]\n",
      "Validating: 100%|██████████| 79/79 [00:01<00:00, 40.53it/s]\n"
     ]
    },
    {
     "name": "stdout",
     "output_type": "stream",
     "text": [
      "Validation Loss: 1.2200, Accuracy: 0.5727, F1 Score: 0.5646\n",
      "Epoch 7/20 - Train Loss: 1.1547, Val Loss: 1.2200, Acc: 0.5727, F1: 0.5646\n"
     ]
    },
    {
     "name": "stderr",
     "output_type": "stream",
     "text": [
      "Training: 100%|██████████| 79/79 [00:02<00:00, 28.78it/s]\n",
      "Validating: 100%|██████████| 79/79 [00:02<00:00, 38.68it/s]\n"
     ]
    },
    {
     "name": "stdout",
     "output_type": "stream",
     "text": [
      "Validation Loss: 1.1814, Accuracy: 0.5906, F1 Score: 0.5800\n",
      "Epoch 8/20 - Train Loss: 1.1143, Val Loss: 1.1814, Acc: 0.5906, F1: 0.5800\n"
     ]
    },
    {
     "name": "stderr",
     "output_type": "stream",
     "text": [
      "Training: 100%|██████████| 79/79 [00:02<00:00, 36.11it/s]\n",
      "Validating: 100%|██████████| 79/79 [00:01<00:00, 42.59it/s]\n"
     ]
    },
    {
     "name": "stdout",
     "output_type": "stream",
     "text": [
      "Validation Loss: 1.1822, Accuracy: 0.5873, F1 Score: 0.5778\n",
      "Epoch 9/20 - Train Loss: 1.0709, Val Loss: 1.1822, Acc: 0.5873, F1: 0.5778\n"
     ]
    },
    {
     "name": "stderr",
     "output_type": "stream",
     "text": [
      "Training: 100%|██████████| 79/79 [00:02<00:00, 32.40it/s]\n",
      "Validating: 100%|██████████| 79/79 [00:02<00:00, 38.73it/s]\n"
     ]
    },
    {
     "name": "stdout",
     "output_type": "stream",
     "text": [
      "Validation Loss: 1.1458, Accuracy: 0.5949, F1 Score: 0.5971\n",
      "Epoch 10/20 - Train Loss: 1.0153, Val Loss: 1.1458, Acc: 0.5949, F1: 0.5971\n"
     ]
    },
    {
     "name": "stderr",
     "output_type": "stream",
     "text": [
      "Training: 100%|██████████| 79/79 [00:02<00:00, 29.69it/s]\n",
      "Validating: 100%|██████████| 79/79 [00:02<00:00, 39.21it/s]\n"
     ]
    },
    {
     "name": "stdout",
     "output_type": "stream",
     "text": [
      "Validation Loss: 1.1237, Accuracy: 0.6073, F1 Score: 0.6049\n",
      "Epoch 11/20 - Train Loss: 0.9809, Val Loss: 1.1237, Acc: 0.6073, F1: 0.6049\n"
     ]
    },
    {
     "name": "stderr",
     "output_type": "stream",
     "text": [
      "Training: 100%|██████████| 79/79 [00:02<00:00, 28.95it/s]\n",
      "Validating: 100%|██████████| 79/79 [00:01<00:00, 40.20it/s]\n"
     ]
    },
    {
     "name": "stdout",
     "output_type": "stream",
     "text": [
      "Validation Loss: 1.1089, Accuracy: 0.6104, F1 Score: 0.6063\n",
      "Epoch 12/20 - Train Loss: 0.9487, Val Loss: 1.1089, Acc: 0.6104, F1: 0.6063\n"
     ]
    },
    {
     "name": "stderr",
     "output_type": "stream",
     "text": [
      "Training: 100%|██████████| 79/79 [00:02<00:00, 31.42it/s]\n",
      "Validating: 100%|██████████| 79/79 [00:02<00:00, 39.48it/s]\n"
     ]
    },
    {
     "name": "stdout",
     "output_type": "stream",
     "text": [
      "Validation Loss: 1.0845, Accuracy: 0.6170, F1 Score: 0.6142\n",
      "Epoch 13/20 - Train Loss: 0.9159, Val Loss: 1.0845, Acc: 0.6170, F1: 0.6142\n"
     ]
    },
    {
     "name": "stderr",
     "output_type": "stream",
     "text": [
      "Training: 100%|██████████| 79/79 [00:02<00:00, 29.19it/s]\n",
      "Validating: 100%|██████████| 79/79 [00:01<00:00, 39.94it/s]\n"
     ]
    },
    {
     "name": "stdout",
     "output_type": "stream",
     "text": [
      "Validation Loss: 1.0980, Accuracy: 0.6140, F1 Score: 0.6071\n",
      "Epoch 14/20 - Train Loss: 0.8619, Val Loss: 1.0980, Acc: 0.6140, F1: 0.6071\n"
     ]
    },
    {
     "name": "stderr",
     "output_type": "stream",
     "text": [
      "Training: 100%|██████████| 79/79 [00:02<00:00, 28.96it/s]\n",
      "Validating: 100%|██████████| 79/79 [00:02<00:00, 36.80it/s]\n"
     ]
    },
    {
     "name": "stdout",
     "output_type": "stream",
     "text": [
      "Validation Loss: 1.0889, Accuracy: 0.6169, F1 Score: 0.6052\n",
      "Epoch 15/20 - Train Loss: 0.8307, Val Loss: 1.0889, Acc: 0.6169, F1: 0.6052\n"
     ]
    },
    {
     "name": "stderr",
     "output_type": "stream",
     "text": [
      "Training: 100%|██████████| 79/79 [00:02<00:00, 32.48it/s]\n",
      "Validating: 100%|██████████| 79/79 [00:01<00:00, 41.00it/s]\n"
     ]
    },
    {
     "name": "stdout",
     "output_type": "stream",
     "text": [
      "Validation Loss: 1.0674, Accuracy: 0.6253, F1 Score: 0.6244\n",
      "Epoch 16/20 - Train Loss: 0.8042, Val Loss: 1.0674, Acc: 0.6253, F1: 0.6244\n"
     ]
    },
    {
     "name": "stderr",
     "output_type": "stream",
     "text": [
      "Training: 100%|██████████| 79/79 [00:02<00:00, 29.18it/s]\n",
      "Validating: 100%|██████████| 79/79 [00:02<00:00, 37.85it/s]\n"
     ]
    },
    {
     "name": "stdout",
     "output_type": "stream",
     "text": [
      "Validation Loss: 1.0669, Accuracy: 0.6303, F1 Score: 0.6232\n",
      "Epoch 17/20 - Train Loss: 0.7796, Val Loss: 1.0669, Acc: 0.6303, F1: 0.6232\n"
     ]
    },
    {
     "name": "stderr",
     "output_type": "stream",
     "text": [
      "Training: 100%|██████████| 79/79 [00:02<00:00, 30.26it/s]\n",
      "Validating: 100%|██████████| 79/79 [00:01<00:00, 40.55it/s]\n"
     ]
    },
    {
     "name": "stdout",
     "output_type": "stream",
     "text": [
      "Validation Loss: 1.0576, Accuracy: 0.6292, F1 Score: 0.6246\n",
      "Epoch 18/20 - Train Loss: 0.7580, Val Loss: 1.0576, Acc: 0.6292, F1: 0.6246\n"
     ]
    },
    {
     "name": "stderr",
     "output_type": "stream",
     "text": [
      "Training: 100%|██████████| 79/79 [00:02<00:00, 28.34it/s]\n",
      "Validating: 100%|██████████| 79/79 [00:02<00:00, 36.17it/s]\n"
     ]
    },
    {
     "name": "stdout",
     "output_type": "stream",
     "text": [
      "Validation Loss: 1.0681, Accuracy: 0.6288, F1 Score: 0.6262\n",
      "Epoch 19/20 - Train Loss: 0.7155, Val Loss: 1.0681, Acc: 0.6288, F1: 0.6262\n"
     ]
    },
    {
     "name": "stderr",
     "output_type": "stream",
     "text": [
      "Training: 100%|██████████| 79/79 [00:02<00:00, 30.45it/s]\n",
      "Validating: 100%|██████████| 79/79 [00:02<00:00, 39.37it/s]\n"
     ]
    },
    {
     "name": "stdout",
     "output_type": "stream",
     "text": [
      "Validation Loss: 1.0933, Accuracy: 0.6251, F1 Score: 0.6195\n",
      "Epoch 20/20 - Train Loss: 0.6848, Val Loss: 1.0933, Acc: 0.6251, F1: 0.6195\n",
      "Размер initial_train_dataset: 10000\n"
     ]
    },
    {
     "name": "stderr",
     "output_type": "stream",
     "text": [
      "Training: 100%|██████████| 79/79 [00:02<00:00, 29.81it/s]\n",
      "Validating: 100%|██████████| 79/79 [00:02<00:00, 37.47it/s]\n"
     ]
    },
    {
     "name": "stdout",
     "output_type": "stream",
     "text": [
      "Validation Loss: 1.6779, Accuracy: 0.4217, F1 Score: 0.4065\n",
      "Epoch 1/20 - Train Loss: 1.8984, Val Loss: 1.6779, Acc: 0.4217, F1: 0.4065\n"
     ]
    },
    {
     "name": "stderr",
     "output_type": "stream",
     "text": [
      "Training: 100%|██████████| 79/79 [00:02<00:00, 30.02it/s]\n",
      "Validating: 100%|██████████| 79/79 [00:02<00:00, 39.05it/s]\n"
     ]
    },
    {
     "name": "stdout",
     "output_type": "stream",
     "text": [
      "Validation Loss: 1.5019, Accuracy: 0.4704, F1 Score: 0.4482\n",
      "Epoch 2/20 - Train Loss: 1.5876, Val Loss: 1.5019, Acc: 0.4704, F1: 0.4482\n"
     ]
    },
    {
     "name": "stderr",
     "output_type": "stream",
     "text": [
      "Training: 100%|██████████| 79/79 [00:02<00:00, 29.73it/s]\n",
      "Validating: 100%|██████████| 79/79 [00:02<00:00, 35.57it/s]\n"
     ]
    },
    {
     "name": "stdout",
     "output_type": "stream",
     "text": [
      "Validation Loss: 1.3967, Accuracy: 0.5091, F1 Score: 0.4859\n",
      "Epoch 3/20 - Train Loss: 1.4449, Val Loss: 1.3967, Acc: 0.5091, F1: 0.4859\n"
     ]
    },
    {
     "name": "stderr",
     "output_type": "stream",
     "text": [
      "Training: 100%|██████████| 79/79 [00:02<00:00, 29.84it/s]\n",
      "Validating: 100%|██████████| 79/79 [00:01<00:00, 40.03it/s]\n"
     ]
    },
    {
     "name": "stdout",
     "output_type": "stream",
     "text": [
      "Validation Loss: 1.3466, Accuracy: 0.5273, F1 Score: 0.5175\n",
      "Epoch 4/20 - Train Loss: 1.3258, Val Loss: 1.3466, Acc: 0.5273, F1: 0.5175\n"
     ]
    },
    {
     "name": "stderr",
     "output_type": "stream",
     "text": [
      "Training: 100%|██████████| 79/79 [00:02<00:00, 30.66it/s]\n",
      "Validating: 100%|██████████| 79/79 [00:02<00:00, 36.01it/s]\n"
     ]
    },
    {
     "name": "stdout",
     "output_type": "stream",
     "text": [
      "Validation Loss: 1.3172, Accuracy: 0.5358, F1 Score: 0.5363\n",
      "Epoch 5/20 - Train Loss: 1.2625, Val Loss: 1.3172, Acc: 0.5358, F1: 0.5363\n"
     ]
    },
    {
     "name": "stderr",
     "output_type": "stream",
     "text": [
      "Training: 100%|██████████| 79/79 [00:02<00:00, 30.75it/s]\n",
      "Validating: 100%|██████████| 79/79 [00:01<00:00, 39.88it/s]\n"
     ]
    },
    {
     "name": "stdout",
     "output_type": "stream",
     "text": [
      "Validation Loss: 1.2463, Accuracy: 0.5606, F1 Score: 0.5466\n",
      "Epoch 6/20 - Train Loss: 1.2091, Val Loss: 1.2463, Acc: 0.5606, F1: 0.5466\n"
     ]
    },
    {
     "name": "stderr",
     "output_type": "stream",
     "text": [
      "Training: 100%|██████████| 79/79 [00:02<00:00, 30.42it/s]\n",
      "Validating: 100%|██████████| 79/79 [00:02<00:00, 36.78it/s]\n"
     ]
    },
    {
     "name": "stdout",
     "output_type": "stream",
     "text": [
      "Validation Loss: 1.2049, Accuracy: 0.5745, F1 Score: 0.5710\n",
      "Epoch 7/20 - Train Loss: 1.1422, Val Loss: 1.2049, Acc: 0.5745, F1: 0.5710\n"
     ]
    },
    {
     "name": "stderr",
     "output_type": "stream",
     "text": [
      "Training: 100%|██████████| 79/79 [00:02<00:00, 31.03it/s]\n",
      "Validating: 100%|██████████| 79/79 [00:01<00:00, 40.02it/s]\n"
     ]
    },
    {
     "name": "stdout",
     "output_type": "stream",
     "text": [
      "Validation Loss: 1.1835, Accuracy: 0.5838, F1 Score: 0.5800\n",
      "Epoch 8/20 - Train Loss: 1.1117, Val Loss: 1.1835, Acc: 0.5838, F1: 0.5800\n"
     ]
    },
    {
     "name": "stderr",
     "output_type": "stream",
     "text": [
      "Training: 100%|██████████| 79/79 [00:02<00:00, 28.93it/s]\n",
      "Validating: 100%|██████████| 79/79 [00:02<00:00, 37.71it/s]\n"
     ]
    },
    {
     "name": "stdout",
     "output_type": "stream",
     "text": [
      "Validation Loss: 1.1488, Accuracy: 0.5934, F1 Score: 0.5869\n",
      "Epoch 9/20 - Train Loss: 1.0636, Val Loss: 1.1488, Acc: 0.5934, F1: 0.5869\n"
     ]
    },
    {
     "name": "stderr",
     "output_type": "stream",
     "text": [
      "Training: 100%|██████████| 79/79 [00:02<00:00, 30.54it/s]\n",
      "Validating: 100%|██████████| 79/79 [00:01<00:00, 39.85it/s]\n"
     ]
    },
    {
     "name": "stdout",
     "output_type": "stream",
     "text": [
      "Validation Loss: 1.1467, Accuracy: 0.5987, F1 Score: 0.5940\n",
      "Epoch 10/20 - Train Loss: 1.0090, Val Loss: 1.1467, Acc: 0.5987, F1: 0.5940\n"
     ]
    },
    {
     "name": "stderr",
     "output_type": "stream",
     "text": [
      "Training: 100%|██████████| 79/79 [00:02<00:00, 29.27it/s]\n",
      "Validating: 100%|██████████| 79/79 [00:02<00:00, 37.24it/s]\n"
     ]
    },
    {
     "name": "stdout",
     "output_type": "stream",
     "text": [
      "Validation Loss: 1.1431, Accuracy: 0.5997, F1 Score: 0.5941\n",
      "Epoch 11/20 - Train Loss: 0.9881, Val Loss: 1.1431, Acc: 0.5997, F1: 0.5941\n"
     ]
    },
    {
     "name": "stderr",
     "output_type": "stream",
     "text": [
      "Training: 100%|██████████| 79/79 [00:02<00:00, 28.03it/s]\n",
      "Validating: 100%|██████████| 79/79 [00:02<00:00, 36.13it/s]\n"
     ]
    },
    {
     "name": "stdout",
     "output_type": "stream",
     "text": [
      "Validation Loss: 1.1263, Accuracy: 0.6007, F1 Score: 0.5964\n",
      "Epoch 12/20 - Train Loss: 0.9425, Val Loss: 1.1263, Acc: 0.6007, F1: 0.5964\n"
     ]
    },
    {
     "name": "stderr",
     "output_type": "stream",
     "text": [
      "Training: 100%|██████████| 79/79 [00:02<00:00, 27.22it/s]\n",
      "Validating: 100%|██████████| 79/79 [00:02<00:00, 34.81it/s]\n"
     ]
    },
    {
     "name": "stdout",
     "output_type": "stream",
     "text": [
      "Validation Loss: 1.0970, Accuracy: 0.6137, F1 Score: 0.6100\n",
      "Epoch 13/20 - Train Loss: 0.9198, Val Loss: 1.0970, Acc: 0.6137, F1: 0.6100\n"
     ]
    },
    {
     "name": "stderr",
     "output_type": "stream",
     "text": [
      "Training: 100%|██████████| 79/79 [00:02<00:00, 28.60it/s]\n",
      "Validating: 100%|██████████| 79/79 [00:02<00:00, 38.11it/s]\n"
     ]
    },
    {
     "name": "stdout",
     "output_type": "stream",
     "text": [
      "Validation Loss: 1.0838, Accuracy: 0.6223, F1 Score: 0.6190\n",
      "Epoch 14/20 - Train Loss: 0.8718, Val Loss: 1.0838, Acc: 0.6223, F1: 0.6190\n"
     ]
    },
    {
     "name": "stderr",
     "output_type": "stream",
     "text": [
      "Training: 100%|██████████| 79/79 [00:02<00:00, 30.41it/s]\n",
      "Validating: 100%|██████████| 79/79 [00:02<00:00, 37.69it/s]\n"
     ]
    },
    {
     "name": "stdout",
     "output_type": "stream",
     "text": [
      "Validation Loss: 1.0938, Accuracy: 0.6181, F1 Score: 0.6179\n",
      "Epoch 15/20 - Train Loss: 0.8451, Val Loss: 1.0938, Acc: 0.6181, F1: 0.6179\n"
     ]
    },
    {
     "name": "stderr",
     "output_type": "stream",
     "text": [
      "Training: 100%|██████████| 79/79 [00:02<00:00, 31.82it/s]\n",
      "Validating: 100%|██████████| 79/79 [00:01<00:00, 40.70it/s]\n"
     ]
    },
    {
     "name": "stdout",
     "output_type": "stream",
     "text": [
      "Validation Loss: 1.0771, Accuracy: 0.6259, F1 Score: 0.6271\n",
      "Epoch 16/20 - Train Loss: 0.8193, Val Loss: 1.0771, Acc: 0.6259, F1: 0.6271\n"
     ]
    },
    {
     "name": "stderr",
     "output_type": "stream",
     "text": [
      "Training: 100%|██████████| 79/79 [00:02<00:00, 30.55it/s]\n",
      "Validating: 100%|██████████| 79/79 [00:02<00:00, 38.79it/s]\n"
     ]
    },
    {
     "name": "stdout",
     "output_type": "stream",
     "text": [
      "Validation Loss: 1.0993, Accuracy: 0.6208, F1 Score: 0.6099\n",
      "Epoch 17/20 - Train Loss: 0.7918, Val Loss: 1.0993, Acc: 0.6208, F1: 0.6099\n"
     ]
    },
    {
     "name": "stderr",
     "output_type": "stream",
     "text": [
      "Training: 100%|██████████| 79/79 [00:02<00:00, 31.21it/s]\n",
      "Validating: 100%|██████████| 79/79 [00:01<00:00, 40.87it/s]\n"
     ]
    },
    {
     "name": "stdout",
     "output_type": "stream",
     "text": [
      "Validation Loss: 1.0978, Accuracy: 0.6147, F1 Score: 0.6107\n",
      "Epoch 18/20 - Train Loss: 0.7522, Val Loss: 1.0978, Acc: 0.6147, F1: 0.6107\n"
     ]
    },
    {
     "name": "stderr",
     "output_type": "stream",
     "text": [
      "Training: 100%|██████████| 79/79 [00:02<00:00, 30.13it/s]\n",
      "Validating: 100%|██████████| 79/79 [00:02<00:00, 38.19it/s]\n"
     ]
    },
    {
     "name": "stdout",
     "output_type": "stream",
     "text": [
      "Validation Loss: 1.0843, Accuracy: 0.6186, F1 Score: 0.6206\n",
      "Epoch 19/20 - Train Loss: 0.7234, Val Loss: 1.0843, Acc: 0.6186, F1: 0.6206\n"
     ]
    },
    {
     "name": "stderr",
     "output_type": "stream",
     "text": [
      "Training: 100%|██████████| 79/79 [00:02<00:00, 31.69it/s]\n",
      "Validating: 100%|██████████| 79/79 [00:02<00:00, 34.61it/s]\n"
     ]
    },
    {
     "name": "stdout",
     "output_type": "stream",
     "text": [
      "Validation Loss: 1.1088, Accuracy: 0.6207, F1 Score: 0.6141\n",
      "Epoch 20/20 - Train Loss: 0.6840, Val Loss: 1.1088, Acc: 0.6207, F1: 0.6141\n",
      "Размер initial_train_dataset: 10000\n"
     ]
    },
    {
     "name": "stderr",
     "output_type": "stream",
     "text": [
      "Training: 100%|██████████| 79/79 [00:02<00:00, 28.41it/s]\n",
      "Validating: 100%|██████████| 79/79 [00:02<00:00, 35.63it/s]\n"
     ]
    },
    {
     "name": "stdout",
     "output_type": "stream",
     "text": [
      "Validation Loss: 1.6743, Accuracy: 0.4165, F1 Score: 0.3979\n",
      "Epoch 1/20 - Train Loss: 1.9129, Val Loss: 1.6743, Acc: 0.4165, F1: 0.3979\n"
     ]
    },
    {
     "name": "stderr",
     "output_type": "stream",
     "text": [
      "Training: 100%|██████████| 79/79 [00:02<00:00, 29.03it/s]\n",
      "Validating: 100%|██████████| 79/79 [00:02<00:00, 37.51it/s]\n"
     ]
    },
    {
     "name": "stdout",
     "output_type": "stream",
     "text": [
      "Validation Loss: 1.4785, Accuracy: 0.4857, F1 Score: 0.4815\n",
      "Epoch 2/20 - Train Loss: 1.5846, Val Loss: 1.4785, Acc: 0.4857, F1: 0.4815\n"
     ]
    },
    {
     "name": "stderr",
     "output_type": "stream",
     "text": [
      "Training: 100%|██████████| 79/79 [00:02<00:00, 28.69it/s]\n",
      "Validating: 100%|██████████| 79/79 [00:02<00:00, 33.38it/s]\n"
     ]
    },
    {
     "name": "stdout",
     "output_type": "stream",
     "text": [
      "Validation Loss: 1.3577, Accuracy: 0.5222, F1 Score: 0.5175\n",
      "Epoch 3/20 - Train Loss: 1.4175, Val Loss: 1.3577, Acc: 0.5222, F1: 0.5175\n"
     ]
    },
    {
     "name": "stderr",
     "output_type": "stream",
     "text": [
      "Training: 100%|██████████| 79/79 [00:02<00:00, 29.90it/s]\n",
      "Validating: 100%|██████████| 79/79 [00:02<00:00, 34.92it/s]\n"
     ]
    },
    {
     "name": "stdout",
     "output_type": "stream",
     "text": [
      "Validation Loss: 1.2898, Accuracy: 0.5410, F1 Score: 0.5359\n",
      "Epoch 4/20 - Train Loss: 1.3058, Val Loss: 1.2898, Acc: 0.5410, F1: 0.5359\n"
     ]
    },
    {
     "name": "stderr",
     "output_type": "stream",
     "text": [
      "Training: 100%|██████████| 79/79 [00:02<00:00, 28.95it/s]\n",
      "Validating: 100%|██████████| 79/79 [00:02<00:00, 34.61it/s]\n"
     ]
    },
    {
     "name": "stdout",
     "output_type": "stream",
     "text": [
      "Validation Loss: 1.2684, Accuracy: 0.5483, F1 Score: 0.5348\n",
      "Epoch 5/20 - Train Loss: 1.2531, Val Loss: 1.2684, Acc: 0.5483, F1: 0.5348\n"
     ]
    },
    {
     "name": "stderr",
     "output_type": "stream",
     "text": [
      "Training: 100%|██████████| 79/79 [00:02<00:00, 29.77it/s]\n",
      "Validating: 100%|██████████| 79/79 [00:02<00:00, 37.97it/s]\n"
     ]
    },
    {
     "name": "stdout",
     "output_type": "stream",
     "text": [
      "Validation Loss: 1.2299, Accuracy: 0.5657, F1 Score: 0.5560\n",
      "Epoch 6/20 - Train Loss: 1.1897, Val Loss: 1.2299, Acc: 0.5657, F1: 0.5560\n"
     ]
    },
    {
     "name": "stderr",
     "output_type": "stream",
     "text": [
      "Training: 100%|██████████| 79/79 [00:02<00:00, 28.89it/s]\n",
      "Validating: 100%|██████████| 79/79 [00:02<00:00, 34.72it/s]\n"
     ]
    },
    {
     "name": "stdout",
     "output_type": "stream",
     "text": [
      "Validation Loss: 1.1996, Accuracy: 0.5784, F1 Score: 0.5644\n",
      "Epoch 7/20 - Train Loss: 1.1373, Val Loss: 1.1996, Acc: 0.5784, F1: 0.5644\n"
     ]
    },
    {
     "name": "stderr",
     "output_type": "stream",
     "text": [
      "Training: 100%|██████████| 79/79 [00:02<00:00, 28.55it/s]\n",
      "Validating: 100%|██████████| 79/79 [00:02<00:00, 38.59it/s]\n"
     ]
    },
    {
     "name": "stdout",
     "output_type": "stream",
     "text": [
      "Validation Loss: 1.1707, Accuracy: 0.5826, F1 Score: 0.5737\n",
      "Epoch 8/20 - Train Loss: 1.1014, Val Loss: 1.1707, Acc: 0.5826, F1: 0.5737\n"
     ]
    },
    {
     "name": "stderr",
     "output_type": "stream",
     "text": [
      "Training: 100%|██████████| 79/79 [00:02<00:00, 28.60it/s]\n",
      "Validating: 100%|██████████| 79/79 [00:02<00:00, 34.36it/s]\n"
     ]
    },
    {
     "name": "stdout",
     "output_type": "stream",
     "text": [
      "Validation Loss: 1.1380, Accuracy: 0.5962, F1 Score: 0.5924\n",
      "Epoch 9/20 - Train Loss: 1.0441, Val Loss: 1.1380, Acc: 0.5962, F1: 0.5924\n"
     ]
    },
    {
     "name": "stderr",
     "output_type": "stream",
     "text": [
      "Training: 100%|██████████| 79/79 [00:02<00:00, 29.22it/s]\n",
      "Validating: 100%|██████████| 79/79 [00:02<00:00, 38.38it/s]\n"
     ]
    },
    {
     "name": "stdout",
     "output_type": "stream",
     "text": [
      "Validation Loss: 1.1440, Accuracy: 0.5913, F1 Score: 0.5922\n",
      "Epoch 10/20 - Train Loss: 1.0272, Val Loss: 1.1440, Acc: 0.5913, F1: 0.5922\n"
     ]
    },
    {
     "name": "stderr",
     "output_type": "stream",
     "text": [
      "Training: 100%|██████████| 79/79 [00:02<00:00, 29.30it/s]\n",
      "Validating: 100%|██████████| 79/79 [00:02<00:00, 36.18it/s]\n"
     ]
    },
    {
     "name": "stdout",
     "output_type": "stream",
     "text": [
      "Validation Loss: 1.1018, Accuracy: 0.6074, F1 Score: 0.6039\n",
      "Epoch 11/20 - Train Loss: 0.9859, Val Loss: 1.1018, Acc: 0.6074, F1: 0.6039\n"
     ]
    },
    {
     "name": "stderr",
     "output_type": "stream",
     "text": [
      "Training: 100%|██████████| 79/79 [00:02<00:00, 29.78it/s]\n",
      "Validating: 100%|██████████| 79/79 [00:02<00:00, 37.37it/s]\n"
     ]
    },
    {
     "name": "stdout",
     "output_type": "stream",
     "text": [
      "Validation Loss: 1.0936, Accuracy: 0.6131, F1 Score: 0.6118\n",
      "Epoch 12/20 - Train Loss: 0.9492, Val Loss: 1.0936, Acc: 0.6131, F1: 0.6118\n"
     ]
    },
    {
     "name": "stderr",
     "output_type": "stream",
     "text": [
      "Training: 100%|██████████| 79/79 [00:02<00:00, 26.42it/s]\n",
      "Validating: 100%|██████████| 79/79 [00:02<00:00, 32.03it/s]\n"
     ]
    },
    {
     "name": "stdout",
     "output_type": "stream",
     "text": [
      "Validation Loss: 1.0802, Accuracy: 0.6121, F1 Score: 0.6054\n",
      "Epoch 13/20 - Train Loss: 0.9138, Val Loss: 1.0802, Acc: 0.6121, F1: 0.6054\n"
     ]
    },
    {
     "name": "stderr",
     "output_type": "stream",
     "text": [
      "Training: 100%|██████████| 79/79 [00:02<00:00, 29.64it/s]\n",
      "Validating: 100%|██████████| 79/79 [00:02<00:00, 38.78it/s]\n"
     ]
    },
    {
     "name": "stdout",
     "output_type": "stream",
     "text": [
      "Validation Loss: 1.0895, Accuracy: 0.6134, F1 Score: 0.6070\n",
      "Epoch 14/20 - Train Loss: 0.8779, Val Loss: 1.0895, Acc: 0.6134, F1: 0.6070\n"
     ]
    },
    {
     "name": "stderr",
     "output_type": "stream",
     "text": [
      "Training: 100%|██████████| 79/79 [00:02<00:00, 28.17it/s]\n",
      "Validating: 100%|██████████| 79/79 [00:02<00:00, 36.13it/s]\n"
     ]
    },
    {
     "name": "stdout",
     "output_type": "stream",
     "text": [
      "Validation Loss: 1.0684, Accuracy: 0.6246, F1 Score: 0.6192\n",
      "Epoch 15/20 - Train Loss: 0.8439, Val Loss: 1.0684, Acc: 0.6246, F1: 0.6192\n"
     ]
    },
    {
     "name": "stderr",
     "output_type": "stream",
     "text": [
      "Training: 100%|██████████| 79/79 [00:02<00:00, 31.32it/s]\n",
      "Validating: 100%|██████████| 79/79 [00:02<00:00, 34.26it/s]\n"
     ]
    },
    {
     "name": "stdout",
     "output_type": "stream",
     "text": [
      "Validation Loss: 1.0675, Accuracy: 0.6246, F1 Score: 0.6189\n",
      "Epoch 16/20 - Train Loss: 0.8180, Val Loss: 1.0675, Acc: 0.6246, F1: 0.6189\n"
     ]
    },
    {
     "name": "stderr",
     "output_type": "stream",
     "text": [
      "Training: 100%|██████████| 79/79 [00:02<00:00, 28.34it/s]\n",
      "Validating: 100%|██████████| 79/79 [00:02<00:00, 37.03it/s]\n"
     ]
    },
    {
     "name": "stdout",
     "output_type": "stream",
     "text": [
      "Validation Loss: 1.0434, Accuracy: 0.6345, F1 Score: 0.6321\n",
      "Epoch 17/20 - Train Loss: 0.7732, Val Loss: 1.0434, Acc: 0.6345, F1: 0.6321\n"
     ]
    },
    {
     "name": "stderr",
     "output_type": "stream",
     "text": [
      "Training: 100%|██████████| 79/79 [00:02<00:00, 29.95it/s]\n",
      "Validating: 100%|██████████| 79/79 [00:02<00:00, 38.95it/s]\n"
     ]
    },
    {
     "name": "stdout",
     "output_type": "stream",
     "text": [
      "Validation Loss: 1.0625, Accuracy: 0.6288, F1 Score: 0.6254\n",
      "Epoch 18/20 - Train Loss: 0.7649, Val Loss: 1.0625, Acc: 0.6288, F1: 0.6254\n"
     ]
    },
    {
     "name": "stderr",
     "output_type": "stream",
     "text": [
      "Training: 100%|██████████| 79/79 [00:02<00:00, 28.91it/s]\n",
      "Validating: 100%|██████████| 79/79 [00:02<00:00, 34.07it/s]\n"
     ]
    },
    {
     "name": "stdout",
     "output_type": "stream",
     "text": [
      "Validation Loss: 1.0585, Accuracy: 0.6324, F1 Score: 0.6326\n",
      "Epoch 19/20 - Train Loss: 0.7408, Val Loss: 1.0585, Acc: 0.6324, F1: 0.6326\n"
     ]
    },
    {
     "name": "stderr",
     "output_type": "stream",
     "text": [
      "Training: 100%|██████████| 79/79 [00:02<00:00, 30.17it/s]\n",
      "Validating: 100%|██████████| 79/79 [00:02<00:00, 37.37it/s]\n"
     ]
    },
    {
     "name": "stdout",
     "output_type": "stream",
     "text": [
      "Validation Loss: 1.0437, Accuracy: 0.6361, F1 Score: 0.6357\n",
      "Epoch 20/20 - Train Loss: 0.7127, Val Loss: 1.0437, Acc: 0.6361, F1: 0.6357\n",
      "f1 for random init: p = 0.2, f1 = 0.6282874119768651\n"
     ]
    }
   ],
   "source": [
    "\n",
    "\n",
    "val_dict = {}\n",
    "for p in [0.01, 0.1, 0.2]:\n",
    "\n",
    "    f1 = 0.0\n",
    "    for _ in range(5):\n",
    "\n",
    "        # Разделяем данные\n",
    "        initial_indices = []\n",
    "        pool_indices = []\n",
    "\n",
    "        for class_idx, indices in class_indices.items():\n",
    "            np.random.shuffle(indices)  # Перемешиваем индексы внутри класса\n",
    "            split_idx = int(len(indices) * p)  # Вычисляем границу разделения\n",
    "            initial_indices.extend(indices[:split_idx])\n",
    "        \n",
    "        initial_train_dataset = Subset(train_dataset, initial_indices)\n",
    "        print(f\"Размер initial_train_dataset: {len(initial_train_dataset)}\")\n",
    "        train_dataloader = DataLoader(initial_train_dataset, batch_size=128, shuffle=True)\n",
    "\n",
    "        model = SimpleCNN(NUM_CLASSES).to(DEVICE)\n",
    "        optimizer = optim.AdamW(model.parameters(), lr=learning_rate )\n",
    "        criterion = torch.nn.CrossEntropyLoss()\n",
    "        scheduler = optim.lr_scheduler.ReduceLROnPlateau(optimizer, mode='min', factor=0.5, patience=5)\n",
    "        trainer = Trainer(model = model,\n",
    "                          optimizer=optimizer,\n",
    "                          pool_loader=None,\n",
    "                          criterion=criterion ,\n",
    "                          train_loader=train_dataloader,\n",
    "                          val_loader = val_dataloader,\n",
    "                          device=DEVICE,\n",
    "                          scheduler=scheduler)\n",
    "        trainer.fit(EPOCHS)\n",
    "        f1 += max(trainer.val_f1)\n",
    "        del optimizer \n",
    "        del criterion\n",
    "        del scheduler\n",
    "        del model\n",
    "        del trainer\n",
    "    f1 /= 5\n",
    "    val_dict[p] = f1\n",
    "    torch.cuda.empty_cache()\n",
    "    print(f\"f1 for random init: p = {p}, f1 = {val_dict[p]}\")\n",
    "\n",
    "\n",
    "\n"
   ]
  },
  {
   "cell_type": "code",
   "execution_count": 10,
   "metadata": {},
   "outputs": [
    {
     "data": {
      "text/plain": [
       "{0.01: 0.3620172704387155, 0.1: 0.5649947488309035, 0.2: 0.6282874119768651}"
      ]
     },
     "execution_count": 10,
     "metadata": {},
     "output_type": "execute_result"
    }
   ],
   "source": [
    "val_dict"
   ]
  },
  {
   "cell_type": "code",
   "execution_count": 10,
   "metadata": {},
   "outputs": [
    {
     "data": {
      "text/plain": [
       "50000"
      ]
     },
     "execution_count": 10,
     "metadata": {},
     "output_type": "execute_result"
    }
   ],
   "source": [
    "train_dataset.__len__()"
   ]
  },
  {
   "cell_type": "code",
   "execution_count": 11,
   "metadata": {},
   "outputs": [
    {
     "name": "stderr",
     "output_type": "stream",
     "text": [
      "Training: 100%|██████████| 391/391 [00:11<00:00, 33.28it/s]\n",
      "Validating: 100%|██████████| 79/79 [00:02<00:00, 37.80it/s]\n"
     ]
    },
    {
     "name": "stdout",
     "output_type": "stream",
     "text": [
      "Validation Loss: 1.2716, Accuracy: 0.5568, F1 Score: 0.5503\n",
      "Epoch 1/20 - Train Loss: 1.5428, Val Loss: 1.2716, Acc: 0.5568, F1: 0.5503\n"
     ]
    },
    {
     "name": "stderr",
     "output_type": "stream",
     "text": [
      "Training: 100%|██████████| 391/391 [00:12<00:00, 30.81it/s]\n",
      "Validating: 100%|██████████| 79/79 [00:02<00:00, 34.29it/s]\n"
     ]
    },
    {
     "name": "stdout",
     "output_type": "stream",
     "text": [
      "Validation Loss: 1.1419, Accuracy: 0.6048, F1 Score: 0.6017\n",
      "Epoch 2/20 - Train Loss: 1.2206, Val Loss: 1.1419, Acc: 0.6048, F1: 0.6017\n"
     ]
    },
    {
     "name": "stderr",
     "output_type": "stream",
     "text": [
      "Training: 100%|██████████| 391/391 [00:12<00:00, 30.44it/s]\n",
      "Validating: 100%|██████████| 79/79 [00:02<00:00, 36.50it/s]\n"
     ]
    },
    {
     "name": "stdout",
     "output_type": "stream",
     "text": [
      "Validation Loss: 1.0131, Accuracy: 0.6504, F1 Score: 0.6451\n",
      "Epoch 3/20 - Train Loss: 1.1035, Val Loss: 1.0131, Acc: 0.6504, F1: 0.6451\n"
     ]
    },
    {
     "name": "stderr",
     "output_type": "stream",
     "text": [
      "Training: 100%|██████████| 391/391 [00:12<00:00, 30.75it/s]\n",
      "Validating: 100%|██████████| 79/79 [00:02<00:00, 37.06it/s]\n"
     ]
    },
    {
     "name": "stdout",
     "output_type": "stream",
     "text": [
      "Validation Loss: 0.9670, Accuracy: 0.6599, F1 Score: 0.6492\n",
      "Epoch 4/20 - Train Loss: 1.0107, Val Loss: 0.9670, Acc: 0.6599, F1: 0.6492\n"
     ]
    },
    {
     "name": "stderr",
     "output_type": "stream",
     "text": [
      "Training: 100%|██████████| 391/391 [00:12<00:00, 30.14it/s]\n",
      "Validating: 100%|██████████| 79/79 [00:01<00:00, 40.45it/s]\n"
     ]
    },
    {
     "name": "stdout",
     "output_type": "stream",
     "text": [
      "Validation Loss: 0.9075, Accuracy: 0.6872, F1 Score: 0.6843\n",
      "Epoch 5/20 - Train Loss: 0.9430, Val Loss: 0.9075, Acc: 0.6872, F1: 0.6843\n"
     ]
    },
    {
     "name": "stderr",
     "output_type": "stream",
     "text": [
      "Training: 100%|██████████| 391/391 [00:12<00:00, 30.84it/s]\n",
      "Validating: 100%|██████████| 79/79 [00:02<00:00, 35.28it/s]\n"
     ]
    },
    {
     "name": "stdout",
     "output_type": "stream",
     "text": [
      "Validation Loss: 0.8907, Accuracy: 0.6927, F1 Score: 0.6902\n",
      "Epoch 6/20 - Train Loss: 0.8911, Val Loss: 0.8907, Acc: 0.6927, F1: 0.6902\n"
     ]
    },
    {
     "name": "stderr",
     "output_type": "stream",
     "text": [
      "Training: 100%|██████████| 391/391 [00:13<00:00, 29.99it/s]\n",
      "Validating: 100%|██████████| 79/79 [00:02<00:00, 34.55it/s]\n"
     ]
    },
    {
     "name": "stdout",
     "output_type": "stream",
     "text": [
      "Validation Loss: 0.8595, Accuracy: 0.7044, F1 Score: 0.6996\n",
      "Epoch 7/20 - Train Loss: 0.8454, Val Loss: 0.8595, Acc: 0.7044, F1: 0.6996\n"
     ]
    },
    {
     "name": "stderr",
     "output_type": "stream",
     "text": [
      "Training: 100%|██████████| 391/391 [00:12<00:00, 30.24it/s]\n",
      "Validating: 100%|██████████| 79/79 [00:02<00:00, 36.91it/s]\n"
     ]
    },
    {
     "name": "stdout",
     "output_type": "stream",
     "text": [
      "Validation Loss: 0.8275, Accuracy: 0.7121, F1 Score: 0.7077\n",
      "Epoch 8/20 - Train Loss: 0.8096, Val Loss: 0.8275, Acc: 0.7121, F1: 0.7077\n"
     ]
    },
    {
     "name": "stderr",
     "output_type": "stream",
     "text": [
      "Training: 100%|██████████| 391/391 [00:12<00:00, 30.41it/s]\n",
      "Validating: 100%|██████████| 79/79 [00:02<00:00, 37.05it/s]\n"
     ]
    },
    {
     "name": "stdout",
     "output_type": "stream",
     "text": [
      "Validation Loss: 0.7994, Accuracy: 0.7248, F1 Score: 0.7229\n",
      "Epoch 9/20 - Train Loss: 0.7728, Val Loss: 0.7994, Acc: 0.7248, F1: 0.7229\n"
     ]
    },
    {
     "name": "stderr",
     "output_type": "stream",
     "text": [
      "Training: 100%|██████████| 391/391 [00:12<00:00, 30.81it/s]\n",
      "Validating: 100%|██████████| 79/79 [00:02<00:00, 36.49it/s]\n"
     ]
    },
    {
     "name": "stdout",
     "output_type": "stream",
     "text": [
      "Validation Loss: 0.7887, Accuracy: 0.7268, F1 Score: 0.7265\n",
      "Epoch 10/20 - Train Loss: 0.7390, Val Loss: 0.7887, Acc: 0.7268, F1: 0.7265\n"
     ]
    },
    {
     "name": "stderr",
     "output_type": "stream",
     "text": [
      "Training: 100%|██████████| 391/391 [00:12<00:00, 30.70it/s]\n",
      "Validating: 100%|██████████| 79/79 [00:02<00:00, 37.57it/s]\n"
     ]
    },
    {
     "name": "stdout",
     "output_type": "stream",
     "text": [
      "Validation Loss: 0.7905, Accuracy: 0.7281, F1 Score: 0.7252\n",
      "Epoch 11/20 - Train Loss: 0.7093, Val Loss: 0.7905, Acc: 0.7281, F1: 0.7252\n"
     ]
    },
    {
     "name": "stderr",
     "output_type": "stream",
     "text": [
      "Training: 100%|██████████| 391/391 [00:12<00:00, 30.29it/s]\n",
      "Validating: 100%|██████████| 79/79 [00:02<00:00, 37.58it/s]\n"
     ]
    },
    {
     "name": "stdout",
     "output_type": "stream",
     "text": [
      "Validation Loss: 0.7780, Accuracy: 0.7311, F1 Score: 0.7306\n",
      "Epoch 12/20 - Train Loss: 0.6833, Val Loss: 0.7780, Acc: 0.7311, F1: 0.7306\n"
     ]
    },
    {
     "name": "stderr",
     "output_type": "stream",
     "text": [
      "Training: 100%|██████████| 391/391 [00:12<00:00, 31.35it/s]\n",
      "Validating: 100%|██████████| 79/79 [00:02<00:00, 39.05it/s]\n"
     ]
    },
    {
     "name": "stdout",
     "output_type": "stream",
     "text": [
      "Validation Loss: 0.7646, Accuracy: 0.7310, F1 Score: 0.7306\n",
      "Epoch 13/20 - Train Loss: 0.6564, Val Loss: 0.7646, Acc: 0.7310, F1: 0.7306\n"
     ]
    },
    {
     "name": "stderr",
     "output_type": "stream",
     "text": [
      "Training: 100%|██████████| 391/391 [00:12<00:00, 31.34it/s]\n",
      "Validating: 100%|██████████| 79/79 [00:02<00:00, 38.93it/s]\n"
     ]
    },
    {
     "name": "stdout",
     "output_type": "stream",
     "text": [
      "Validation Loss: 0.7671, Accuracy: 0.7356, F1 Score: 0.7334\n",
      "Epoch 14/20 - Train Loss: 0.6314, Val Loss: 0.7671, Acc: 0.7356, F1: 0.7334\n"
     ]
    },
    {
     "name": "stderr",
     "output_type": "stream",
     "text": [
      "Training: 100%|██████████| 391/391 [00:12<00:00, 31.85it/s]\n",
      "Validating: 100%|██████████| 79/79 [00:02<00:00, 33.18it/s]\n"
     ]
    },
    {
     "name": "stdout",
     "output_type": "stream",
     "text": [
      "Validation Loss: 0.7545, Accuracy: 0.7377, F1 Score: 0.7374\n",
      "Epoch 15/20 - Train Loss: 0.6086, Val Loss: 0.7545, Acc: 0.7377, F1: 0.7374\n"
     ]
    },
    {
     "name": "stderr",
     "output_type": "stream",
     "text": [
      "Training: 100%|██████████| 391/391 [00:14<00:00, 27.89it/s]\n",
      "Validating: 100%|██████████| 79/79 [00:02<00:00, 34.55it/s]\n"
     ]
    },
    {
     "name": "stdout",
     "output_type": "stream",
     "text": [
      "Validation Loss: 0.7338, Accuracy: 0.7446, F1 Score: 0.7430\n",
      "Epoch 16/20 - Train Loss: 0.5914, Val Loss: 0.7338, Acc: 0.7446, F1: 0.7430\n"
     ]
    },
    {
     "name": "stderr",
     "output_type": "stream",
     "text": [
      "Training: 100%|██████████| 391/391 [00:14<00:00, 27.08it/s]\n",
      "Validating: 100%|██████████| 79/79 [00:02<00:00, 31.61it/s]\n"
     ]
    },
    {
     "name": "stdout",
     "output_type": "stream",
     "text": [
      "Validation Loss: 0.7619, Accuracy: 0.7401, F1 Score: 0.7362\n",
      "Epoch 17/20 - Train Loss: 0.5641, Val Loss: 0.7619, Acc: 0.7401, F1: 0.7362\n"
     ]
    },
    {
     "name": "stderr",
     "output_type": "stream",
     "text": [
      "Training: 100%|██████████| 391/391 [00:13<00:00, 29.85it/s]\n",
      "Validating: 100%|██████████| 79/79 [00:02<00:00, 33.90it/s]\n"
     ]
    },
    {
     "name": "stdout",
     "output_type": "stream",
     "text": [
      "Validation Loss: 0.7418, Accuracy: 0.7499, F1 Score: 0.7475\n",
      "Epoch 18/20 - Train Loss: 0.5471, Val Loss: 0.7418, Acc: 0.7499, F1: 0.7475\n"
     ]
    },
    {
     "name": "stderr",
     "output_type": "stream",
     "text": [
      "Training: 100%|██████████| 391/391 [00:13<00:00, 29.04it/s]\n",
      "Validating: 100%|██████████| 79/79 [00:02<00:00, 38.58it/s]\n"
     ]
    },
    {
     "name": "stdout",
     "output_type": "stream",
     "text": [
      "Validation Loss: 0.7632, Accuracy: 0.7422, F1 Score: 0.7386\n",
      "Epoch 19/20 - Train Loss: 0.5277, Val Loss: 0.7632, Acc: 0.7422, F1: 0.7386\n"
     ]
    },
    {
     "name": "stderr",
     "output_type": "stream",
     "text": [
      "Training: 100%|██████████| 391/391 [00:13<00:00, 29.29it/s]\n",
      "Validating: 100%|██████████| 79/79 [00:02<00:00, 36.39it/s]"
     ]
    },
    {
     "name": "stdout",
     "output_type": "stream",
     "text": [
      "Validation Loss: 0.7492, Accuracy: 0.7469, F1 Score: 0.7442\n",
      "Epoch 20/20 - Train Loss: 0.5129, Val Loss: 0.7492, Acc: 0.7469, F1: 0.7442\n"
     ]
    },
    {
     "name": "stderr",
     "output_type": "stream",
     "text": [
      "\n"
     ]
    }
   ],
   "source": [
    "train_dataloader = DataLoader(train_dataset, batch_size=128, shuffle=True)\n",
    "model = SimpleCNN(NUM_CLASSES).to(DEVICE)\n",
    "optimizer = optim.AdamW(model.parameters(), lr=5e-4 )\n",
    "criterion = torch.nn.CrossEntropyLoss()\n",
    "scheduler = optim.lr_scheduler.ReduceLROnPlateau(optimizer, mode='min', factor=0.5, patience=5)\n",
    "trainer = Trainer(model = model,\n",
    "                  optimizer=optimizer,\n",
    "                  pool_loader=None,\n",
    "                  criterion=criterion ,\n",
    "                  train_loader=train_dataloader,\n",
    "                  val_loader = val_dataloader,\n",
    "                  device=DEVICE,\n",
    "                  scheduler=scheduler)\n",
    "trainer.fit(EPOCHS)\n"
   ]
  },
  {
   "cell_type": "code",
   "execution_count": 12,
   "metadata": {},
   "outputs": [],
   "source": [
    "val_dict[1.0] = max(trainer.val_f1)"
   ]
  },
  {
   "cell_type": "code",
   "execution_count": 14,
   "metadata": {},
   "outputs": [
    {
     "data": {
      "text/plain": [
       "{'random': {0.01: 0.3620172704387155,\n",
       "  0.1: 0.5649947488309035,\n",
       "  0.2: 0.6282874119768651,\n",
       "  1.0: 0.747540465671377}}"
      ]
     },
     "execution_count": 14,
     "metadata": {},
     "output_type": "execute_result"
    }
   ],
   "source": [
    "wrapped_dict = {\"random\": val_dict}\n",
    "wrapped_dict"
   ]
  },
  {
   "cell_type": "code",
   "execution_count": 17,
   "metadata": {},
   "outputs": [],
   "source": [
    "# Сохраняем в JSON\n",
    "with open(\"vals.json\", \"w\", encoding=\"utf-8\") as file:\n",
    "    json.dump(wrapped_dict, file, ensure_ascii=False, indent=4)"
   ]
  },
  {
   "cell_type": "markdown",
   "metadata": {},
   "source": []
  }
 ],
 "metadata": {
  "kernelspec": {
   "display_name": "pip-torch",
   "language": "python",
   "name": "python3"
  },
  "language_info": {
   "codemirror_mode": {
    "name": "ipython",
    "version": 3
   },
   "file_extension": ".py",
   "mimetype": "text/x-python",
   "name": "python",
   "nbconvert_exporter": "python",
   "pygments_lexer": "ipython3",
   "version": "3.11.5"
  }
 },
 "nbformat": 4,
 "nbformat_minor": 2
}
